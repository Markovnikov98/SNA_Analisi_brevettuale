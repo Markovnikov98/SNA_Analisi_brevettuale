{
 "cells": [
  {
   "cell_type": "code",
   "execution_count": null,
   "outputs": [],
   "source": [
    "pip install networkx==2.3"
   ],
   "metadata": {
    "collapsed": false,
    "is_executing": true
   }
  },
  {
   "cell_type": "code",
   "execution_count": null,
   "outputs": [],
   "source": [
    "!pip install stellargraph"
   ],
   "metadata": {
    "collapsed": false,
    "is_executing": true
   }
  },
  {
   "cell_type": "code",
   "execution_count": null,
   "outputs": [],
   "source": [
    "!pip install linkpred"
   ],
   "metadata": {
    "collapsed": false,
    "is_executing": true
   }
  },
  {
   "cell_type": "code",
   "execution_count": 1,
   "outputs": [
    {
     "name": "stdout",
     "output_type": "stream",
     "text": [
      "Requirement already satisfied: stellargraph in c:\\users\\alma\\anaconda3\\lib\\site-packages (1.2.1)\n",
      "Requirement already satisfied: pandas>=0.24 in c:\\users\\alma\\anaconda3\\lib\\site-packages (from stellargraph) (2.1.4)\n",
      "Requirement already satisfied: scipy>=1.1.0 in c:\\users\\alma\\anaconda3\\lib\\site-packages (from stellargraph) (1.11.4)\n",
      "Requirement already satisfied: networkx>=2.2 in c:\\users\\alma\\anaconda3\\lib\\site-packages (from stellargraph) (3.2.1)\n",
      "Requirement already satisfied: gensim>=3.4.0 in c:\\users\\alma\\anaconda3\\lib\\site-packages (from stellargraph) (4.3.2)\n",
      "Requirement already satisfied: tensorflow>=2.1.0 in c:\\users\\alma\\anaconda3\\lib\\site-packages (from stellargraph) (2.9.1)\n",
      "Requirement already satisfied: matplotlib>=2.2 in c:\\users\\alma\\anaconda3\\lib\\site-packages (from stellargraph) (3.5.2)\n",
      "Requirement already satisfied: numpy>=1.14 in c:\\users\\alma\\anaconda3\\lib\\site-packages (from stellargraph) (1.22.4)\n",
      "Requirement already satisfied: scikit-learn>=0.20 in c:\\users\\alma\\appdata\\roaming\\python\\python39\\site-packages (from stellargraph) (1.3.0)\n",
      "Requirement already satisfied: smart-open>=1.8.1 in c:\\users\\alma\\anaconda3\\lib\\site-packages (from gensim>=3.4.0->stellargraph) (5.2.1)\n",
      "Requirement already satisfied: fonttools>=4.22.0 in c:\\users\\alma\\anaconda3\\lib\\site-packages (from matplotlib>=2.2->stellargraph) (4.25.0)\n",
      "Requirement already satisfied: cycler>=0.10 in c:\\users\\alma\\anaconda3\\lib\\site-packages (from matplotlib>=2.2->stellargraph) (0.11.0)\n",
      "Requirement already satisfied: pillow>=6.2.0 in c:\\users\\alma\\anaconda3\\lib\\site-packages (from matplotlib>=2.2->stellargraph) (9.2.0)\n",
      "Requirement already satisfied: python-dateutil>=2.7 in c:\\users\\alma\\anaconda3\\lib\\site-packages (from matplotlib>=2.2->stellargraph) (2.8.2)\n",
      "Requirement already satisfied: kiwisolver>=1.0.1 in c:\\users\\alma\\anaconda3\\lib\\site-packages (from matplotlib>=2.2->stellargraph) (1.4.2)\n",
      "Requirement already satisfied: packaging>=20.0 in c:\\users\\alma\\anaconda3\\lib\\site-packages (from matplotlib>=2.2->stellargraph) (21.3)\n",
      "Requirement already satisfied: pyparsing>=2.2.1 in c:\\users\\alma\\anaconda3\\lib\\site-packages (from matplotlib>=2.2->stellargraph) (3.0.9)\n",
      "Requirement already satisfied: tzdata>=2022.1 in c:\\users\\alma\\anaconda3\\lib\\site-packages (from pandas>=0.24->stellargraph) (2023.3)\n",
      "Requirement already satisfied: pytz>=2020.1 in c:\\users\\alma\\anaconda3\\lib\\site-packages (from pandas>=0.24->stellargraph) (2022.1)\n",
      "Requirement already satisfied: threadpoolctl>=2.0.0 in c:\\users\\alma\\anaconda3\\lib\\site-packages (from scikit-learn>=0.20->stellargraph) (2.2.0)\n",
      "Requirement already satisfied: joblib>=1.1.1 in c:\\users\\alma\\anaconda3\\lib\\site-packages (from scikit-learn>=0.20->stellargraph) (1.2.0)\n",
      "Requirement already satisfied: opt-einsum>=2.3.2 in c:\\users\\alma\\anaconda3\\lib\\site-packages (from tensorflow>=2.1.0->stellargraph) (3.3.0)\n",
      "Requirement already satisfied: tensorflow-estimator<2.10.0,>=2.9.0rc0 in c:\\users\\alma\\anaconda3\\lib\\site-packages (from tensorflow>=2.1.0->stellargraph) (2.9.0)\n",
      "Requirement already satisfied: keras-preprocessing>=1.1.1 in c:\\users\\alma\\anaconda3\\lib\\site-packages (from tensorflow>=2.1.0->stellargraph) (1.1.2)\n",
      "Requirement already satisfied: libclang>=13.0.0 in c:\\users\\alma\\anaconda3\\lib\\site-packages (from tensorflow>=2.1.0->stellargraph) (16.0.6)\n",
      "Requirement already satisfied: termcolor>=1.1.0 in c:\\users\\alma\\anaconda3\\lib\\site-packages (from tensorflow>=2.1.0->stellargraph) (2.1.0)\n",
      "Requirement already satisfied: google-pasta>=0.1.1 in c:\\users\\alma\\anaconda3\\lib\\site-packages (from tensorflow>=2.1.0->stellargraph) (0.2.0)\n",
      "Requirement already satisfied: protobuf<3.20,>=3.9.2 in c:\\users\\alma\\anaconda3\\lib\\site-packages (from tensorflow>=2.1.0->stellargraph) (3.19.6)\n",
      "Requirement already satisfied: setuptools in c:\\users\\alma\\anaconda3\\lib\\site-packages (from tensorflow>=2.1.0->stellargraph) (63.4.1)\n",
      "Requirement already satisfied: grpcio<2.0,>=1.24.3 in c:\\users\\alma\\anaconda3\\lib\\site-packages (from tensorflow>=2.1.0->stellargraph) (1.42.0)\n",
      "Requirement already satisfied: wrapt>=1.11.0 in c:\\users\\alma\\anaconda3\\lib\\site-packages (from tensorflow>=2.1.0->stellargraph) (1.14.1)\n",
      "Requirement already satisfied: flatbuffers<2,>=1.12 in c:\\users\\alma\\anaconda3\\lib\\site-packages (from tensorflow>=2.1.0->stellargraph) (1.12)\n",
      "Requirement already satisfied: tensorflow-io-gcs-filesystem>=0.23.1 in c:\\users\\alma\\anaconda3\\lib\\site-packages (from tensorflow>=2.1.0->stellargraph) (0.31.0)\n",
      "Requirement already satisfied: typing-extensions>=3.6.6 in c:\\users\\alma\\anaconda3\\lib\\site-packages (from tensorflow>=2.1.0->stellargraph) (4.3.0)\n",
      "Requirement already satisfied: astunparse>=1.6.0 in c:\\users\\alma\\anaconda3\\lib\\site-packages (from tensorflow>=2.1.0->stellargraph) (1.6.3)\n",
      "Requirement already satisfied: tensorboard<2.10,>=2.9 in c:\\users\\alma\\anaconda3\\lib\\site-packages (from tensorflow>=2.1.0->stellargraph) (2.9.0)\n",
      "Requirement already satisfied: six>=1.12.0 in c:\\users\\alma\\anaconda3\\lib\\site-packages (from tensorflow>=2.1.0->stellargraph) (1.16.0)\n",
      "Requirement already satisfied: absl-py>=1.0.0 in c:\\users\\alma\\anaconda3\\lib\\site-packages (from tensorflow>=2.1.0->stellargraph) (1.4.0)\n",
      "Requirement already satisfied: h5py>=2.9.0 in c:\\users\\alma\\anaconda3\\lib\\site-packages (from tensorflow>=2.1.0->stellargraph) (3.7.0)\n",
      "Requirement already satisfied: keras<2.10.0,>=2.9.0rc0 in c:\\users\\alma\\anaconda3\\lib\\site-packages (from tensorflow>=2.1.0->stellargraph) (2.9.0)\n",
      "Requirement already satisfied: gast<=0.4.0,>=0.2.1 in c:\\users\\alma\\anaconda3\\lib\\site-packages (from tensorflow>=2.1.0->stellargraph) (0.4.0)\n",
      "Requirement already satisfied: wheel<1.0,>=0.23.0 in c:\\users\\alma\\anaconda3\\lib\\site-packages (from astunparse>=1.6.0->tensorflow>=2.1.0->stellargraph) (0.37.1)\n",
      "Requirement already satisfied: tensorboard-plugin-wit>=1.6.0 in c:\\users\\alma\\anaconda3\\lib\\site-packages (from tensorboard<2.10,>=2.9->tensorflow>=2.1.0->stellargraph) (1.8.1)\n",
      "Requirement already satisfied: markdown>=2.6.8 in c:\\users\\alma\\anaconda3\\lib\\site-packages (from tensorboard<2.10,>=2.9->tensorflow>=2.1.0->stellargraph) (3.3.4)\n",
      "Requirement already satisfied: google-auth-oauthlib<0.5,>=0.4.1 in c:\\users\\alma\\anaconda3\\lib\\site-packages (from tensorboard<2.10,>=2.9->tensorflow>=2.1.0->stellargraph) (0.4.4)\n",
      "Requirement already satisfied: requests<3,>=2.21.0 in c:\\users\\alma\\anaconda3\\lib\\site-packages (from tensorboard<2.10,>=2.9->tensorflow>=2.1.0->stellargraph) (2.31.0)\n",
      "Requirement already satisfied: tensorboard-data-server<0.7.0,>=0.6.0 in c:\\users\\alma\\anaconda3\\lib\\site-packages (from tensorboard<2.10,>=2.9->tensorflow>=2.1.0->stellargraph) (0.6.1)\n",
      "Requirement already satisfied: google-auth<3,>=1.6.3 in c:\\users\\alma\\anaconda3\\lib\\site-packages (from tensorboard<2.10,>=2.9->tensorflow>=2.1.0->stellargraph) (2.23.0)\n",
      "Requirement already satisfied: werkzeug>=1.0.1 in c:\\users\\alma\\anaconda3\\lib\\site-packages (from tensorboard<2.10,>=2.9->tensorflow>=2.1.0->stellargraph) (2.0.3)\n",
      "Requirement already satisfied: rsa<5,>=3.1.4 in c:\\users\\alma\\anaconda3\\lib\\site-packages (from google-auth<3,>=1.6.3->tensorboard<2.10,>=2.9->tensorflow>=2.1.0->stellargraph) (4.9)\n",
      "Requirement already satisfied: cachetools<6.0,>=2.0.0 in c:\\users\\alma\\anaconda3\\lib\\site-packages (from google-auth<3,>=1.6.3->tensorboard<2.10,>=2.9->tensorflow>=2.1.0->stellargraph) (5.3.1)\n",
      "Requirement already satisfied: urllib3<2.0 in c:\\users\\alma\\anaconda3\\lib\\site-packages (from google-auth<3,>=1.6.3->tensorboard<2.10,>=2.9->tensorflow>=2.1.0->stellargraph) (1.26.11)\n",
      "Requirement already satisfied: pyasn1-modules>=0.2.1 in c:\\users\\alma\\anaconda3\\lib\\site-packages (from google-auth<3,>=1.6.3->tensorboard<2.10,>=2.9->tensorflow>=2.1.0->stellargraph) (0.2.8)\n",
      "Requirement already satisfied: requests-oauthlib>=0.7.0 in c:\\users\\alma\\anaconda3\\lib\\site-packages (from google-auth-oauthlib<0.5,>=0.4.1->tensorboard<2.10,>=2.9->tensorflow>=2.1.0->stellargraph) (1.3.0)\n",
      "Requirement already satisfied: certifi>=2017.4.17 in c:\\users\\alma\\anaconda3\\lib\\site-packages (from requests<3,>=2.21.0->tensorboard<2.10,>=2.9->tensorflow>=2.1.0->stellargraph) (2023.7.22)\n",
      "Requirement already satisfied: idna<4,>=2.5 in c:\\users\\alma\\anaconda3\\lib\\site-packages (from requests<3,>=2.21.0->tensorboard<2.10,>=2.9->tensorflow>=2.1.0->stellargraph) (3.3)\n",
      "Requirement already satisfied: charset-normalizer<4,>=2 in c:\\users\\alma\\anaconda3\\lib\\site-packages (from requests<3,>=2.21.0->tensorboard<2.10,>=2.9->tensorflow>=2.1.0->stellargraph) (2.0.4)\n",
      "Requirement already satisfied: pyasn1<0.5.0,>=0.4.6 in c:\\users\\alma\\anaconda3\\lib\\site-packages (from pyasn1-modules>=0.2.1->google-auth<3,>=1.6.3->tensorboard<2.10,>=2.9->tensorflow>=2.1.0->stellargraph) (0.4.8)\n",
      "Requirement already satisfied: oauthlib>=3.0.0 in c:\\users\\alma\\anaconda3\\lib\\site-packages (from requests-oauthlib>=0.7.0->google-auth-oauthlib<0.5,>=0.4.1->tensorboard<2.10,>=2.9->tensorflow>=2.1.0->stellargraph) (3.2.2)\n"
     ]
    }
   ],
   "source": [
    "!pip install stellargraph"
   ],
   "metadata": {
    "collapsed": false,
    "ExecuteTime": {
     "end_time": "2024-01-15T11:06:24.172984300Z",
     "start_time": "2024-01-15T11:06:19.799067800Z"
    }
   }
  },
  {
   "cell_type": "code",
   "execution_count": 2,
   "outputs": [],
   "source": [
    "import pandas as pd\n",
    "import numpy as np\n",
    "import linkpred\n",
    "import networkx as nx\n",
    "import multiprocessing\n",
    "import matplotlib.pyplot as plt\n",
    "\n",
    "from stellargraph import StellarGraph\n",
    "from stellargraph.data import EdgeSplitter\n",
    "from IPython.display import display, HTML\n",
    "from sklearn.model_selection import train_test_split\n",
    "from sklearn.ensemble import RandomForestClassifier \n",
    "from sklearn import metrics \n",
    "from math import isclose\n",
    "from sklearn.decomposition import PCA\n",
    "from collections import Counter\n",
    "from sklearn.metrics import confusion_matrix\n",
    "from sklearn.metrics import accuracy_score, f1_score, classification_report\n",
    "from sklearn.metrics import roc_curve, auc, roc_auc_score\n",
    "\n",
    "%matplotlib inline"
   ],
   "metadata": {
    "collapsed": false,
    "ExecuteTime": {
     "end_time": "2024-01-15T11:06:28.827432700Z",
     "start_time": "2024-01-15T11:06:24.175862600Z"
    }
   }
  },
  {
   "cell_type": "code",
   "execution_count": 3,
   "outputs": [],
   "source": [
    "df= pd.read_csv(\"weight.csv\",index_col=0)"
   ],
   "metadata": {
    "collapsed": false,
    "ExecuteTime": {
     "end_time": "2024-01-15T11:06:28.881371300Z",
     "start_time": "2024-01-15T11:06:28.829411Z"
    }
   }
  },
  {
   "cell_type": "code",
   "execution_count": 4,
   "outputs": [],
   "source": [
    "  def read_net_w(filename):\n",
    "    g = nx.Graph()\n",
    "    with open(filename) as f:\n",
    "        f.readline()\n",
    "        for l in f:\n",
    "            l = l.split(\",\")\n",
    "            g.add_edge(l[1], l[2], weight=int(float(l[3].rstrip('\\n'))))\n",
    "    return g\n"
   ],
   "metadata": {
    "collapsed": false,
    "ExecuteTime": {
     "end_time": "2024-01-15T11:06:28.931739500Z",
     "start_time": "2024-01-15T11:06:28.876387900Z"
    }
   }
  },
  {
   "cell_type": "code",
   "execution_count": 5,
   "outputs": [],
   "source": [
    "def sample_data(g): \n",
    "    degree_calc = {node: val for (node, val) in g.degree()}\n",
    "    degree = dict(sorted(degree_calc.items(), key=lambda item: item[1], reverse = True))\n",
    "    sample = []\n",
    "    for k, v in degree.items():\n",
    "        if(v >=  20):\n",
    "            sample.append(k)   \n",
    "    sample_data = g.subgraph(sample)\n",
    "    return sample_data"
   ],
   "metadata": {
    "collapsed": false,
    "ExecuteTime": {
     "end_time": "2024-01-15T11:06:28.936723Z",
     "start_time": "2024-01-15T11:06:28.909811400Z"
    }
   }
  },
  {
   "cell_type": "code",
   "execution_count": 6,
   "outputs": [
    {
     "name": "stdout",
     "output_type": "stream",
     "text": [
      "Nomi delle colonne nel DataFrame:\n",
      "Source\n",
      "Target\n",
      "Weight\n"
     ]
    }
   ],
   "source": [
    "column_names = df.columns\n",
    "\n",
    "# Stampare i nomi delle colonne\n",
    "print(\"Nomi delle colonne nel DataFrame:\")\n",
    "for column in column_names:\n",
    "    print(column)"
   ],
   "metadata": {
    "collapsed": false,
    "ExecuteTime": {
     "end_time": "2024-01-15T11:06:29.082780400Z",
     "start_time": "2024-01-15T11:06:28.922771Z"
    }
   }
  },
  {
   "cell_type": "code",
   "execution_count": 7,
   "outputs": [
    {
     "name": "stdout",
     "output_type": "stream",
     "text": [
      "<class 'pandas.core.frame.DataFrame'>\n",
      "Index: 55847 entries, 0 to 403446\n",
      "Data columns (total 3 columns):\n",
      " #   Column  Non-Null Count  Dtype \n",
      "---  ------  --------------  ----- \n",
      " 0   Source  55847 non-null  object\n",
      " 1   Target  55847 non-null  object\n",
      " 2   Weight  55847 non-null  int64 \n",
      "dtypes: int64(1), object(2)\n",
      "memory usage: 1.7+ MB\n"
     ]
    },
    {
     "data": {
      "text/plain": "                   Source                 Target  Weight\n0  HENDERSON BRIAN LESLIE                CUI YAN      28\n1  HENDERSON BRIAN LESLIE  DORRIETY DANIEL JAMES      28\n2  HENDERSON BRIAN LESLIE   SHUBERT GARY CHARLES      12\n3  HENDERSON BRIAN LESLIE       COOK PAUL ALBERT      28\n4                 CUI YAN  DORRIETY DANIEL JAMES      54\n5                 CUI YAN   SHUBERT GARY CHARLES      12\n6                 CUI YAN       COOK PAUL ALBERT      26\n7   DORRIETY DANIEL JAMES   SHUBERT GARY CHARLES      12\n8   DORRIETY DANIEL JAMES       COOK PAUL ALBERT      26\n9    SHUBERT GARY CHARLES       COOK PAUL ALBERT      12",
      "text/html": "<div>\n<style scoped>\n    .dataframe tbody tr th:only-of-type {\n        vertical-align: middle;\n    }\n\n    .dataframe tbody tr th {\n        vertical-align: top;\n    }\n\n    .dataframe thead th {\n        text-align: right;\n    }\n</style>\n<table border=\"1\" class=\"dataframe\">\n  <thead>\n    <tr style=\"text-align: right;\">\n      <th></th>\n      <th>Source</th>\n      <th>Target</th>\n      <th>Weight</th>\n    </tr>\n  </thead>\n  <tbody>\n    <tr>\n      <th>0</th>\n      <td>HENDERSON BRIAN LESLIE</td>\n      <td>CUI YAN</td>\n      <td>28</td>\n    </tr>\n    <tr>\n      <th>1</th>\n      <td>HENDERSON BRIAN LESLIE</td>\n      <td>DORRIETY DANIEL JAMES</td>\n      <td>28</td>\n    </tr>\n    <tr>\n      <th>2</th>\n      <td>HENDERSON BRIAN LESLIE</td>\n      <td>SHUBERT GARY CHARLES</td>\n      <td>12</td>\n    </tr>\n    <tr>\n      <th>3</th>\n      <td>HENDERSON BRIAN LESLIE</td>\n      <td>COOK PAUL ALBERT</td>\n      <td>28</td>\n    </tr>\n    <tr>\n      <th>4</th>\n      <td>CUI YAN</td>\n      <td>DORRIETY DANIEL JAMES</td>\n      <td>54</td>\n    </tr>\n    <tr>\n      <th>5</th>\n      <td>CUI YAN</td>\n      <td>SHUBERT GARY CHARLES</td>\n      <td>12</td>\n    </tr>\n    <tr>\n      <th>6</th>\n      <td>CUI YAN</td>\n      <td>COOK PAUL ALBERT</td>\n      <td>26</td>\n    </tr>\n    <tr>\n      <th>7</th>\n      <td>DORRIETY DANIEL JAMES</td>\n      <td>SHUBERT GARY CHARLES</td>\n      <td>12</td>\n    </tr>\n    <tr>\n      <th>8</th>\n      <td>DORRIETY DANIEL JAMES</td>\n      <td>COOK PAUL ALBERT</td>\n      <td>26</td>\n    </tr>\n    <tr>\n      <th>9</th>\n      <td>SHUBERT GARY CHARLES</td>\n      <td>COOK PAUL ALBERT</td>\n      <td>12</td>\n    </tr>\n  </tbody>\n</table>\n</div>"
     },
     "execution_count": 7,
     "metadata": {},
     "output_type": "execute_result"
    }
   ],
   "source": [
    "df.shape\n",
    "df.info()\n",
    "df.head(10)"
   ],
   "metadata": {
    "collapsed": false,
    "ExecuteTime": {
     "end_time": "2024-01-15T11:06:29.112602600Z",
     "start_time": "2024-01-15T11:06:28.939713Z"
    }
   }
  },
  {
   "cell_type": "code",
   "execution_count": 8,
   "outputs": [],
   "source": [
    "def read_net_w(csv_file):\n",
    "    g = nx.Graph()\n",
    "\n",
    "    try:\n",
    "        # Leggi il file CSV utilizzando pandas\n",
    "        df = pd.read_csv(csv_file)\n",
    "\n",
    "        # Aggiungi nodi al grafo\n",
    "        for node in df['Source']:\n",
    "            g.add_node(node)\n",
    "\n",
    "        # Aggiungi archi con attributo di peso\n",
    "        for _, row in df.iterrows():\n",
    "            try:\n",
    "                weight = float(row['Weight'])\n",
    "            except ValueError:\n",
    "                # Gestisci l'errore di conversione e assegna un valore predefinito (o None)\n",
    "                weight = None\n",
    "\n",
    "            g.add_edge(row['Source'], row['Target'], weight=weight)\n",
    "\n",
    "    except pd.errors.EmptyDataError:\n",
    "        # Gestisci il caso in cui il file CSV sia vuoto\n",
    "        pass\n",
    "    except FileNotFoundError:\n",
    "        # Gestisci il caso in cui il file CSV non esista\n",
    "        pass\n",
    "\n",
    "    return g\n",
    "\n",
    "# Usa la funzione per leggere il grafo dal file CSV\n",
    "g = read_net_w(\"weight.csv\")\n"
   ],
   "metadata": {
    "collapsed": false,
    "ExecuteTime": {
     "end_time": "2024-01-15T11:06:33.022566600Z",
     "start_time": "2024-01-15T11:06:28.998527800Z"
    }
   }
  },
  {
   "cell_type": "code",
   "execution_count": 9,
   "outputs": [],
   "source": [
    "Gcc = sorted(nx.connected_components(g), key=len, reverse=True)\n",
    "g.remove_nodes_from([n for n in g if n not in set(Gcc[0])])"
   ],
   "metadata": {
    "collapsed": false,
    "ExecuteTime": {
     "end_time": "2024-01-15T11:06:36.778845700Z",
     "start_time": "2024-01-15T11:06:33.018282300Z"
    }
   }
  },
  {
   "cell_type": "code",
   "execution_count": 10,
   "outputs": [],
   "source": [
    "g.remove_edges_from(list(nx.selfloop_edges(g)))"
   ],
   "metadata": {
    "collapsed": false,
    "ExecuteTime": {
     "end_time": "2024-01-15T11:06:36.824347500Z",
     "start_time": "2024-01-15T11:06:36.793938900Z"
    }
   }
  },
  {
   "cell_type": "code",
   "execution_count": 11,
   "outputs": [],
   "source": [
    "g_small = sample_data(g)"
   ],
   "metadata": {
    "collapsed": false,
    "ExecuteTime": {
     "end_time": "2024-01-15T11:06:36.895487100Z",
     "start_time": "2024-01-15T11:06:36.811224100Z"
    }
   }
  },
  {
   "cell_type": "code",
   "execution_count": 12,
   "outputs": [],
   "source": [
    "stellar_g = StellarGraph.from_networkx(g_small)"
   ],
   "metadata": {
    "collapsed": false,
    "ExecuteTime": {
     "end_time": "2024-01-15T11:06:37.091252400Z",
     "start_time": "2024-01-15T11:06:36.876045500Z"
    }
   }
  },
  {
   "cell_type": "code",
   "execution_count": 13,
   "outputs": [
    {
     "name": "stdout",
     "output_type": "stream",
     "text": [
      "Numero di nodi: 858\n",
      "Numero di archi: 3996\n",
      "Componenti connesse: [{'MORI MUTSUHIRO', 'DORIS BRUCE B', 'ORIKASA TSUYOSHI', 'YAMAMOTO HAJIME', 'FUJIOKA YASUSHI', 'LJUNG RICKARD', 'KAWADE HISAAKI', 'OKUYAMA TOSHIAKI', 'TERAI HARUHIKO', 'KURABAYASHI YUTAKA', 'TAJIMA FUMIO', 'YANG KYEONG-CHEOL', 'KANAI MASAHIRO', 'OGAWA YOSHIHIRO', 'OWASHI HITOAKI', 'NOBUE TOMOTAKA', 'YEO JEONGHO', 'ZHENG XIAOQING', 'YONEMITSU JUN', 'TANEYA YOICHI', 'OTSUKA NAOJI', 'SUZUKI HIROSHI', 'VAN DER VELDE HIMKE', 'KENMOKU TAKASHI', 'KAWASAKI OSAMU', 'MARTIN BRIAN ALEXANDER', 'NOWAK EDWARD J', 'TOBIN JAMES ROBERT', 'YOSHIDA ISAMU', 'BEDELL STEPHEN W', 'LEE KOOK-HEUI', 'KISHORE KUNA VENKAT SATYA RAMA', 'KANG HYUN-JEONG', 'YAMAMOTO MASAYUKI', 'TAKAHASHI WATARU', 'HORAK DAVID V', 'YANG HAI', 'KASAMOTO MASAMI', 'ARAI TAKAO', 'KASAHARA SHUNICHI', 'MATSUDA HIROSHI', 'SATO HIROSHI', 'TAKAHASHI KOJI', 'HASZ WAYNE CHARLES', 'NAM YOUNG-HAN', 'MYERS GEOFFREY DAVID', 'MASUDA KAZUAKI', 'JOO PAN-YUH', 'NIWA TAKASHI', 'SETLUR ANANT ACHYUT', 'KAWAMURA HIROYUKI', 'SHOJI MAMORU', 'KANEDA AIZO', 'KUBOTA MASAHIKO', 'IWAMURA MASAHIRO', 'MAKINO KENICHI', 'HASEBE AKIO', 'LARSEN EINAR VAUGHN', 'KOKAKU HIROYOSHI', 'SEGAWA MASANORI', 'YAMAGUCHI TAKAAKI', 'ISONO AOJI', 'NISHIJIMA HIDEO', 'NOMURA ICHIRO', 'TAKEUCHI TOSHIFUMI', 'GOTO FUMITAKA', 'UESUGI MITSURU', 'KAMATANI JUN', 'KOIKE SHOJI', 'HASHEMI POUYA', 'UJITA TOSHIHIKO', 'KIM IL-KOO', 'HUANG SHYH-CHIN', 'TSUBOI NOBUYOSHI', 'OHNISHI TOSHIKAZU', 'LEOBANDUNG EFFENDI', 'NAKAMURA SHINICHI', 'INOUE HIROSHI', 'MANDELMAN JACK A', 'BEERS WILLIAM WINDER', 'PARK KYUNG-MO', 'JOO SEONG-SIN', 'YANO TETSUYA', 'JUNG JUNG-SOO', 'CHOI BYEONG-DOO', 'SATO YOSHIO', 'DAUM WOLFGANG', 'YAMAMOTO MASANOBU', 'TERADA MASAHIRO', 'SAKAI KUNIHIRO', 'NOSE HIROYASU', 'KIM YOUNGBUM', 'MAEHARA NAOYOSHI', 'MIN JUNG-HYE', 'MCCONNELEE PAUL ALAN', 'SUZUKI KOICHI', 'ORLANDO ROBERT JOSEPH', 'YAMASHITA TENKO', 'TSUBOSAKI KUNIHIRO', 'TAJIKA HIROSHI', 'OSADA TORACHIKA', 'PARK DONG-SEEK', 'CHEN WEI', 'HIRAI YUTAKA', 'JOHNSON THOMAS EDWARD', 'LIPKIN DON MARK', 'KIMURA HIROYUKI', 'SHIMADA SATOSHI', 'OKAMOTO HIROO', 'SHIMOTANI MITSUO', 'CHEN JIANLE', 'YAMADA NOBORU', 'TAKANO HIROAKI', 'XIE RUILONG', 'CHO JAE-WEON', 'EVANS SCOTT CHARLES', 'JACKSON MELVIN ROBERT', 'LEE SUNG-JIN', 'ISHIHARA HIDESHI', 'FURUKAWA SHUNSUKE', 'YAMAGUCHI HIDEKI', 'OGINO MASAHIKO', 'CARTER WILLIAM THOMAS', 'VONDRELL RANDY M', 'XU LIXIANG', 'TSUGA KAZUHIRO', 'PI ZHOUYUE', 'CHUNG HYUN-KWON', 'LEE JU HO', 'HIBINO JUNICHI', 'MAEDA MIHO', 'YOON SOON-YOUNG', 'INOUE MASAYUKI', 'LEE TAMMY', 'JIANG MINGXIAO', 'KUNIMOTO KEIJIRO', 'KIM YOUN-SUN', 'HIGUMA MASAHIKO', 'DENG ZHIGANG', 'KONNO YUJI', 'IWAKI TSUTOMU', 'MURAI KEIICHI', 'HAMAMOTO YASUHIRO', 'FUJINAMI YASUSHI', 'MISUMI TERUO', 'SHI XIAOLEI', 'BRUNELLE DANIEL JOSEPH', 'HAN WOO-JIN', 'PENG WENQING', 'MATSUDA SHINPEI', 'AZUHATA SHIGERU', 'OSTROVERKHOV VICTOR PETROVICH', 'KIDA AKIRA', 'KIM YOUNSUN', 'HAYASHI KAZUNORI', 'ONO MITSUHIRO', 'MATSUNAMI NAOTO', 'YANG CHIH-CHAO', 'TAKIGUCHI TAKAO', 'HASEBE TAKUMI', 'WANG JUNLI', 'TOLLISON BRIAN LEE', 'MIYAWAKI MAMORU', 'SONG JAE-YEON', 'SUZUKI NORITAKE', 'KIM JEEHWAN', 'MOROOKA YASUO', 'SAKAI YOSHIO', 'ONGGOSANUSI EKO', 'SATO MAKOTO', 'CHOI HO-KYU', 'SUGITANI HIROSHI', 'MORIYA YOSHIMI', 'WEI BIN', 'SUGIMOTO HITOSHI', 'NAKANE SHINICHI', 'GOTO FUMIHIRO', 'VAN LIESHOUT GERT-JAN', 'RYU HYUNSEOK', 'PONOTH SHOM', 'FUKUSHIMA ISAO', 'HIRAMATSU KATSUHIKO', 'ASAI KOHTARO', 'NG BOON LOONG', 'JOSHI NARENDRA DIGAMBER', 'CUI YAN', 'PRENTICE IAN FRANCIS', 'MATSUDA HIROMU', 'LEE KYUNG-GEUN', 'YAMADA MAKOTO', 'SAKAMAKI HISASHI', 'TAKAHASHI KATSUHIRO', 'NAGASE HIROSHI', 'YANG HYUN-KOO', 'MOCHIZUKI MITSURU', 'GAMBINO JEFFREY P', 'MIURA HIDEO', 'EGUCHI YOSHIAKI', 'HAN JIN-KYU', 'ITO MOTOSHI', 'LI YING', 'YAMAMOTO KATSUHIKO', 'KIM SANG-BUM', 'MURPHY JAMES EDWARD', 'LIU YUNFENG', 'TESHIGAWARA MINORU', 'HERSHEY JOHN ERIK', 'WATANABE HIROSHI', 'MURAI RYUICHI', 'YANAGISAWA YOSHIHIRO', 'SATO KOICHI', 'TERAUCHI TOSHIRO', 'TODOKORO YASUYUKI', 'CHOI SUNG-HO', 'KHAN FAROOQ', 'SCHEP CORNELIS MARINUS', 'DIWINSKY DAVID SCOTT', 'GUO XIN', 'TANNO KOICHI', 'WAKABAYASHI HIDEJI', 'COLBURN MATTHEW E', 'TOYOGUCHI YOSHINORI', 'KAMESHIMA TOSHIO', 'MAEOKA KUNIHIKO', 'NISHIKAWA AKIO', 'SHIBATA AKIRA', 'FUJISHITA KAZUO', 'WAJIMA MOTOYO', 'KURIHARA NOBUO', 'RITTER ALLEN MICHAEL', 'CAI WEI', 'BASKER VEERARAGHAVAN S', 'SAITO ICHIRO', 'MIYATA MASANORI', 'OKADA SHINJIRO', 'EDELSTEIN DANIEL C', 'UETSUKI MASAYA', 'KATO MOTOKI', 'SATO SHINICHI', 'DELVAUX JOHN MCCONNELL', 'MISHINA SHINYA', 'LIM CHI-WOO', 'COOPER JARED KLINEMAN', 'TOSHIMA HIROAKI', 'ONO TAKEO', 'HWANG SUNG-HEE', 'CHAN DAVID SO KEUNG', 'TANAKA KENJI', 'FUJINO ATSUYA', 'HIRABAYASHI HIROMITSU', 'SEKI SATOSHI', 'NISHIKORI HITOSHI', 'DAROLIA RAMGOPAL', 'YEH CHUN-CHEN', 'HAMADA TOSHIYA', 'FUKUSHIMA YOSHIHISA', 'MATSUMOTO HARUYUKI', 'TANI ATSUSHI', 'SANO AKANE', 'MIYAZAKI TOSHIHIKO', 'INOUE HIROYUKI', 'OZAKI TERUO', 'NOH HOONDONG', 'KIM SANGBUM', 'NAKAYA HIDEO', 'WATANABE TAKEJI', 'SAKO YOICHIRO', 'IMAMURA TAKESHI', 'KANEKO SATOSHI', 'OSHIMA MITSUAKI', 'MONIZ THOMAS ORY', 'YONEDA KENJI', 'ODAGIRI MASARU', 'MELTON PATRICK BENEDICT', 'LEE HYOJIN', 'KAMIYAMA YUJI', 'KANBE JUNICHIRO', 'VENKATARAMANI VENKAT SUBRAMANIAM', 'CHENG KANGGUO', 'STOIA LUCAS JOHN', 'SASANO AKIRA', 'SHIMA HISATO', 'SAITO KEISHI', 'TOMOSADA MASAHIRO', 'TAKENAKA KATSURO', 'ALSHINA ELENA', 'PARK SUNG-WOOK', 'KIMURA MAKIKO', 'KINJO NORIYUKI', 'LU SU', 'MORRILL DANIEL LAWRENCE', 'RADENS CARL J', 'MATSUBARA MIYUKI', 'LEE JUHO', 'HONDA KAZUYOSHI', 'YOSHIDA TADAO', 'REN ZHIYUAN', 'TAKAHASHI KENJI', 'BRAY JAMES WILLIAM', 'SHIRAI TAIZO', 'YAMANAKA AKIHIRO', 'SAITO ASAO', 'NARAYANAN VIJAY', 'SUZUKI TERUHIKO', 'MORIWAKI YOSHIO', 'LEE CHING-PANG', 'BEKKI TOSHIHIKO', 'NAKAMURA ATSUSHI', 'TAKAHASHI KIICHIRO', 'SUGAMA SADAYUKI', 'COMANZO HOLLY ANN', 'SHAHIDI GHAVAM G', 'SAIKAWA HIDEO', 'GERSTLER WILLIAM DWIGHT', 'LIE FEE LI', 'NOGUCHI KOJI', 'YANO KENTARO', 'SHAN CHENG', 'NAGOSHI SHIGEYASU', 'WOLFE CHRISTOPHER EDWARD', 'NASHIDA TATSUSHI', 'SEALING CHARLES SCOTT', 'IMAIDE TAKUYA', 'KOOL LAWRENCE BERNARD', 'YAMAMOTO KAZUHISA', 'IZUMIDA MASAAKI', 'KOTAKI YASUO', 'YUN SUNG-RYUL', 'TANGE AKIRA', 'AGIWAL ANIL', 'STEVENSON CHRISTIAN XAVIER', 'LEE HYUN-WOO', 'PARK IN-SIK', 'NOGUCHI TAKAHARU', 'YAMADA NAOKI', 'HAYASHI HIROKI', 'LAWRENCE BRIAN LEE', 'KAWAI SUEO', 'BERKCAN ERTUGRUL', 'WELLES KENNETH BRAKELEY', 'FUKUI HIROSHI', 'SUZUKI HIDETOSHI', 'OGINO HIROYUKI', 'BERRY JONATHAN DWIGHT', 'MATSUZAKI HARUMI', 'OSHIMA KAZUYOSHI', 'NAKAGAWA HIMIO', 'NISHIUCHI KENICHI', 'GLYNN CHRISTOPHER CHARLES', 'PICKETT JAMES EDWARD', 'KOBAYASHI MASAHARU', 'KASUYA TAKASHIGE', 'SHIN CHEOLKYU', 'MILLER BRANDON WAYNE', 'MURASE KAORU', 'NOJIMA TAKASHI', 'ARA YOJI', 'BODEN EUGENE PAULING', 'HINAMI JUN', 'HOFER DOUGLAS CARL', 'AHN JAE-MIN', 'REZNICEK ALEXANDER', 'MATSUDA YASUMASA', 'LACY BENJAMIN PAUL', 'KURODA SHINICHI', 'KANEKO TETSUYA', 'IMANAKA YOSHIYUKI', 'SUGIMOTO KAZUO', 'ISHINAGA HIROYUKI', 'KASANUKI YUJI', 'DAVIS GARY CHARLES', 'YEAGER GARY WILLIAM', 'NAITO TAKASHI', 'KRAY NICHOLAS JOSEPH', 'CHANG YOUNG-BIN', 'YAMANO IKUO', 'AOKI MASAKAZU', 'KOBAYASHI SHOEI', 'LORRAINE PETER WILLIAM', 'SATO MASAHIKO', 'MCCLOSKEY PATRICK JOSEPH', 'IKOMA MUNEHISA', 'CHIDAMBARRAO DURESETI', 'JEONG HONG-SIL', 'ABE TSUTOMU', 'STANDAERT THEODORUS E', 'MIYOSHI KENICHI', 'TURNQUIST NORMAN ARNOLD', 'RUUD JAMES ANTHONY', 'NANJO TATSUO', 'KUWABARA NOBUYUKI', 'IGAWA SATOSHI', 'ITZEL GARY MICHAEL', 'YOSHIHIRA AYA', 'DAVIS JR LEWIS BERKLEY', 'ROSS JOHN ANDERSON FERGUS', 'MIYAMOTO HARUKAZU', 'KIM JAE-YOEL', 'NAKAGAMI OHJI', 'HATTORI YOSHIFUMI', 'ASANO TOMOYUKI', 'MIYAJIMA YASUSHI', 'SHINJO KENJI', 'SHIRAI SHIGERU', 'ISHIKAWA TOMOKAZU', 'KARITA SEIICHIRO', 'MAEDA TAKESHI', 'AOKI MASAKI', 'LYONS ROBERT JOSEPH', 'PAPASAKELLARIOU ARIS', 'SAITOH AKIHITO', 'JEONG KYEONGIN', 'TSUDA SHINICHIRO', 'SHIMIZU EIICHIRO', 'TIBBETTS NICOLE JESSICA', 'OKAZAKI TAKESHI', 'SUZUKI AKIO', 'KRAELING MARK BRADSHAW', 'ISHIBASHI HIROMICHI', 'KANDA HIDEHIKO', 'TSUBOYAMA AKIRA', 'GOTOH FUMIHIRO', 'KUMAR AJITH KUTTANNAIR', 'NISHIMURA YUKIO', 'SHAFFER GLENN ROBERT', 'TAKAHASHI SANKICHI', 'VAN DAM JEREMY DANIEL', 'SUGIURA NOBORU', 'SUGIYAMA HIROYUKI', 'MURAKAMI GEN', 'YONEHARA TAKAO', 'KAWAKAMI HIDEAKI', 'OKADA TOMOYUKI', 'KRAEMER GILBERT OTTO', 'HSU LOUIS L', 'SRIVASTAVA ALOK MANI', 'NAKAGAWA KATSUMI', 'NAGARAJ BANGALORE ASWATHA', 'KONDO TETSUJIRO', 'SLEIGHT JEFFREY W', 'FANG BIAO', 'RUTKOWSKI STEPHEN FRANCIS', 'NAKAMURA KAZUHIKO', 'IKEDA MASAMI', 'NISHIMURA ASAO', 'FUKUI NORIYUKI', 'MURROW KURT DAVID', 'GHASRIPOOR FARSHAD', 'DALTON TIMOTHY J', 'SADANA DEVENDRA K', 'ISHIDA TAKASHI', 'TAKEMURA YOSHINARI', 'JANG JAE HYUK', 'YOON DU-SEOP', 'IWASAKI OSAMU', 'CHAN KWOK PONG', 'ZHANG JIANZHONG', 'SASAYAMA TAKAO', 'KOZUKA MASAYUKI', 'YAEGASHI HISAO', 'EBISAWA ISAO', 'TATEBAYASHI MAKOTO', 'SEKIGUCHI SHUNICHI', 'NAKAZAWA IKUO', 'CHILA RONALD JAMES', 'CLEVENGER LAWRENCE A', 'SUBRAMANIAN KANAKASABAPATHI', 'UEDA SHIGEKI', 'LEE HYEON-WOO', 'MOCHIZUKI MUGA', 'NISHI KUNIHIKO', 'NAGAI TAKESHI', 'KIKUCHI HIROSHI', 'LI JUNTAO', 'STAMPER ANTHONY K', 'UHM JONG HO', 'NISHIDE YOSUKE', 'FUKUSHIMA TAKASHI', 'LIU JIE', 'SHAH MANOJ RAMPRASAD', 'MCMAHAN KEVIN WESTON', 'YAZAWA TAKESHI', 'RUBINSZTAJN SLAWOMIR', 'KANOTA KEIJI', 'NAGANO TAKAHIRO', 'YAMASHITA MASATAKA', 'OKINO AYATOMO', 'KAWATOKO NORIHIRO', 'NAGASHIMA TOSHIAKI', 'KATAGIRI KAZUHARU', 'HATTORI SHINOBU', 'ASADA KOHEI', 'YAMADA AKITOSHI', 'MYUNG SEHO', 'HERR STEFAN', 'MURAKAMI HAJIME', 'KIM TAEHYOUNG', 'SATOH ISAO', 'TANAKA SHIGEAKI', 'KIM SANG BUM', 'AFZALI-ARDAKANI ALI', 'GOTO AKIRA', 'MIYAGAWA MASASHI', 'KITANO MAKOTO', 'KOSHIKAWA HIROSHI', 'ANJO ICHIRO', 'ROBERTS HERBERT CHIDSEY', 'ZHANG HUA', 'YAMADA KAZUJI', 'YAGASAKI YOICHI', 'KWON HWAN-JOON', 'SAWAI YUICHI', 'LIN DECHAO', 'KATAYAMA AKIHIRO', 'JEONG KYEONG-IN', 'JANG JAEHYUK', 'AOTA KINYA', 'YAMASHITA HISAO', 'HARUTA MASAHIRO', 'OGAWA TOSHIO', 'KESHAVAN HRISHIKESH', 'KON TAKAYASU', 'CHOI SEUNG-HOON', 'WORDEN BRET DWAYNE', 'ADACHI HIDEKI', 'INOUE RYOJI', 'INOUE MAKOTO', 'SEXTON DANIEL WHITE', 'LEE HAK-JU', 'MARU AKIKO', 'ISOGAI TOKIO', 'KOBAYASHI MASAAKI', 'KIM SOENGHUN', 'HAN JIN KYU', 'SASAKI HIROSHI', 'YOKOYAMA TAKASHI', 'KAWADA HARUKI', 'KWAK YONG-JUN', 'WATANABE TSUTOMU', 'OHASHI TETSUYA', 'JI HYOUNG-JU', 'LEWIS LARRY NEIL', 'GALLUCCI ROBERT RUSSELL', 'CHEON MIN-SU', 'KLODOWSKI ANTHONY MICHAEL', 'KIM SOENG HUN', 'KOO CHANG-HOI', 'WATANABE KENJIRO', 'TANAKA MASATO', 'CHO JOON YOUNG', 'TAKEDA TOSHIHIKO', 'NAKAMURA HITOSHI', 'KANAKASABAPATHY SIVANANDA K', 'GANIREDDY GOVARDHAN', 'NAGAI AKIRA', 'SHIMIZU ISAMU', 'SASAKI TORU', 'AKIYAMA YUJI', 'KAWAI JUN', 'CELLA JAMES ANTHONY', 'SCHNETZKA HAROLD ROBERT', 'SAITO AKIO', 'MORIYAMA JIRO', 'OHBA TAKASHI', 'KUGIYA FUMIO', 'LEE SUN-IL', 'MORIOKA YUICHI', 'SCIPIO ALSTON ILFORD', 'NAKAMURA KIYOSHI', 'KOITABASHI NORIBUMI', 'WANG YU', 'SAITO TAKASHI', 'ZIMINSKY WILLY STEVE', 'TAKAHASHI TADASHI', 'WANG XUEFENG', 'SAITO HIROYUKI', 'KULKARNI AMBARISH JAYANT', 'IWASAKI TAKESHI', 'ANDARAWIS EMAD ANDARAWIS', 'SUZUKI TAKASHI', 'RITTER ANN MELINDA', 'TSUKUDA KEIICHIRO', 'KIM SUNG-JIN', 'ALEXANDER JAMES PELLEGRINO', 'YAGUCHI AKIHIRO', 'MATSUMOTO TOMOHIDE', 'SAKODA KAZUYUKI', 'HWANG SUNG-OH', 'NAGAOKA YUKIO', 'CHO JOON-YOUNG', 'EDA KAZUO', 'NIHEI HIDEKI', 'KANEKO SHUZO', 'DUGGAL ANIL RAJ', 'ICHITANI MASAHIRO', 'NIERGARTH DANIEL ALAN', 'YOKONO ATARU', 'MORI YOSHIHIRO', 'CLEMENTS JEFFREY DONALD', 'YAMAMOTO KAZUYUKI', 'BAE TAEHAN', 'MINOWA TOSHIMICHI', 'ATAGO TAKESHI', 'KUROIWA HIROSHI', 'KO JUNG-WAN', 'IKEDA TAKESHI', 'KASHINO TOSHIO', 'KAMADA YASUNORI', 'KWAK YOUNGWOO', 'NISHIMURA YUTAKA', 'INOKUCHI TATSUYA', 'TERAO MOTOYASU', 'PREMERLANI WILLIAM JAMES', 'SUZUKI AKIRA', 'TAMURA YASUYUKI', 'INUI TOSHIHARU', 'YAMADA HIROYUKI', 'WANG SHIZHONG', 'BURDGICK STEVEN SEBASTIAN', 'MIYASHITA HIROKAZU', 'KASHIMOTO TAKASHI', 'EKANAYAKE SANJI', 'NISHIDA TETSUYA', 'ARAI ATSUSHI', 'HEKMATSHOARTABARI BAHMAN', 'ANTHONY THOMAS RICHARD', 'SPITSBERG IRENE', 'PERRY ROBERT JAMES', 'ANDO TAKASHI', 'LEE JULIA LAM', 'YAMAGAMI TAMOTSU', 'NAKAMURA SHOZO', 'YAMAZAKI TAKASHI', 'BOARDMAN GREGORY ALLEN', 'FOGEL KEITH E', 'KOTTILINGAM SRIKANTH CHANDRUDU', 'KUROSAWA TOSHIAKI', 'NOFFSINGER JOSEPH FORREST', 'LASKARIS EVANGELOS TRIFON', 'ASUKAI MASAMICHI', 'XIONG RIHUA', 'KEIMEL CHRISTOPHER FRED', 'WEI CHANG', 'MIYASHITA KUNIO', 'EDAMURA TETSUYA', 'IWAWAKI HIRONOBU', 'TAKAHASHI AKIO', 'GOWDA ARUN VIRUPAKSHA', 'ARASHIMA TERUO', 'NAKAMURA TAKATOSHI', 'TAKAI MOTOYUKI', 'KATO JUNICHI', 'KURODA OSAMU', 'LEE CHOONGHYUN', 'SAEKI JUNICHI', 'SALASOO LEMBIT', 'USUI MAKOTO', 'YAMANOBE MASATO', 'MURAKAMI TOKUMICHI', 'WATANABE TAKASHI', 'KOIZUMI YUTAKA', 'KIM YOUNG-BUM', 'SATO MASAAKI', 'SUN CHEN', 'OSADA YOSHIYUKI', 'NISHIGORI HITOSHI', 'MYUNG SE-HO', 'MIYAZAKI TAKESHI', 'BURRA RAJNI KANT', 'YOSHINO KOJI', 'FURUMIYA SHIGERU', 'BREEZE-STRINGFELLOW ANDREW', 'YOSHINAGA KAZUO', 'TAKENOUCHI MASANORI', 'UCHIDA MASASHI', 'KOISHI KENJI', 'LEE JU-HO', 'HANAYA HIROYUKI', 'SUZUKI TETSUO', 'OGATA MASATSUGU', 'KOYAMA SHUJI', 'KITABATAKE KENJI', 'EGUCHI SYUUJI', 'ISHIHARA SHUNICHI', 'GOTOH YOSHIHO', 'KHAKIFIROOZ ALI', 'DIMASCIO PAUL STEPHEN', 'ZATORSKI DAREK TOMASZ', 'SASAKI YOSHIKI', 'WAGONER ROBERT GREGORY', 'FUJITA MIYUKI', 'JI HYOUNGJU', 'NAKAGIRI TAKASHI', 'DINC OSMAN SAIM', 'JANG JAE-HYUK', 'ISAKA KAZUO', 'KANG HEE-WON', 'WEIMER MICHAEL JAMES', 'WADA SEIJI', 'TAGUCHI NOBUYOSHI', 'FUTAMOTO MASAAKI', 'NAKANO TOSHIO', 'TSUKADA TOSHIHISA', 'MIYA KAZUYUKI', 'HARDING KEVIN GEORGE', 'BUNKER RONALD SCOTT', 'TANAKA SHINICHI', 'YAMAMOTO AKIRA', 'KIM SOENG-HUN', 'CHOI SEUNGHOON', 'SATO NOBUHIKO', 'KING ROBERT DEAN', 'LI NING', 'OH JINYOUNG', 'FURUKAWA TOSHIHARU', 'KUDO KIYOMITSU', 'MATSUMOTO TAKAHIRO', 'KATO MASAO', 'INABA HIROMI', 'MIYABE SHIGEO', 'BEWLAY BERNARD PATRICK', 'HIRABAYASHI MITSUHIRO', 'PARK SUNGJIN', 'VAN LIESHOUT GERT JAN', 'DIVAKARUNI RAMACHANDRA', 'MINEMURA HIROYUKI', 'OHARA SHUNJI', 'TAKEHARA MITSURU', 'HOLMES STEVEN J', 'HAYASAKI KIMIYUKI', 'YONEKUBO HIROAKI', 'TSUKAMOTO TAKEO', 'NARAHARA TOSHIKAZU', 'HOZOJI HIROSHI', 'HIRAMATSU SOICHI', 'FUKUDA TSUGUHIRO', 'KATO OSAMU'}, {'KWATRA SHIKHAR', 'WALKER KEITH R', 'TRIM CRAIG M', 'FARRELL MARK S', 'SAPORITO ANTHONY', 'RAKSHIT SARBAJIT K', 'MITRAN MARCEL', 'BASTIDE PAUL R', 'SALAPURA VALENTINA', 'SLEGEL TIMOTHY', 'GAINEY JR CHARLES W', 'SCHMIDT DONALD W', 'BUSABA FADI Y', 'KOZLOSKI JAMES R', 'HARPUR LIAM', \"O'CONNELL BRIAN M\", 'JACOBI CHRISTIAN', 'BOSS GREGORY J', 'FOX JEREMY R', 'GREINER DAN', 'DUNNE JONATHAN', 'SHUM CHUNG-LUNG K', 'PICKOVER CLIFFORD A', 'KANEVSKY DIMITRI', 'ALLEN CORVILLE O', 'GSCHWIND MICHAEL KARL', 'BAUGHMAN AARON K', 'BRADBURY JONATHAN D', 'HELLER LISA CRANTON', 'EKAMBARAM VIJAY', 'SCHMIDT DONALD WILLIAM', 'HAMILTON II RICK A', 'DELUCA LISA SEACAT', 'SLEGEL TIMOTHY J', 'GREINER DAN F', 'FARRELL MARK'}, {'SAHO NORIHIDE'}, {'YAMAZAKI SUSUMU'}, {'SATO TAKASHI', 'MORITA AYUMU', 'TSUCHIYA KENJI', 'KUROSAWA YUKIO'}, {'BENHASE MICHAEL T', 'GUPTA LOKESH M', 'KALOS MATTHEW J'}, {'WATANABE MASAHIRO'}, {'OGAWA KAZUFUMI'}, {'KIRBY GLEN HAROLD'}, {'SCHUH CARSTEN'}, {'OMORI HIDEKI'}, {'HEDRICK JAMES L', 'YANG YI YAN'}, {'YOKOKAWA TAKASHI'}, {'SUZUKI HIDEYUKI'}, {'YOSHIOKA TOSHIHIKO', 'NANKAI SHIRO'}, {'HSIEH JIANG', 'EDIC PETER MICHAEL'}, {'HIRAO TAKASHI', 'SETSUNE KENTARO'}, {'ARITA SETSUO'}, {'UCHINO KATSUHIDE'}, {'ARIMILLI RAVI KUMAR', 'BASSO CLAUDE'}, {'PISTOIA MARCO', 'TRIPP OMER'}, {'YOSHIDA TAKEHIRO'}, {'FRIES STEFFEN', 'FALK RAINER'}, {'IYENGAR MADHUSUDAN K', 'SCHMIDT ROGER R'}, {'MORIMOTO HIROYUKI', 'YAMASHITA KOJI'}, {'WATANABE HARUO', 'KUBOTA TADAHIKO'}, {'YURA MASAKI'}, {'TANAKA ATSUSHI'}, {'MORI KINJI'}, {'MIYATAKE TAKAFUMI'}, {'MORIMURA ATSUSHI'}, {'KANBARA TERUHISA', 'TOMIZAWA TAKESHI', 'KONDO SHIGEO', 'HOSAKA MASATO', 'YOSHIDA AKIHIKO', 'NISHINO ATSUSHI'}, {'STADELMEIER LOTHAR'}, {'KUCZYNSKI JOSEPH'}, {'KAKU NOBUYUKI'}, {'TSUNEKAWA TOKUICHI'}, {'HIRATA KOJI'}, {'ITO TOSHIKI'}, {'TERAI HARUO'}, {'TAKAHASHI SUSUMU'}, {'DANOV VLADIMIR', 'HARTMANN WERNER', 'LANG STEFFEN'}, {'SHIKAMORI TAMOTSU'}, {'SUZUKI MAKOTO', 'HIROSHIMA MINORU'}, {'HASHIMOTO SEIJI'}, {'NAKAGAWA TOSHIYUKI'}, {'MOORE VICTOR S'}, {'PATIL SANDEEP R'}, {'YAMAZOE HIROSHI'}, {'KIMURA TOMOAKI'}, {'SAITO KIMIHIRO', 'KOBAYASHI SEIJI'}, {'KONDO KATSUMI'}, {'IKEDA TAKASHI'}, {'NISHIGUCHI MASAYUKI'}, {'TODOKORO HIDEO'}, {'ABE ATSUSHI'}, {'KOIZUMI TORU'}, {'ARIMOTO AKIRA'}, {'TAKEDA MAMORU'}, {'LIU SU'}, {'SUZUKI HIROYUKI'}, {'NAKATANI SEIICHI'}, {'NOMURA NOBORU'}, {'MABUCHI KEIJI'}]\n"
     ]
    }
   ],
   "source": [
    "num_nodes = len(g_small.nodes())\n",
    "num_edges = len(g_small.edges())\n",
    "print(f\"Numero di nodi: {num_nodes}\")\n",
    "print(f\"Numero di archi: {num_edges}\")\n",
    "\n",
    "connected_components = list(nx.connected_components(g_small))\n",
    "print(f\"Componenti connesse: {connected_components}\")"
   ],
   "metadata": {
    "collapsed": false,
    "ExecuteTime": {
     "end_time": "2024-01-15T11:06:37.207859800Z",
     "start_time": "2024-01-15T11:06:37.095001100Z"
    }
   }
  },
  {
   "cell_type": "markdown",
   "source": [
    "### Unsupervised Link Prediction"
   ],
   "metadata": {
    "collapsed": false
   }
  },
  {
   "cell_type": "code",
   "execution_count": 14,
   "outputs": [
    {
     "name": "stdout",
     "output_type": "stream",
     "text": [
      "IZUMIDA MASAAKI - ABE TSUTOMU 24.0\n",
      "OGATA MASATSUGU - ANJO ICHIRO 20.0\n",
      "MURAKAMI GEN - ANJO ICHIRO 20.0\n",
      "EGUCHI SYUUJI - ANJO ICHIRO 20.0\n",
      "SAIKAWA HIDEO - GOTO AKIRA 19.0\n",
      "VAN LIESHOUT GERT-JAN - VAN LIESHOUT GERT JAN 18.0\n",
      "SAITO AKIO - ISHINAGA HIROYUKI 18.0\n",
      "ISHINAGA HIROYUKI - HATTORI YOSHIFUMI 18.0\n",
      "TANAKA SHIGEAKI - ABE TSUTOMU 17.0\n",
      "SUGIMOTO HITOSHI - KUWABARA NOBUYUKI 17.0\n",
      "SUGAMA SADAYUKI - MASUDA KAZUAKI 17.0\n",
      "MORIYAMA JIRO - MATSUBARA MIYUKI 17.0\n",
      "MAEOKA KUNIHIKO - ISHINAGA HIROYUKI 17.0\n",
      "KAWAI JUN - GOTO AKIRA 17.0\n",
      "WATANABE TAKASHI - KIMURA MAKIKO 16.0\n",
      "WATANABE TAKASHI - ABE TSUTOMU 16.0\n",
      "OHBA TAKASHI - KUWABARA NOBUYUKI 16.0\n",
      "NAGOSHI SHIGEYASU - KUWABARA NOBUYUKI 16.0\n",
      "MATSUBARA MIYUKI - KUWABARA NOBUYUKI 16.0\n",
      "KUWABARA NOBUYUKI - KAWAI JUN 16.0\n"
     ]
    }
   ],
   "source": [
    "cn = linkpred.predictors.CommonNeighbours(g_small, excluded=g_small.edges()) # We aim to predict only new links, thus we exclude existing ones\n",
    "cn_results = cn.predict()\n",
    "\n",
    "top = cn_results.top(20)\n",
    "for edge, score in top.items():\n",
    "    print(edge, score)"
   ],
   "metadata": {
    "collapsed": false,
    "ExecuteTime": {
     "end_time": "2024-01-15T11:06:38.915221100Z",
     "start_time": "2024-01-15T11:06:37.210850100Z"
    }
   }
  },
  {
   "cell_type": "code",
   "execution_count": 15,
   "outputs": [
    {
     "name": "stdout",
     "output_type": "stream",
     "text": [
      "YAMADA HIROYUKI - MOROOKA YASUO 1.0\n",
      "TOMIZAWA TAKESHI - KONDO SHIGEO 1.0\n",
      "LANG STEFFEN - DANOV VLADIMIR 1.0\n",
      "SHIMIZU ISAMU - FUJIOKA YASUSHI 0.8\n",
      "OGATA MASATSUGU - ANJO ICHIRO 0.8\n",
      "MURAKAMI GEN - ANJO ICHIRO 0.8\n",
      "EGUCHI SYUUJI - ANJO ICHIRO 0.8\n",
      "SAITOH AKIHITO - IWAWAKI HIRONOBU 0.7777777777777778\n",
      "TOMOSADA MASAHIRO - KANEKO SATOSHI 0.75\n",
      "SASAKI YOSHIKI - KAWAMURA HIROYUKI 0.75\n",
      "SEKI SATOSHI - MARU AKIKO 0.7272727272727273\n",
      "YAGASAKI YOICHI - HATTORI SHINOBU 0.7142857142857143\n",
      "LEE HYUN-WOO - LEE HYEON-WOO 0.7142857142857143\n",
      "YEO JEONGHO - JI HYOUNGJU 0.6875\n",
      "PARK SUNGJIN - JI HYOUNGJU 0.6875\n",
      "YAMAMOTO KATSUHIKO - UEDA SHIGEKI 0.6666666666666666\n",
      "VAN LIESHOUT GERT-JAN - VAN LIESHOUT GERT JAN 0.6666666666666666\n",
      "TSUDA SHINICHIRO - MORIOKA YUICHI 0.6666666666666666\n",
      "IMAMURA TAKESHI - IKEDA TAKESHI 0.6666666666666666\n",
      "MITRAN MARCEL - BRADBURY JONATHAN D 0.6428571428571429\n"
     ]
    }
   ],
   "source": [
    "jc = linkpred.predictors.Jaccard(g_small, excluded=g_small.edges())\n",
    "jc_results = jc.predict()\n",
    "\n",
    "top = jc_results.top(20)\n",
    "for edge, score in top.items():\n",
    "    print(edge, score)"
   ],
   "metadata": {
    "collapsed": false,
    "ExecuteTime": {
     "end_time": "2024-01-15T11:06:41.503568600Z",
     "start_time": "2024-01-15T11:06:38.904595100Z"
    }
   }
  },
  {
   "cell_type": "code",
   "execution_count": 16,
   "outputs": [
    {
     "name": "stdout",
     "output_type": "stream",
     "text": [
      "VAN LIESHOUT GERT-JAN - VAN LIESHOUT GERT JAN 7.106178706085244\n",
      "IZUMIDA MASAAKI - ABE TSUTOMU 6.9543526580354404\n",
      "OGATA MASATSUGU - ANJO ICHIRO 6.279176993558451\n",
      "MURAKAMI GEN - ANJO ICHIRO 6.279176993558451\n",
      "EGUCHI SYUUJI - ANJO ICHIRO 6.279176993558451\n",
      "SAIKAWA HIDEO - GOTO AKIRA 5.4909178703256245\n",
      "SAITO AKIO - ISHINAGA HIROYUKI 5.253280321815669\n",
      "ISHINAGA HIROYUKI - HATTORI YOSHIFUMI 5.187424024289093\n",
      "MORIYAMA JIRO - MATSUBARA MIYUKI 5.088829126723338\n",
      "SUGAMA SADAYUKI - MASUDA KAZUAKI 5.0846371966678925\n",
      "SUGIMOTO HITOSHI - KUWABARA NOBUYUKI 5.019370637739384\n",
      "TANAKA SHIGEAKI - ABE TSUTOMU 4.914827790992371\n",
      "MAEOKA KUNIHIKO - ISHINAGA HIROYUKI 4.8840109487468135\n",
      "KAWAI JUN - GOTO AKIRA 4.847624544468381\n",
      "NAGOSHI SHIGEYASU - KUWABARA NOBUYUKI 4.767499988987685\n",
      "OHBA TAKASHI - KUWABARA NOBUYUKI 4.658080634006153\n",
      "KASHINO TOSHIO - FUKUDA TSUGUHIRO 4.614153492073483\n",
      "FUKUDA TSUGUHIRO - ARASHIMA TERUO 4.614153492073483\n",
      "WATANABE TAKASHI - ABE TSUTOMU 4.590444524250611\n",
      "WATANABE TAKASHI - KIMURA MAKIKO 4.566993220026448\n"
     ]
    }
   ],
   "source": [
    "aa = linkpred.predictors.AdamicAdar(g_small, excluded=g_small.edges())\n",
    "aa_results = aa.predict()\n",
    "\n",
    "top = aa_results.top(20)\n",
    "for edge, score in top.items():\n",
    "    print(edge, score)"
   ],
   "metadata": {
    "collapsed": false,
    "ExecuteTime": {
     "end_time": "2024-01-15T11:06:45.592724400Z",
     "start_time": "2024-01-15T11:06:41.505560700Z"
    }
   }
  },
  {
   "cell_type": "code",
   "execution_count": 17,
   "outputs": [
    {
     "name": "stdout",
     "output_type": "stream",
     "text": [
      "YAMADA HIROYUKI - MOROOKA YASUO 0.5000000793243663\n",
      "LANG STEFFEN - DANOV VLADIMIR 0.500000047151806\n",
      "TOMIZAWA TAKESHI - KONDO SHIGEO 0.5000000335675253\n",
      "YONEKUBO HIROAKI - FUJISHITA KAZUO 0.40272445967398673\n",
      "TAKAHASHI KATSUHIRO - MORIWAKI YOSHIO 0.39542747186887456\n",
      "DELVAUX JOHN MCCONNELL - BURDGICK STEVEN SEBASTIAN 0.34743165763851064\n",
      "WATANABE TSUTOMU - TANAKA KENJI 0.3459021355366753\n",
      "MIYABE SHIGEO - AOKI MASAKAZU 0.33563918117185726\n",
      "UCHIDA MASASHI - TANAKA KENJI 0.3279433277129627\n",
      "TSUCHIYA KENJI - KUROSAWA YUKIO 0.310534566077405\n",
      "SUZUKI TAKASHI - HONDA KAZUYOSHI 0.3015286113810544\n",
      "TOYOGUCHI YOSHINORI - TAGUCHI NOBUYOSHI 0.2896283146986746\n",
      "SHIRAI TAIZO - SHIMA HISATO 0.2876163749671427\n",
      "NOWAK EDWARD J - KIM JEEHWAN 0.2763651111971916\n",
      "MATSUDA SHINPEI - AZUHATA SHIGERU 0.2741747981960447\n",
      "TANAKA KENJI - NAGANO TAKAHIRO 0.27000964913339986\n",
      "TANI ATSUSHI - OGAWA YOSHIHIRO 0.2605482370701328\n",
      "SHIMA HISATO - KATAYAMA AKIHIRO 0.2572758600021842\n",
      "FANG BIAO - DINC OSMAN SAIM 0.2567134070727951\n",
      "NAKANE SHINICHI - MATSUMOTO TAKAHIRO 0.2550362204761516\n"
     ]
    }
   ],
   "source": [
    "simrank = linkpred.predictors.SimRank(g_small, excluded=g_small.edges())\n",
    "simrank_results = simrank.predict(c=0.5)\n",
    "\n",
    "top = simrank_results.top(20)\n",
    "for edge, score in top.items():\n",
    "    print(edge, score)"
   ],
   "metadata": {
    "collapsed": false,
    "ExecuteTime": {
     "end_time": "2024-01-15T11:06:48.238424300Z",
     "start_time": "2024-01-15T11:06:45.593752900Z"
    }
   }
  },
  {
   "cell_type": "code",
   "execution_count": 18,
   "outputs": [
    {
     "name": "stdout",
     "output_type": "stream",
     "text": [
      "(117, 536) 11.330978210601021\n",
      "(92, 117) 10.375781569028836\n",
      "(238, 803) 6.500744400652173\n",
      "(117, 599) 6.047732259472766\n",
      "(8, 117) 4.7091094253993155\n",
      "(117, 844) 3.6389501523046155\n",
      "(92, 536) 3.3326406501767702\n",
      "(117, 126) 3.1525569616942075\n",
      "(117, 752) 2.954133023583332\n",
      "(117, 576) 2.326050869027988\n",
      "(117, 238) 2.302315427555474\n",
      "(117, 803) 2.2844685979787434\n",
      "(117, 572) 2.1021017021552133\n",
      "(117, 682) 2.0923186748073688\n",
      "(619, 688) 2.022471448345452\n",
      "(117, 285) 1.9789962626037876\n",
      "(117, 476) 1.950748586458773\n",
      "(162, 570) 1.8968341227115584\n",
      "(117, 800) 1.8936701982408515\n",
      "(117, 667) 1.8241095824485438\n"
     ]
    }
   ],
   "source": [
    "import networkx as nx\n",
    "import numpy as np\n",
    "\n",
    "# Crea il tuo grafo g_small come preferisci\n",
    "# g_small = ...\n",
    "\n",
    "# Calcola la matrice di adiacenza del grafo\n",
    "adj_matrix = nx.adjacency_matrix(g_small)\n",
    "\n",
    "# Definisci il parametro di attenuazione di Katz\n",
    "alpha = 0.1  # Puoi regolare il valore di alpha a tuo piacimento\n",
    "\n",
    "# Calcola la matrice di Katz usando la formula (I - alpha * A)^(-1) - I\n",
    "num_nodes = g_small.number_of_nodes()\n",
    "identity_matrix = np.identity(num_nodes)\n",
    "katz_matrix = np.linalg.inv(identity_matrix - alpha * adj_matrix) - identity_matrix\n",
    "\n",
    "# Estrai le previsioni di Katz\n",
    "kz_results = {}\n",
    "for i in range(num_nodes):\n",
    "    for j in range(i + 1, num_nodes):\n",
    "        edge = (i, j)\n",
    "        score = katz_matrix[i, j]\n",
    "        kz_results[edge] = score\n",
    "\n",
    "# Ordina e stampa i risultati migliori\n",
    "sorted_results = sorted(kz_results.items(), key=lambda x: x[1], reverse=True)\n",
    "top = sorted_results[:20]\n",
    "for edge, score in top:\n",
    "    print(edge, score)\n"
   ],
   "metadata": {
    "collapsed": false,
    "ExecuteTime": {
     "end_time": "2024-01-15T11:06:48.822881500Z",
     "start_time": "2024-01-15T11:06:48.249286Z"
    }
   }
  },
  {
   "cell_type": "code",
   "execution_count": 19,
   "outputs": [
    {
     "ename": "AttributeError",
     "evalue": "module 'networkx' has no attribute 'to_scipy_sparse_matrix'",
     "output_type": "error",
     "traceback": [
      "\u001B[1;31m---------------------------------------------------------------------------\u001B[0m",
      "\u001B[1;31mAttributeError\u001B[0m                            Traceback (most recent call last)",
      "\u001B[1;32m~\\AppData\\Local\\Temp\\ipykernel_4772\\2845191032.py\u001B[0m in \u001B[0;36m<module>\u001B[1;34m\u001B[0m\n\u001B[0;32m      1\u001B[0m \u001B[0mkz\u001B[0m \u001B[1;33m=\u001B[0m \u001B[0mlinkpred\u001B[0m\u001B[1;33m.\u001B[0m\u001B[0mpredictors\u001B[0m\u001B[1;33m.\u001B[0m\u001B[0mKatz\u001B[0m\u001B[1;33m(\u001B[0m\u001B[0mg_small\u001B[0m\u001B[1;33m,\u001B[0m \u001B[0mexcluded\u001B[0m\u001B[1;33m=\u001B[0m\u001B[0mg_small\u001B[0m\u001B[1;33m.\u001B[0m\u001B[0medges\u001B[0m\u001B[1;33m(\u001B[0m\u001B[1;33m)\u001B[0m\u001B[1;33m)\u001B[0m\u001B[1;33m\u001B[0m\u001B[1;33m\u001B[0m\u001B[0m\n\u001B[1;32m----> 2\u001B[1;33m \u001B[0mkz_results\u001B[0m \u001B[1;33m=\u001B[0m \u001B[0mkz\u001B[0m\u001B[1;33m.\u001B[0m\u001B[0mpredict\u001B[0m\u001B[1;33m(\u001B[0m\u001B[1;33m)\u001B[0m\u001B[1;33m\u001B[0m\u001B[1;33m\u001B[0m\u001B[0m\n\u001B[0m\u001B[0;32m      3\u001B[0m \u001B[1;33m\u001B[0m\u001B[0m\n\u001B[0;32m      4\u001B[0m \u001B[0mtop\u001B[0m \u001B[1;33m=\u001B[0m \u001B[0mkz_results\u001B[0m\u001B[1;33m.\u001B[0m\u001B[0mtop\u001B[0m\u001B[1;33m(\u001B[0m\u001B[1;36m20\u001B[0m\u001B[1;33m)\u001B[0m\u001B[1;33m\u001B[0m\u001B[1;33m\u001B[0m\u001B[0m\n\u001B[0;32m      5\u001B[0m \u001B[1;32mfor\u001B[0m \u001B[0medge\u001B[0m\u001B[1;33m,\u001B[0m \u001B[0mscore\u001B[0m \u001B[1;32min\u001B[0m \u001B[0mtop\u001B[0m\u001B[1;33m.\u001B[0m\u001B[0mitems\u001B[0m\u001B[1;33m(\u001B[0m\u001B[1;33m)\u001B[0m\u001B[1;33m:\u001B[0m\u001B[1;33m\u001B[0m\u001B[1;33m\u001B[0m\u001B[0m\n",
      "\u001B[1;32m~\\anaconda3\\lib\\site-packages\\linkpred\\predictors\\base.py\u001B[0m in \u001B[0;36mpredict_and_postprocess\u001B[1;34m(*args, **kwargs)\u001B[0m\n\u001B[0;32m     61\u001B[0m         \u001B[1;32mdef\u001B[0m \u001B[0madd_postprocessing\u001B[0m\u001B[1;33m(\u001B[0m\u001B[0mfunc\u001B[0m\u001B[1;33m)\u001B[0m\u001B[1;33m:\u001B[0m\u001B[1;33m\u001B[0m\u001B[1;33m\u001B[0m\u001B[0m\n\u001B[0;32m     62\u001B[0m             \u001B[1;32mdef\u001B[0m \u001B[0mpredict_and_postprocess\u001B[0m\u001B[1;33m(\u001B[0m\u001B[1;33m*\u001B[0m\u001B[0margs\u001B[0m\u001B[1;33m,\u001B[0m \u001B[1;33m**\u001B[0m\u001B[0mkwargs\u001B[0m\u001B[1;33m)\u001B[0m\u001B[1;33m:\u001B[0m\u001B[1;33m\u001B[0m\u001B[1;33m\u001B[0m\u001B[0m\n\u001B[1;32m---> 63\u001B[1;33m                 \u001B[0mscoresheet\u001B[0m \u001B[1;33m=\u001B[0m \u001B[0mfunc\u001B[0m\u001B[1;33m(\u001B[0m\u001B[1;33m*\u001B[0m\u001B[0margs\u001B[0m\u001B[1;33m,\u001B[0m \u001B[1;33m**\u001B[0m\u001B[0mkwargs\u001B[0m\u001B[1;33m)\u001B[0m\u001B[1;33m\u001B[0m\u001B[1;33m\u001B[0m\u001B[0m\n\u001B[0m\u001B[0;32m     64\u001B[0m                 \u001B[1;32mfor\u001B[0m \u001B[0mu\u001B[0m\u001B[1;33m,\u001B[0m \u001B[0mv\u001B[0m \u001B[1;32min\u001B[0m \u001B[0mself\u001B[0m\u001B[1;33m.\u001B[0m\u001B[0mexcluded\u001B[0m\u001B[1;33m:\u001B[0m\u001B[1;33m\u001B[0m\u001B[1;33m\u001B[0m\u001B[0m\n\u001B[0;32m     65\u001B[0m                     \u001B[1;32mtry\u001B[0m\u001B[1;33m:\u001B[0m\u001B[1;33m\u001B[0m\u001B[1;33m\u001B[0m\u001B[0m\n",
      "\u001B[1;32m~\\anaconda3\\lib\\site-packages\\linkpred\\predictors\\path.py\u001B[0m in \u001B[0;36mpredict\u001B[1;34m(self, beta, max_power, weight, dtype)\u001B[0m\n\u001B[0;32m     89\u001B[0m         \"\"\"\n\u001B[0;32m     90\u001B[0m         \u001B[0mnodelist\u001B[0m \u001B[1;33m=\u001B[0m \u001B[0mlist\u001B[0m\u001B[1;33m(\u001B[0m\u001B[0mself\u001B[0m\u001B[1;33m.\u001B[0m\u001B[0mG\u001B[0m\u001B[1;33m.\u001B[0m\u001B[0mnodes\u001B[0m\u001B[1;33m)\u001B[0m\u001B[1;33m\u001B[0m\u001B[1;33m\u001B[0m\u001B[0m\n\u001B[1;32m---> 91\u001B[1;33m         \u001B[0madj\u001B[0m \u001B[1;33m=\u001B[0m \u001B[0mnx\u001B[0m\u001B[1;33m.\u001B[0m\u001B[0mto_scipy_sparse_matrix\u001B[0m\u001B[1;33m(\u001B[0m\u001B[0mself\u001B[0m\u001B[1;33m.\u001B[0m\u001B[0mG\u001B[0m\u001B[1;33m,\u001B[0m \u001B[0mdtype\u001B[0m\u001B[1;33m=\u001B[0m\u001B[0mdtype\u001B[0m\u001B[1;33m,\u001B[0m \u001B[0mweight\u001B[0m\u001B[1;33m=\u001B[0m\u001B[0mweight\u001B[0m\u001B[1;33m)\u001B[0m\u001B[1;33m\u001B[0m\u001B[1;33m\u001B[0m\u001B[0m\n\u001B[0m\u001B[0;32m     92\u001B[0m         \u001B[0mres\u001B[0m \u001B[1;33m=\u001B[0m \u001B[0mScoresheet\u001B[0m\u001B[1;33m(\u001B[0m\u001B[1;33m)\u001B[0m\u001B[1;33m\u001B[0m\u001B[1;33m\u001B[0m\u001B[0m\n\u001B[0;32m     93\u001B[0m \u001B[1;33m\u001B[0m\u001B[0m\n",
      "\u001B[1;31mAttributeError\u001B[0m: module 'networkx' has no attribute 'to_scipy_sparse_matrix'"
     ]
    }
   ],
   "source": [
    "kz = linkpred.predictors.Katz(g_small, excluded=g_small.edges())\n",
    "kz_results = kz.predict()\n",
    "\n",
    "top = kz_results.top(20)\n",
    "for edge, score in top.items():\n",
    "    print(edge, score)"
   ],
   "metadata": {
    "collapsed": false,
    "ExecuteTime": {
     "end_time": "2024-01-15T11:06:49.785181100Z",
     "start_time": "2024-01-15T11:06:48.821855900Z"
    }
   }
  },
  {
   "cell_type": "code",
   "execution_count": 21,
   "outputs": [
    {
     "name": "stdout",
     "output_type": "stream",
     "text": [
      "YAMADA HIROYUKI - MOROOKA YASUO 0.5000000793243663\n",
      "LANG STEFFEN - DANOV VLADIMIR 0.500000047151806\n",
      "TOMIZAWA TAKESHI - KONDO SHIGEO 0.5000000335675253\n",
      "YONEKUBO HIROAKI - FUJISHITA KAZUO 0.40272445967398673\n",
      "TAKAHASHI KATSUHIRO - MORIWAKI YOSHIO 0.39542747186887456\n",
      "DELVAUX JOHN MCCONNELL - BURDGICK STEVEN SEBASTIAN 0.34743165763851064\n",
      "WATANABE TSUTOMU - TANAKA KENJI 0.3459021355366753\n",
      "MIYABE SHIGEO - AOKI MASAKAZU 0.33563918117185726\n",
      "UCHIDA MASASHI - TANAKA KENJI 0.3279433277129627\n",
      "TSUCHIYA KENJI - KUROSAWA YUKIO 0.310534566077405\n",
      "SUZUKI TAKASHI - HONDA KAZUYOSHI 0.3015286113810544\n",
      "TOYOGUCHI YOSHINORI - TAGUCHI NOBUYOSHI 0.2896283146986746\n",
      "SHIRAI TAIZO - SHIMA HISATO 0.2876163749671427\n",
      "NOWAK EDWARD J - KIM JEEHWAN 0.2763651111971916\n",
      "MATSUDA SHINPEI - AZUHATA SHIGERU 0.2741747981960447\n",
      "TANAKA KENJI - NAGANO TAKAHIRO 0.27000964913339986\n",
      "TANI ATSUSHI - OGAWA YOSHIHIRO 0.2605482370701328\n",
      "SHIMA HISATO - KATAYAMA AKIHIRO 0.2572758600021842\n",
      "FANG BIAO - DINC OSMAN SAIM 0.2567134070727951\n",
      "NAKANE SHINICHI - MATSUMOTO TAKAHIRO 0.2550362204761516\n"
     ]
    }
   ],
   "source": [
    "simrank = linkpred.predictors.SimRank(g_small, excluded=g_small.edges())\n",
    "simrank_results = simrank.predict(c=0.5)\n",
    "\n",
    "top = simrank_results.top(20)\n",
    "for edge, score in top.items():\n",
    "    print(edge, score)"
   ],
   "metadata": {
    "collapsed": false,
    "ExecuteTime": {
     "end_time": "2024-01-15T11:07:09.443716Z",
     "start_time": "2024-01-15T11:07:05.291980300Z"
    }
   }
  },
  {
   "cell_type": "code",
   "execution_count": 22,
   "outputs": [
    {
     "name": "stdout",
     "output_type": "stream",
     "text": [
      "YAMADA HIROYUKI - MOROOKA YASUO 0.5000000793243663\n",
      "LANG STEFFEN - DANOV VLADIMIR 0.500000047151806\n",
      "TOMIZAWA TAKESHI - KONDO SHIGEO 0.5000000335675253\n",
      "YONEKUBO HIROAKI - FUJISHITA KAZUO 0.40272445967398673\n",
      "TAKAHASHI KATSUHIRO - MORIWAKI YOSHIO 0.39542747186887456\n"
     ]
    }
   ],
   "source": [
    "rnd = linkpred.predictors.Random(g_small, excluded=g_small.edges())\n",
    "rnd_results = rnd.predict()\n",
    "\n",
    "top = simrank_results.top(5)\n",
    "for edge, score in top.items():\n",
    "    print(edge, score)"
   ],
   "metadata": {
    "collapsed": false,
    "ExecuteTime": {
     "end_time": "2024-01-15T11:07:13.123571500Z",
     "start_time": "2024-01-15T11:07:10.195900Z"
    }
   }
  },
  {
   "cell_type": "markdown",
   "source": [
    "### Evaluation (unsupervised)"
   ],
   "metadata": {
    "collapsed": false
   }
  },
  {
   "cell_type": "code",
   "execution_count": 23,
   "outputs": [],
   "source": [
    "import itertools\n",
    "from linkpred.evaluation import Pair"
   ],
   "metadata": {
    "collapsed": false,
    "ExecuteTime": {
     "end_time": "2024-01-15T11:07:14.554753800Z",
     "start_time": "2024-01-15T11:07:14.540626700Z"
    }
   }
  },
  {
   "cell_type": "code",
   "execution_count": 24,
   "outputs": [],
   "source": [
    "import random"
   ],
   "metadata": {
    "collapsed": false,
    "ExecuteTime": {
     "end_time": "2024-01-15T11:07:17.314859100Z",
     "start_time": "2024-01-15T11:07:17.287965400Z"
    }
   }
  },
  {
   "cell_type": "code",
   "execution_count": 25,
   "outputs": [
    {
     "name": "stdout",
     "output_type": "stream",
     "text": [
      "Test nodes:  129\n",
      "Test edges:  102\n",
      "\n",
      "Training:  858\n",
      "Training:  3894\n"
     ]
    },
    {
     "name": "stderr",
     "output_type": "stream",
     "text": [
      "C:\\Users\\Alma\\AppData\\Local\\Temp\\ipykernel_4772\\2958603682.py:4: DeprecationWarning: Sampling from a set deprecated\n",
      "since Python 3.9 and will be removed in a subsequent version.\n",
      "  test = H.subgraph(random.sample(g_small.nodes(), 129))\n"
     ]
    }
   ],
   "source": [
    "H = g_small.copy()\n",
    "\n",
    "# Create test network\n",
    "test = H.subgraph(random.sample(g_small.nodes(), 129))\n",
    "print(\"Test nodes: \", len(test.nodes()))\n",
    "print(\"Test edges: \", len(test.edges()))\n",
    "\n",
    "# Exclude test network from learning phase\n",
    "training = H.copy()\n",
    "training.remove_edges_from(test.edges())\n",
    "\n",
    "print(\"\\nTraining: \", len(training.nodes()))\n",
    "print(\"Training: \", len(training.edges()))\n",
    "\n",
    "# Node set\n",
    "nodes = list(H.nodes())\n",
    "nodes.extend(list(test.nodes()))"
   ],
   "metadata": {
    "collapsed": false,
    "ExecuteTime": {
     "end_time": "2024-01-15T11:07:17.465948500Z",
     "start_time": "2024-01-15T11:07:17.305024800Z"
    }
   }
  },
  {
   "cell_type": "code",
   "execution_count": 26,
   "outputs": [],
   "source": [
    "# Compute the test set and the universe set\n",
    "test = [Pair(i) for i in test.edges()]\n",
    "universe = set([Pair(i) for i in itertools.product(nodes, nodes) if i[0]!=i[1]])"
   ],
   "metadata": {
    "collapsed": false,
    "ExecuteTime": {
     "end_time": "2024-01-15T11:07:21.199039400Z",
     "start_time": "2024-01-15T11:07:17.443629800Z"
    }
   }
  },
  {
   "cell_type": "code",
   "execution_count": 27,
   "outputs": [
    {
     "data": {
      "text/plain": "367653"
     },
     "execution_count": 27,
     "metadata": {},
     "output_type": "execute_result"
    }
   ],
   "source": [
    "len(universe)"
   ],
   "metadata": {
    "collapsed": false,
    "ExecuteTime": {
     "end_time": "2024-01-15T11:07:21.239480700Z",
     "start_time": "2024-01-15T11:07:21.201132700Z"
    }
   }
  },
  {
   "cell_type": "code",
   "execution_count": 28,
   "outputs": [],
   "source": [
    "cn = linkpred.predictors.CommonNeighbours(training, excluded=training.edges())\n",
    "cn_results = cn.predict()"
   ],
   "metadata": {
    "collapsed": false,
    "ExecuteTime": {
     "end_time": "2024-01-15T11:07:21.652705600Z",
     "start_time": "2024-01-15T11:07:21.217079900Z"
    }
   }
  },
  {
   "cell_type": "code",
   "execution_count": 29,
   "outputs": [],
   "source": [
    "jc = linkpred.predictors.Jaccard(training, excluded=training.edges())\n",
    "jc_results = jc.predict()"
   ],
   "metadata": {
    "collapsed": false,
    "ExecuteTime": {
     "end_time": "2024-01-15T11:07:22.091566800Z",
     "start_time": "2024-01-15T11:07:21.653740600Z"
    }
   }
  },
  {
   "cell_type": "code",
   "execution_count": 30,
   "outputs": [],
   "source": [
    "aa = linkpred.predictors.AdamicAdar(training, excluded=training.edges())\n",
    "aa_results = aa.predict()"
   ],
   "metadata": {
    "collapsed": false,
    "ExecuteTime": {
     "end_time": "2024-01-15T11:07:22.450858900Z",
     "start_time": "2024-01-15T11:07:22.093939700Z"
    }
   }
  },
  {
   "cell_type": "code",
   "execution_count": 31,
   "outputs": [],
   "source": [
    "simrank = linkpred.predictors.SimRank(training, excluded=training.edges())\n",
    "simrank_results = simrank.predict()"
   ],
   "metadata": {
    "collapsed": false,
    "ExecuteTime": {
     "end_time": "2024-01-15T11:07:36.879038100Z",
     "start_time": "2024-01-15T11:07:34.006547500Z"
    }
   }
  },
  {
   "cell_type": "code",
   "execution_count": 32,
   "outputs": [],
   "source": [
    "random = linkpred.predictors.Random(training, excluded=training.edges())\n",
    "rnd_results = random.predict()"
   ],
   "metadata": {
    "collapsed": false,
    "ExecuteTime": {
     "end_time": "2024-01-15T11:07:39.907567100Z",
     "start_time": "2024-01-15T11:07:36.880033800Z"
    }
   }
  },
  {
   "cell_type": "code",
   "execution_count": 33,
   "outputs": [],
   "source": [
    "cn_evaluation = linkpred.evaluation.EvaluationSheet(cn_results, test, universe)"
   ],
   "metadata": {
    "collapsed": false,
    "ExecuteTime": {
     "end_time": "2024-01-15T11:12:39.955220400Z",
     "start_time": "2024-01-15T11:07:39.909103300Z"
    }
   }
  },
  {
   "cell_type": "code",
   "execution_count": 34,
   "outputs": [],
   "source": [
    "simrank_evaluation = linkpred.evaluation.EvaluationSheet(simrank_results, test, universe)"
   ],
   "metadata": {
    "collapsed": false,
    "ExecuteTime": {
     "end_time": "2024-01-15T12:50:25.557850100Z",
     "start_time": "2024-01-15T11:12:39.958523200Z"
    }
   }
  },
  {
   "cell_type": "code",
   "execution_count": 35,
   "outputs": [],
   "source": [
    "jc_evaluation = linkpred.evaluation.EvaluationSheet(jc_results, test, universe)"
   ],
   "metadata": {
    "collapsed": false,
    "ExecuteTime": {
     "end_time": "2024-01-15T13:00:10.150651600Z",
     "start_time": "2024-01-15T12:50:25.557850100Z"
    }
   }
  },
  {
   "cell_type": "code",
   "execution_count": 36,
   "outputs": [],
   "source": [
    "aa_evaluation = linkpred.evaluation.EvaluationSheet(aa_results, test, universe)"
   ],
   "metadata": {
    "collapsed": false,
    "ExecuteTime": {
     "end_time": "2024-01-15T13:09:49.704314600Z",
     "start_time": "2024-01-15T13:00:10.156925Z"
    }
   }
  },
  {
   "cell_type": "code",
   "execution_count": 62,
   "outputs": [],
   "source": [
    "rnd_evaluation = linkpred.evaluation.EvaluationSheet(rnd_results, test, universe)"
   ],
   "metadata": {
    "collapsed": false,
    "ExecuteTime": {
     "end_time": "2024-01-15T18:31:24.154088100Z",
     "start_time": "2024-01-15T17:22:49.938433800Z"
    }
   }
  },
  {
   "cell_type": "code",
   "execution_count": 38,
   "outputs": [],
   "source": [
    "def print_res(res):\n",
    "    res=sorted(res,key=lambda x: x[1],reverse=True)\n",
    "    for i in res[:10]:\n",
    "        print(i)"
   ],
   "metadata": {
    "collapsed": false,
    "ExecuteTime": {
     "end_time": "2024-01-15T14:41:59.743286600Z",
     "start_time": "2024-01-15T14:41:59.722756800Z"
    }
   }
  },
  {
   "cell_type": "code",
   "execution_count": 60,
   "outputs": [
    {
     "name": "stdout",
     "output_type": "stream",
     "text": [
      "ZIMINSKY WILLY STEVE - ZHANG HUA\n",
      "ZHANG JIANZHONG - YUN SUNG-RYUL\n",
      "ZHANG JIANZHONG - YOON SOON-YOUNG\n",
      "YUN SUNG-RYUL - YOON SOON-YOUNG\n",
      "YOSHIDA ISAMU - YOKONO ATARU\n",
      "YOKOYAMA TAKASHI - YOKONO ATARU\n",
      "YUN SUNG-RYUL - YEO JEONGHO\n",
      "ZHANG JIANZHONG - YEO JEONGHO\n",
      "YOSHINAGA KAZUO - YANO KENTARO\n",
      "YAZAWA TAKESHI - YANO KENTARO\n",
      "\n",
      "\n",
      "\n",
      "ZIMINSKY WILLY STEVE - ZHANG HUA\n",
      "ZHANG JIANZHONG - YUN SUNG-RYUL\n",
      "ZHANG JIANZHONG - YOON SOON-YOUNG\n",
      "YUN SUNG-RYUL - YOON SOON-YOUNG\n",
      "YOSHIDA ISAMU - YOKONO ATARU\n",
      "YOKOYAMA TAKASHI - YOKONO ATARU\n",
      "YUN SUNG-RYUL - YEO JEONGHO\n",
      "ZHANG JIANZHONG - YEO JEONGHO\n",
      "YOSHINAGA KAZUO - YANO KENTARO\n",
      "YAZAWA TAKESHI - YANO KENTARO\n",
      "\n",
      "\n",
      "\n",
      "ZIMINSKY WILLY STEVE - ZHANG HUA\n",
      "ZHANG JIANZHONG - YUN SUNG-RYUL\n",
      "ZHANG JIANZHONG - YOON SOON-YOUNG\n",
      "YUN SUNG-RYUL - YOON SOON-YOUNG\n",
      "YOSHIDA ISAMU - YOKONO ATARU\n",
      "YOKOYAMA TAKASHI - YOKONO ATARU\n",
      "YUN SUNG-RYUL - YEO JEONGHO\n",
      "ZHANG JIANZHONG - YEO JEONGHO\n",
      "YOSHINAGA KAZUO - YANO KENTARO\n",
      "YAZAWA TAKESHI - YANO KENTARO\n",
      "\n",
      "\n",
      "\n",
      "(0, 857)\n",
      "(1, 857)\n",
      "(2, 857)\n",
      "(3, 857)\n",
      "(4, 857)\n",
      "(5, 857)\n",
      "(6, 857)\n",
      "(7, 857)\n",
      "(8, 857)\n",
      "(9, 857)\n",
      "\n",
      "\n",
      "\n",
      "ZIMINSKY WILLY STEVE - ZHENG XIAOQING\n",
      "ZHENG XIAOQING - ZHANG JIANZHONG\n",
      "ZIMINSKY WILLY STEVE - ZHANG JIANZHONG\n",
      "ZHENG XIAOQING - ZHANG HUA\n",
      "ZHANG JIANZHONG - ZHANG HUA\n",
      "ZIMINSKY WILLY STEVE - ZHANG HUA\n",
      "ZHENG XIAOQING - ZATORSKI DAREK TOMASZ\n",
      "ZHANG JIANZHONG - ZATORSKI DAREK TOMASZ\n",
      "ZHANG HUA - ZATORSKI DAREK TOMASZ\n",
      "ZIMINSKY WILLY STEVE - ZATORSKI DAREK TOMASZ\n",
      "\n",
      "\n",
      "ZIMINSKY WILLY STEVE - ZHENG XIAOQING\n",
      "ZHENG XIAOQING - ZHANG JIANZHONG\n",
      "ZIMINSKY WILLY STEVE - ZHANG JIANZHONG\n",
      "ZHENG XIAOQING - ZHANG HUA\n",
      "ZHANG JIANZHONG - ZHANG HUA\n",
      "ZIMINSKY WILLY STEVE - ZHANG HUA\n",
      "ZHENG XIAOQING - ZATORSKI DAREK TOMASZ\n",
      "ZHANG JIANZHONG - ZATORSKI DAREK TOMASZ\n",
      "ZHANG HUA - ZATORSKI DAREK TOMASZ\n",
      "ZIMINSKY WILLY STEVE - ZATORSKI DAREK TOMASZ\n"
     ]
    }
   ],
   "source": [
    "print_res(aa_results)\n",
    "print(\"\")\n",
    "print(\"\")\n",
    "print(\"\")\n",
    "print_res(cn_results)\n",
    "print(\"\")\n",
    "print(\"\")\n",
    "print(\"\")\n",
    "print_res(jc_results)\n",
    "print(\"\")\n",
    "print(\"\")\n",
    "print(\"\")\n",
    "print_res(kz_results)\n",
    "print(\"\")\n",
    "print(\"\")\n",
    "print(\"\")\n",
    "print_res(simrank_results)\n",
    "print(\"\")\n",
    "print(\"\")\n",
    "print(\"\")\n",
    "print_res(rnd_results)"
   ],
   "metadata": {
    "collapsed": false,
    "ExecuteTime": {
     "end_time": "2024-01-15T17:22:07.031542800Z",
     "start_time": "2024-01-15T17:22:06.642417Z"
    }
   }
  },
  {
   "cell_type": "markdown",
   "source": [
    "### "
   ],
   "metadata": {
    "collapsed": false
   }
  },
  {
   "cell_type": "markdown",
   "source": [
    "ROC Curve "
   ],
   "metadata": {
    "collapsed": false
   }
  },
  {
   "cell_type": "code",
   "execution_count": 63,
   "outputs": [
    {
     "data": {
      "text/plain": "<Figure size 640x480 with 1 Axes>",
      "image/png": "[encoded data removed]"
     },
     "metadata": {},
     "output_type": "display_data"
    }
   ],
   "source": [
    "plt.plot(simrank_evaluation.fallout(), simrank_evaluation.recall(), label=\"SimRank\")\n",
    "plt.plot(rnd_evaluation.fallout(), rnd_evaluation.recall(), label=\"Random Pred\")\n",
    "\n",
    "plt.xlabel(\"FPR\")\n",
    "plt.xlabel(\"TPR\")\n",
    "plt.legend()\n",
    "plt.show()"
   ],
   "metadata": {
    "collapsed": false,
    "ExecuteTime": {
     "end_time": "2024-01-15T18:31:25.005286100Z",
     "start_time": "2024-01-15T18:31:24.158424700Z"
    }
   }
  },
  {
   "cell_type": "code",
   "execution_count": 64,
   "outputs": [
    {
     "data": {
      "text/plain": "<Figure size 640x480 with 1 Axes>",
      "image/png": "[encoded data removed]"
     },
     "metadata": {},
     "output_type": "display_data"
    }
   ],
   "source": [
    "plt.plot(cn_evaluation.fallout(), cn_evaluation.recall(), label=\"Common Neighbors\")\n",
    "plt.plot(aa_evaluation.fallout(), aa_evaluation.recall(), label=\"Adamic Adar\")\n",
    "plt.plot(jc_evaluation.fallout(), jc_evaluation.recall(), label=\"Jaccard\")\n",
    "plt.plot(rnd_evaluation.fallout(), rnd_evaluation.recall(), label=\"Random Pred\")\n",
    "\n",
    "\n",
    "plt.xlabel(\"FPR\")\n",
    "plt.ylabel(\"TPR\")\n",
    "plt.legend()\n",
    "plt.show()"
   ],
   "metadata": {
    "collapsed": false,
    "ExecuteTime": {
     "end_time": "2024-01-15T18:31:25.477202900Z",
     "start_time": "2024-01-15T18:31:25.008531800Z"
    }
   }
  },
  {
   "cell_type": "code",
   "execution_count": 66,
   "outputs": [
    {
     "data": {
      "text/plain": "[['KASHINO TOSHIO', 'IKEDA MASAMI', 3339],\n ['SUGAMA SADAYUKI', 'IKEDA MASAMI', 3276],\n ['ISHINAGA HIROYUKI', 'IKEDA MASAMI', 2772],\n ['SUGAMA SADAYUKI', 'KASHINO TOSHIO', 2756],\n ['MASUDA KAZUAKI', 'IKEDA MASAMI', 2646],\n ['IKEDA MASAMI', 'ABE TSUTOMU', 2646],\n ['SUGITANI HIROSHI', 'IKEDA MASAMI', 2646],\n ['KUWABARA NOBUYUKI', 'IKEDA MASAMI', 2583],\n ['IKEDA MASAMI', 'HIRABAYASHI HIROMITSU', 2457],\n ['TAJIKA HIROSHI', 'IKEDA MASAMI', 2394],\n ['KASHINO TOSHIO', 'ISHINAGA HIROYUKI', 2332],\n ['SUGAMA SADAYUKI', 'ISHINAGA HIROYUKI', 2288],\n ['MASUDA KAZUAKI', 'KASHINO TOSHIO', 2226],\n ['KASHINO TOSHIO', 'ABE TSUTOMU', 2226],\n ['SUGITANI HIROSHI', 'KASHINO TOSHIO', 2226],\n ['SUGITANI HIROSHI', 'SUGAMA SADAYUKI', 2184],\n ['SUGAMA SADAYUKI', 'ABE TSUTOMU', 2184],\n ['SUGAMA SADAYUKI', 'MASUDA KAZUAKI', 2184],\n ['KUWABARA NOBUYUKI', 'KASHINO TOSHIO', 2173],\n ['SUGIMOTO HITOSHI', 'IKEDA MASAMI', 2142],\n ['SUGAMA SADAYUKI', 'KUWABARA NOBUYUKI', 2132],\n ['IKEDA MASAMI', 'AKIYAMA YUJI', 2079],\n ['ORIKASA TSUYOSHI', 'IKEDA MASAMI', 2079],\n ['KASHINO TOSHIO', 'HIRABAYASHI HIROMITSU', 2067],\n ['SUGAMA SADAYUKI', 'HIRABAYASHI HIROMITSU', 2028],\n ['SAIKAWA HIDEO', 'IKEDA MASAMI', 2016],\n ['TAJIKA HIROSHI', 'KASHINO TOSHIO', 2014],\n ['TAJIKA HIROSHI', 'SUGAMA SADAYUKI', 1976],\n ['KOTAKI YASUO', 'IKEDA MASAMI', 1953],\n ['IZUMIDA MASAAKI', 'IKEDA MASAMI', 1953],\n ['KOITABASHI NORIBUMI', 'IKEDA MASAMI', 1890],\n ['SHIMIZU EIICHIRO', 'IKEDA MASAMI', 1890],\n ['KARITA SEIICHIRO', 'IKEDA MASAMI', 1890],\n ['SUGITANI HIROSHI', 'ISHINAGA HIROYUKI', 1848],\n ['ISHINAGA HIROYUKI', 'ABE TSUTOMU', 1848],\n ['MASUDA KAZUAKI', 'ISHINAGA HIROYUKI', 1848],\n ['IKEDA MASAMI', 'HATTORI YOSHIFUMI', 1827],\n ['NAGOSHI SHIGEYASU', 'IKEDA MASAMI', 1827],\n ['IKEDA MASAMI', 'ARASHIMA TERUO', 1827],\n ['IKEDA MASAMI', 'HIGUMA MASAHIKO', 1827],\n ['MORIYAMA JIRO', 'IKEDA MASAMI', 1827],\n ['KUWABARA NOBUYUKI', 'ISHINAGA HIROYUKI', 1804],\n ['SUGIMOTO HITOSHI', 'KASHINO TOSHIO', 1802],\n ['SUGIMOTO HITOSHI', 'SUGAMA SADAYUKI', 1768],\n ['SEGAWA MASANORI', 'IKEDA MASAMI', 1764],\n ['LEE JU-HO', 'IKEDA MASAMI', 1764],\n ['IKEDA MASAMI', 'CHENG KANGGUO', 1764],\n ['SUGITANI HIROSHI', 'ABE TSUTOMU', 1764],\n ['TAKENOUCHI MASANORI', 'IKEDA MASAMI', 1764],\n ['SUGITANI HIROSHI', 'MASUDA KAZUAKI', 1764],\n ['TAKAHASHI KIICHIRO', 'IKEDA MASAMI', 1764],\n ['MASUDA KAZUAKI', 'ABE TSUTOMU', 1764],\n ['KIMURA MAKIKO', 'IKEDA MASAMI', 1764],\n ['ORIKASA TSUYOSHI', 'KASHINO TOSHIO', 1749],\n ['KASHINO TOSHIO', 'AKIYAMA YUJI', 1749],\n ['KUWABARA NOBUYUKI', 'ABE TSUTOMU', 1722],\n ['MASUDA KAZUAKI', 'KUWABARA NOBUYUKI', 1722],\n ['SUGITANI HIROSHI', 'KUWABARA NOBUYUKI', 1722],\n ['SUGAMA SADAYUKI', 'AKIYAMA YUJI', 1716],\n ['SUGAMA SADAYUKI', 'ORIKASA TSUYOSHI', 1716],\n ['ISHINAGA HIROYUKI', 'HIRABAYASHI HIROMITSU', 1716],\n ['SATO HIROSHI', 'IKEDA MASAMI', 1701],\n ['MATSUBARA MIYUKI', 'IKEDA MASAMI', 1701],\n ['YANO KENTARO', 'IKEDA MASAMI', 1701],\n ['NISHIMURA ASAO', 'IKEDA MASAMI', 1701],\n ['SAIKAWA HIDEO', 'KASHINO TOSHIO', 1696],\n ['TAJIKA HIROSHI', 'ISHINAGA HIROYUKI', 1672],\n ['SUGAMA SADAYUKI', 'SAIKAWA HIDEO', 1664],\n ['KOTAKI YASUO', 'KASHINO TOSHIO', 1643],\n ['KASHINO TOSHIO', 'IZUMIDA MASAAKI', 1643],\n ['YAGUCHI AKIHIRO', 'IKEDA MASAMI', 1638],\n ['HIRABAYASHI HIROMITSU', 'ABE TSUTOMU', 1638],\n ['SUGITANI HIROSHI', 'HIRABAYASHI HIROMITSU', 1638],\n ['OTSUKA NAOJI', 'IKEDA MASAMI', 1638],\n ['KIM JAE-YOEL', 'IKEDA MASAMI', 1638],\n ['MASUDA KAZUAKI', 'HIRABAYASHI HIROMITSU', 1638],\n ['SUGAMA SADAYUKI', 'IZUMIDA MASAAKI', 1612],\n ['SUGAMA SADAYUKI', 'KOTAKI YASUO', 1612],\n ['KUWABARA NOBUYUKI', 'HIRABAYASHI HIROMITSU', 1599],\n ['TAJIKA HIROSHI', 'SUGITANI HIROSHI', 1596],\n ['TAJIKA HIROSHI', 'ABE TSUTOMU', 1596],\n ['TAJIKA HIROSHI', 'MASUDA KAZUAKI', 1596],\n ['KASHINO TOSHIO', 'KARITA SEIICHIRO', 1590],\n ['SHIMIZU EIICHIRO', 'KASHINO TOSHIO', 1590],\n ['KOITABASHI NORIBUMI', 'KASHINO TOSHIO', 1590],\n ['KAWAI SUEO', 'IKEDA MASAMI', 1575],\n ['KWON HWAN-JOON', 'IKEDA MASAMI', 1575],\n ['KIKUCHI HIROSHI', 'IKEDA MASAMI', 1575],\n ['YAMANAKA AKIHIRO', 'IKEDA MASAMI', 1575],\n ['KOKAKU HIROYOSHI', 'IKEDA MASAMI', 1575],\n ['SAITO AKIO', 'IKEDA MASAMI', 1575],\n ['KUBOTA MASAHIKO', 'IKEDA MASAMI', 1575],\n ['SUGAMA SADAYUKI', 'KARITA SEIICHIRO', 1560],\n ['SUGAMA SADAYUKI', 'KOITABASHI NORIBUMI', 1560],\n ['SUGAMA SADAYUKI', 'SHIMIZU EIICHIRO', 1560],\n ['TAJIKA HIROSHI', 'KUWABARA NOBUYUKI', 1558],\n ['NAGOSHI SHIGEYASU', 'KASHINO TOSHIO', 1537],\n ['KASHINO TOSHIO', 'HATTORI YOSHIFUMI', 1537],\n ['KASHINO TOSHIO', 'ARASHIMA TERUO', 1537],\n ['MORIYAMA JIRO', 'KASHINO TOSHIO', 1537],\n ['KASHINO TOSHIO', 'HIGUMA MASAHIKO', 1537],\n ['VAN LIESHOUT GERT JAN', 'IKEDA MASAMI', 1512],\n ['WATANABE KENJIRO', 'IKEDA MASAMI', 1512],\n ['IKEDA MASAMI', 'GOTO AKIRA', 1512],\n ['VAN DER VELDE HIMKE', 'IKEDA MASAMI', 1512],\n ['IWASAKI OSAMU', 'IKEDA MASAMI', 1512],\n ['TSUBOSAKI KUNIHIRO', 'IKEDA MASAMI', 1512],\n ['MAEOKA KUNIHIKO', 'IKEDA MASAMI', 1512],\n ['IKEDA MASAMI', 'CHOI SUNG-HO', 1512],\n ['SATO KOICHI', 'IKEDA MASAMI', 1512],\n ['SUGAMA SADAYUKI', 'HIGUMA MASAHIKO', 1508],\n ['SUGAMA SADAYUKI', 'ARASHIMA TERUO', 1508],\n ['SUGAMA SADAYUKI', 'MORIYAMA JIRO', 1508],\n ['SUGAMA SADAYUKI', 'NAGOSHI SHIGEYASU', 1508],\n ['SUGAMA SADAYUKI', 'HATTORI YOSHIFUMI', 1508],\n ['SUGIMOTO HITOSHI', 'ISHINAGA HIROYUKI', 1496],\n ['KASHINO TOSHIO', 'CHENG KANGGUO', 1484],\n ['TAKENOUCHI MASANORI', 'KASHINO TOSHIO', 1484],\n ['TAKAHASHI KIICHIRO', 'KASHINO TOSHIO', 1484],\n ['KIMURA MAKIKO', 'KASHINO TOSHIO', 1484],\n ['SEGAWA MASANORI', 'KASHINO TOSHIO', 1484],\n ['LEE JU-HO', 'KASHINO TOSHIO', 1484],\n ['TAJIKA HIROSHI', 'HIRABAYASHI HIROMITSU', 1482],\n ['SUGAMA SADAYUKI', 'CHENG KANGGUO', 1456],\n ['TAKENOUCHI MASANORI', 'SUGAMA SADAYUKI', 1456],\n ['TAKAHASHI KIICHIRO', 'SUGAMA SADAYUKI', 1456],\n ['SUGAMA SADAYUKI', 'KIMURA MAKIKO', 1456],\n ['SUGAMA SADAYUKI', 'SEGAWA MASANORI', 1456],\n ['SUGAMA SADAYUKI', 'LEE JU-HO', 1456],\n ['ORIKASA TSUYOSHI', 'ISHINAGA HIROYUKI', 1452],\n ['ISHINAGA HIROYUKI', 'AKIYAMA YUJI', 1452],\n ['KASAMOTO MASAMI', 'IKEDA MASAMI', 1449],\n ['NAKAMURA SHOZO', 'IKEDA MASAMI', 1449],\n ['SAKO YOICHIRO', 'IKEDA MASAMI', 1449],\n ['INOUE HIROYUKI', 'IKEDA MASAMI', 1449],\n ['SAITO ASAO', 'IKEDA MASAMI', 1449],\n ['IKEDA MASAMI', 'ANJO ICHIRO', 1449],\n ['IKEDA MASAMI', 'GOTOH FUMIHIRO', 1449],\n ['YOSHIDA ISAMU', 'IKEDA MASAMI', 1449],\n ['IKEDA MASAMI', 'HOZOJI HIROSHI', 1449],\n ['KAWAI JUN', 'IKEDA MASAMI', 1449],\n ['IKEDA MASAMI', 'HASEBE AKIO', 1449],\n ['SAEKI JUNICHI', 'IKEDA MASAMI', 1449],\n ['NISHI KUNIHIKO', 'IKEDA MASAMI', 1449],\n ['KINJO NORIYUKI', 'IKEDA MASAMI', 1449],\n ['NISHIMURA ASAO', 'KASHINO TOSHIO', 1431],\n ['SATO HIROSHI', 'KASHINO TOSHIO', 1431],\n ['MATSUBARA MIYUKI', 'KASHINO TOSHIO', 1431],\n ['YANO KENTARO', 'KASHINO TOSHIO', 1431],\n ['SUGIMOTO HITOSHI', 'MASUDA KAZUAKI', 1428],\n ['SUGITANI HIROSHI', 'SUGIMOTO HITOSHI', 1428],\n ['SUGIMOTO HITOSHI', 'ABE TSUTOMU', 1428],\n ['SAIKAWA HIDEO', 'ISHINAGA HIROYUKI', 1408],\n ['YANO KENTARO', 'SUGAMA SADAYUKI', 1404],\n ['SUGAMA SADAYUKI', 'MATSUBARA MIYUKI', 1404],\n ['SUGAMA SADAYUKI', 'SATO HIROSHI', 1404],\n ['SUGAMA SADAYUKI', 'NISHIMURA ASAO', 1404],\n ['SUGIMOTO HITOSHI', 'KUWABARA NOBUYUKI', 1394],\n ['IMANAKA YOSHIYUKI', 'IKEDA MASAMI', 1386],\n ['MASUDA KAZUAKI', 'AKIYAMA YUJI', 1386],\n ['AKIYAMA YUJI', 'ABE TSUTOMU', 1386],\n ['OGATA MASATSUGU', 'IKEDA MASAMI', 1386],\n ['ORIKASA TSUYOSHI', 'ABE TSUTOMU', 1386],\n ['YAMADA AKITOSHI', 'IKEDA MASAMI', 1386],\n ['SUGITANI HIROSHI', 'AKIYAMA YUJI', 1386],\n ['ORIKASA TSUYOSHI', 'MASUDA KAZUAKI', 1386],\n ['SUGITANI HIROSHI', 'ORIKASA TSUYOSHI', 1386],\n ['IKEDA MASAMI', 'EGUCHI SYUUJI', 1386],\n ['KIM JAE-YOEL', 'KASHINO TOSHIO', 1378],\n ['YAGUCHI AKIHIRO', 'KASHINO TOSHIO', 1378],\n ['OTSUKA NAOJI', 'KASHINO TOSHIO', 1378],\n ['IZUMIDA MASAAKI', 'ISHINAGA HIROYUKI', 1364],\n ['KOTAKI YASUO', 'ISHINAGA HIROYUKI', 1364],\n ['KUWABARA NOBUYUKI', 'AKIYAMA YUJI', 1353],\n ['ORIKASA TSUYOSHI', 'KUWABARA NOBUYUKI', 1353],\n ['SUGAMA SADAYUKI', 'KIM JAE-YOEL', 1352],\n ['SUGAMA SADAYUKI', 'OTSUKA NAOJI', 1352],\n ['YAGUCHI AKIHIRO', 'SUGAMA SADAYUKI', 1352],\n ['SAIKAWA HIDEO', 'MASUDA KAZUAKI', 1344],\n ['SUGITANI HIROSHI', 'SAIKAWA HIDEO', 1344],\n ['SAIKAWA HIDEO', 'ABE TSUTOMU', 1344],\n ['SUGIMOTO HITOSHI', 'HIRABAYASHI HIROMITSU', 1326],\n ['KAWAI SUEO', 'KASHINO TOSHIO', 1325],\n ['KIKUCHI HIROSHI', 'KASHINO TOSHIO', 1325],\n ['YAMANAKA AKIHIRO', 'KASHINO TOSHIO', 1325],\n ['KWON HWAN-JOON', 'KASHINO TOSHIO', 1325],\n ['KOKAKU HIROYOSHI', 'KASHINO TOSHIO', 1325],\n ['KUBOTA MASAHIKO', 'KASHINO TOSHIO', 1325],\n ['SAITO AKIO', 'KASHINO TOSHIO', 1325],\n ['NISHIKORI HITOSHI', 'IKEDA MASAMI', 1323],\n ['VAN LIESHOUT GERT-JAN', 'IKEDA MASAMI', 1323],\n ['TAKEDA TOSHIHIKO', 'IKEDA MASAMI', 1323],\n ['KWAK YONG-JUN', 'IKEDA MASAMI', 1323],\n ['UJITA TOSHIHIKO', 'IKEDA MASAMI', 1323],\n ['INUI TOSHIHARU', 'IKEDA MASAMI', 1323],\n ['KAWADE HISAAKI', 'IKEDA MASAMI', 1323],\n ['WATANABE TAKASHI', 'IKEDA MASAMI', 1323],\n ['ZHANG JIANZHONG', 'IKEDA MASAMI', 1323],\n ['NOJIMA TAKASHI', 'IKEDA MASAMI', 1323],\n ['OKAZAKI TAKESHI', 'IKEDA MASAMI', 1323],\n ['LEE JUHO', 'IKEDA MASAMI', 1323],\n ['SHIMIZU EIICHIRO', 'ISHINAGA HIROYUKI', 1320],\n ['KARITA SEIICHIRO', 'ISHINAGA HIROYUKI', 1320],\n ['KOITABASHI NORIBUMI', 'ISHINAGA HIROYUKI', 1320],\n ['SAIKAWA HIDEO', 'KUWABARA NOBUYUKI', 1312],\n ['SUGITANI HIROSHI', 'IZUMIDA MASAAKI', 1302],\n ['SUGITANI HIROSHI', 'KOTAKI YASUO', 1302],\n ['IZUMIDA MASAAKI', 'ABE TSUTOMU', 1302],\n ['MASUDA KAZUAKI', 'IZUMIDA MASAAKI', 1302],\n ['MASUDA KAZUAKI', 'KOTAKI YASUO', 1302],\n ['KOTAKI YASUO', 'ABE TSUTOMU', 1302],\n ['SUGAMA SADAYUKI', 'KIKUCHI HIROSHI', 1300],\n ['SUGAMA SADAYUKI', 'KUBOTA MASAHIKO', 1300],\n ['SUGAMA SADAYUKI', 'KAWAI SUEO', 1300],\n ['SUGAMA SADAYUKI', 'KOKAKU HIROYOSHI', 1300],\n ['YAMANAKA AKIHIRO', 'SUGAMA SADAYUKI', 1300],\n ['SUGAMA SADAYUKI', 'SAITO AKIO', 1300],\n ['SUGAMA SADAYUKI', 'KWON HWAN-JOON', 1300],\n ['TAJIKA HIROSHI', 'SUGIMOTO HITOSHI', 1292],\n ['ORIKASA TSUYOSHI', 'HIRABAYASHI HIROMITSU', 1287],\n ['HIRABAYASHI HIROMITSU', 'AKIYAMA YUJI', 1287],\n ['NAGOSHI SHIGEYASU', 'ISHINAGA HIROYUKI', 1276],\n ['MORIYAMA JIRO', 'ISHINAGA HIROYUKI', 1276],\n ['ISHINAGA HIROYUKI', 'HATTORI YOSHIFUMI', 1276],\n ['ISHINAGA HIROYUKI', 'ARASHIMA TERUO', 1276],\n ['ISHINAGA HIROYUKI', 'HIGUMA MASAHIKO', 1276],\n ['VAN DER VELDE HIMKE', 'KASHINO TOSHIO', 1272],\n ['MAEOKA KUNIHIKO', 'KASHINO TOSHIO', 1272],\n ['KASHINO TOSHIO', 'GOTO AKIRA', 1272],\n ['KASHINO TOSHIO', 'IWASAKI OSAMU', 1272],\n ['TSUBOSAKI KUNIHIRO', 'KASHINO TOSHIO', 1272],\n ['KASHINO TOSHIO', 'CHOI SUNG-HO', 1272],\n ['VAN LIESHOUT GERT JAN', 'KASHINO TOSHIO', 1272],\n ['WATANABE KENJIRO', 'KASHINO TOSHIO', 1272],\n ['SATO KOICHI', 'KASHINO TOSHIO', 1272],\n ['KUWABARA NOBUYUKI', 'IZUMIDA MASAAKI', 1271],\n ['KUWABARA NOBUYUKI', 'KOTAKI YASUO', 1271],\n ['OZAKI TERUO', 'IKEDA MASAMI', 1260],\n ['SUGITANI HIROSHI', 'SHIMIZU EIICHIRO', 1260],\n ['SUZUKI HIDETOSHI', 'IKEDA MASAMI', 1260],\n ['KOITABASHI NORIBUMI', 'ABE TSUTOMU', 1260],\n ['KITANO MAKOTO', 'IKEDA MASAMI', 1260],\n ['KURABAYASHI YUTAKA', 'IKEDA MASAMI', 1260],\n ['SUGITANI HIROSHI', 'KARITA SEIICHIRO', 1260],\n ['NG BOON LOONG', 'IKEDA MASAMI', 1260],\n ['SHIMIZU EIICHIRO', 'ABE TSUTOMU', 1260],\n ['MASUDA KAZUAKI', 'KOITABASHI NORIBUMI', 1260],\n ['KARITA SEIICHIRO', 'ABE TSUTOMU', 1260],\n ['SHIMIZU EIICHIRO', 'MASUDA KAZUAKI', 1260],\n ['IKEDA MASAMI', 'DORIS BRUCE B', 1260],\n ['MASUDA KAZUAKI', 'KARITA SEIICHIRO', 1260],\n ['IKEDA MASAMI', 'ARAI ATSUSHI', 1260],\n ['SUGITANI HIROSHI', 'KOITABASHI NORIBUMI', 1260],\n ['TAJIKA HIROSHI', 'ORIKASA TSUYOSHI', 1254],\n ['TAJIKA HIROSHI', 'AKIYAMA YUJI', 1254],\n ['TSUBOSAKI KUNIHIRO', 'SUGAMA SADAYUKI', 1248],\n ['SUGAMA SADAYUKI', 'SATO KOICHI', 1248],\n ['SUGAMA SADAYUKI', 'IWASAKI OSAMU', 1248],\n ['SAIKAWA HIDEO', 'HIRABAYASHI HIROMITSU', 1248],\n ['SUGAMA SADAYUKI', 'CHOI SUNG-HO', 1248],\n ['SUGAMA SADAYUKI', 'MAEOKA KUNIHIKO', 1248],\n ['VAN LIESHOUT GERT JAN', 'SUGAMA SADAYUKI', 1248],\n ['WATANABE KENJIRO', 'SUGAMA SADAYUKI', 1248],\n ['SUGAMA SADAYUKI', 'GOTO AKIRA', 1248],\n ['VAN DER VELDE HIMKE', 'SUGAMA SADAYUKI', 1248],\n ['TAKENOUCHI MASANORI', 'ISHINAGA HIROYUKI', 1232],\n ['TAKAHASHI KIICHIRO', 'ISHINAGA HIROYUKI', 1232],\n ['ISHINAGA HIROYUKI', 'CHENG KANGGUO', 1232],\n ['KIMURA MAKIKO', 'ISHINAGA HIROYUKI', 1232],\n ['SEGAWA MASANORI', 'ISHINAGA HIROYUKI', 1232],\n ['LEE JU-HO', 'ISHINAGA HIROYUKI', 1232],\n ['SHIMIZU EIICHIRO', 'KUWABARA NOBUYUKI', 1230],\n ['KUWABARA NOBUYUKI', 'KARITA SEIICHIRO', 1230],\n ['KUWABARA NOBUYUKI', 'KOITABASHI NORIBUMI', 1230],\n ['NAKAMURA SHOZO', 'KASHINO TOSHIO', 1219],\n ['YOSHIDA ISAMU', 'KASHINO TOSHIO', 1219],\n ['SAITO ASAO', 'KASHINO TOSHIO', 1219],\n ['KAWAI JUN', 'KASHINO TOSHIO', 1219],\n ['KASHINO TOSHIO', 'KASAMOTO MASAMI', 1219],\n ['KASHINO TOSHIO', 'ANJO ICHIRO', 1219],\n ['KASHINO TOSHIO', 'GOTOH FUMIHIRO', 1219],\n ['SAEKI JUNICHI', 'KASHINO TOSHIO', 1219],\n ['KASHINO TOSHIO', 'INOUE HIROYUKI', 1219],\n ['KASHINO TOSHIO', 'HOZOJI HIROSHI', 1219],\n ['KINJO NORIYUKI', 'KASHINO TOSHIO', 1219],\n ['KASHINO TOSHIO', 'HASEBE AKIO', 1219],\n ['NISHI KUNIHIKO', 'KASHINO TOSHIO', 1219],\n ['SAKO YOICHIRO', 'KASHINO TOSHIO', 1219],\n ['MASUDA KAZUAKI', 'ARASHIMA TERUO', 1218],\n ['ARASHIMA TERUO', 'ABE TSUTOMU', 1218],\n ['SUGITANI HIROSHI', 'HATTORI YOSHIFUMI', 1218],\n ['NAGOSHI SHIGEYASU', 'ABE TSUTOMU', 1218],\n ['MORIYAMA JIRO', 'ABE TSUTOMU', 1218],\n ['HIGUMA MASAHIKO', 'ABE TSUTOMU', 1218],\n ['NAGOSHI SHIGEYASU', 'MASUDA KAZUAKI', 1218],\n ['SUGITANI HIROSHI', 'ARASHIMA TERUO', 1218],\n ['SUGITANI HIROSHI', 'MORIYAMA JIRO', 1218],\n ['SUGITANI HIROSHI', 'HIGUMA MASAHIKO', 1218],\n ['MORIYAMA JIRO', 'MASUDA KAZUAKI', 1218],\n ['HATTORI YOSHIFUMI', 'ABE TSUTOMU', 1218],\n ['MASUDA KAZUAKI', 'HATTORI YOSHIFUMI', 1218],\n ['SUGITANI HIROSHI', 'NAGOSHI SHIGEYASU', 1218],\n ['MASUDA KAZUAKI', 'HIGUMA MASAHIKO', 1218],\n ['TAJIKA HIROSHI', 'SAIKAWA HIDEO', 1216],\n ['KOTAKI YASUO', 'HIRABAYASHI HIROMITSU', 1209],\n ['IZUMIDA MASAAKI', 'HIRABAYASHI HIROMITSU', 1209],\n ['KIM SOENG-HUN', 'IKEDA MASAMI', 1197],\n ['KIM YOUNSUN', 'IKEDA MASAMI', 1197],\n ['IKEDA MASAMI', 'HWANG SUNG-OH', 1197],\n ['IKEDA MASAMI', 'CHOI HO-KYU', 1197],\n ['YOKOYAMA TAKASHI', 'IKEDA MASAMI', 1197],\n ['UETSUKI MASAYA', 'IKEDA MASAMI', 1197],\n ['IKEDA MASAMI', 'HAYASAKI KIMIYUKI', 1197],\n ['SUGAMA SADAYUKI', 'KASAMOTO MASAMI', 1196],\n ['SUGAMA SADAYUKI', 'SAEKI JUNICHI', 1196],\n ['SUGAMA SADAYUKI', 'KAWAI JUN', 1196],\n ['SUGAMA SADAYUKI', 'ANJO ICHIRO', 1196],\n ['SUGAMA SADAYUKI', 'HOZOJI HIROSHI', 1196],\n ['SUGAMA SADAYUKI', 'SAKO YOICHIRO', 1196],\n ['SUGAMA SADAYUKI', 'HASEBE AKIO', 1196],\n ['SUGAMA SADAYUKI', 'GOTOH FUMIHIRO', 1196],\n ['SUGAMA SADAYUKI', 'INOUE HIROYUKI', 1196],\n ['SUGAMA SADAYUKI', 'SAITO ASAO', 1196],\n ['SUGAMA SADAYUKI', 'NISHI KUNIHIKO', 1196],\n ['YOSHIDA ISAMU', 'SUGAMA SADAYUKI', 1196],\n ['SUGAMA SADAYUKI', 'NAKAMURA SHOZO', 1196],\n ['SUGAMA SADAYUKI', 'KINJO NORIYUKI', 1196],\n ['KUWABARA NOBUYUKI', 'HIGUMA MASAHIKO', 1189],\n ['KUWABARA NOBUYUKI', 'ARASHIMA TERUO', 1189],\n ['NAGOSHI SHIGEYASU', 'KUWABARA NOBUYUKI', 1189],\n ['KUWABARA NOBUYUKI', 'HATTORI YOSHIFUMI', 1189],\n ['MORIYAMA JIRO', 'KUWABARA NOBUYUKI', 1189],\n ['MATSUBARA MIYUKI', 'ISHINAGA HIROYUKI', 1188],\n ['YANO KENTARO', 'ISHINAGA HIROYUKI', 1188],\n ['NISHIMURA ASAO', 'ISHINAGA HIROYUKI', 1188],\n ['SATO HIROSHI', 'ISHINAGA HIROYUKI', 1188],\n ['TAJIKA HIROSHI', 'IZUMIDA MASAAKI', 1178],\n ['TAJIKA HIROSHI', 'KOTAKI YASUO', 1178],\n ['SEGAWA MASANORI', 'MASUDA KAZUAKI', 1176],\n ['TAKENOUCHI MASANORI', 'ABE TSUTOMU', 1176],\n ['SUGITANI HIROSHI', 'CHENG KANGGUO', 1176],\n ['MASUDA KAZUAKI', 'KIMURA MAKIKO', 1176],\n ['CHENG KANGGUO', 'ABE TSUTOMU', 1176],\n ['TAKAHASHI KIICHIRO', 'ABE TSUTOMU', 1176],\n ['MASUDA KAZUAKI', 'LEE JU-HO', 1176],\n ['TAKENOUCHI MASANORI', 'MASUDA KAZUAKI', 1176],\n ['TAKENOUCHI MASANORI', 'SUGITANI HIROSHI', 1176],\n ['TAKAHASHI KIICHIRO', 'MASUDA KAZUAKI', 1176],\n ['TAKAHASHI KIICHIRO', 'SUGITANI HIROSHI', 1176],\n ['SUGITANI HIROSHI', 'KIMURA MAKIKO', 1176],\n ['MASUDA KAZUAKI', 'CHENG KANGGUO', 1176],\n ['KIMURA MAKIKO', 'ABE TSUTOMU', 1176],\n ['SUGITANI HIROSHI', 'LEE JU-HO', 1176],\n ['SEGAWA MASANORI', 'ABE TSUTOMU', 1176],\n ['LEE JU-HO', 'ABE TSUTOMU', 1176],\n ['SUGITANI HIROSHI', 'SEGAWA MASANORI', 1176],\n ['KOITABASHI NORIBUMI', 'HIRABAYASHI HIROMITSU', 1170],\n ['SHIMIZU EIICHIRO', 'HIRABAYASHI HIROMITSU', 1170],\n ['KARITA SEIICHIRO', 'HIRABAYASHI HIROMITSU', 1170],\n ['KASHINO TOSHIO', 'EGUCHI SYUUJI', 1166],\n ['KASHINO TOSHIO', 'IMANAKA YOSHIYUKI', 1166],\n ['OGATA MASATSUGU', 'KASHINO TOSHIO', 1166],\n ['YAMADA AKITOSHI', 'KASHINO TOSHIO', 1166],\n ['KUWABARA NOBUYUKI', 'KIMURA MAKIKO', 1148],\n ['SEGAWA MASANORI', 'KUWABARA NOBUYUKI', 1148],\n ['LEE JU-HO', 'KUWABARA NOBUYUKI', 1148],\n ['KUWABARA NOBUYUKI', 'CHENG KANGGUO', 1148],\n ['TAKENOUCHI MASANORI', 'KUWABARA NOBUYUKI', 1148],\n ['TAKAHASHI KIICHIRO', 'KUWABARA NOBUYUKI', 1148],\n ['YAGUCHI AKIHIRO', 'ISHINAGA HIROYUKI', 1144],\n ['SUGAMA SADAYUKI', 'IMANAKA YOSHIYUKI', 1144],\n ['SUGAMA SADAYUKI', 'OGATA MASATSUGU', 1144],\n ['OTSUKA NAOJI', 'ISHINAGA HIROYUKI', 1144],\n ['KIM JAE-YOEL', 'ISHINAGA HIROYUKI', 1144],\n ['SUGAMA SADAYUKI', 'EGUCHI SYUUJI', 1144],\n ['YAMADA AKITOSHI', 'SUGAMA SADAYUKI', 1144],\n ['TAJIKA HIROSHI', 'KOITABASHI NORIBUMI', 1140],\n ['TAJIKA HIROSHI', 'SHIMIZU EIICHIRO', 1140],\n ['TAJIKA HIROSHI', 'KARITA SEIICHIRO', 1140],\n ['NOH HOONDONG', 'IKEDA MASAMI', 1134],\n ['NISHIMURA ASAO', 'ABE TSUTOMU', 1134],\n ['IKEDA MASAMI', 'CHO JOON-YOUNG', 1134],\n ['SATO HIROSHI', 'ABE TSUTOMU', 1134],\n ['SUGITANI HIROSHI', 'NISHIMURA ASAO', 1134],\n ['MATSUBARA MIYUKI', 'ABE TSUTOMU', 1134],\n ['KUDO KIYOMITSU', 'IKEDA MASAMI', 1134],\n ['YANO KENTARO', 'ABE TSUTOMU', 1134],\n ['IKEDA MASAMI', 'HAN JIN-KYU', 1134],\n ['SUGITANI HIROSHI', 'MATSUBARA MIYUKI', 1134],\n ['JEONG KYEONG-IN', 'IKEDA MASAMI', 1134],\n ['YANO KENTARO', 'MASUDA KAZUAKI', 1134],\n ['NISHIMURA ASAO', 'MASUDA KAZUAKI', 1134],\n ['PAPASAKELLARIOU ARIS', 'IKEDA MASAMI', 1134],\n ['OSADA YOSHIYUKI', 'IKEDA MASAMI', 1134],\n ['INOUE RYOJI', 'IKEDA MASAMI', 1134],\n ['SATO HIROSHI', 'MASUDA KAZUAKI', 1134],\n ['SUGITANI HIROSHI', 'SATO HIROSHI', 1134],\n ['MATSUBARA MIYUKI', 'MASUDA KAZUAKI', 1134],\n ['YANO KENTARO', 'SUGITANI HIROSHI', 1134],\n ['HIRABAYASHI HIROMITSU', 'HATTORI YOSHIFUMI', 1131],\n ['NAGOSHI SHIGEYASU', 'HIRABAYASHI HIROMITSU', 1131],\n ['MORIYAMA JIRO', 'HIRABAYASHI HIROMITSU', 1131],\n ['HIRABAYASHI HIROMITSU', 'HIGUMA MASAHIKO', 1131],\n ['HIRABAYASHI HIROMITSU', 'ARASHIMA TERUO', 1131],\n ['SUGIMOTO HITOSHI', 'ORIKASA TSUYOSHI', 1122],\n ['SUGIMOTO HITOSHI', 'AKIYAMA YUJI', 1122],\n ['NISHIKORI HITOSHI', 'KASHINO TOSHIO', 1113],\n ['KASHINO TOSHIO', 'INUI TOSHIHARU', 1113],\n ['UJITA TOSHIHIKO', 'KASHINO TOSHIO', 1113],\n ['TAKEDA TOSHIHIKO', 'KASHINO TOSHIO', 1113],\n ['KAWADE HISAAKI', 'KASHINO TOSHIO', 1113],\n ['KWAK YONG-JUN', 'KASHINO TOSHIO', 1113],\n ['NOJIMA TAKASHI', 'KASHINO TOSHIO', 1113],\n ['OKAZAKI TAKESHI', 'KASHINO TOSHIO', 1113],\n ['WATANABE TAKASHI', 'KASHINO TOSHIO', 1113],\n ['LEE JUHO', 'KASHINO TOSHIO', 1113],\n ['ZHANG JIANZHONG', 'KASHINO TOSHIO', 1113],\n ['VAN LIESHOUT GERT-JAN', 'KASHINO TOSHIO', 1113],\n ['NISHIMURA ASAO', 'KUWABARA NOBUYUKI', 1107],\n ['SATO HIROSHI', 'KUWABARA NOBUYUKI', 1107],\n ['MATSUBARA MIYUKI', 'KUWABARA NOBUYUKI', 1107],\n ['YANO KENTARO', 'KUWABARA NOBUYUKI', 1107],\n ['TAJIKA HIROSHI', 'NAGOSHI SHIGEYASU', 1102],\n ['TAJIKA HIROSHI', 'HATTORI YOSHIFUMI', 1102],\n ['TAJIKA HIROSHI', 'HIGUMA MASAHIKO', 1102],\n ['TAJIKA HIROSHI', 'ARASHIMA TERUO', 1102],\n ['TAJIKA HIROSHI', 'MORIYAMA JIRO', 1102],\n ['KAWAI SUEO', 'ISHINAGA HIROYUKI', 1100],\n ['KWON HWAN-JOON', 'ISHINAGA HIROYUKI', 1100],\n ['KIKUCHI HIROSHI', 'ISHINAGA HIROYUKI', 1100],\n ['KOKAKU HIROYOSHI', 'ISHINAGA HIROYUKI', 1100],\n ['KUBOTA MASAHIKO', 'ISHINAGA HIROYUKI', 1100],\n ['SAITO AKIO', 'ISHINAGA HIROYUKI', 1100],\n ['YAMANAKA AKIHIRO', 'ISHINAGA HIROYUKI', 1100],\n ['KIMURA MAKIKO', 'HIRABAYASHI HIROMITSU', 1092],\n ['SUGITANI HIROSHI', 'OTSUKA NAOJI', 1092],\n ['UJITA TOSHIHIKO', 'SUGAMA SADAYUKI', 1092],\n ['SUGAMA SADAYUKI', 'KAWADE HISAAKI', 1092],\n ['SUGAMA SADAYUKI', 'NOJIMA TAKASHI', 1092],\n ['SUGAMA SADAYUKI', 'NISHIKORI HITOSHI', 1092],\n ['WATANABE TAKASHI', 'SUGAMA SADAYUKI', 1092],\n ['SUGAMA SADAYUKI', 'OKAZAKI TAKESHI', 1092],\n ['KIM JAE-YOEL', 'ABE TSUTOMU', 1092],\n ['YAGUCHI AKIHIRO', 'ABE TSUTOMU', 1092],\n ['SUGAMA SADAYUKI', 'LEE JUHO', 1092],\n ['SUGAMA SADAYUKI', 'KWAK YONG-JUN', 1092],\n ['HIRABAYASHI HIROMITSU', 'CHENG KANGGUO', 1092],\n ['TAKENOUCHI MASANORI', 'HIRABAYASHI HIROMITSU', 1092],\n ['ZHANG JIANZHONG', 'SUGAMA SADAYUKI', 1092],\n ['TAKAHASHI KIICHIRO', 'HIRABAYASHI HIROMITSU', 1092],\n ['MASUDA KAZUAKI', 'KIM JAE-YOEL', 1092],\n ['VAN LIESHOUT GERT-JAN', 'SUGAMA SADAYUKI', 1092],\n ['YAGUCHI AKIHIRO', 'MASUDA KAZUAKI', 1092],\n ['OTSUKA NAOJI', 'ABE TSUTOMU', 1092],\n ['OTSUKA NAOJI', 'MASUDA KAZUAKI', 1092],\n ['YAGUCHI AKIHIRO', 'SUGITANI HIROSHI', 1092],\n ['SEGAWA MASANORI', 'HIRABAYASHI HIROMITSU', 1092],\n ['SUGITANI HIROSHI', 'KIM JAE-YOEL', 1092],\n ['LEE JU-HO', 'HIRABAYASHI HIROMITSU', 1092],\n ['TAKEDA TOSHIHIKO', 'SUGAMA SADAYUKI', 1092],\n ['SUGAMA SADAYUKI', 'INUI TOSHIHARU', 1092],\n ['ORIKASA TSUYOSHI', 'AKIYAMA YUJI', 1089],\n ['SUGIMOTO HITOSHI', 'SAIKAWA HIDEO', 1088],\n ['TANEYA YOICHI', 'IKEDA MASAMI', 1071],\n ['KANEDA AIZO', 'IKEDA MASAMI', 1071],\n ['OHBA TAKASHI', 'IKEDA MASAMI', 1071],\n ['KIM YOUN-SUN', 'IKEDA MASAMI', 1071],\n ['YAMAZAKI TAKASHI', 'IKEDA MASAMI', 1071],\n ['IKEDA MASAMI', 'ICHITANI MASAHIRO', 1071],\n ['YAMAMOTO HAJIME', 'IKEDA MASAMI', 1071],\n ['KASANUKI YUJI', 'IKEDA MASAMI', 1071],\n ['KANDA HIDEHIKO', 'IKEDA MASAMI', 1071],\n ['OSHIMA KAZUYOSHI', 'IKEDA MASAMI', 1071],\n ['REZNICEK ALEXANDER', 'IKEDA MASAMI', 1071],\n ['NAKAMURA TAKATOSHI', 'IKEDA MASAMI', 1071],\n ['SAITO ICHIRO', 'IKEDA MASAMI', 1071],\n ['IKEDA MASAMI', 'BAE TAEHAN', 1071],\n ['OSADA TORACHIKA', 'IKEDA MASAMI', 1071],\n ['KIM YOUNGBUM', 'IKEDA MASAMI', 1071],\n ['KATO MASAO', 'IKEDA MASAMI', 1071],\n ['KANEKO TETSUYA', 'IKEDA MASAMI', 1071],\n ['KOYAMA SHUJI', 'IKEDA MASAMI', 1071],\n ['NOMURA ICHIRO', 'IKEDA MASAMI', 1071],\n ['OSHIMA MITSUAKI', 'IKEDA MASAMI', 1071],\n ['PARK DONG-SEEK', 'IKEDA MASAMI', 1071],\n ['SATO SHINICHI', 'IKEDA MASAMI', 1071],\n ['TAKEHARA MITSURU', 'IKEDA MASAMI', 1071],\n ['OTSUKA NAOJI', 'KUWABARA NOBUYUKI', 1066],\n ['KUWABARA NOBUYUKI', 'KIM JAE-YOEL', 1066],\n ['YAGUCHI AKIHIRO', 'KUWABARA NOBUYUKI', 1066],\n ['TAJIKA HIROSHI', 'KIMURA MAKIKO', 1064],\n ['TAKENOUCHI MASANORI', 'TAJIKA HIROSHI', 1064],\n ['TAJIKA HIROSHI', 'LEE JU-HO', 1064],\n ['TAJIKA HIROSHI', 'SEGAWA MASANORI', 1064],\n ['TAKAHASHI KIICHIRO', 'TAJIKA HIROSHI', 1064],\n ['TAJIKA HIROSHI', 'CHENG KANGGUO', 1064],\n ['NG BOON LOONG', 'KASHINO TOSHIO', 1060],\n ['KURABAYASHI YUTAKA', 'KASHINO TOSHIO', 1060],\n ['KASHINO TOSHIO', 'DORIS BRUCE B', 1060],\n ['KITANO MAKOTO', 'KASHINO TOSHIO', 1060],\n ['OZAKI TERUO', 'KASHINO TOSHIO', 1060],\n ['KASHINO TOSHIO', 'ARAI ATSUSHI', 1060],\n ['SUZUKI HIDETOSHI', 'KASHINO TOSHIO', 1060],\n ['VAN DER VELDE HIMKE', 'ISHINAGA HIROYUKI', 1056],\n ['SAIKAWA HIDEO', 'AKIYAMA YUJI', 1056],\n ['IWASAKI OSAMU', 'ISHINAGA HIROYUKI', 1056],\n ['TSUBOSAKI KUNIHIRO', 'ISHINAGA HIROYUKI', 1056],\n ['SAIKAWA HIDEO', 'ORIKASA TSUYOSHI', 1056],\n ['ISHINAGA HIROYUKI', 'GOTO AKIRA', 1056],\n ['SATO KOICHI', 'ISHINAGA HIROYUKI', 1056],\n ['VAN LIESHOUT GERT JAN', 'ISHINAGA HIROYUKI', 1056],\n ['WATANABE KENJIRO', 'ISHINAGA HIROYUKI', 1056],\n ['ISHINAGA HIROYUKI', 'CHOI SUNG-HO', 1056],\n ['MAEOKA KUNIHIKO', 'ISHINAGA HIROYUKI', 1056],\n ['SUGIMOTO HITOSHI', 'IZUMIDA MASAAKI', 1054],\n ['SUGIMOTO HITOSHI', 'KOTAKI YASUO', 1054],\n ['YANO KENTARO', 'HIRABAYASHI HIROMITSU', 1053],\n ['NISHIMURA ASAO', 'HIRABAYASHI HIROMITSU', 1053],\n ['SATO HIROSHI', 'HIRABAYASHI HIROMITSU', 1053],\n ['MATSUBARA MIYUKI', 'HIRABAYASHI HIROMITSU', 1053],\n ['SUGITANI HIROSHI', 'SAITO AKIO', 1050],\n ['SUGITANI HIROSHI', 'KWON HWAN-JOON', 1050],\n ['YAMANAKA AKIHIRO', 'ABE TSUTOMU', 1050],\n ['KAWAI SUEO', 'ABE TSUTOMU', 1050],\n ['KWON HWAN-JOON', 'ABE TSUTOMU', 1050],\n ['KIKUCHI HIROSHI', 'ABE TSUTOMU', 1050],\n ['MASUDA KAZUAKI', 'KOKAKU HIROYOSHI', 1050],\n ['MASUDA KAZUAKI', 'KIKUCHI HIROSHI', 1050],\n ['KOKAKU HIROYOSHI', 'ABE TSUTOMU', 1050],\n ['KUBOTA MASAHIKO', 'ABE TSUTOMU', 1050],\n ['MASUDA KAZUAKI', 'KUBOTA MASAHIKO', 1050],\n ['MASUDA KAZUAKI', 'KAWAI SUEO', 1050],\n ['YAMANAKA AKIHIRO', 'MASUDA KAZUAKI', 1050],\n ['YAMANAKA AKIHIRO', 'SUGITANI HIROSHI', 1050],\n ['SAITO AKIO', 'ABE TSUTOMU', 1050],\n ['MASUDA KAZUAKI', 'KWON HWAN-JOON', 1050],\n ['SUGITANI HIROSHI', 'KOKAKU HIROYOSHI', 1050],\n ['SUGITANI HIROSHI', 'KIKUCHI HIROSHI', 1050],\n ['SAITO AKIO', 'MASUDA KAZUAKI', 1050],\n ['SUGITANI HIROSHI', 'KUBOTA MASAHIKO', 1050],\n ['SUGITANI HIROSHI', 'KAWAI SUEO', 1050],\n ['SUGAMA SADAYUKI', 'OZAKI TERUO', 1040],\n ['SUGAMA SADAYUKI', 'KURABAYASHI YUTAKA', 1040],\n ['SUGAMA SADAYUKI', 'KITANO MAKOTO', 1040],\n ['SUGAMA SADAYUKI', 'NG BOON LOONG', 1040],\n ['SUGAMA SADAYUKI', 'DORIS BRUCE B', 1040],\n ['SUZUKI HIDETOSHI', 'SUGAMA SADAYUKI', 1040],\n ['SUGAMA SADAYUKI', 'ARAI ATSUSHI', 1040],\n ['TAJIKA HIROSHI', 'SATO HIROSHI', 1026],\n ['YANO KENTARO', 'TAJIKA HIROSHI', 1026],\n ['TAJIKA HIROSHI', 'NISHIMURA ASAO', 1026],\n ['TAJIKA HIROSHI', 'MATSUBARA MIYUKI', 1026],\n ['SAITO AKIO', 'KUWABARA NOBUYUKI', 1025],\n ['KUWABARA NOBUYUKI', 'KOKAKU HIROYOSHI', 1025],\n ['KUWABARA NOBUYUKI', 'KIKUCHI HIROSHI', 1025],\n ['KUWABARA NOBUYUKI', 'KUBOTA MASAHIKO', 1025],\n ['YAMANAKA AKIHIRO', 'KUWABARA NOBUYUKI', 1025],\n ['KUWABARA NOBUYUKI', 'KAWAI SUEO', 1025],\n ['KWON HWAN-JOON', 'KUWABARA NOBUYUKI', 1025],\n ['KOTAKI YASUO', 'AKIYAMA YUJI', 1023],\n ['ORIKASA TSUYOSHI', 'IZUMIDA MASAAKI', 1023],\n ['ORIKASA TSUYOSHI', 'KOTAKI YASUO', 1023],\n ['IZUMIDA MASAAKI', 'AKIYAMA YUJI', 1023],\n ['SUGIMOTO HITOSHI', 'KOITABASHI NORIBUMI', 1020],\n ['SUGIMOTO HITOSHI', 'SHIMIZU EIICHIRO', 1020],\n ['SUGIMOTO HITOSHI', 'KARITA SEIICHIRO', 1020],\n ['KIM JAE-YOEL', 'HIRABAYASHI HIROMITSU', 1014],\n ['YAGUCHI AKIHIRO', 'HIRABAYASHI HIROMITSU', 1014],\n ['OTSUKA NAOJI', 'HIRABAYASHI HIROMITSU', 1014],\n ['ISHINAGA HIROYUKI', 'INOUE HIROYUKI', 1012],\n ['SAEKI JUNICHI', 'ISHINAGA HIROYUKI', 1012],\n ['KAWAI JUN', 'ISHINAGA HIROYUKI', 1012],\n ['NISHI KUNIHIKO', 'ISHINAGA HIROYUKI', 1012],\n ['KINJO NORIYUKI', 'ISHINAGA HIROYUKI', 1012],\n ['SAKO YOICHIRO', 'ISHINAGA HIROYUKI', 1012],\n ['KASAMOTO MASAMI', 'ISHINAGA HIROYUKI', 1012],\n ['ISHINAGA HIROYUKI', 'ANJO ICHIRO', 1012],\n ['ISHINAGA HIROYUKI', 'GOTOH FUMIHIRO', 1012],\n ['NAKAMURA SHOZO', 'ISHINAGA HIROYUKI', 1012],\n ['ISHINAGA HIROYUKI', 'HOZOJI HIROSHI', 1012],\n ['YOSHIDA ISAMU', 'ISHINAGA HIROYUKI', 1012],\n ['ISHINAGA HIROYUKI', 'HASEBE AKIO', 1012],\n ['SAITO ASAO', 'ISHINAGA HIROYUKI', 1012],\n ['SUGITANI HIROSHI', 'GOTO AKIRA', 1008],\n ['MASUDA KAZUAKI', 'IWASAKI OSAMU', 1008],\n ['VAN LIESHOUT GERT JAN', 'MASUDA KAZUAKI', 1008],\n ['VAN LIESHOUT GERT JAN', 'SUGITANI HIROSHI', 1008],\n ['MAEOKA KUNIHIKO', 'ABE TSUTOMU', 1008],\n ['MASUDA KAZUAKI', 'MAEOKA KUNIHIKO', 1008],\n ['SUGITANI HIROSHI', 'SATO KOICHI', 1008],\n ['WATANABE KENJIRO', 'MASUDA KAZUAKI', 1008],\n ['VAN DER VELDE HIMKE', 'ABE TSUTOMU', 1008],\n ['MASUDA KAZUAKI', 'CHOI SUNG-HO', 1008],\n ['TSUBOSAKI KUNIHIRO', 'ABE TSUTOMU', 1008],\n ['CHOI SUNG-HO', 'ABE TSUTOMU', 1008],\n ['KITABATAKE KENJI', 'IKEDA MASAMI', 1008],\n ['KIM TAEHYOUNG', 'IKEDA MASAMI', 1008],\n ['SHAN CHENG', 'IKEDA MASAMI', 1008],\n ['JACOBI CHRISTIAN', 'IKEDA MASAMI', 1008],\n ['VAN DER VELDE HIMKE', 'MASUDA KAZUAKI', 1008],\n ['SUGITANI HIROSHI', 'IWASAKI OSAMU', 1008],\n ['OSTROVERKHOV VICTOR PETROVICH', 'IKEDA MASAMI', 1008],\n ['WATANABE KENJIRO', 'SUGITANI HIROSHI', 1008],\n ['VAN DER VELDE HIMKE', 'SUGITANI HIROSHI', 1008],\n ['SUGITANI HIROSHI', 'MAEOKA KUNIHIKO', 1008],\n ['LEE KOOK-HEUI', 'IKEDA MASAMI', 1008],\n ['TSUKUDA KEIICHIRO', 'IKEDA MASAMI', 1008],\n ['MASUDA KAZUAKI', 'GOTO AKIRA', 1008],\n ['YAMANOBE MASATO', 'IKEDA MASAMI', 1008],\n ['SUGITANI HIROSHI', 'CHOI SUNG-HO', 1008],\n ['SATO KOICHI', 'ABE TSUTOMU', 1008],\n ['IKEDA MASAMI', 'HERSHEY JOHN ERIK', 1008],\n ['YANG CHIH-CHAO', 'IKEDA MASAMI', 1008],\n ['GOTO AKIRA', 'ABE TSUTOMU', 1008],\n ['KIM YOUNG-BUM', 'IKEDA MASAMI', 1008],\n ['TSUBOSAKI KUNIHIRO', 'MASUDA KAZUAKI', 1008],\n ['TSUBOSAKI KUNIHIRO', 'SUGITANI HIROSHI', 1008],\n ['MURAKAMI GEN', 'IKEDA MASAMI', 1008],\n ['VAN LIESHOUT GERT JAN', 'ABE TSUTOMU', 1008],\n ['SADANA DEVENDRA K', 'IKEDA MASAMI', 1008],\n ['KOIZUMI YUTAKA', 'IKEDA MASAMI', 1008],\n ['WATANABE KENJIRO', 'ABE TSUTOMU', 1008],\n ['SATO KOICHI', 'MASUDA KAZUAKI', 1008],\n ['IWASAKI OSAMU', 'ABE TSUTOMU', 1008],\n ['KASHINO TOSHIO', 'HWANG SUNG-OH', 1007],\n ['KASHINO TOSHIO', 'CHOI HO-KYU', 1007],\n ['YOKOYAMA TAKASHI', 'KASHINO TOSHIO', 1007],\n ['UETSUKI MASAYA', 'KASHINO TOSHIO', 1007],\n ['KASHINO TOSHIO', 'HAYASAKI KIMIYUKI', 1007],\n ['KIM SOENG-HUN', 'KASHINO TOSHIO', 1007],\n ['KIM YOUNSUN', 'KASHINO TOSHIO', 1007],\n ['SAIKAWA HIDEO', 'IZUMIDA MASAAKI', 992],\n ['SAIKAWA HIDEO', 'KOTAKI YASUO', 992],\n ['KOITABASHI NORIBUMI', 'AKIYAMA YUJI', 990],\n ['ORIKASA TSUYOSHI', 'KARITA SEIICHIRO', 990],\n ['SHIMIZU EIICHIRO', 'AKIYAMA YUJI', 990],\n ['SHIMIZU EIICHIRO', 'ORIKASA TSUYOSHI', 990],\n ['KARITA SEIICHIRO', 'AKIYAMA YUJI', 990],\n ['ORIKASA TSUYOSHI', 'KOITABASHI NORIBUMI', 990],\n ['SUGAMA SADAYUKI', 'CHOI HO-KYU', 988],\n ['TAJIKA HIROSHI', 'KIM JAE-YOEL', 988],\n ['SUGAMA SADAYUKI', 'KIM YOUNSUN', 988],\n ['YAGUCHI AKIHIRO', 'TAJIKA HIROSHI', 988],\n ['YOKOYAMA TAKASHI', 'SUGAMA SADAYUKI', 988],\n ['UETSUKI MASAYA', 'SUGAMA SADAYUKI', 988],\n ['SUGAMA SADAYUKI', 'HWANG SUNG-OH', 988],\n ['SUGAMA SADAYUKI', 'KIM SOENG-HUN', 988],\n ['TAJIKA HIROSHI', 'OTSUKA NAOJI', 988],\n ['SUGAMA SADAYUKI', 'HAYASAKI KIMIYUKI', 988],\n ['SUGIMOTO HITOSHI', 'ARASHIMA TERUO', 986],\n ['SUGIMOTO HITOSHI', 'MORIYAMA JIRO', 986],\n ['SUGIMOTO HITOSHI', 'NAGOSHI SHIGEYASU', 986],\n ['SUGIMOTO HITOSHI', 'HATTORI YOSHIFUMI', 986],\n ['SUGIMOTO HITOSHI', 'HIGUMA MASAHIKO', 986],\n ['KUWABARA NOBUYUKI', 'IWASAKI OSAMU', 984],\n ['SATO KOICHI', 'KUWABARA NOBUYUKI', 984],\n ['VAN LIESHOUT GERT JAN', 'KUWABARA NOBUYUKI', 984],\n ['KUWABARA NOBUYUKI', 'CHOI SUNG-HO', 984],\n ['WATANABE KENJIRO', 'KUWABARA NOBUYUKI', 984],\n ['MAEOKA KUNIHIKO', 'KUWABARA NOBUYUKI', 984],\n ['KUWABARA NOBUYUKI', 'GOTO AKIRA', 984],\n ['VAN DER VELDE HIMKE', 'KUWABARA NOBUYUKI', 984],\n ['TSUBOSAKI KUNIHIRO', 'KUWABARA NOBUYUKI', 984],\n ['KAWAI SUEO', 'HIRABAYASHI HIROMITSU', 975],\n ['KWON HWAN-JOON', 'HIRABAYASHI HIROMITSU', 975],\n ['KIKUCHI HIROSHI', 'HIRABAYASHI HIROMITSU', 975],\n ['YAMANAKA AKIHIRO', 'HIRABAYASHI HIROMITSU', 975],\n ['KOKAKU HIROYOSHI', 'HIRABAYASHI HIROMITSU', 975],\n ['KUBOTA MASAHIKO', 'HIRABAYASHI HIROMITSU', 975],\n ['SAITO AKIO', 'HIRABAYASHI HIROMITSU', 975],\n ['ISHINAGA HIROYUKI', 'EGUCHI SYUUJI', 968],\n ['OGATA MASATSUGU', 'ISHINAGA HIROYUKI', 968],\n ['ISHINAGA HIROYUKI', 'IMANAKA YOSHIYUKI', 968],\n ['YAMADA AKITOSHI', 'ISHINAGA HIROYUKI', 968],\n ['SUGITANI HIROSHI', 'KINJO NORIYUKI', 966],\n ['MASUDA KAZUAKI', 'HOZOJI HIROSHI', 966],\n ['NAKAMURA SHOZO', 'ABE TSUTOMU', 966],\n ['YOSHIDA ISAMU', 'ABE TSUTOMU', 966],\n ['MASUDA KAZUAKI', 'ANJO ICHIRO', 966],\n ['MASUDA KAZUAKI', 'GOTOH FUMIHIRO', 966],\n ['INOUE HIROYUKI', 'ABE TSUTOMU', 966],\n ['SAITO ASAO', 'ABE TSUTOMU', 966],\n ['MASUDA KAZUAKI', 'INOUE HIROYUKI', 966],\n ['SUGITANI HIROSHI', 'KASAMOTO MASAMI', 966],\n ['SUGITANI HIROSHI', 'NAKAMURA SHOZO', 966],\n ['SUGITANI HIROSHI', 'KAWAI JUN', 966],\n ['MASUDA KAZUAKI', 'HASEBE AKIO', 966],\n ['SAKO YOICHIRO', 'MASUDA KAZUAKI', 966],\n ['SAEKI JUNICHI', 'ABE TSUTOMU', 966],\n ['SAITO ASAO', 'MASUDA KAZUAKI', 966],\n ['SUGITANI HIROSHI', 'HOZOJI HIROSHI', 966],\n ['SUGITANI HIROSHI', 'SAKO YOICHIRO', 966],\n ['GOTOH FUMIHIRO', 'ABE TSUTOMU', 966],\n ['SUGITANI HIROSHI', 'SAEKI JUNICHI', 966],\n ['KAWAI JUN', 'ABE TSUTOMU', 966],\n ['SUGITANI HIROSHI', 'ANJO ICHIRO', 966],\n ['NAKAMURA SHOZO', 'MASUDA KAZUAKI', 966],\n ['SUGITANI HIROSHI', 'GOTOH FUMIHIRO', 966],\n ['SUGITANI HIROSHI', 'INOUE HIROYUKI', 966],\n ['YOSHIDA ISAMU', 'MASUDA KAZUAKI', 966],\n ['HOZOJI HIROSHI', 'ABE TSUTOMU', 966],\n ['YOSHIDA ISAMU', 'SUGITANI HIROSHI', 966],\n ['SUGITANI HIROSHI', 'SAITO ASAO', 966],\n ['MASUDA KAZUAKI', 'KINJO NORIYUKI', 966],\n ['SUGITANI HIROSHI', 'HASEBE AKIO', 966],\n ['NISHI KUNIHIKO', 'ABE TSUTOMU', 966],\n ['ANJO ICHIRO', 'ABE TSUTOMU', 966],\n ['KINJO NORIYUKI', 'ABE TSUTOMU', 966],\n ['SUGITANI HIROSHI', 'NISHI KUNIHIKO', 966],\n ['MASUDA KAZUAKI', 'KASAMOTO MASAMI', 966],\n ['HASEBE AKIO', 'ABE TSUTOMU', 966],\n ['MASUDA KAZUAKI', 'KAWAI JUN', 966],\n ['SAKO YOICHIRO', 'ABE TSUTOMU', 966],\n ['SAEKI JUNICHI', 'MASUDA KAZUAKI', 966],\n ['KASAMOTO MASAMI', 'ABE TSUTOMU', 966],\n ['NISHI KUNIHIKO', 'MASUDA KAZUAKI', 966],\n ['KOTAKI YASUO', 'IZUMIDA MASAAKI', 961],\n ['SAIKAWA HIDEO', 'KOITABASHI NORIBUMI', 960],\n ['SHIMIZU EIICHIRO', 'SAIKAWA HIDEO', 960],\n ['SAIKAWA HIDEO', 'KARITA SEIICHIRO', 960],\n ['NAGOSHI SHIGEYASU', 'AKIYAMA YUJI', 957],\n ['ARASHIMA TERUO', 'AKIYAMA YUJI', 957],\n ['ORIKASA TSUYOSHI', 'HIGUMA MASAHIKO', 957],\n ['ORIKASA TSUYOSHI', 'ARASHIMA TERUO', 957],\n ['HATTORI YOSHIFUMI', 'AKIYAMA YUJI', 957],\n ['ORIKASA TSUYOSHI', 'MORIYAMA JIRO', 957],\n ['MORIYAMA JIRO', 'AKIYAMA YUJI', 957],\n ['ORIKASA TSUYOSHI', 'NAGOSHI SHIGEYASU', 957],\n ['HIGUMA MASAHIKO', 'AKIYAMA YUJI', 957],\n ['ORIKASA TSUYOSHI', 'HATTORI YOSHIFUMI', 957],\n ['KASHINO TOSHIO', 'CHO JOON-YOUNG', 954],\n ['KASHINO TOSHIO', 'JEONG KYEONG-IN', 954],\n ['KASHINO TOSHIO', 'HAN JIN-KYU', 954],\n ['OSADA YOSHIYUKI', 'KASHINO TOSHIO', 954],\n ['PAPASAKELLARIOU ARIS', 'KASHINO TOSHIO', 954],\n ['KASHINO TOSHIO', 'INOUE RYOJI', 954],\n ['NOH HOONDONG', 'KASHINO TOSHIO', 954],\n ['KUDO KIYOMITSU', 'KASHINO TOSHIO', 954],\n ['TAKENOUCHI MASANORI', 'SUGIMOTO HITOSHI', 952],\n ['TAKAHASHI KIICHIRO', 'SUGIMOTO HITOSHI', 952],\n ['SUGIMOTO HITOSHI', 'KIMURA MAKIKO', 952],\n ['SUGIMOTO HITOSHI', 'SEGAWA MASANORI', 952],\n ['SUGIMOTO HITOSHI', 'LEE JU-HO', 952],\n ['SUGIMOTO HITOSHI', 'CHENG KANGGUO', 952],\n ['YAMANAKA AKIHIRO', 'TAJIKA HIROSHI', 950],\n ['TAJIKA HIROSHI', 'KOKAKU HIROYOSHI', 950],\n ['TAJIKA HIROSHI', 'KIKUCHI HIROSHI', 950],\n ['TAJIKA HIROSHI', 'KUBOTA MASAHIKO', 950],\n ['TAJIKA HIROSHI', 'KAWAI SUEO', 950],\n ['TAJIKA HIROSHI', 'SAITO AKIO', 950],\n ['TAJIKA HIROSHI', 'KWON HWAN-JOON', 950],\n ['SUGIYAMA HIROYUKI', 'IKEDA MASAMI', 945],\n ['LEE HYOJIN', 'IKEDA MASAMI', 945],\n ['MATSUMOTO HARUYUKI', 'IKEDA MASAMI', 945],\n ['YAMAMOTO AKIRA', 'IKEDA MASAMI', 945],\n ['IKEDA MASAMI', 'BUNKER RONALD SCOTT', 945],\n ['KWAK YOUNGWOO', 'IKEDA MASAMI', 945],\n ['TANAKA SHIGEAKI', 'IKEDA MASAMI', 945],\n ['MURAI KEIICHI', 'IKEDA MASAMI', 945],\n ['YAMAGUCHI HIDEKI', 'IKEDA MASAMI', 945],\n ['IKEDA MASAMI', 'FUKUSHIMA YOSHIHISA', 945],\n ['PARK SUNGJIN', 'IKEDA MASAMI', 945],\n ['IWASAKI TAKESHI', 'IKEDA MASAMI', 945],\n ['TAKIGUCHI TAKAO', 'IKEDA MASAMI', 945],\n ['IKEDA MASAMI', 'CHOI SEUNGHOON', 945],\n ['KUWABARA NOBUYUKI', 'HOZOJI HIROSHI', 943],\n ['KUWABARA NOBUYUKI', 'ANJO ICHIRO', 943],\n ['KUWABARA NOBUYUKI', 'GOTOH FUMIHIRO', 943],\n ['KUWABARA NOBUYUKI', 'INOUE HIROYUKI', 943],\n ['NISHI KUNIHIKO', 'KUWABARA NOBUYUKI', 943],\n ['SAKO YOICHIRO', 'KUWABARA NOBUYUKI', 943],\n ['KUWABARA NOBUYUKI', 'HASEBE AKIO', 943],\n ['NAKAMURA SHOZO', 'KUWABARA NOBUYUKI', 943],\n ['YOSHIDA ISAMU', 'KUWABARA NOBUYUKI', 943],\n ['KUWABARA NOBUYUKI', 'KINJO NORIYUKI', 943],\n ['SAITO ASAO', 'KUWABARA NOBUYUKI', 943],\n ['KUWABARA NOBUYUKI', 'KASAMOTO MASAMI', 943],\n ['SAEKI JUNICHI', 'KUWABARA NOBUYUKI', 943],\n ['KUWABARA NOBUYUKI', 'KAWAI JUN', 943],\n ['SUGAMA SADAYUKI', 'KUDO KIYOMITSU', 936],\n ['SUGAMA SADAYUKI', 'OSADA YOSHIYUKI', 936],\n ['SUGAMA SADAYUKI', 'NOH HOONDONG', 936],\n ['VAN DER VELDE HIMKE', 'HIRABAYASHI HIROMITSU', 936],\n ['SUGAMA SADAYUKI', 'JEONG KYEONG-IN', 936],\n ['IWASAKI OSAMU', 'HIRABAYASHI HIROMITSU', 936],\n ['HIRABAYASHI HIROMITSU', 'GOTO AKIRA', 936],\n ['SUGAMA SADAYUKI', 'HAN JIN-KYU', 936],\n ['SUGAMA SADAYUKI', 'INOUE RYOJI', 936],\n ['MAEOKA KUNIHIKO', 'HIRABAYASHI HIROMITSU', 936],\n ['TSUBOSAKI KUNIHIRO', 'HIRABAYASHI HIROMITSU', 936],\n ['HIRABAYASHI HIROMITSU', 'CHOI SUNG-HO', 936],\n ['SUGAMA SADAYUKI', 'PAPASAKELLARIOU ARIS', 936],\n ['SATO KOICHI', 'HIRABAYASHI HIROMITSU', 936],\n ['VAN LIESHOUT GERT JAN', 'HIRABAYASHI HIROMITSU', 936],\n ['SUGAMA SADAYUKI', 'CHO JOON-YOUNG', 936],\n ['WATANABE KENJIRO', 'HIRABAYASHI HIROMITSU', 936],\n ['KOITABASHI NORIBUMI', 'IZUMIDA MASAAKI', 930],\n ['SHIMIZU EIICHIRO', 'IZUMIDA MASAAKI', 930],\n ['SHIMIZU EIICHIRO', 'KOTAKI YASUO', 930],\n ['KARITA SEIICHIRO', 'IZUMIDA MASAAKI', 930],\n ['KOTAKI YASUO', 'KOITABASHI NORIBUMI', 930],\n ['KOTAKI YASUO', 'KARITA SEIICHIRO', 930],\n ['SAIKAWA HIDEO', 'ARASHIMA TERUO', 928],\n ['SAIKAWA HIDEO', 'MORIYAMA JIRO', 928],\n ['SAIKAWA HIDEO', 'HIGUMA MASAHIKO', 928],\n ['SAIKAWA HIDEO', 'NAGOSHI SHIGEYASU', 928],\n ['SAIKAWA HIDEO', 'HATTORI YOSHIFUMI', 928],\n ['LEE JU-HO', 'AKIYAMA YUJI', 924],\n ['KWAK YONG-JUN', 'ISHINAGA HIROYUKI', 924],\n ['ORIKASA TSUYOSHI', 'CHENG KANGGUO', 924],\n ['UJITA TOSHIHIKO', 'ISHINAGA HIROYUKI', 924],\n ['CHENG KANGGUO', 'AKIYAMA YUJI', 924],\n ['SUGITANI HIROSHI', 'IMANAKA YOSHIYUKI', 924],\n ['WATANABE TAKASHI', 'ISHINAGA HIROYUKI', 924],\n ['TAKENOUCHI MASANORI', 'AKIYAMA YUJI', 924],\n ['TAKAHASHI KIICHIRO', 'AKIYAMA YUJI', 924],\n ['OGATA MASATSUGU', 'MASUDA KAZUAKI', 924],\n ['YAMADA AKITOSHI', 'MASUDA KAZUAKI', 924],\n ['ZHANG JIANZHONG', 'ISHINAGA HIROYUKI', 924],\n ['YAMADA AKITOSHI', 'SUGITANI HIROSHI', 924],\n ['NOJIMA TAKASHI', 'ISHINAGA HIROYUKI', 924],\n ['OKAZAKI TAKESHI', 'ISHINAGA HIROYUKI', 924],\n ['MASUDA KAZUAKI', 'EGUCHI SYUUJI', 924],\n ['TAKENOUCHI MASANORI', 'ORIKASA TSUYOSHI', 924],\n ['EGUCHI SYUUJI', 'ABE TSUTOMU', 924],\n ['TAKAHASHI KIICHIRO', 'ORIKASA TSUYOSHI', 924],\n ['VAN LIESHOUT GERT-JAN', 'ISHINAGA HIROYUKI', 924],\n ['SUGITANI HIROSHI', 'OGATA MASATSUGU', 924],\n ['ISHINAGA HIROYUKI', 'INUI TOSHIHARU', 924],\n ['LEE JUHO', 'ISHINAGA HIROYUKI', 924],\n ['ORIKASA TSUYOSHI', 'KIMURA MAKIKO', 924],\n ['NISHIKORI HITOSHI', 'ISHINAGA HIROYUKI', 924],\n ['ORIKASA TSUYOSHI', 'LEE JU-HO', 924],\n ['OGATA MASATSUGU', 'ABE TSUTOMU', 924],\n ['MASUDA KAZUAKI', 'IMANAKA YOSHIYUKI', 924],\n ['IMANAKA YOSHIYUKI', 'ABE TSUTOMU', 924],\n ['SUGITANI HIROSHI', 'EGUCHI SYUUJI', 924],\n ['TAKEDA TOSHIHIKO', 'ISHINAGA HIROYUKI', 924],\n ['YAMADA AKITOSHI', 'ABE TSUTOMU', 924],\n ['KAWADE HISAAKI', 'ISHINAGA HIROYUKI', 924],\n ['KIMURA MAKIKO', 'AKIYAMA YUJI', 924],\n ['SEGAWA MASANORI', 'ORIKASA TSUYOSHI', 924],\n ['SEGAWA MASANORI', 'AKIYAMA YUJI', 924],\n ['SUGIMOTO HITOSHI', 'SATO HIROSHI', 918],\n ['YANO KENTARO', 'SUGIMOTO HITOSHI', 918],\n ['SUGIMOTO HITOSHI', 'NISHIMURA ASAO', 918],\n ['SUGIMOTO HITOSHI', 'MATSUBARA MIYUKI', 918],\n ['TAJIKA HIROSHI', 'CHOI SUNG-HO', 912],\n ['VAN DER VELDE HIMKE', 'TAJIKA HIROSHI', 912],\n ['TSUBOSAKI KUNIHIRO', 'TAJIKA HIROSHI', 912],\n ['TAJIKA HIROSHI', 'GOTO AKIRA', 912],\n ['TAJIKA HIROSHI', 'SATO KOICHI', 912],\n ['VAN LIESHOUT GERT JAN', 'TAJIKA HIROSHI', 912],\n ['TAJIKA HIROSHI', 'IWASAKI OSAMU', 912],\n ['WATANABE KENJIRO', 'TAJIKA HIROSHI', 912],\n ['TAJIKA HIROSHI', 'MAEOKA KUNIHIKO', 912],\n ['OGATA MASATSUGU', 'KUWABARA NOBUYUKI', 902],\n ['KUWABARA NOBUYUKI', 'EGUCHI SYUUJI', 902],\n ['YAMADA AKITOSHI', 'KUWABARA NOBUYUKI', 902],\n ['KUWABARA NOBUYUKI', 'IMANAKA YOSHIYUKI', 902],\n ['KASHINO TOSHIO', 'KANEKO TETSUYA', 901],\n ['KASHINO TOSHIO', 'ICHITANI MASAHIRO', 901],\n ['YAMAMOTO HAJIME', 'KASHINO TOSHIO', 901],\n ['KASHINO TOSHIO', 'KANEDA AIZO', 901],\n ['OSHIMA KAZUYOSHI', 'KASHINO TOSHIO', 901],\n ['KIM YOUNGBUM', 'KASHINO TOSHIO', 901],\n ['REZNICEK ALEXANDER', 'KASHINO TOSHIO', 901],\n ['NAKAMURA TAKATOSHI', 'KASHINO TOSHIO', 901],\n ['KATO MASAO', 'KASHINO TOSHIO', 901],\n ['SAITO ICHIRO', 'KASHINO TOSHIO', 901],\n ['KASHINO TOSHIO', 'BAE TAEHAN', 901],\n ['OSHIMA MITSUAKI', 'KASHINO TOSHIO', 901],\n ['OSADA TORACHIKA', 'KASHINO TOSHIO', 901],\n ['PARK DONG-SEEK', 'KASHINO TOSHIO', 901],\n ['KOYAMA SHUJI', 'KASHINO TOSHIO', 901],\n ['TANEYA YOICHI', 'KASHINO TOSHIO', 901],\n ['NOMURA ICHIRO', 'KASHINO TOSHIO', 901],\n ['OHBA TAKASHI', 'KASHINO TOSHIO', 901],\n ['KIM YOUN-SUN', 'KASHINO TOSHIO', 901],\n ['YAMAZAKI TAKASHI', 'KASHINO TOSHIO', 901],\n ['SATO SHINICHI', 'KASHINO TOSHIO', 901],\n ['TAKEHARA MITSURU', 'KASHINO TOSHIO', 901],\n ['KASHINO TOSHIO', 'KASANUKI YUJI', 901],\n ['KASHINO TOSHIO', 'KANDA HIDEHIKO', 901],\n ['KOITABASHI NORIBUMI', 'KARITA SEIICHIRO', 900],\n ['SHIMIZU EIICHIRO', 'KARITA SEIICHIRO', 900],\n ['SHIMIZU EIICHIRO', 'KOITABASHI NORIBUMI', 900],\n ['KOTAKI YASUO', 'ARASHIMA TERUO', 899],\n ['NAGOSHI SHIGEYASU', 'IZUMIDA MASAAKI', 899],\n ['NAGOSHI SHIGEYASU', 'KOTAKI YASUO', 899],\n ['KOTAKI YASUO', 'HIGUMA MASAHIKO', 899],\n ['MORIYAMA JIRO', 'IZUMIDA MASAAKI', 899],\n ['IZUMIDA MASAAKI', 'HATTORI YOSHIFUMI', 899],\n ['MORIYAMA JIRO', 'KOTAKI YASUO', 899],\n ['IZUMIDA MASAAKI', 'HIGUMA MASAHIKO', 899],\n ['KOTAKI YASUO', 'HATTORI YOSHIFUMI', 899],\n ['IZUMIDA MASAAKI', 'ARASHIMA TERUO', 899],\n ['SAKO YOICHIRO', 'HIRABAYASHI HIROMITSU', 897],\n ['KASAMOTO MASAMI', 'HIRABAYASHI HIROMITSU', 897],\n ['NAKAMURA SHOZO', 'HIRABAYASHI HIROMITSU', 897],\n ['YOSHIDA ISAMU', 'HIRABAYASHI HIROMITSU', 897],\n ['INOUE HIROYUKI', 'HIRABAYASHI HIROMITSU', 897],\n ['SAITO ASAO', 'HIRABAYASHI HIROMITSU', 897],\n ['KAWAI JUN', 'HIRABAYASHI HIROMITSU', 897],\n ['SAEKI JUNICHI', 'HIRABAYASHI HIROMITSU', 897],\n ['HIRABAYASHI HIROMITSU', 'ANJO ICHIRO', 897],\n ['NISHI KUNIHIKO', 'HIRABAYASHI HIROMITSU', 897],\n ['HIRABAYASHI HIROMITSU', 'GOTOH FUMIHIRO', 897],\n ['KINJO NORIYUKI', 'HIRABAYASHI HIROMITSU', 897],\n ['HOZOJI HIROSHI', 'HIRABAYASHI HIROMITSU', 897],\n ['HIRABAYASHI HIROMITSU', 'HASEBE AKIO', 897],\n ['SAIKAWA HIDEO', 'KIMURA MAKIKO', 896],\n ['SEGAWA MASANORI', 'SAIKAWA HIDEO', 896],\n ['SAIKAWA HIDEO', 'LEE JU-HO', 896],\n ['TAKENOUCHI MASANORI', 'SAIKAWA HIDEO', 896],\n ['SAIKAWA HIDEO', 'CHENG KANGGUO', 896],\n ['TAKAHASHI KIICHIRO', 'SAIKAWA HIDEO', 896],\n ['NISHIMURA ASAO', 'AKIYAMA YUJI', 891],\n ['SATO HIROSHI', 'AKIYAMA YUJI', 891],\n ['MATSUBARA MIYUKI', 'AKIYAMA YUJI', 891],\n ['ORIKASA TSUYOSHI', 'MATSUBARA MIYUKI', 891],\n ['YANO KENTARO', 'ORIKASA TSUYOSHI', 891],\n ['YANO KENTARO', 'AKIYAMA YUJI', 891],\n ['SATO HIROSHI', 'ORIKASA TSUYOSHI', 891],\n ['ORIKASA TSUYOSHI', 'NISHIMURA ASAO', 891],\n ['SUGAMA SADAYUKI', 'REZNICEK ALEXANDER', 884],\n ['SUGAMA SADAYUKI', 'OSHIMA MITSUAKI', 884],\n ['SUGIMOTO HITOSHI', 'KIM JAE-YOEL', 884],\n ['SUGAMA SADAYUKI', 'ICHITANI MASAHIRO', 884],\n ['SUGAMA SADAYUKI', 'OSADA TORACHIKA', 884],\n ['YAGUCHI AKIHIRO', 'SUGIMOTO HITOSHI', 884],\n ['SUGAMA SADAYUKI', 'SAITO ICHIRO', 884],\n ['TANEYA YOICHI', 'SUGAMA SADAYUKI', 884],\n ['SUGIMOTO HITOSHI', 'OTSUKA NAOJI', 884],\n ['SUGAMA SADAYUKI', 'NAKAMURA TAKATOSHI', 884],\n ['SUGAMA SADAYUKI', 'SATO SHINICHI', 884],\n ['SUGAMA SADAYUKI', 'BAE TAEHAN', 884],\n ['SUGAMA SADAYUKI', 'KIM YOUNGBUM', 884],\n ['SUGAMA SADAYUKI', 'KIM YOUN-SUN', 884],\n ['TAKEHARA MITSURU', 'SUGAMA SADAYUKI', 884],\n ['SUGAMA SADAYUKI', 'KASANUKI YUJI', 884],\n ['SUGAMA SADAYUKI', 'KANDA HIDEHIKO', 884],\n ['YAMAZAKI TAKASHI', 'SUGAMA SADAYUKI', 884],\n ['SUGAMA SADAYUKI', 'KANEKO TETSUYA', 884],\n ['SUGAMA SADAYUKI', 'NOMURA ICHIRO', 884],\n ['YAMAMOTO HAJIME', 'SUGAMA SADAYUKI', 884],\n ['SUGAMA SADAYUKI', 'OHBA TAKASHI', 884],\n ['SUGAMA SADAYUKI', 'KATO MASAO', 884],\n ['SUGAMA SADAYUKI', 'KANEDA AIZO', 884],\n ['SUGAMA SADAYUKI', 'PARK DONG-SEEK', 884],\n ['SUGAMA SADAYUKI', 'KOYAMA SHUJI', 884],\n ['SUGAMA SADAYUKI', 'OSHIMA KAZUYOSHI', 884],\n ['SUZUKI NORITAKE', 'IKEDA MASAMI', 882],\n ['IKEDA MASAMI', 'FUKUDA TSUGUHIRO', 882],\n ['IKEDA MASAMI', 'BASKER VEERARAGHAVAN S', 882],\n ['IKEDA MASAMI', 'ASUKAI MASAMICHI', 882],\n ['TAKEDA TOSHIHIKO', 'ABE TSUTOMU', 882],\n ['JANG JAE-HYUK', 'IKEDA MASAMI', 882],\n ['ZHANG JIANZHONG', 'SUGITANI HIROSHI', 882],\n ['KAWADE HISAAKI', 'ABE TSUTOMU', 882],\n ['MASUDA KAZUAKI', 'KAWADE HISAAKI', 882],\n ['INOUE MAKOTO', 'IKEDA MASAMI', 882],\n ['VAN LIESHOUT GERT-JAN', 'MASUDA KAZUAKI', 882],\n ['KWAK YONG-JUN', 'ABE TSUTOMU', 882],\n ['NAM YOUNG-HAN', 'IKEDA MASAMI', 882],\n ['MASUDA KAZUAKI', 'LEE JUHO', 882],\n ['VAN LIESHOUT GERT-JAN', 'SUGITANI HIROSHI', 882],\n ['IKEDA MASAMI', 'CHO JOON YOUNG', 882],\n ['SHIN CHEOLKYU', 'IKEDA MASAMI', 882],\n ['SUGITANI HIROSHI', 'NISHIKORI HITOSHI', 882],\n ['UJITA TOSHIHIKO', 'ABE TSUTOMU', 882],\n ['INUI TOSHIHARU', 'ABE TSUTOMU', 882],\n ['SUGITANI HIROSHI', 'INUI TOSHIHARU', 882],\n ['SUGITANI HIROSHI', 'KWAK YONG-JUN', 882],\n ['KHAKIFIROOZ ALI', 'IKEDA MASAMI', 882],\n ['WATANABE TAKASHI', 'ABE TSUTOMU', 882],\n ['NISHIKORI HITOSHI', 'MASUDA KAZUAKI', 882],\n ['IKEDA MASAMI', 'HINAMI JUN', 882],\n ['TOSHIMA HIROAKI', 'IKEDA MASAMI', 882],\n ['KAWATOKO NORIHIRO', 'IKEDA MASAMI', 882],\n ['SUGITANI HIROSHI', 'KAWADE HISAAKI', 882],\n ['SUGITANI HIROSHI', 'NOJIMA TAKASHI', 882],\n ['UJITA TOSHIHIKO', 'MASUDA KAZUAKI', 882],\n ['SUGITANI HIROSHI', 'OKAZAKI TAKESHI', 882],\n ['UJITA TOSHIHIKO', 'SUGITANI HIROSHI', 882],\n ['TAKEDA TOSHIHIKO', 'MASUDA KAZUAKI', 882],\n ['ZHANG JIANZHONG', 'ABE TSUTOMU', 882],\n ['TAKEDA TOSHIHIKO', 'SUGITANI HIROSHI', 882],\n ['LEWIS LARRY NEIL', 'IKEDA MASAMI', 882],\n ['ISONO AOJI', 'IKEDA MASAMI', 882],\n ['SUGITANI HIROSHI', 'LEE JUHO', 882],\n ['NOJIMA TAKASHI', 'ABE TSUTOMU', 882],\n ['OKAZAKI TAKESHI', 'ABE TSUTOMU', 882],\n ['WATANABE TAKASHI', 'MASUDA KAZUAKI', 882],\n ['VAN LIESHOUT GERT-JAN', 'ABE TSUTOMU', 882],\n ['LEE JUHO', 'ABE TSUTOMU', 882],\n ['YOSHIHIRA AYA', 'IKEDA MASAMI', 882],\n ['ISHIDA TAKASHI', 'IKEDA MASAMI', 882],\n ['PREMERLANI WILLIAM JAMES', 'IKEDA MASAMI', 882],\n ['ZHANG JIANZHONG', 'MASUDA KAZUAKI', 882],\n ...]"
     },
     "execution_count": 66,
     "metadata": {},
     "output_type": "execute_result"
    }
   ],
   "source": [
    "preds = list(nx.preferential_attachment(training,universe))\n",
    "pref_results=[]\n",
    "for u, v, p in preds:\n",
    "    pref_results.append([u,v,p])\n",
    "pref_results=sorted(pref_results,key=lambda x: x[2],reverse=True)\n",
    "pref_results"
   ],
   "metadata": {
    "collapsed": false,
    "ExecuteTime": {
     "end_time": "2024-01-15T18:47:16.690657400Z",
     "start_time": "2024-01-15T18:47:14.116624500Z"
    }
   }
  },
  {
   "cell_type": "code",
   "execution_count": 67,
   "outputs": [],
   "source": [
    "def intersect(result_1, result_2, dim, name):\n",
    "    print(f\"{name}\")\n",
    "    int_1_2=[]\n",
    "    count=0\n",
    "    for item_1 in result_1:\n",
    "        for item_2 in result_2:\n",
    "            if item_1[0]==item_2[0]:\n",
    "                int_1_2.append(item_1[0])\n",
    "                count+=1\n",
    "    print(set(int_1_2))\n",
    "    return int_1_2"
   ],
   "metadata": {
    "collapsed": false,
    "ExecuteTime": {
     "end_time": "2024-01-15T18:47:16.709360500Z",
     "start_time": "2024-01-15T18:47:16.684336700Z"
    }
   }
  },
  {
   "cell_type": "code",
   "execution_count": 68,
   "outputs": [],
   "source": [
    "def intersection(lst1, lst2): \n",
    "    lst3 = [value for value in lst1 if value in lst2] \n",
    "    return lst3 "
   ],
   "metadata": {
    "collapsed": false,
    "ExecuteTime": {
     "end_time": "2024-01-15T18:47:16.762805Z",
     "start_time": "2024-01-15T18:47:16.699297300Z"
    }
   }
  },
  {
   "cell_type": "code",
   "execution_count": 69,
   "outputs": [
    {
     "name": "stdout",
     "output_type": "stream",
     "text": [
      "AA vs CN\n",
      "{'DORIS BRUCE B', 'KWATRA SHIKHAR', 'ORIKASA TSUYOSHI', 'YAMAMOTO HAJIME', 'LJUNG RICKARD', 'KAWADE HISAAKI', 'OKUYAMA TOSHIAKI', 'TERAI HARUHIKO', 'KURABAYASHI YUTAKA', 'TAJIMA FUMIO', 'YANG KYEONG-CHEOL', 'KANAI MASAHIRO', 'OGAWA YOSHIHIRO', 'OWASHI HITOAKI', 'NOBUE TOMOTAKA', 'YEO JEONGHO', 'ZHENG XIAOQING', 'YONEMITSU JUN', 'TANEYA YOICHI', 'OTSUKA NAOJI', 'SUZUKI HIROSHI', 'NOWAK EDWARD J', 'VAN DER VELDE HIMKE', 'KAWASAKI OSAMU', 'TOBIN JAMES ROBERT', 'KENMOKU TAKASHI', 'MARTIN BRIAN ALEXANDER', 'YOSHIDA ISAMU', 'BEDELL STEPHEN W', 'LEE KOOK-HEUI', 'KISHORE KUNA VENKAT SATYA RAMA', 'KANG HYUN-JEONG', 'YAMAMOTO MASAYUKI', 'TAKAHASHI WATARU', 'HORAK DAVID V', 'YANG HAI', 'KASAMOTO MASAMI', 'KASAHARA SHUNICHI', 'MATSUDA HIROSHI', 'SATO HIROSHI', 'TAKAHASHI KOJI', 'HASZ WAYNE CHARLES', 'NAM YOUNG-HAN', 'MYERS GEOFFREY DAVID', 'MASUDA KAZUAKI', 'JOO PAN-YUH', 'NIWA TAKASHI', 'SETLUR ANANT ACHYUT', 'KAWAMURA HIROYUKI', 'SHOJI MAMORU', 'KANEDA AIZO', 'KUBOTA MASAHIKO', 'IWAMURA MASAHIRO', 'MAKINO KENICHI', 'LARSEN EINAR VAUGHN', 'KOKAKU HIROYOSHI', 'SEGAWA MASANORI', 'YAMAGUCHI TAKAAKI', 'ISONO AOJI', 'NISHIJIMA HIDEO', 'NOMURA ICHIRO', 'TAKEUCHI TOSHIFUMI', 'GOTO FUMITAKA', 'KAMATANI JUN', 'UESUGI MITSURU', 'KOIKE SHOJI', 'HASHEMI POUYA', 'UJITA TOSHIHIKO', 'KIM IL-KOO', 'HUANG SHYH-CHIN', 'TSUBOI NOBUYOSHI', 'OHNISHI TOSHIKAZU', 'LEOBANDUNG EFFENDI', 'NAKAMURA SHINICHI', 'INOUE HIROSHI', 'MANDELMAN JACK A', 'PARK KYUNG-MO', 'JOO SEONG-SIN', 'YANO TETSUYA', 'JUNG JUNG-SOO', 'CHOI BYEONG-DOO', 'SATO YOSHIO', 'DAUM WOLFGANG', 'TERADA MASAHIRO', 'YAMAMOTO MASANOBU', 'SAKAI KUNIHIRO', 'NOSE HIROYASU', 'MCCONNELEE PAUL ALAN', 'MIN JUNG-HYE', 'KIM YOUNGBUM', 'MAEHARA NAOYOSHI', 'SUZUKI KOICHI', 'ORLANDO ROBERT JOSEPH', 'YAMASHITA TENKO', 'TSUBOSAKI KUNIHIRO', 'TAJIKA HIROSHI', 'OSADA TORACHIKA', 'PARK DONG-SEEK', 'JOHNSON THOMAS EDWARD', 'HIRAI YUTAKA', 'CHEN WEI', 'LIPKIN DON MARK', 'KIMURA HIROYUKI', 'SHIMADA SATOSHI', 'OKAMOTO HIROO', 'SHIMOTANI MITSUO', 'XIE RUILONG', 'TAKANO HIROAKI', 'YAMADA NOBORU', 'EVANS SCOTT CHARLES', 'CHO JAE-WEON', 'JACKSON MELVIN ROBERT', 'LEE SUNG-JIN', 'ISHIHARA HIDESHI', 'YAMAGUCHI HIDEKI', 'FURUKAWA SHUNSUKE', 'TSUCHIYA KENJI', 'OGINO MASAHIKO', 'CARTER WILLIAM THOMAS', 'VONDRELL RANDY M', 'XU LIXIANG', 'PI ZHOUYUE', 'TSUGA KAZUHIRO', 'SLEGEL TIMOTHY', 'LEE JU HO', 'YOON SOON-YOUNG', 'INOUE MASAYUKI', 'LEE TAMMY', 'JIANG MINGXIAO', 'KUNIMOTO KEIJIRO', 'KIM YOUN-SUN', 'HIGUMA MASAHIKO', 'DENG ZHIGANG', 'KONNO YUJI', 'IWAKI TSUTOMU', 'MURAI KEIICHI', 'FUJINAMI YASUSHI', 'MISUMI TERUO', 'SHI XIAOLEI', 'PENG WENQING', 'MATSUDA SHINPEI', 'AZUHATA SHIGERU', 'OSTROVERKHOV VICTOR PETROVICH', 'KIDA AKIRA', 'KIM YOUNSUN', 'HAYASHI KAZUNORI', 'ONO MITSUHIRO', 'MATSUNAMI NAOTO', 'YANG CHIH-CHAO', 'TAKIGUCHI TAKAO', 'WANG JUNLI', 'HASEBE TAKUMI', 'TOLLISON BRIAN LEE', 'MIYAWAKI MAMORU', 'SONG JAE-YEON', 'SUZUKI NORITAKE', 'KIM JEEHWAN', 'ONGGOSANUSI EKO', 'SAKAI YOSHIO', 'MOROOKA YASUO', 'SATO MAKOTO', 'CHOI HO-KYU', 'SUGITANI HIROSHI', 'WEI BIN', 'MORIYA YOSHIMI', 'SUGIMOTO HITOSHI', 'NAKANE SHINICHI', 'VAN LIESHOUT GERT-JAN', 'GOTO FUMIHIRO', 'RYU HYUNSEOK', 'GAINEY JR CHARLES W', 'PONOTH SHOM', 'FUKUSHIMA ISAO', 'JOSHI NARENDRA DIGAMBER', 'NG BOON LOONG', 'CUI YAN', 'PRENTICE IAN FRANCIS', 'MATSUDA HIROMU', 'LEE KYUNG-GEUN', 'YAMADA MAKOTO', 'SAKAMAKI HISASHI', 'TAKAHASHI KATSUHIRO', 'NAGASE HIROSHI', 'YANG HYUN-KOO', 'GAMBINO JEFFREY P', 'MIURA HIDEO', 'HAN JIN-KYU', 'ITO MOTOSHI', 'LI YING', 'GSCHWIND MICHAEL KARL', 'YAMAMOTO KATSUHIKO', 'KIM SANG-BUM', 'MURPHY JAMES EDWARD', 'LIU YUNFENG', 'TESHIGAWARA MINORU', 'HERSHEY JOHN ERIK', 'WATANABE HIROSHI', 'TERAUCHI TOSHIRO', 'YANAGISAWA YOSHIHIRO', 'SATO KOICHI', 'MURAI RYUICHI', 'TODOKORO YASUYUKI', 'CHOI SUNG-HO', 'KHAN FAROOQ', 'SCHEP CORNELIS MARINUS', 'GUO XIN', 'TANNO KOICHI', 'WAKABAYASHI HIDEJI', 'COLBURN MATTHEW E', 'MORITA AYUMU', 'TOYOGUCHI YOSHINORI', 'MAEOKA KUNIHIKO', 'NISHIKAWA AKIO', 'SHIBATA AKIRA', 'WAJIMA MOTOYO', 'RITTER ALLEN MICHAEL', 'BOSS GREGORY J', 'SAITO ICHIRO', 'BASKER VEERARAGHAVAN S', 'OKADA SHINJIRO', 'EDELSTEIN DANIEL C', 'UETSUKI MASAYA', 'KATO MOTOKI', 'MIYATA MASANORI', 'SATO SHINICHI', 'GREINER DAN', 'DELVAUX JOHN MCCONNELL', 'MISHINA SHINYA', 'SHUM CHUNG-LUNG K', 'LIM CHI-WOO', 'COOPER JARED KLINEMAN', 'NAGAI TAKESHI', 'TOSHIMA HIROAKI', 'ONO TAKEO', 'HWANG SUNG-HEE', 'CHAN DAVID SO KEUNG', 'TANAKA KENJI', 'SEKI SATOSHI', 'HIRABAYASHI HIROMITSU', 'NISHIKORI HITOSHI', 'DAROLIA RAMGOPAL', 'YEH CHUN-CHEN', 'HAMADA TOSHIYA', 'MATSUMOTO HARUYUKI', 'TANI ATSUSHI', 'SANO AKANE', 'SAPORITO ANTHONY', 'MIYAZAKI TOSHIHIKO', 'INOUE HIROYUKI', 'OZAKI TERUO', 'NOH HOONDONG', 'KIM SANGBUM', 'MONIZ THOMAS ORY', 'NAKAYA HIDEO', 'SAKO YOICHIRO', 'WATANABE TAKEJI', 'IMAMURA TAKESHI', 'OSHIMA MITSUAKI', 'KANEKO SATOSHI', 'YONEDA KENJI', 'ODAGIRI MASARU', 'MELTON PATRICK BENEDICT', 'LEE HYOJIN', 'KAMIYAMA YUJI', 'KANBE JUNICHIRO', 'VENKATARAMANI VENKAT SUBRAMANIAM', 'CHENG KANGGUO', 'STOIA LUCAS JOHN', 'SASANO AKIRA', 'SHIMA HISATO', 'SAITO KEISHI', 'TOMOSADA MASAHIRO', 'TAKENAKA KATSURO', 'PARK SUNG-WOOK', 'KIMURA MAKIKO', 'LU SU', 'MORRILL DANIEL LAWRENCE', 'KINJO NORIYUKI', 'RADENS CARL J', 'MATSUBARA MIYUKI', 'LEE JUHO', 'YOSHIDA TADAO', 'HONDA KAZUYOSHI', 'REN ZHIYUAN', 'TAKAHASHI KENJI', 'BRAY JAMES WILLIAM', 'SHIRAI TAIZO', 'YAMANAKA AKIHIRO', 'SAITO ASAO', 'NARAYANAN VIJAY', 'SUZUKI TERUHIKO', 'MORIWAKI YOSHIO', 'LEE CHING-PANG', 'BEKKI TOSHIHIKO', 'NAKAMURA ATSUSHI', 'TAKAHASHI KIICHIRO', 'SUGAMA SADAYUKI', 'COMANZO HOLLY ANN', 'SHAHIDI GHAVAM G', 'SAIKAWA HIDEO', 'GERSTLER WILLIAM DWIGHT', 'LIE FEE LI', 'NOGUCHI KOJI', 'YANO KENTARO', 'WOLFE CHRISTOPHER EDWARD', 'NAGOSHI SHIGEYASU', 'SHAN CHENG', 'NASHIDA TATSUSHI', 'SEALING CHARLES SCOTT', 'IMAIDE TAKUYA', 'KOOL LAWRENCE BERNARD', 'YAMAMOTO KAZUHISA', 'KOTAKI YASUO', 'IZUMIDA MASAAKI', 'YUN SUNG-RYUL', 'TANGE AKIRA', 'STEVENSON CHRISTIAN XAVIER', 'LEE HYUN-WOO', 'PARK IN-SIK', 'NOGUCHI TAKAHARU', 'YAMADA NAOKI', 'HAYASHI HIROKI', 'LAWRENCE BRIAN LEE', 'KAWAI SUEO', 'WELLES KENNETH BRAKELEY', 'SUZUKI HIDETOSHI', 'OGINO HIROYUKI', 'MATSUZAKI HARUMI', 'OSHIMA KAZUYOSHI', 'NISHIUCHI KENICHI', 'GLYNN CHRISTOPHER CHARLES', 'PICKETT JAMES EDWARD', 'KOBAYASHI MASAHARU', 'MILLER BRANDON WAYNE', 'SHIN CHEOLKYU', 'KASUYA TAKASHIGE', 'NOJIMA TAKASHI', 'MURASE KAORU', 'BODEN EUGENE PAULING', 'ARA YOJI', 'HINAMI JUN', 'HOFER DOUGLAS CARL', 'REZNICEK ALEXANDER', 'LACY BENJAMIN PAUL', 'MATSUDA YASUMASA', 'KURODA SHINICHI', 'IMANAKA YOSHIYUKI', 'KANEKO TETSUYA', 'SUGIMOTO KAZUO', 'ISHINAGA HIROYUKI', 'KASANUKI YUJI', 'DAVIS GARY CHARLES', 'YEAGER GARY WILLIAM', 'NAITO TAKASHI', 'NISHINO ATSUSHI', 'KRAY NICHOLAS JOSEPH', \"O'CONNELL BRIAN M\", 'LORRAINE PETER WILLIAM', 'YAMANO IKUO', 'KOBAYASHI SHOEI', 'CHANG YOUNG-BIN', 'SATO MASAHIKO', 'MCCLOSKEY PATRICK JOSEPH', 'FOX JEREMY R', 'CHIDAMBARRAO DURESETI', 'STANDAERT THEODORUS E', 'JEONG HONG-SIL', 'TURNQUIST NORMAN ARNOLD', 'MIYOSHI KENICHI', 'RUUD JAMES ANTHONY', 'NANJO TATSUO', 'KUWABARA NOBUYUKI', 'IGAWA SATOSHI', 'ITZEL GARY MICHAEL', 'YOSHIHIRA AYA', 'DAVIS JR LEWIS BERKLEY', 'ROSS JOHN ANDERSON FERGUS', 'MIYAMOTO HARUKAZU', 'KIM JAE-YOEL', 'NAKAGAMI OHJI', 'HATTORI YOSHIFUMI', 'WALKER KEITH R', 'SHINJO KENJI', 'SHIRAI SHIGERU', 'MIYAJIMA YASUSHI', 'ISHIKAWA TOMOKAZU', 'KARITA SEIICHIRO', 'MAEDA TAKESHI', 'LYONS ROBERT JOSEPH', 'PAPASAKELLARIOU ARIS', 'SAITOH AKIHITO', 'TSUDA SHINICHIRO', 'JEONG KYEONGIN', 'SHIMIZU EIICHIRO', 'TIBBETTS NICOLE JESSICA', 'SUZUKI AKIO', 'OKAZAKI TAKESHI', 'KRAELING MARK BRADSHAW', 'ISHIBASHI HIROMICHI', 'KANDA HIDEHIKO', 'TSUBOYAMA AKIRA', 'GOTOH FUMIHIRO', 'KUMAR AJITH KUTTANNAIR', 'NISHIMURA YUKIO', 'SHAFFER GLENN ROBERT', 'TAKAHASHI SANKICHI', 'VAN DAM JEREMY DANIEL', 'SUGIURA NOBORU', 'SUGIYAMA HIROYUKI', 'MURAKAMI GEN', 'YONEHARA TAKAO', 'KRAEMER GILBERT OTTO', 'KAWAKAMI HIDEAKI', 'OKADA TOMOYUKI', 'HSU LOUIS L', 'SRIVASTAVA ALOK MANI', 'NAKAGAWA KATSUMI', 'NAGARAJ BANGALORE ASWATHA', 'TOMIZAWA TAKESHI', 'SCHMIDT DONALD WILLIAM', 'EKAMBARAM VIJAY', 'KONDO TETSUJIRO', 'SLEIGHT JEFFREY W', 'FANG BIAO', 'GREINER DAN F', 'RUTKOWSKI STEPHEN FRANCIS', 'NAKAMURA KAZUHIKO', 'IKEDA MASAMI', 'NISHIMURA ASAO', 'MURROW KURT DAVID', 'GHASRIPOOR FARSHAD', 'DALTON TIMOTHY J', 'SADANA DEVENDRA K', 'ISHIDA TAKASHI', 'TAKEMURA YOSHINARI', 'JANG JAE HYUK', 'SCHMIDT DONALD W', 'YOON DU-SEOP', 'IWASAKI OSAMU', 'CHAN KWOK PONG', 'KOZLOSKI JAMES R', 'ZHANG JIANZHONG', 'SASAYAMA TAKAO', 'KOZUKA MASAYUKI', 'YAEGASHI HISAO', 'EBISAWA ISAO', 'TATEBAYASHI MAKOTO', 'SEKIGUCHI SHUNICHI', 'NAKAZAWA IKUO', 'CHILA RONALD JAMES', 'CLEVENGER LAWRENCE A', 'SUBRAMANIAN KANAKASABAPATHI', 'UEDA SHIGEKI', 'LEE HYEON-WOO', 'BAUGHMAN AARON K', 'MOCHIZUKI MUGA', 'STAMPER ANTHONY K', 'LI JUNTAO', 'NISHI KUNIHIKO', 'HAMILTON II RICK A', 'UHM JONG HO', 'LIU JIE', 'SLEGEL TIMOTHY J', 'FUKUSHIMA TAKASHI', 'NISHIDE YOSUKE', 'SHAH MANOJ RAMPRASAD', 'MCMAHAN KEVIN WESTON', 'YAZAWA TAKESHI', 'RUBINSZTAJN SLAWOMIR', 'KANOTA KEIJI', 'NAGANO TAKAHIRO', 'YAMASHITA MASATAKA', 'OKINO AYATOMO', 'KAWATOKO NORIHIRO', 'NAGASHIMA TOSHIAKI', 'KATAGIRI KAZUHARU', 'HATTORI SHINOBU', 'RAKSHIT SARBAJIT K', 'YAMADA AKITOSHI', 'MYUNG SEHO', 'HERR STEFAN', 'MURAKAMI HAJIME', 'KIM TAEHYOUNG', 'SATOH ISAO', 'TANAKA SHIGEAKI', 'KIM SANG BUM', 'GOTO AKIRA', 'MIYAGAWA MASASHI', 'KITANO MAKOTO', 'KOSHIKAWA HIROSHI', 'ROBERTS HERBERT CHIDSEY', 'ZHANG HUA', 'YAMADA KAZUJI', 'YAGASAKI YOICHI', 'KWON HWAN-JOON', 'SAWAI YUICHI', 'LIN DECHAO', 'KATAYAMA AKIHIRO', 'JEONG KYEONG-IN', 'JANG JAEHYUK', 'AOTA KINYA', 'YAMASHITA HISAO', 'HARUTA MASAHIRO', 'KESHAVAN HRISHIKESH', 'OGAWA TOSHIO', 'KON TAKAYASU', 'CHOI SEUNG-HOON', 'WORDEN BRET DWAYNE', 'INOUE RYOJI', 'SEXTON DANIEL WHITE', 'INOUE MAKOTO', 'LEE HAK-JU', 'MARU AKIKO', 'KIM SOENGHUN', 'ISOGAI TOKIO', 'HAN JIN KYU', 'KOBAYASHI MASAAKI', 'SASAKI HIROSHI', 'YOKOYAMA TAKASHI', 'KAWADA HARUKI', 'KWAK YONG-JUN', 'WATANABE TSUTOMU', 'OHASHI TETSUYA', 'LEWIS LARRY NEIL', 'JI HYOUNG-JU', 'GALLUCCI ROBERT RUSSELL', 'KLODOWSKI ANTHONY MICHAEL', 'KIM SOENG HUN', 'KOO CHANG-HOI', 'WATANABE KENJIRO', 'TANAKA MASATO', 'CHO JOON YOUNG', 'TAKEDA TOSHIHIKO', 'NAKAMURA HITOSHI', 'KANAKASABAPATHY SIVANANDA K', 'NAGAI AKIRA', 'KANEVSKY DIMITRI', 'SHIMIZU ISAMU', 'SASAKI TORU', 'CELLA JAMES ANTHONY', 'KAWAI JUN', 'LANG STEFFEN', 'SCHNETZKA HAROLD ROBERT', 'SAITO AKIO', 'OHBA TAKASHI', 'MORIYAMA JIRO', 'KUGIYA FUMIO', 'LEE SUN-IL', 'SCIPIO ALSTON ILFORD', 'MORIOKA YUICHI', 'NAKAMURA KIYOSHI', 'KOITABASHI NORIBUMI', 'WANG YU', 'SAITO TAKASHI', 'TRIM CRAIG M', 'ZIMINSKY WILLY STEVE', 'FARRELL MARK S', 'TAKAHASHI TADASHI', 'WANG XUEFENG', 'SAITO HIROYUKI', 'KULKARNI AMBARISH JAYANT', 'IWASAKI TAKESHI', 'SUZUKI TAKASHI', 'RITTER ANN MELINDA', 'TSUKUDA KEIICHIRO', 'KIM SUNG-JIN', 'HARPUR LIAM', 'YAGUCHI AKIHIRO', 'MATSUMOTO TOMOHIDE', 'SAKODA KAZUYUKI', 'HWANG SUNG-OH', 'NAGAOKA YUKIO', 'CHO JOON-YOUNG', 'NIHEI HIDEKI', 'KANEKO SHUZO', 'DUNNE JONATHAN', 'DUGGAL ANIL RAJ', 'PICKOVER CLIFFORD A', 'NIERGARTH DANIEL ALAN', 'YOKONO ATARU', 'MORI YOSHIHIRO', 'CLEMENTS JEFFREY DONALD', 'YAMAMOTO KAZUYUKI', 'BAE TAEHAN', 'MINOWA TOSHIMICHI', 'KO JUNG-WAN', 'KUROIWA HIROSHI', 'ATAGO TAKESHI', 'KASHINO TOSHIO', 'KAMADA YASUNORI', 'KWAK YOUNGWOO', 'NISHIMURA YUTAKA', 'PREMERLANI WILLIAM JAMES', 'TERAO MOTOYASU', 'INOKUCHI TATSUYA', 'SUZUKI AKIRA', 'TAMURA YASUYUKI', 'INUI TOSHIHARU', 'YAMADA HIROYUKI', 'MITRAN MARCEL', 'WANG SHIZHONG', 'BURDGICK STEVEN SEBASTIAN', 'MIYASHITA HIROKAZU', 'EKANAYAKE SANJI', 'NISHIDA TETSUYA', 'ARAI ATSUSHI', 'HEKMATSHOARTABARI BAHMAN', 'SPITSBERG IRENE', 'PERRY ROBERT JAMES', 'ANDO TAKASHI', 'LEE JULIA LAM', 'YAMAGAMI TAMOTSU', 'NAKAMURA SHOZO', 'YAMAZAKI TAKASHI', 'BOARDMAN GREGORY ALLEN', 'FOGEL KEITH E', 'KOTTILINGAM SRIKANTH CHANDRUDU', 'KUROSAWA TOSHIAKI', 'NOFFSINGER JOSEPH FORREST', 'LASKARIS EVANGELOS TRIFON', 'ASUKAI MASAMICHI', 'KEIMEL CHRISTOPHER FRED', 'XIONG RIHUA', 'HELLER LISA CRANTON', 'WEI CHANG', 'DELUCA LISA SEACAT', 'MIYASHITA KUNIO', 'EDAMURA TETSUYA', 'FARRELL MARK', 'IWAWAKI HIRONOBU', 'TAKAHASHI AKIO', 'GOWDA ARUN VIRUPAKSHA', 'ARASHIMA TERUO', 'NAKAMURA TAKATOSHI', 'TAKAI MOTOYUKI', 'KATO JUNICHI', 'KURODA OSAMU', 'LEE CHOONGHYUN', 'SAEKI JUNICHI', 'SALASOO LEMBIT', 'SALAPURA VALENTINA', 'USUI MAKOTO', 'YAMANOBE MASATO', 'MURAKAMI TOKUMICHI', 'WATANABE TAKASHI', 'KIM YOUNG-BUM', 'KOIZUMI YUTAKA', 'SUN CHEN', 'OSADA YOSHIYUKI', 'NISHIGORI HITOSHI', 'MYUNG SE-HO', 'MIYAZAKI TAKESHI', 'YOSHINO KOJI', 'FURUMIYA SHIGERU', 'BREEZE-STRINGFELLOW ANDREW', 'TAKENOUCHI MASANORI', 'YOSHINAGA KAZUO', 'UCHIDA MASASHI', 'LEE JU-HO', 'KOISHI KENJI', 'HANAYA HIROYUKI', 'SUZUKI TETSUO', 'KOYAMA SHUJI', 'OGATA MASATSUGU', 'KITABATAKE KENJI', 'WAGONER ROBERT GREGORY', 'ISHIHARA SHUNICHI', 'KHAKIFIROOZ ALI', 'GOTOH YOSHIHO', 'ZATORSKI DAREK TOMASZ', 'DIMASCIO PAUL STEPHEN', 'SASAKI YOSHIKI', 'EGUCHI SYUUJI', 'FUJITA MIYUKI', 'JI HYOUNGJU', 'NAKAGIRI TAKASHI', 'DINC OSMAN SAIM', 'JANG JAE-HYUK', 'KANG HEE-WON', 'ISAKA KAZUO', 'WEIMER MICHAEL JAMES', 'WADA SEIJI', 'YOSHIDA AKIHIKO', 'NAKANO TOSHIO', 'TSUKADA TOSHIHISA', 'MIYA KAZUYUKI', 'HARDING KEVIN GEORGE', 'BUNKER RONALD SCOTT', 'TANAKA SHINICHI', 'YAMAMOTO AKIRA', 'KIM SOENG-HUN', 'CHOI SEUNGHOON', 'KONDO SHIGEO', 'SATO NOBUHIKO', 'KING ROBERT DEAN', 'LI NING', 'OH JINYOUNG', 'FURUKAWA TOSHIHARU', 'KUDO KIYOMITSU', 'MATSUMOTO TAKAHIRO', 'KATO MASAO', 'MIYABE SHIGEO', 'HIRABAYASHI MITSUHIRO', 'PARK SUNGJIN', 'DIVAKARUNI RAMACHANDRA', 'VAN LIESHOUT GERT JAN', 'OHARA SHUNJI', 'MINEMURA HIROYUKI', 'TAKEHARA MITSURU', 'HOLMES STEVEN J', 'YONEKUBO HIROAKI', 'HAYASAKI KIMIYUKI', 'TSUKAMOTO TAKEO', 'NARAHARA TOSHIKAZU', 'HIRAMATSU SOICHI', 'FUKUDA TSUGUHIRO'}\n",
      "AA vs JC\n",
      "{'DORIS BRUCE B', 'KWATRA SHIKHAR', 'ORIKASA TSUYOSHI', 'YAMAMOTO HAJIME', 'LJUNG RICKARD', 'KAWADE HISAAKI', 'OKUYAMA TOSHIAKI', 'TERAI HARUHIKO', 'KURABAYASHI YUTAKA', 'TAJIMA FUMIO', 'YANG KYEONG-CHEOL', 'KANAI MASAHIRO', 'OGAWA YOSHIHIRO', 'OWASHI HITOAKI', 'NOBUE TOMOTAKA', 'YEO JEONGHO', 'ZHENG XIAOQING', 'YONEMITSU JUN', 'TANEYA YOICHI', 'OTSUKA NAOJI', 'SUZUKI HIROSHI', 'NOWAK EDWARD J', 'VAN DER VELDE HIMKE', 'KAWASAKI OSAMU', 'TOBIN JAMES ROBERT', 'KENMOKU TAKASHI', 'MARTIN BRIAN ALEXANDER', 'YOSHIDA ISAMU', 'BEDELL STEPHEN W', 'LEE KOOK-HEUI', 'KISHORE KUNA VENKAT SATYA RAMA', 'KANG HYUN-JEONG', 'YAMAMOTO MASAYUKI', 'TAKAHASHI WATARU', 'HORAK DAVID V', 'YANG HAI', 'KASAMOTO MASAMI', 'KASAHARA SHUNICHI', 'MATSUDA HIROSHI', 'SATO HIROSHI', 'TAKAHASHI KOJI', 'HASZ WAYNE CHARLES', 'NAM YOUNG-HAN', 'MYERS GEOFFREY DAVID', 'MASUDA KAZUAKI', 'JOO PAN-YUH', 'NIWA TAKASHI', 'SETLUR ANANT ACHYUT', 'KAWAMURA HIROYUKI', 'SHOJI MAMORU', 'KANEDA AIZO', 'KUBOTA MASAHIKO', 'IWAMURA MASAHIRO', 'MAKINO KENICHI', 'LARSEN EINAR VAUGHN', 'KOKAKU HIROYOSHI', 'SEGAWA MASANORI', 'YAMAGUCHI TAKAAKI', 'ISONO AOJI', 'NISHIJIMA HIDEO', 'NOMURA ICHIRO', 'TAKEUCHI TOSHIFUMI', 'GOTO FUMITAKA', 'KAMATANI JUN', 'UESUGI MITSURU', 'KOIKE SHOJI', 'HASHEMI POUYA', 'UJITA TOSHIHIKO', 'KIM IL-KOO', 'HUANG SHYH-CHIN', 'TSUBOI NOBUYOSHI', 'OHNISHI TOSHIKAZU', 'LEOBANDUNG EFFENDI', 'NAKAMURA SHINICHI', 'INOUE HIROSHI', 'MANDELMAN JACK A', 'PARK KYUNG-MO', 'JOO SEONG-SIN', 'YANO TETSUYA', 'JUNG JUNG-SOO', 'CHOI BYEONG-DOO', 'SATO YOSHIO', 'DAUM WOLFGANG', 'TERADA MASAHIRO', 'YAMAMOTO MASANOBU', 'SAKAI KUNIHIRO', 'NOSE HIROYASU', 'MCCONNELEE PAUL ALAN', 'MIN JUNG-HYE', 'KIM YOUNGBUM', 'MAEHARA NAOYOSHI', 'SUZUKI KOICHI', 'ORLANDO ROBERT JOSEPH', 'YAMASHITA TENKO', 'TSUBOSAKI KUNIHIRO', 'TAJIKA HIROSHI', 'OSADA TORACHIKA', 'PARK DONG-SEEK', 'JOHNSON THOMAS EDWARD', 'HIRAI YUTAKA', 'CHEN WEI', 'LIPKIN DON MARK', 'KIMURA HIROYUKI', 'SHIMADA SATOSHI', 'OKAMOTO HIROO', 'SHIMOTANI MITSUO', 'XIE RUILONG', 'TAKANO HIROAKI', 'YAMADA NOBORU', 'EVANS SCOTT CHARLES', 'CHO JAE-WEON', 'JACKSON MELVIN ROBERT', 'LEE SUNG-JIN', 'ISHIHARA HIDESHI', 'YAMAGUCHI HIDEKI', 'FURUKAWA SHUNSUKE', 'TSUCHIYA KENJI', 'OGINO MASAHIKO', 'CARTER WILLIAM THOMAS', 'VONDRELL RANDY M', 'XU LIXIANG', 'PI ZHOUYUE', 'TSUGA KAZUHIRO', 'SLEGEL TIMOTHY', 'LEE JU HO', 'YOON SOON-YOUNG', 'INOUE MASAYUKI', 'LEE TAMMY', 'JIANG MINGXIAO', 'KUNIMOTO KEIJIRO', 'KIM YOUN-SUN', 'HIGUMA MASAHIKO', 'DENG ZHIGANG', 'KONNO YUJI', 'IWAKI TSUTOMU', 'MURAI KEIICHI', 'FUJINAMI YASUSHI', 'MISUMI TERUO', 'SHI XIAOLEI', 'PENG WENQING', 'MATSUDA SHINPEI', 'AZUHATA SHIGERU', 'OSTROVERKHOV VICTOR PETROVICH', 'KIDA AKIRA', 'KIM YOUNSUN', 'HAYASHI KAZUNORI', 'ONO MITSUHIRO', 'MATSUNAMI NAOTO', 'YANG CHIH-CHAO', 'TAKIGUCHI TAKAO', 'WANG JUNLI', 'HASEBE TAKUMI', 'TOLLISON BRIAN LEE', 'MIYAWAKI MAMORU', 'SONG JAE-YEON', 'SUZUKI NORITAKE', 'KIM JEEHWAN', 'ONGGOSANUSI EKO', 'SAKAI YOSHIO', 'MOROOKA YASUO', 'SATO MAKOTO', 'CHOI HO-KYU', 'SUGITANI HIROSHI', 'WEI BIN', 'MORIYA YOSHIMI', 'SUGIMOTO HITOSHI', 'NAKANE SHINICHI', 'VAN LIESHOUT GERT-JAN', 'GOTO FUMIHIRO', 'RYU HYUNSEOK', 'GAINEY JR CHARLES W', 'PONOTH SHOM', 'FUKUSHIMA ISAO', 'JOSHI NARENDRA DIGAMBER', 'NG BOON LOONG', 'CUI YAN', 'PRENTICE IAN FRANCIS', 'MATSUDA HIROMU', 'LEE KYUNG-GEUN', 'YAMADA MAKOTO', 'SAKAMAKI HISASHI', 'TAKAHASHI KATSUHIRO', 'NAGASE HIROSHI', 'YANG HYUN-KOO', 'GAMBINO JEFFREY P', 'MIURA HIDEO', 'HAN JIN-KYU', 'ITO MOTOSHI', 'LI YING', 'GSCHWIND MICHAEL KARL', 'YAMAMOTO KATSUHIKO', 'KIM SANG-BUM', 'MURPHY JAMES EDWARD', 'LIU YUNFENG', 'TESHIGAWARA MINORU', 'HERSHEY JOHN ERIK', 'WATANABE HIROSHI', 'TERAUCHI TOSHIRO', 'YANAGISAWA YOSHIHIRO', 'SATO KOICHI', 'MURAI RYUICHI', 'TODOKORO YASUYUKI', 'CHOI SUNG-HO', 'KHAN FAROOQ', 'SCHEP CORNELIS MARINUS', 'GUO XIN', 'TANNO KOICHI', 'WAKABAYASHI HIDEJI', 'COLBURN MATTHEW E', 'MORITA AYUMU', 'TOYOGUCHI YOSHINORI', 'MAEOKA KUNIHIKO', 'NISHIKAWA AKIO', 'SHIBATA AKIRA', 'WAJIMA MOTOYO', 'RITTER ALLEN MICHAEL', 'BOSS GREGORY J', 'SAITO ICHIRO', 'BASKER VEERARAGHAVAN S', 'OKADA SHINJIRO', 'EDELSTEIN DANIEL C', 'UETSUKI MASAYA', 'KATO MOTOKI', 'MIYATA MASANORI', 'SATO SHINICHI', 'GREINER DAN', 'DELVAUX JOHN MCCONNELL', 'MISHINA SHINYA', 'SHUM CHUNG-LUNG K', 'LIM CHI-WOO', 'COOPER JARED KLINEMAN', 'NAGAI TAKESHI', 'TOSHIMA HIROAKI', 'ONO TAKEO', 'HWANG SUNG-HEE', 'CHAN DAVID SO KEUNG', 'TANAKA KENJI', 'SEKI SATOSHI', 'HIRABAYASHI HIROMITSU', 'NISHIKORI HITOSHI', 'DAROLIA RAMGOPAL', 'YEH CHUN-CHEN', 'HAMADA TOSHIYA', 'MATSUMOTO HARUYUKI', 'TANI ATSUSHI', 'SANO AKANE', 'SAPORITO ANTHONY', 'MIYAZAKI TOSHIHIKO', 'INOUE HIROYUKI', 'OZAKI TERUO', 'NOH HOONDONG', 'KIM SANGBUM', 'MONIZ THOMAS ORY', 'NAKAYA HIDEO', 'SAKO YOICHIRO', 'WATANABE TAKEJI', 'IMAMURA TAKESHI', 'OSHIMA MITSUAKI', 'KANEKO SATOSHI', 'YONEDA KENJI', 'ODAGIRI MASARU', 'MELTON PATRICK BENEDICT', 'LEE HYOJIN', 'KAMIYAMA YUJI', 'KANBE JUNICHIRO', 'VENKATARAMANI VENKAT SUBRAMANIAM', 'CHENG KANGGUO', 'STOIA LUCAS JOHN', 'SASANO AKIRA', 'SHIMA HISATO', 'SAITO KEISHI', 'TOMOSADA MASAHIRO', 'TAKENAKA KATSURO', 'PARK SUNG-WOOK', 'KIMURA MAKIKO', 'LU SU', 'MORRILL DANIEL LAWRENCE', 'KINJO NORIYUKI', 'RADENS CARL J', 'MATSUBARA MIYUKI', 'LEE JUHO', 'YOSHIDA TADAO', 'HONDA KAZUYOSHI', 'REN ZHIYUAN', 'TAKAHASHI KENJI', 'BRAY JAMES WILLIAM', 'SHIRAI TAIZO', 'YAMANAKA AKIHIRO', 'SAITO ASAO', 'NARAYANAN VIJAY', 'SUZUKI TERUHIKO', 'MORIWAKI YOSHIO', 'LEE CHING-PANG', 'BEKKI TOSHIHIKO', 'NAKAMURA ATSUSHI', 'TAKAHASHI KIICHIRO', 'SUGAMA SADAYUKI', 'COMANZO HOLLY ANN', 'SHAHIDI GHAVAM G', 'SAIKAWA HIDEO', 'GERSTLER WILLIAM DWIGHT', 'LIE FEE LI', 'NOGUCHI KOJI', 'YANO KENTARO', 'WOLFE CHRISTOPHER EDWARD', 'NAGOSHI SHIGEYASU', 'SHAN CHENG', 'NASHIDA TATSUSHI', 'SEALING CHARLES SCOTT', 'IMAIDE TAKUYA', 'KOOL LAWRENCE BERNARD', 'YAMAMOTO KAZUHISA', 'KOTAKI YASUO', 'IZUMIDA MASAAKI', 'YUN SUNG-RYUL', 'TANGE AKIRA', 'STEVENSON CHRISTIAN XAVIER', 'LEE HYUN-WOO', 'PARK IN-SIK', 'NOGUCHI TAKAHARU', 'YAMADA NAOKI', 'HAYASHI HIROKI', 'LAWRENCE BRIAN LEE', 'KAWAI SUEO', 'WELLES KENNETH BRAKELEY', 'SUZUKI HIDETOSHI', 'OGINO HIROYUKI', 'MATSUZAKI HARUMI', 'OSHIMA KAZUYOSHI', 'NISHIUCHI KENICHI', 'GLYNN CHRISTOPHER CHARLES', 'PICKETT JAMES EDWARD', 'KOBAYASHI MASAHARU', 'MILLER BRANDON WAYNE', 'SHIN CHEOLKYU', 'KASUYA TAKASHIGE', 'NOJIMA TAKASHI', 'MURASE KAORU', 'BODEN EUGENE PAULING', 'ARA YOJI', 'HINAMI JUN', 'HOFER DOUGLAS CARL', 'REZNICEK ALEXANDER', 'LACY BENJAMIN PAUL', 'MATSUDA YASUMASA', 'KURODA SHINICHI', 'IMANAKA YOSHIYUKI', 'KANEKO TETSUYA', 'SUGIMOTO KAZUO', 'ISHINAGA HIROYUKI', 'KASANUKI YUJI', 'DAVIS GARY CHARLES', 'YEAGER GARY WILLIAM', 'NAITO TAKASHI', 'NISHINO ATSUSHI', 'KRAY NICHOLAS JOSEPH', \"O'CONNELL BRIAN M\", 'LORRAINE PETER WILLIAM', 'YAMANO IKUO', 'KOBAYASHI SHOEI', 'CHANG YOUNG-BIN', 'SATO MASAHIKO', 'MCCLOSKEY PATRICK JOSEPH', 'FOX JEREMY R', 'CHIDAMBARRAO DURESETI', 'STANDAERT THEODORUS E', 'JEONG HONG-SIL', 'TURNQUIST NORMAN ARNOLD', 'MIYOSHI KENICHI', 'RUUD JAMES ANTHONY', 'NANJO TATSUO', 'KUWABARA NOBUYUKI', 'IGAWA SATOSHI', 'ITZEL GARY MICHAEL', 'YOSHIHIRA AYA', 'DAVIS JR LEWIS BERKLEY', 'ROSS JOHN ANDERSON FERGUS', 'MIYAMOTO HARUKAZU', 'KIM JAE-YOEL', 'NAKAGAMI OHJI', 'HATTORI YOSHIFUMI', 'WALKER KEITH R', 'SHINJO KENJI', 'SHIRAI SHIGERU', 'MIYAJIMA YASUSHI', 'ISHIKAWA TOMOKAZU', 'KARITA SEIICHIRO', 'MAEDA TAKESHI', 'LYONS ROBERT JOSEPH', 'PAPASAKELLARIOU ARIS', 'SAITOH AKIHITO', 'TSUDA SHINICHIRO', 'JEONG KYEONGIN', 'SHIMIZU EIICHIRO', 'TIBBETTS NICOLE JESSICA', 'SUZUKI AKIO', 'OKAZAKI TAKESHI', 'KRAELING MARK BRADSHAW', 'ISHIBASHI HIROMICHI', 'KANDA HIDEHIKO', 'TSUBOYAMA AKIRA', 'GOTOH FUMIHIRO', 'KUMAR AJITH KUTTANNAIR', 'NISHIMURA YUKIO', 'SHAFFER GLENN ROBERT', 'TAKAHASHI SANKICHI', 'VAN DAM JEREMY DANIEL', 'SUGIURA NOBORU', 'SUGIYAMA HIROYUKI', 'MURAKAMI GEN', 'YONEHARA TAKAO', 'KRAEMER GILBERT OTTO', 'KAWAKAMI HIDEAKI', 'OKADA TOMOYUKI', 'HSU LOUIS L', 'SRIVASTAVA ALOK MANI', 'NAKAGAWA KATSUMI', 'NAGARAJ BANGALORE ASWATHA', 'TOMIZAWA TAKESHI', 'SCHMIDT DONALD WILLIAM', 'EKAMBARAM VIJAY', 'KONDO TETSUJIRO', 'SLEIGHT JEFFREY W', 'FANG BIAO', 'GREINER DAN F', 'RUTKOWSKI STEPHEN FRANCIS', 'NAKAMURA KAZUHIKO', 'IKEDA MASAMI', 'NISHIMURA ASAO', 'MURROW KURT DAVID', 'GHASRIPOOR FARSHAD', 'DALTON TIMOTHY J', 'SADANA DEVENDRA K', 'ISHIDA TAKASHI', 'TAKEMURA YOSHINARI', 'JANG JAE HYUK', 'SCHMIDT DONALD W', 'YOON DU-SEOP', 'IWASAKI OSAMU', 'CHAN KWOK PONG', 'KOZLOSKI JAMES R', 'ZHANG JIANZHONG', 'SASAYAMA TAKAO', 'KOZUKA MASAYUKI', 'YAEGASHI HISAO', 'EBISAWA ISAO', 'TATEBAYASHI MAKOTO', 'SEKIGUCHI SHUNICHI', 'NAKAZAWA IKUO', 'CHILA RONALD JAMES', 'CLEVENGER LAWRENCE A', 'SUBRAMANIAN KANAKASABAPATHI', 'UEDA SHIGEKI', 'LEE HYEON-WOO', 'BAUGHMAN AARON K', 'MOCHIZUKI MUGA', 'STAMPER ANTHONY K', 'LI JUNTAO', 'NISHI KUNIHIKO', 'HAMILTON II RICK A', 'UHM JONG HO', 'LIU JIE', 'SLEGEL TIMOTHY J', 'FUKUSHIMA TAKASHI', 'NISHIDE YOSUKE', 'SHAH MANOJ RAMPRASAD', 'MCMAHAN KEVIN WESTON', 'YAZAWA TAKESHI', 'RUBINSZTAJN SLAWOMIR', 'KANOTA KEIJI', 'NAGANO TAKAHIRO', 'YAMASHITA MASATAKA', 'OKINO AYATOMO', 'KAWATOKO NORIHIRO', 'NAGASHIMA TOSHIAKI', 'KATAGIRI KAZUHARU', 'HATTORI SHINOBU', 'RAKSHIT SARBAJIT K', 'YAMADA AKITOSHI', 'MYUNG SEHO', 'HERR STEFAN', 'MURAKAMI HAJIME', 'KIM TAEHYOUNG', 'SATOH ISAO', 'TANAKA SHIGEAKI', 'KIM SANG BUM', 'GOTO AKIRA', 'MIYAGAWA MASASHI', 'KITANO MAKOTO', 'KOSHIKAWA HIROSHI', 'ROBERTS HERBERT CHIDSEY', 'ZHANG HUA', 'YAMADA KAZUJI', 'YAGASAKI YOICHI', 'KWON HWAN-JOON', 'SAWAI YUICHI', 'LIN DECHAO', 'KATAYAMA AKIHIRO', 'JEONG KYEONG-IN', 'JANG JAEHYUK', 'AOTA KINYA', 'YAMASHITA HISAO', 'HARUTA MASAHIRO', 'KESHAVAN HRISHIKESH', 'OGAWA TOSHIO', 'KON TAKAYASU', 'CHOI SEUNG-HOON', 'WORDEN BRET DWAYNE', 'INOUE RYOJI', 'SEXTON DANIEL WHITE', 'INOUE MAKOTO', 'LEE HAK-JU', 'MARU AKIKO', 'KIM SOENGHUN', 'ISOGAI TOKIO', 'HAN JIN KYU', 'KOBAYASHI MASAAKI', 'SASAKI HIROSHI', 'YOKOYAMA TAKASHI', 'KAWADA HARUKI', 'KWAK YONG-JUN', 'WATANABE TSUTOMU', 'OHASHI TETSUYA', 'LEWIS LARRY NEIL', 'JI HYOUNG-JU', 'GALLUCCI ROBERT RUSSELL', 'KLODOWSKI ANTHONY MICHAEL', 'KIM SOENG HUN', 'KOO CHANG-HOI', 'WATANABE KENJIRO', 'TANAKA MASATO', 'CHO JOON YOUNG', 'TAKEDA TOSHIHIKO', 'NAKAMURA HITOSHI', 'KANAKASABAPATHY SIVANANDA K', 'NAGAI AKIRA', 'KANEVSKY DIMITRI', 'SHIMIZU ISAMU', 'SASAKI TORU', 'CELLA JAMES ANTHONY', 'KAWAI JUN', 'LANG STEFFEN', 'SCHNETZKA HAROLD ROBERT', 'SAITO AKIO', 'OHBA TAKASHI', 'MORIYAMA JIRO', 'KUGIYA FUMIO', 'LEE SUN-IL', 'SCIPIO ALSTON ILFORD', 'MORIOKA YUICHI', 'NAKAMURA KIYOSHI', 'KOITABASHI NORIBUMI', 'WANG YU', 'SAITO TAKASHI', 'TRIM CRAIG M', 'ZIMINSKY WILLY STEVE', 'FARRELL MARK S', 'TAKAHASHI TADASHI', 'WANG XUEFENG', 'SAITO HIROYUKI', 'KULKARNI AMBARISH JAYANT', 'IWASAKI TAKESHI', 'SUZUKI TAKASHI', 'RITTER ANN MELINDA', 'TSUKUDA KEIICHIRO', 'KIM SUNG-JIN', 'HARPUR LIAM', 'YAGUCHI AKIHIRO', 'MATSUMOTO TOMOHIDE', 'SAKODA KAZUYUKI', 'HWANG SUNG-OH', 'NAGAOKA YUKIO', 'CHO JOON-YOUNG', 'NIHEI HIDEKI', 'KANEKO SHUZO', 'DUNNE JONATHAN', 'DUGGAL ANIL RAJ', 'PICKOVER CLIFFORD A', 'NIERGARTH DANIEL ALAN', 'YOKONO ATARU', 'MORI YOSHIHIRO', 'CLEMENTS JEFFREY DONALD', 'YAMAMOTO KAZUYUKI', 'BAE TAEHAN', 'MINOWA TOSHIMICHI', 'KO JUNG-WAN', 'KUROIWA HIROSHI', 'ATAGO TAKESHI', 'KASHINO TOSHIO', 'KAMADA YASUNORI', 'KWAK YOUNGWOO', 'NISHIMURA YUTAKA', 'PREMERLANI WILLIAM JAMES', 'TERAO MOTOYASU', 'INOKUCHI TATSUYA', 'SUZUKI AKIRA', 'TAMURA YASUYUKI', 'INUI TOSHIHARU', 'YAMADA HIROYUKI', 'MITRAN MARCEL', 'WANG SHIZHONG', 'BURDGICK STEVEN SEBASTIAN', 'MIYASHITA HIROKAZU', 'EKANAYAKE SANJI', 'NISHIDA TETSUYA', 'ARAI ATSUSHI', 'HEKMATSHOARTABARI BAHMAN', 'SPITSBERG IRENE', 'PERRY ROBERT JAMES', 'ANDO TAKASHI', 'LEE JULIA LAM', 'YAMAGAMI TAMOTSU', 'NAKAMURA SHOZO', 'YAMAZAKI TAKASHI', 'BOARDMAN GREGORY ALLEN', 'FOGEL KEITH E', 'KOTTILINGAM SRIKANTH CHANDRUDU', 'KUROSAWA TOSHIAKI', 'NOFFSINGER JOSEPH FORREST', 'LASKARIS EVANGELOS TRIFON', 'ASUKAI MASAMICHI', 'KEIMEL CHRISTOPHER FRED', 'XIONG RIHUA', 'HELLER LISA CRANTON', 'WEI CHANG', 'DELUCA LISA SEACAT', 'MIYASHITA KUNIO', 'EDAMURA TETSUYA', 'FARRELL MARK', 'IWAWAKI HIRONOBU', 'TAKAHASHI AKIO', 'GOWDA ARUN VIRUPAKSHA', 'ARASHIMA TERUO', 'NAKAMURA TAKATOSHI', 'TAKAI MOTOYUKI', 'KATO JUNICHI', 'KURODA OSAMU', 'LEE CHOONGHYUN', 'SAEKI JUNICHI', 'SALASOO LEMBIT', 'SALAPURA VALENTINA', 'USUI MAKOTO', 'YAMANOBE MASATO', 'MURAKAMI TOKUMICHI', 'WATANABE TAKASHI', 'KIM YOUNG-BUM', 'KOIZUMI YUTAKA', 'SUN CHEN', 'OSADA YOSHIYUKI', 'NISHIGORI HITOSHI', 'MYUNG SE-HO', 'MIYAZAKI TAKESHI', 'YOSHINO KOJI', 'FURUMIYA SHIGERU', 'BREEZE-STRINGFELLOW ANDREW', 'TAKENOUCHI MASANORI', 'YOSHINAGA KAZUO', 'UCHIDA MASASHI', 'LEE JU-HO', 'KOISHI KENJI', 'HANAYA HIROYUKI', 'SUZUKI TETSUO', 'KOYAMA SHUJI', 'OGATA MASATSUGU', 'KITABATAKE KENJI', 'WAGONER ROBERT GREGORY', 'ISHIHARA SHUNICHI', 'KHAKIFIROOZ ALI', 'GOTOH YOSHIHO', 'ZATORSKI DAREK TOMASZ', 'DIMASCIO PAUL STEPHEN', 'SASAKI YOSHIKI', 'EGUCHI SYUUJI', 'FUJITA MIYUKI', 'JI HYOUNGJU', 'NAKAGIRI TAKASHI', 'DINC OSMAN SAIM', 'JANG JAE-HYUK', 'KANG HEE-WON', 'ISAKA KAZUO', 'WEIMER MICHAEL JAMES', 'WADA SEIJI', 'YOSHIDA AKIHIKO', 'NAKANO TOSHIO', 'TSUKADA TOSHIHISA', 'MIYA KAZUYUKI', 'HARDING KEVIN GEORGE', 'BUNKER RONALD SCOTT', 'TANAKA SHINICHI', 'YAMAMOTO AKIRA', 'KIM SOENG-HUN', 'CHOI SEUNGHOON', 'KONDO SHIGEO', 'SATO NOBUHIKO', 'KING ROBERT DEAN', 'LI NING', 'OH JINYOUNG', 'FURUKAWA TOSHIHARU', 'KUDO KIYOMITSU', 'MATSUMOTO TAKAHIRO', 'KATO MASAO', 'MIYABE SHIGEO', 'HIRABAYASHI MITSUHIRO', 'PARK SUNGJIN', 'DIVAKARUNI RAMACHANDRA', 'VAN LIESHOUT GERT JAN', 'OHARA SHUNJI', 'MINEMURA HIROYUKI', 'TAKEHARA MITSURU', 'HOLMES STEVEN J', 'YONEKUBO HIROAKI', 'HAYASAKI KIMIYUKI', 'TSUKAMOTO TAKEO', 'NARAHARA TOSHIKAZU', 'HIRAMATSU SOICHI', 'FUKUDA TSUGUHIRO'}\n",
      "AA vs AA\n",
      "{'DORIS BRUCE B', 'KWATRA SHIKHAR', 'ORIKASA TSUYOSHI', 'YAMAMOTO HAJIME', 'LJUNG RICKARD', 'KAWADE HISAAKI', 'OKUYAMA TOSHIAKI', 'TERAI HARUHIKO', 'KURABAYASHI YUTAKA', 'TAJIMA FUMIO', 'YANG KYEONG-CHEOL', 'KANAI MASAHIRO', 'OGAWA YOSHIHIRO', 'OWASHI HITOAKI', 'NOBUE TOMOTAKA', 'YEO JEONGHO', 'ZHENG XIAOQING', 'YONEMITSU JUN', 'TANEYA YOICHI', 'OTSUKA NAOJI', 'SUZUKI HIROSHI', 'NOWAK EDWARD J', 'VAN DER VELDE HIMKE', 'KAWASAKI OSAMU', 'TOBIN JAMES ROBERT', 'KENMOKU TAKASHI', 'MARTIN BRIAN ALEXANDER', 'YOSHIDA ISAMU', 'BEDELL STEPHEN W', 'LEE KOOK-HEUI', 'KISHORE KUNA VENKAT SATYA RAMA', 'KANG HYUN-JEONG', 'YAMAMOTO MASAYUKI', 'TAKAHASHI WATARU', 'HORAK DAVID V', 'YANG HAI', 'KASAMOTO MASAMI', 'KASAHARA SHUNICHI', 'MATSUDA HIROSHI', 'SATO HIROSHI', 'TAKAHASHI KOJI', 'HASZ WAYNE CHARLES', 'NAM YOUNG-HAN', 'MYERS GEOFFREY DAVID', 'MASUDA KAZUAKI', 'JOO PAN-YUH', 'NIWA TAKASHI', 'SETLUR ANANT ACHYUT', 'KAWAMURA HIROYUKI', 'SHOJI MAMORU', 'KANEDA AIZO', 'KUBOTA MASAHIKO', 'IWAMURA MASAHIRO', 'MAKINO KENICHI', 'LARSEN EINAR VAUGHN', 'KOKAKU HIROYOSHI', 'SEGAWA MASANORI', 'YAMAGUCHI TAKAAKI', 'ISONO AOJI', 'NISHIJIMA HIDEO', 'NOMURA ICHIRO', 'TAKEUCHI TOSHIFUMI', 'GOTO FUMITAKA', 'KAMATANI JUN', 'UESUGI MITSURU', 'KOIKE SHOJI', 'HASHEMI POUYA', 'UJITA TOSHIHIKO', 'KIM IL-KOO', 'HUANG SHYH-CHIN', 'TSUBOI NOBUYOSHI', 'OHNISHI TOSHIKAZU', 'LEOBANDUNG EFFENDI', 'NAKAMURA SHINICHI', 'INOUE HIROSHI', 'MANDELMAN JACK A', 'PARK KYUNG-MO', 'JOO SEONG-SIN', 'YANO TETSUYA', 'JUNG JUNG-SOO', 'CHOI BYEONG-DOO', 'SATO YOSHIO', 'DAUM WOLFGANG', 'TERADA MASAHIRO', 'YAMAMOTO MASANOBU', 'SAKAI KUNIHIRO', 'NOSE HIROYASU', 'MCCONNELEE PAUL ALAN', 'MIN JUNG-HYE', 'KIM YOUNGBUM', 'MAEHARA NAOYOSHI', 'SUZUKI KOICHI', 'ORLANDO ROBERT JOSEPH', 'YAMASHITA TENKO', 'TSUBOSAKI KUNIHIRO', 'TAJIKA HIROSHI', 'OSADA TORACHIKA', 'PARK DONG-SEEK', 'JOHNSON THOMAS EDWARD', 'HIRAI YUTAKA', 'CHEN WEI', 'LIPKIN DON MARK', 'KIMURA HIROYUKI', 'SHIMADA SATOSHI', 'OKAMOTO HIROO', 'SHIMOTANI MITSUO', 'XIE RUILONG', 'TAKANO HIROAKI', 'YAMADA NOBORU', 'EVANS SCOTT CHARLES', 'CHO JAE-WEON', 'JACKSON MELVIN ROBERT', 'LEE SUNG-JIN', 'ISHIHARA HIDESHI', 'YAMAGUCHI HIDEKI', 'FURUKAWA SHUNSUKE', 'TSUCHIYA KENJI', 'OGINO MASAHIKO', 'CARTER WILLIAM THOMAS', 'VONDRELL RANDY M', 'XU LIXIANG', 'PI ZHOUYUE', 'TSUGA KAZUHIRO', 'SLEGEL TIMOTHY', 'LEE JU HO', 'YOON SOON-YOUNG', 'INOUE MASAYUKI', 'LEE TAMMY', 'JIANG MINGXIAO', 'KUNIMOTO KEIJIRO', 'KIM YOUN-SUN', 'HIGUMA MASAHIKO', 'DENG ZHIGANG', 'KONNO YUJI', 'IWAKI TSUTOMU', 'MURAI KEIICHI', 'FUJINAMI YASUSHI', 'MISUMI TERUO', 'SHI XIAOLEI', 'PENG WENQING', 'MATSUDA SHINPEI', 'AZUHATA SHIGERU', 'OSTROVERKHOV VICTOR PETROVICH', 'KIDA AKIRA', 'KIM YOUNSUN', 'HAYASHI KAZUNORI', 'ONO MITSUHIRO', 'MATSUNAMI NAOTO', 'YANG CHIH-CHAO', 'TAKIGUCHI TAKAO', 'WANG JUNLI', 'HASEBE TAKUMI', 'TOLLISON BRIAN LEE', 'MIYAWAKI MAMORU', 'SONG JAE-YEON', 'SUZUKI NORITAKE', 'KIM JEEHWAN', 'ONGGOSANUSI EKO', 'SAKAI YOSHIO', 'MOROOKA YASUO', 'SATO MAKOTO', 'CHOI HO-KYU', 'SUGITANI HIROSHI', 'WEI BIN', 'MORIYA YOSHIMI', 'SUGIMOTO HITOSHI', 'NAKANE SHINICHI', 'VAN LIESHOUT GERT-JAN', 'GOTO FUMIHIRO', 'RYU HYUNSEOK', 'GAINEY JR CHARLES W', 'PONOTH SHOM', 'FUKUSHIMA ISAO', 'JOSHI NARENDRA DIGAMBER', 'NG BOON LOONG', 'CUI YAN', 'PRENTICE IAN FRANCIS', 'MATSUDA HIROMU', 'LEE KYUNG-GEUN', 'YAMADA MAKOTO', 'SAKAMAKI HISASHI', 'TAKAHASHI KATSUHIRO', 'NAGASE HIROSHI', 'YANG HYUN-KOO', 'GAMBINO JEFFREY P', 'MIURA HIDEO', 'HAN JIN-KYU', 'ITO MOTOSHI', 'LI YING', 'GSCHWIND MICHAEL KARL', 'YAMAMOTO KATSUHIKO', 'KIM SANG-BUM', 'MURPHY JAMES EDWARD', 'LIU YUNFENG', 'TESHIGAWARA MINORU', 'HERSHEY JOHN ERIK', 'WATANABE HIROSHI', 'TERAUCHI TOSHIRO', 'YANAGISAWA YOSHIHIRO', 'SATO KOICHI', 'MURAI RYUICHI', 'TODOKORO YASUYUKI', 'CHOI SUNG-HO', 'KHAN FAROOQ', 'SCHEP CORNELIS MARINUS', 'GUO XIN', 'TANNO KOICHI', 'WAKABAYASHI HIDEJI', 'COLBURN MATTHEW E', 'MORITA AYUMU', 'TOYOGUCHI YOSHINORI', 'MAEOKA KUNIHIKO', 'NISHIKAWA AKIO', 'SHIBATA AKIRA', 'WAJIMA MOTOYO', 'RITTER ALLEN MICHAEL', 'BOSS GREGORY J', 'SAITO ICHIRO', 'BASKER VEERARAGHAVAN S', 'OKADA SHINJIRO', 'EDELSTEIN DANIEL C', 'UETSUKI MASAYA', 'KATO MOTOKI', 'MIYATA MASANORI', 'SATO SHINICHI', 'GREINER DAN', 'DELVAUX JOHN MCCONNELL', 'MISHINA SHINYA', 'SHUM CHUNG-LUNG K', 'LIM CHI-WOO', 'COOPER JARED KLINEMAN', 'NAGAI TAKESHI', 'TOSHIMA HIROAKI', 'ONO TAKEO', 'HWANG SUNG-HEE', 'CHAN DAVID SO KEUNG', 'TANAKA KENJI', 'SEKI SATOSHI', 'HIRABAYASHI HIROMITSU', 'NISHIKORI HITOSHI', 'DAROLIA RAMGOPAL', 'YEH CHUN-CHEN', 'HAMADA TOSHIYA', 'MATSUMOTO HARUYUKI', 'TANI ATSUSHI', 'SANO AKANE', 'SAPORITO ANTHONY', 'MIYAZAKI TOSHIHIKO', 'INOUE HIROYUKI', 'OZAKI TERUO', 'NOH HOONDONG', 'KIM SANGBUM', 'MONIZ THOMAS ORY', 'NAKAYA HIDEO', 'SAKO YOICHIRO', 'WATANABE TAKEJI', 'IMAMURA TAKESHI', 'OSHIMA MITSUAKI', 'KANEKO SATOSHI', 'YONEDA KENJI', 'ODAGIRI MASARU', 'MELTON PATRICK BENEDICT', 'LEE HYOJIN', 'KAMIYAMA YUJI', 'KANBE JUNICHIRO', 'VENKATARAMANI VENKAT SUBRAMANIAM', 'CHENG KANGGUO', 'STOIA LUCAS JOHN', 'SASANO AKIRA', 'SHIMA HISATO', 'SAITO KEISHI', 'TOMOSADA MASAHIRO', 'TAKENAKA KATSURO', 'PARK SUNG-WOOK', 'KIMURA MAKIKO', 'LU SU', 'MORRILL DANIEL LAWRENCE', 'KINJO NORIYUKI', 'RADENS CARL J', 'MATSUBARA MIYUKI', 'LEE JUHO', 'YOSHIDA TADAO', 'HONDA KAZUYOSHI', 'REN ZHIYUAN', 'TAKAHASHI KENJI', 'BRAY JAMES WILLIAM', 'SHIRAI TAIZO', 'YAMANAKA AKIHIRO', 'SAITO ASAO', 'NARAYANAN VIJAY', 'SUZUKI TERUHIKO', 'MORIWAKI YOSHIO', 'LEE CHING-PANG', 'BEKKI TOSHIHIKO', 'NAKAMURA ATSUSHI', 'TAKAHASHI KIICHIRO', 'SUGAMA SADAYUKI', 'COMANZO HOLLY ANN', 'SHAHIDI GHAVAM G', 'SAIKAWA HIDEO', 'GERSTLER WILLIAM DWIGHT', 'LIE FEE LI', 'NOGUCHI KOJI', 'YANO KENTARO', 'WOLFE CHRISTOPHER EDWARD', 'NAGOSHI SHIGEYASU', 'SHAN CHENG', 'NASHIDA TATSUSHI', 'SEALING CHARLES SCOTT', 'IMAIDE TAKUYA', 'KOOL LAWRENCE BERNARD', 'YAMAMOTO KAZUHISA', 'KOTAKI YASUO', 'IZUMIDA MASAAKI', 'YUN SUNG-RYUL', 'TANGE AKIRA', 'STEVENSON CHRISTIAN XAVIER', 'LEE HYUN-WOO', 'PARK IN-SIK', 'NOGUCHI TAKAHARU', 'YAMADA NAOKI', 'HAYASHI HIROKI', 'LAWRENCE BRIAN LEE', 'KAWAI SUEO', 'WELLES KENNETH BRAKELEY', 'SUZUKI HIDETOSHI', 'OGINO HIROYUKI', 'MATSUZAKI HARUMI', 'OSHIMA KAZUYOSHI', 'NISHIUCHI KENICHI', 'GLYNN CHRISTOPHER CHARLES', 'PICKETT JAMES EDWARD', 'KOBAYASHI MASAHARU', 'MILLER BRANDON WAYNE', 'SHIN CHEOLKYU', 'KASUYA TAKASHIGE', 'NOJIMA TAKASHI', 'MURASE KAORU', 'BODEN EUGENE PAULING', 'ARA YOJI', 'HINAMI JUN', 'HOFER DOUGLAS CARL', 'REZNICEK ALEXANDER', 'LACY BENJAMIN PAUL', 'MATSUDA YASUMASA', 'KURODA SHINICHI', 'IMANAKA YOSHIYUKI', 'KANEKO TETSUYA', 'SUGIMOTO KAZUO', 'ISHINAGA HIROYUKI', 'KASANUKI YUJI', 'DAVIS GARY CHARLES', 'YEAGER GARY WILLIAM', 'NAITO TAKASHI', 'NISHINO ATSUSHI', 'KRAY NICHOLAS JOSEPH', \"O'CONNELL BRIAN M\", 'LORRAINE PETER WILLIAM', 'YAMANO IKUO', 'KOBAYASHI SHOEI', 'CHANG YOUNG-BIN', 'SATO MASAHIKO', 'MCCLOSKEY PATRICK JOSEPH', 'FOX JEREMY R', 'CHIDAMBARRAO DURESETI', 'STANDAERT THEODORUS E', 'JEONG HONG-SIL', 'TURNQUIST NORMAN ARNOLD', 'MIYOSHI KENICHI', 'RUUD JAMES ANTHONY', 'NANJO TATSUO', 'KUWABARA NOBUYUKI', 'IGAWA SATOSHI', 'ITZEL GARY MICHAEL', 'YOSHIHIRA AYA', 'DAVIS JR LEWIS BERKLEY', 'ROSS JOHN ANDERSON FERGUS', 'MIYAMOTO HARUKAZU', 'KIM JAE-YOEL', 'NAKAGAMI OHJI', 'HATTORI YOSHIFUMI', 'WALKER KEITH R', 'SHINJO KENJI', 'SHIRAI SHIGERU', 'MIYAJIMA YASUSHI', 'ISHIKAWA TOMOKAZU', 'KARITA SEIICHIRO', 'MAEDA TAKESHI', 'LYONS ROBERT JOSEPH', 'PAPASAKELLARIOU ARIS', 'SAITOH AKIHITO', 'TSUDA SHINICHIRO', 'JEONG KYEONGIN', 'SHIMIZU EIICHIRO', 'TIBBETTS NICOLE JESSICA', 'SUZUKI AKIO', 'OKAZAKI TAKESHI', 'KRAELING MARK BRADSHAW', 'ISHIBASHI HIROMICHI', 'KANDA HIDEHIKO', 'TSUBOYAMA AKIRA', 'GOTOH FUMIHIRO', 'KUMAR AJITH KUTTANNAIR', 'NISHIMURA YUKIO', 'SHAFFER GLENN ROBERT', 'TAKAHASHI SANKICHI', 'VAN DAM JEREMY DANIEL', 'SUGIURA NOBORU', 'SUGIYAMA HIROYUKI', 'MURAKAMI GEN', 'YONEHARA TAKAO', 'KRAEMER GILBERT OTTO', 'KAWAKAMI HIDEAKI', 'OKADA TOMOYUKI', 'HSU LOUIS L', 'SRIVASTAVA ALOK MANI', 'NAKAGAWA KATSUMI', 'NAGARAJ BANGALORE ASWATHA', 'TOMIZAWA TAKESHI', 'SCHMIDT DONALD WILLIAM', 'EKAMBARAM VIJAY', 'KONDO TETSUJIRO', 'SLEIGHT JEFFREY W', 'FANG BIAO', 'GREINER DAN F', 'RUTKOWSKI STEPHEN FRANCIS', 'NAKAMURA KAZUHIKO', 'IKEDA MASAMI', 'NISHIMURA ASAO', 'MURROW KURT DAVID', 'GHASRIPOOR FARSHAD', 'DALTON TIMOTHY J', 'SADANA DEVENDRA K', 'ISHIDA TAKASHI', 'TAKEMURA YOSHINARI', 'JANG JAE HYUK', 'SCHMIDT DONALD W', 'YOON DU-SEOP', 'IWASAKI OSAMU', 'CHAN KWOK PONG', 'KOZLOSKI JAMES R', 'ZHANG JIANZHONG', 'SASAYAMA TAKAO', 'KOZUKA MASAYUKI', 'YAEGASHI HISAO', 'EBISAWA ISAO', 'TATEBAYASHI MAKOTO', 'SEKIGUCHI SHUNICHI', 'NAKAZAWA IKUO', 'CHILA RONALD JAMES', 'CLEVENGER LAWRENCE A', 'SUBRAMANIAN KANAKASABAPATHI', 'UEDA SHIGEKI', 'LEE HYEON-WOO', 'BAUGHMAN AARON K', 'MOCHIZUKI MUGA', 'STAMPER ANTHONY K', 'LI JUNTAO', 'NISHI KUNIHIKO', 'HAMILTON II RICK A', 'UHM JONG HO', 'LIU JIE', 'SLEGEL TIMOTHY J', 'FUKUSHIMA TAKASHI', 'NISHIDE YOSUKE', 'SHAH MANOJ RAMPRASAD', 'MCMAHAN KEVIN WESTON', 'YAZAWA TAKESHI', 'RUBINSZTAJN SLAWOMIR', 'KANOTA KEIJI', 'NAGANO TAKAHIRO', 'YAMASHITA MASATAKA', 'OKINO AYATOMO', 'KAWATOKO NORIHIRO', 'NAGASHIMA TOSHIAKI', 'KATAGIRI KAZUHARU', 'HATTORI SHINOBU', 'RAKSHIT SARBAJIT K', 'YAMADA AKITOSHI', 'MYUNG SEHO', 'HERR STEFAN', 'MURAKAMI HAJIME', 'KIM TAEHYOUNG', 'SATOH ISAO', 'TANAKA SHIGEAKI', 'KIM SANG BUM', 'GOTO AKIRA', 'MIYAGAWA MASASHI', 'KITANO MAKOTO', 'KOSHIKAWA HIROSHI', 'ROBERTS HERBERT CHIDSEY', 'ZHANG HUA', 'YAMADA KAZUJI', 'YAGASAKI YOICHI', 'KWON HWAN-JOON', 'SAWAI YUICHI', 'LIN DECHAO', 'KATAYAMA AKIHIRO', 'JEONG KYEONG-IN', 'JANG JAEHYUK', 'AOTA KINYA', 'YAMASHITA HISAO', 'HARUTA MASAHIRO', 'KESHAVAN HRISHIKESH', 'OGAWA TOSHIO', 'KON TAKAYASU', 'CHOI SEUNG-HOON', 'WORDEN BRET DWAYNE', 'INOUE RYOJI', 'SEXTON DANIEL WHITE', 'INOUE MAKOTO', 'LEE HAK-JU', 'MARU AKIKO', 'KIM SOENGHUN', 'ISOGAI TOKIO', 'HAN JIN KYU', 'KOBAYASHI MASAAKI', 'SASAKI HIROSHI', 'YOKOYAMA TAKASHI', 'KAWADA HARUKI', 'KWAK YONG-JUN', 'WATANABE TSUTOMU', 'OHASHI TETSUYA', 'LEWIS LARRY NEIL', 'JI HYOUNG-JU', 'GALLUCCI ROBERT RUSSELL', 'KLODOWSKI ANTHONY MICHAEL', 'KIM SOENG HUN', 'KOO CHANG-HOI', 'WATANABE KENJIRO', 'TANAKA MASATO', 'CHO JOON YOUNG', 'TAKEDA TOSHIHIKO', 'NAKAMURA HITOSHI', 'KANAKASABAPATHY SIVANANDA K', 'NAGAI AKIRA', 'KANEVSKY DIMITRI', 'SHIMIZU ISAMU', 'SASAKI TORU', 'CELLA JAMES ANTHONY', 'KAWAI JUN', 'LANG STEFFEN', 'SCHNETZKA HAROLD ROBERT', 'SAITO AKIO', 'OHBA TAKASHI', 'MORIYAMA JIRO', 'KUGIYA FUMIO', 'LEE SUN-IL', 'SCIPIO ALSTON ILFORD', 'MORIOKA YUICHI', 'NAKAMURA KIYOSHI', 'KOITABASHI NORIBUMI', 'WANG YU', 'SAITO TAKASHI', 'TRIM CRAIG M', 'ZIMINSKY WILLY STEVE', 'FARRELL MARK S', 'TAKAHASHI TADASHI', 'WANG XUEFENG', 'SAITO HIROYUKI', 'KULKARNI AMBARISH JAYANT', 'IWASAKI TAKESHI', 'SUZUKI TAKASHI', 'RITTER ANN MELINDA', 'TSUKUDA KEIICHIRO', 'KIM SUNG-JIN', 'HARPUR LIAM', 'YAGUCHI AKIHIRO', 'MATSUMOTO TOMOHIDE', 'SAKODA KAZUYUKI', 'HWANG SUNG-OH', 'NAGAOKA YUKIO', 'CHO JOON-YOUNG', 'NIHEI HIDEKI', 'KANEKO SHUZO', 'DUNNE JONATHAN', 'DUGGAL ANIL RAJ', 'PICKOVER CLIFFORD A', 'NIERGARTH DANIEL ALAN', 'YOKONO ATARU', 'MORI YOSHIHIRO', 'CLEMENTS JEFFREY DONALD', 'YAMAMOTO KAZUYUKI', 'BAE TAEHAN', 'MINOWA TOSHIMICHI', 'KO JUNG-WAN', 'KUROIWA HIROSHI', 'ATAGO TAKESHI', 'KASHINO TOSHIO', 'KAMADA YASUNORI', 'KWAK YOUNGWOO', 'NISHIMURA YUTAKA', 'PREMERLANI WILLIAM JAMES', 'TERAO MOTOYASU', 'INOKUCHI TATSUYA', 'SUZUKI AKIRA', 'TAMURA YASUYUKI', 'INUI TOSHIHARU', 'YAMADA HIROYUKI', 'MITRAN MARCEL', 'WANG SHIZHONG', 'BURDGICK STEVEN SEBASTIAN', 'MIYASHITA HIROKAZU', 'EKANAYAKE SANJI', 'NISHIDA TETSUYA', 'ARAI ATSUSHI', 'HEKMATSHOARTABARI BAHMAN', 'SPITSBERG IRENE', 'PERRY ROBERT JAMES', 'ANDO TAKASHI', 'LEE JULIA LAM', 'YAMAGAMI TAMOTSU', 'NAKAMURA SHOZO', 'YAMAZAKI TAKASHI', 'BOARDMAN GREGORY ALLEN', 'FOGEL KEITH E', 'KOTTILINGAM SRIKANTH CHANDRUDU', 'KUROSAWA TOSHIAKI', 'NOFFSINGER JOSEPH FORREST', 'LASKARIS EVANGELOS TRIFON', 'ASUKAI MASAMICHI', 'KEIMEL CHRISTOPHER FRED', 'XIONG RIHUA', 'HELLER LISA CRANTON', 'WEI CHANG', 'DELUCA LISA SEACAT', 'MIYASHITA KUNIO', 'EDAMURA TETSUYA', 'FARRELL MARK', 'IWAWAKI HIRONOBU', 'TAKAHASHI AKIO', 'GOWDA ARUN VIRUPAKSHA', 'ARASHIMA TERUO', 'NAKAMURA TAKATOSHI', 'TAKAI MOTOYUKI', 'KATO JUNICHI', 'KURODA OSAMU', 'LEE CHOONGHYUN', 'SAEKI JUNICHI', 'SALASOO LEMBIT', 'SALAPURA VALENTINA', 'USUI MAKOTO', 'YAMANOBE MASATO', 'MURAKAMI TOKUMICHI', 'WATANABE TAKASHI', 'KIM YOUNG-BUM', 'KOIZUMI YUTAKA', 'SUN CHEN', 'OSADA YOSHIYUKI', 'NISHIGORI HITOSHI', 'MYUNG SE-HO', 'MIYAZAKI TAKESHI', 'YOSHINO KOJI', 'FURUMIYA SHIGERU', 'BREEZE-STRINGFELLOW ANDREW', 'TAKENOUCHI MASANORI', 'YOSHINAGA KAZUO', 'UCHIDA MASASHI', 'LEE JU-HO', 'KOISHI KENJI', 'HANAYA HIROYUKI', 'SUZUKI TETSUO', 'KOYAMA SHUJI', 'OGATA MASATSUGU', 'KITABATAKE KENJI', 'WAGONER ROBERT GREGORY', 'ISHIHARA SHUNICHI', 'KHAKIFIROOZ ALI', 'GOTOH YOSHIHO', 'ZATORSKI DAREK TOMASZ', 'DIMASCIO PAUL STEPHEN', 'SASAKI YOSHIKI', 'EGUCHI SYUUJI', 'FUJITA MIYUKI', 'JI HYOUNGJU', 'NAKAGIRI TAKASHI', 'DINC OSMAN SAIM', 'JANG JAE-HYUK', 'KANG HEE-WON', 'ISAKA KAZUO', 'WEIMER MICHAEL JAMES', 'WADA SEIJI', 'YOSHIDA AKIHIKO', 'NAKANO TOSHIO', 'TSUKADA TOSHIHISA', 'MIYA KAZUYUKI', 'HARDING KEVIN GEORGE', 'BUNKER RONALD SCOTT', 'TANAKA SHINICHI', 'YAMAMOTO AKIRA', 'KIM SOENG-HUN', 'CHOI SEUNGHOON', 'KONDO SHIGEO', 'SATO NOBUHIKO', 'KING ROBERT DEAN', 'LI NING', 'OH JINYOUNG', 'FURUKAWA TOSHIHARU', 'KUDO KIYOMITSU', 'MATSUMOTO TAKAHIRO', 'KATO MASAO', 'MIYABE SHIGEO', 'HIRABAYASHI MITSUHIRO', 'PARK SUNGJIN', 'DIVAKARUNI RAMACHANDRA', 'VAN LIESHOUT GERT JAN', 'OHARA SHUNJI', 'MINEMURA HIROYUKI', 'TAKEHARA MITSURU', 'HOLMES STEVEN J', 'YONEKUBO HIROAKI', 'HAYASAKI KIMIYUKI', 'TSUKAMOTO TAKEO', 'NARAHARA TOSHIKAZU', 'HIRAMATSU SOICHI', 'FUKUDA TSUGUHIRO'}\n",
      "AA vs SM\n",
      "{'DORIS BRUCE B', 'KWATRA SHIKHAR', 'ORIKASA TSUYOSHI', 'YAMAMOTO HAJIME', 'LJUNG RICKARD', 'KAWADE HISAAKI', 'OKUYAMA TOSHIAKI', 'TERAI HARUHIKO', 'KURABAYASHI YUTAKA', 'TAJIMA FUMIO', 'YANG KYEONG-CHEOL', 'KANAI MASAHIRO', 'OGAWA YOSHIHIRO', 'OWASHI HITOAKI', 'NOBUE TOMOTAKA', 'YEO JEONGHO', 'ZHENG XIAOQING', 'YONEMITSU JUN', 'TANEYA YOICHI', 'OTSUKA NAOJI', 'SUZUKI HIROSHI', 'NOWAK EDWARD J', 'VAN DER VELDE HIMKE', 'KAWASAKI OSAMU', 'TOBIN JAMES ROBERT', 'KENMOKU TAKASHI', 'MARTIN BRIAN ALEXANDER', 'YOSHIDA ISAMU', 'BEDELL STEPHEN W', 'LEE KOOK-HEUI', 'KISHORE KUNA VENKAT SATYA RAMA', 'KANG HYUN-JEONG', 'YAMAMOTO MASAYUKI', 'TAKAHASHI WATARU', 'HORAK DAVID V', 'YANG HAI', 'KASAMOTO MASAMI', 'KASAHARA SHUNICHI', 'MATSUDA HIROSHI', 'SATO HIROSHI', 'TAKAHASHI KOJI', 'HASZ WAYNE CHARLES', 'NAM YOUNG-HAN', 'MYERS GEOFFREY DAVID', 'MASUDA KAZUAKI', 'JOO PAN-YUH', 'NIWA TAKASHI', 'SETLUR ANANT ACHYUT', 'KAWAMURA HIROYUKI', 'SHOJI MAMORU', 'KANEDA AIZO', 'KUBOTA MASAHIKO', 'IWAMURA MASAHIRO', 'MAKINO KENICHI', 'LARSEN EINAR VAUGHN', 'KOKAKU HIROYOSHI', 'SEGAWA MASANORI', 'YAMAGUCHI TAKAAKI', 'ISONO AOJI', 'NISHIJIMA HIDEO', 'NOMURA ICHIRO', 'TAKEUCHI TOSHIFUMI', 'GOTO FUMITAKA', 'KAMATANI JUN', 'UESUGI MITSURU', 'KOIKE SHOJI', 'HASHEMI POUYA', 'UJITA TOSHIHIKO', 'KIM IL-KOO', 'HUANG SHYH-CHIN', 'TSUBOI NOBUYOSHI', 'OHNISHI TOSHIKAZU', 'LEOBANDUNG EFFENDI', 'NAKAMURA SHINICHI', 'INOUE HIROSHI', 'MANDELMAN JACK A', 'PARK KYUNG-MO', 'JOO SEONG-SIN', 'YANO TETSUYA', 'JUNG JUNG-SOO', 'CHOI BYEONG-DOO', 'SATO YOSHIO', 'DAUM WOLFGANG', 'TERADA MASAHIRO', 'YAMAMOTO MASANOBU', 'SAKAI KUNIHIRO', 'NOSE HIROYASU', 'MCCONNELEE PAUL ALAN', 'MIN JUNG-HYE', 'KIM YOUNGBUM', 'MAEHARA NAOYOSHI', 'SUZUKI KOICHI', 'ORLANDO ROBERT JOSEPH', 'YAMASHITA TENKO', 'TSUBOSAKI KUNIHIRO', 'TAJIKA HIROSHI', 'OSADA TORACHIKA', 'PARK DONG-SEEK', 'JOHNSON THOMAS EDWARD', 'HIRAI YUTAKA', 'CHEN WEI', 'LIPKIN DON MARK', 'KIMURA HIROYUKI', 'SHIMADA SATOSHI', 'OKAMOTO HIROO', 'SHIMOTANI MITSUO', 'XIE RUILONG', 'TAKANO HIROAKI', 'YAMADA NOBORU', 'EVANS SCOTT CHARLES', 'CHO JAE-WEON', 'JACKSON MELVIN ROBERT', 'LEE SUNG-JIN', 'ISHIHARA HIDESHI', 'YAMAGUCHI HIDEKI', 'FURUKAWA SHUNSUKE', 'TSUCHIYA KENJI', 'OGINO MASAHIKO', 'CARTER WILLIAM THOMAS', 'VONDRELL RANDY M', 'XU LIXIANG', 'PI ZHOUYUE', 'TSUGA KAZUHIRO', 'SLEGEL TIMOTHY', 'LEE JU HO', 'YOON SOON-YOUNG', 'INOUE MASAYUKI', 'LEE TAMMY', 'JIANG MINGXIAO', 'KUNIMOTO KEIJIRO', 'KIM YOUN-SUN', 'HIGUMA MASAHIKO', 'DENG ZHIGANG', 'KONNO YUJI', 'IWAKI TSUTOMU', 'MURAI KEIICHI', 'FUJINAMI YASUSHI', 'MISUMI TERUO', 'SHI XIAOLEI', 'PENG WENQING', 'MATSUDA SHINPEI', 'AZUHATA SHIGERU', 'OSTROVERKHOV VICTOR PETROVICH', 'KIDA AKIRA', 'KIM YOUNSUN', 'HAYASHI KAZUNORI', 'ONO MITSUHIRO', 'MATSUNAMI NAOTO', 'YANG CHIH-CHAO', 'TAKIGUCHI TAKAO', 'WANG JUNLI', 'HASEBE TAKUMI', 'TOLLISON BRIAN LEE', 'MIYAWAKI MAMORU', 'SONG JAE-YEON', 'SUZUKI NORITAKE', 'KIM JEEHWAN', 'ONGGOSANUSI EKO', 'SAKAI YOSHIO', 'MOROOKA YASUO', 'SATO MAKOTO', 'CHOI HO-KYU', 'SUGITANI HIROSHI', 'WEI BIN', 'MORIYA YOSHIMI', 'SUGIMOTO HITOSHI', 'NAKANE SHINICHI', 'VAN LIESHOUT GERT-JAN', 'GOTO FUMIHIRO', 'RYU HYUNSEOK', 'GAINEY JR CHARLES W', 'PONOTH SHOM', 'FUKUSHIMA ISAO', 'JOSHI NARENDRA DIGAMBER', 'NG BOON LOONG', 'CUI YAN', 'PRENTICE IAN FRANCIS', 'MATSUDA HIROMU', 'LEE KYUNG-GEUN', 'YAMADA MAKOTO', 'SAKAMAKI HISASHI', 'TAKAHASHI KATSUHIRO', 'NAGASE HIROSHI', 'YANG HYUN-KOO', 'GAMBINO JEFFREY P', 'MIURA HIDEO', 'HAN JIN-KYU', 'ITO MOTOSHI', 'LI YING', 'GSCHWIND MICHAEL KARL', 'YAMAMOTO KATSUHIKO', 'KIM SANG-BUM', 'MURPHY JAMES EDWARD', 'LIU YUNFENG', 'TESHIGAWARA MINORU', 'HERSHEY JOHN ERIK', 'WATANABE HIROSHI', 'TERAUCHI TOSHIRO', 'YANAGISAWA YOSHIHIRO', 'SATO KOICHI', 'MURAI RYUICHI', 'TODOKORO YASUYUKI', 'CHOI SUNG-HO', 'KHAN FAROOQ', 'SCHEP CORNELIS MARINUS', 'GUO XIN', 'TANNO KOICHI', 'WAKABAYASHI HIDEJI', 'COLBURN MATTHEW E', 'MORITA AYUMU', 'TOYOGUCHI YOSHINORI', 'MAEOKA KUNIHIKO', 'NISHIKAWA AKIO', 'SHIBATA AKIRA', 'WAJIMA MOTOYO', 'RITTER ALLEN MICHAEL', 'BOSS GREGORY J', 'SAITO ICHIRO', 'BASKER VEERARAGHAVAN S', 'OKADA SHINJIRO', 'EDELSTEIN DANIEL C', 'UETSUKI MASAYA', 'KATO MOTOKI', 'MIYATA MASANORI', 'SATO SHINICHI', 'GREINER DAN', 'DELVAUX JOHN MCCONNELL', 'MISHINA SHINYA', 'SHUM CHUNG-LUNG K', 'LIM CHI-WOO', 'COOPER JARED KLINEMAN', 'NAGAI TAKESHI', 'TOSHIMA HIROAKI', 'ONO TAKEO', 'HWANG SUNG-HEE', 'CHAN DAVID SO KEUNG', 'TANAKA KENJI', 'SEKI SATOSHI', 'HIRABAYASHI HIROMITSU', 'NISHIKORI HITOSHI', 'DAROLIA RAMGOPAL', 'YEH CHUN-CHEN', 'HAMADA TOSHIYA', 'MATSUMOTO HARUYUKI', 'TANI ATSUSHI', 'SANO AKANE', 'SAPORITO ANTHONY', 'MIYAZAKI TOSHIHIKO', 'INOUE HIROYUKI', 'OZAKI TERUO', 'NOH HOONDONG', 'KIM SANGBUM', 'MONIZ THOMAS ORY', 'NAKAYA HIDEO', 'SAKO YOICHIRO', 'WATANABE TAKEJI', 'IMAMURA TAKESHI', 'OSHIMA MITSUAKI', 'KANEKO SATOSHI', 'YONEDA KENJI', 'ODAGIRI MASARU', 'MELTON PATRICK BENEDICT', 'LEE HYOJIN', 'KAMIYAMA YUJI', 'KANBE JUNICHIRO', 'VENKATARAMANI VENKAT SUBRAMANIAM', 'CHENG KANGGUO', 'STOIA LUCAS JOHN', 'SASANO AKIRA', 'SHIMA HISATO', 'SAITO KEISHI', 'TOMOSADA MASAHIRO', 'TAKENAKA KATSURO', 'PARK SUNG-WOOK', 'KIMURA MAKIKO', 'LU SU', 'MORRILL DANIEL LAWRENCE', 'KINJO NORIYUKI', 'RADENS CARL J', 'MATSUBARA MIYUKI', 'LEE JUHO', 'YOSHIDA TADAO', 'HONDA KAZUYOSHI', 'REN ZHIYUAN', 'TAKAHASHI KENJI', 'BRAY JAMES WILLIAM', 'SHIRAI TAIZO', 'YAMANAKA AKIHIRO', 'SAITO ASAO', 'NARAYANAN VIJAY', 'SUZUKI TERUHIKO', 'MORIWAKI YOSHIO', 'LEE CHING-PANG', 'BEKKI TOSHIHIKO', 'NAKAMURA ATSUSHI', 'TAKAHASHI KIICHIRO', 'SUGAMA SADAYUKI', 'COMANZO HOLLY ANN', 'SHAHIDI GHAVAM G', 'SAIKAWA HIDEO', 'GERSTLER WILLIAM DWIGHT', 'LIE FEE LI', 'NOGUCHI KOJI', 'YANO KENTARO', 'WOLFE CHRISTOPHER EDWARD', 'NAGOSHI SHIGEYASU', 'SHAN CHENG', 'NASHIDA TATSUSHI', 'SEALING CHARLES SCOTT', 'IMAIDE TAKUYA', 'KOOL LAWRENCE BERNARD', 'YAMAMOTO KAZUHISA', 'KOTAKI YASUO', 'IZUMIDA MASAAKI', 'YUN SUNG-RYUL', 'TANGE AKIRA', 'STEVENSON CHRISTIAN XAVIER', 'LEE HYUN-WOO', 'PARK IN-SIK', 'NOGUCHI TAKAHARU', 'YAMADA NAOKI', 'HAYASHI HIROKI', 'LAWRENCE BRIAN LEE', 'KAWAI SUEO', 'WELLES KENNETH BRAKELEY', 'SUZUKI HIDETOSHI', 'OGINO HIROYUKI', 'MATSUZAKI HARUMI', 'OSHIMA KAZUYOSHI', 'NISHIUCHI KENICHI', 'GLYNN CHRISTOPHER CHARLES', 'PICKETT JAMES EDWARD', 'KOBAYASHI MASAHARU', 'MILLER BRANDON WAYNE', 'SHIN CHEOLKYU', 'KASUYA TAKASHIGE', 'NOJIMA TAKASHI', 'MURASE KAORU', 'BODEN EUGENE PAULING', 'ARA YOJI', 'HINAMI JUN', 'HOFER DOUGLAS CARL', 'REZNICEK ALEXANDER', 'LACY BENJAMIN PAUL', 'MATSUDA YASUMASA', 'KURODA SHINICHI', 'IMANAKA YOSHIYUKI', 'KANEKO TETSUYA', 'SUGIMOTO KAZUO', 'ISHINAGA HIROYUKI', 'KASANUKI YUJI', 'DAVIS GARY CHARLES', 'YEAGER GARY WILLIAM', 'NAITO TAKASHI', 'NISHINO ATSUSHI', 'KRAY NICHOLAS JOSEPH', \"O'CONNELL BRIAN M\", 'LORRAINE PETER WILLIAM', 'YAMANO IKUO', 'KOBAYASHI SHOEI', 'CHANG YOUNG-BIN', 'SATO MASAHIKO', 'MCCLOSKEY PATRICK JOSEPH', 'FOX JEREMY R', 'CHIDAMBARRAO DURESETI', 'STANDAERT THEODORUS E', 'JEONG HONG-SIL', 'TURNQUIST NORMAN ARNOLD', 'MIYOSHI KENICHI', 'RUUD JAMES ANTHONY', 'NANJO TATSUO', 'KUWABARA NOBUYUKI', 'IGAWA SATOSHI', 'ITZEL GARY MICHAEL', 'YOSHIHIRA AYA', 'DAVIS JR LEWIS BERKLEY', 'ROSS JOHN ANDERSON FERGUS', 'MIYAMOTO HARUKAZU', 'KIM JAE-YOEL', 'NAKAGAMI OHJI', 'HATTORI YOSHIFUMI', 'WALKER KEITH R', 'SHINJO KENJI', 'SHIRAI SHIGERU', 'MIYAJIMA YASUSHI', 'ISHIKAWA TOMOKAZU', 'KARITA SEIICHIRO', 'MAEDA TAKESHI', 'LYONS ROBERT JOSEPH', 'PAPASAKELLARIOU ARIS', 'SAITOH AKIHITO', 'TSUDA SHINICHIRO', 'JEONG KYEONGIN', 'SHIMIZU EIICHIRO', 'TIBBETTS NICOLE JESSICA', 'SUZUKI AKIO', 'OKAZAKI TAKESHI', 'KRAELING MARK BRADSHAW', 'ISHIBASHI HIROMICHI', 'KANDA HIDEHIKO', 'TSUBOYAMA AKIRA', 'GOTOH FUMIHIRO', 'KUMAR AJITH KUTTANNAIR', 'NISHIMURA YUKIO', 'SHAFFER GLENN ROBERT', 'TAKAHASHI SANKICHI', 'VAN DAM JEREMY DANIEL', 'SUGIURA NOBORU', 'SUGIYAMA HIROYUKI', 'MURAKAMI GEN', 'YONEHARA TAKAO', 'KRAEMER GILBERT OTTO', 'KAWAKAMI HIDEAKI', 'OKADA TOMOYUKI', 'HSU LOUIS L', 'SRIVASTAVA ALOK MANI', 'NAKAGAWA KATSUMI', 'NAGARAJ BANGALORE ASWATHA', 'TOMIZAWA TAKESHI', 'SCHMIDT DONALD WILLIAM', 'EKAMBARAM VIJAY', 'KONDO TETSUJIRO', 'SLEIGHT JEFFREY W', 'FANG BIAO', 'GREINER DAN F', 'RUTKOWSKI STEPHEN FRANCIS', 'NAKAMURA KAZUHIKO', 'IKEDA MASAMI', 'NISHIMURA ASAO', 'MURROW KURT DAVID', 'GHASRIPOOR FARSHAD', 'DALTON TIMOTHY J', 'SADANA DEVENDRA K', 'ISHIDA TAKASHI', 'TAKEMURA YOSHINARI', 'JANG JAE HYUK', 'SCHMIDT DONALD W', 'YOON DU-SEOP', 'IWASAKI OSAMU', 'CHAN KWOK PONG', 'KOZLOSKI JAMES R', 'ZHANG JIANZHONG', 'SASAYAMA TAKAO', 'KOZUKA MASAYUKI', 'YAEGASHI HISAO', 'EBISAWA ISAO', 'TATEBAYASHI MAKOTO', 'SEKIGUCHI SHUNICHI', 'NAKAZAWA IKUO', 'CHILA RONALD JAMES', 'CLEVENGER LAWRENCE A', 'SUBRAMANIAN KANAKASABAPATHI', 'UEDA SHIGEKI', 'LEE HYEON-WOO', 'BAUGHMAN AARON K', 'MOCHIZUKI MUGA', 'STAMPER ANTHONY K', 'LI JUNTAO', 'NISHI KUNIHIKO', 'HAMILTON II RICK A', 'UHM JONG HO', 'LIU JIE', 'SLEGEL TIMOTHY J', 'FUKUSHIMA TAKASHI', 'NISHIDE YOSUKE', 'SHAH MANOJ RAMPRASAD', 'MCMAHAN KEVIN WESTON', 'YAZAWA TAKESHI', 'RUBINSZTAJN SLAWOMIR', 'KANOTA KEIJI', 'NAGANO TAKAHIRO', 'YAMASHITA MASATAKA', 'OKINO AYATOMO', 'KAWATOKO NORIHIRO', 'NAGASHIMA TOSHIAKI', 'KATAGIRI KAZUHARU', 'HATTORI SHINOBU', 'RAKSHIT SARBAJIT K', 'YAMADA AKITOSHI', 'MYUNG SEHO', 'HERR STEFAN', 'MURAKAMI HAJIME', 'KIM TAEHYOUNG', 'SATOH ISAO', 'TANAKA SHIGEAKI', 'KIM SANG BUM', 'GOTO AKIRA', 'MIYAGAWA MASASHI', 'KITANO MAKOTO', 'KOSHIKAWA HIROSHI', 'ROBERTS HERBERT CHIDSEY', 'ZHANG HUA', 'YAMADA KAZUJI', 'YAGASAKI YOICHI', 'KWON HWAN-JOON', 'SAWAI YUICHI', 'LIN DECHAO', 'KATAYAMA AKIHIRO', 'JEONG KYEONG-IN', 'JANG JAEHYUK', 'AOTA KINYA', 'YAMASHITA HISAO', 'HARUTA MASAHIRO', 'KESHAVAN HRISHIKESH', 'OGAWA TOSHIO', 'KON TAKAYASU', 'CHOI SEUNG-HOON', 'WORDEN BRET DWAYNE', 'INOUE RYOJI', 'SEXTON DANIEL WHITE', 'INOUE MAKOTO', 'LEE HAK-JU', 'MARU AKIKO', 'KIM SOENGHUN', 'ISOGAI TOKIO', 'HAN JIN KYU', 'KOBAYASHI MASAAKI', 'SASAKI HIROSHI', 'YOKOYAMA TAKASHI', 'KAWADA HARUKI', 'KWAK YONG-JUN', 'WATANABE TSUTOMU', 'OHASHI TETSUYA', 'LEWIS LARRY NEIL', 'JI HYOUNG-JU', 'GALLUCCI ROBERT RUSSELL', 'KLODOWSKI ANTHONY MICHAEL', 'KIM SOENG HUN', 'KOO CHANG-HOI', 'WATANABE KENJIRO', 'TANAKA MASATO', 'CHO JOON YOUNG', 'TAKEDA TOSHIHIKO', 'NAKAMURA HITOSHI', 'KANAKASABAPATHY SIVANANDA K', 'NAGAI AKIRA', 'KANEVSKY DIMITRI', 'SHIMIZU ISAMU', 'SASAKI TORU', 'CELLA JAMES ANTHONY', 'KAWAI JUN', 'LANG STEFFEN', 'SCHNETZKA HAROLD ROBERT', 'SAITO AKIO', 'OHBA TAKASHI', 'MORIYAMA JIRO', 'KUGIYA FUMIO', 'LEE SUN-IL', 'SCIPIO ALSTON ILFORD', 'MORIOKA YUICHI', 'NAKAMURA KIYOSHI', 'KOITABASHI NORIBUMI', 'WANG YU', 'SAITO TAKASHI', 'TRIM CRAIG M', 'ZIMINSKY WILLY STEVE', 'FARRELL MARK S', 'TAKAHASHI TADASHI', 'WANG XUEFENG', 'SAITO HIROYUKI', 'KULKARNI AMBARISH JAYANT', 'IWASAKI TAKESHI', 'SUZUKI TAKASHI', 'RITTER ANN MELINDA', 'TSUKUDA KEIICHIRO', 'KIM SUNG-JIN', 'HARPUR LIAM', 'YAGUCHI AKIHIRO', 'MATSUMOTO TOMOHIDE', 'SAKODA KAZUYUKI', 'HWANG SUNG-OH', 'NAGAOKA YUKIO', 'CHO JOON-YOUNG', 'NIHEI HIDEKI', 'KANEKO SHUZO', 'DUNNE JONATHAN', 'DUGGAL ANIL RAJ', 'PICKOVER CLIFFORD A', 'NIERGARTH DANIEL ALAN', 'YOKONO ATARU', 'MORI YOSHIHIRO', 'CLEMENTS JEFFREY DONALD', 'YAMAMOTO KAZUYUKI', 'BAE TAEHAN', 'MINOWA TOSHIMICHI', 'KO JUNG-WAN', 'KUROIWA HIROSHI', 'ATAGO TAKESHI', 'KASHINO TOSHIO', 'KAMADA YASUNORI', 'KWAK YOUNGWOO', 'NISHIMURA YUTAKA', 'PREMERLANI WILLIAM JAMES', 'TERAO MOTOYASU', 'INOKUCHI TATSUYA', 'SUZUKI AKIRA', 'TAMURA YASUYUKI', 'INUI TOSHIHARU', 'YAMADA HIROYUKI', 'MITRAN MARCEL', 'WANG SHIZHONG', 'BURDGICK STEVEN SEBASTIAN', 'MIYASHITA HIROKAZU', 'EKANAYAKE SANJI', 'NISHIDA TETSUYA', 'ARAI ATSUSHI', 'HEKMATSHOARTABARI BAHMAN', 'SPITSBERG IRENE', 'PERRY ROBERT JAMES', 'ANDO TAKASHI', 'LEE JULIA LAM', 'YAMAGAMI TAMOTSU', 'NAKAMURA SHOZO', 'YAMAZAKI TAKASHI', 'BOARDMAN GREGORY ALLEN', 'FOGEL KEITH E', 'KOTTILINGAM SRIKANTH CHANDRUDU', 'KUROSAWA TOSHIAKI', 'NOFFSINGER JOSEPH FORREST', 'LASKARIS EVANGELOS TRIFON', 'ASUKAI MASAMICHI', 'KEIMEL CHRISTOPHER FRED', 'XIONG RIHUA', 'HELLER LISA CRANTON', 'WEI CHANG', 'DELUCA LISA SEACAT', 'MIYASHITA KUNIO', 'EDAMURA TETSUYA', 'FARRELL MARK', 'IWAWAKI HIRONOBU', 'TAKAHASHI AKIO', 'GOWDA ARUN VIRUPAKSHA', 'ARASHIMA TERUO', 'NAKAMURA TAKATOSHI', 'TAKAI MOTOYUKI', 'KATO JUNICHI', 'KURODA OSAMU', 'LEE CHOONGHYUN', 'SAEKI JUNICHI', 'SALASOO LEMBIT', 'SALAPURA VALENTINA', 'USUI MAKOTO', 'YAMANOBE MASATO', 'MURAKAMI TOKUMICHI', 'WATANABE TAKASHI', 'KIM YOUNG-BUM', 'KOIZUMI YUTAKA', 'SUN CHEN', 'OSADA YOSHIYUKI', 'NISHIGORI HITOSHI', 'MYUNG SE-HO', 'MIYAZAKI TAKESHI', 'YOSHINO KOJI', 'FURUMIYA SHIGERU', 'BREEZE-STRINGFELLOW ANDREW', 'TAKENOUCHI MASANORI', 'YOSHINAGA KAZUO', 'UCHIDA MASASHI', 'LEE JU-HO', 'KOISHI KENJI', 'HANAYA HIROYUKI', 'SUZUKI TETSUO', 'KOYAMA SHUJI', 'OGATA MASATSUGU', 'KITABATAKE KENJI', 'WAGONER ROBERT GREGORY', 'ISHIHARA SHUNICHI', 'KHAKIFIROOZ ALI', 'GOTOH YOSHIHO', 'ZATORSKI DAREK TOMASZ', 'DIMASCIO PAUL STEPHEN', 'SASAKI YOSHIKI', 'EGUCHI SYUUJI', 'FUJITA MIYUKI', 'JI HYOUNGJU', 'NAKAGIRI TAKASHI', 'DINC OSMAN SAIM', 'JANG JAE-HYUK', 'KANG HEE-WON', 'ISAKA KAZUO', 'WEIMER MICHAEL JAMES', 'WADA SEIJI', 'YOSHIDA AKIHIKO', 'NAKANO TOSHIO', 'TSUKADA TOSHIHISA', 'MIYA KAZUYUKI', 'HARDING KEVIN GEORGE', 'BUNKER RONALD SCOTT', 'TANAKA SHINICHI', 'YAMAMOTO AKIRA', 'KIM SOENG-HUN', 'CHOI SEUNGHOON', 'KONDO SHIGEO', 'SATO NOBUHIKO', 'KING ROBERT DEAN', 'LI NING', 'OH JINYOUNG', 'FURUKAWA TOSHIHARU', 'KUDO KIYOMITSU', 'MATSUMOTO TAKAHIRO', 'KATO MASAO', 'MIYABE SHIGEO', 'HIRABAYASHI MITSUHIRO', 'PARK SUNGJIN', 'DIVAKARUNI RAMACHANDRA', 'VAN LIESHOUT GERT JAN', 'OHARA SHUNJI', 'MINEMURA HIROYUKI', 'TAKEHARA MITSURU', 'HOLMES STEVEN J', 'YONEKUBO HIROAKI', 'HAYASAKI KIMIYUKI', 'TSUKAMOTO TAKEO', 'NARAHARA TOSHIKAZU', 'HIRAMATSU SOICHI', 'FUKUDA TSUGUHIRO'}\n"
     ]
    }
   ],
   "source": [
    "aa_cn = intersect(aa_results, cn_results, 300, \"AA vs CN\")\n",
    "aa_jc = intersect(aa_results, jc_results, 300, \"AA vs JC\")\n",
    "aa_aa = intersect(aa_results, aa_results, 300, \"AA vs AA\")\n",
    "aa_sm = intersect(aa_results, simrank_results, 300, \"AA vs SM\")"
   ],
   "metadata": {
    "collapsed": false,
    "ExecuteTime": {
     "end_time": "2024-01-15T19:02:07.784167800Z",
     "start_time": "2024-01-15T18:47:16.732564700Z"
    }
   }
  },
  {
   "cell_type": "code",
   "execution_count": 70,
   "outputs": [
    {
     "name": "stdout",
     "output_type": "stream",
     "text": [
      "CN vs JC\n",
      "{'DORIS BRUCE B', 'KWATRA SHIKHAR', 'ORIKASA TSUYOSHI', 'YAMAMOTO HAJIME', 'LJUNG RICKARD', 'KAWADE HISAAKI', 'OKUYAMA TOSHIAKI', 'TERAI HARUHIKO', 'KURABAYASHI YUTAKA', 'TAJIMA FUMIO', 'YANG KYEONG-CHEOL', 'KANAI MASAHIRO', 'OGAWA YOSHIHIRO', 'OWASHI HITOAKI', 'NOBUE TOMOTAKA', 'YEO JEONGHO', 'ZHENG XIAOQING', 'YONEMITSU JUN', 'TANEYA YOICHI', 'OTSUKA NAOJI', 'SUZUKI HIROSHI', 'NOWAK EDWARD J', 'VAN DER VELDE HIMKE', 'KAWASAKI OSAMU', 'TOBIN JAMES ROBERT', 'KENMOKU TAKASHI', 'MARTIN BRIAN ALEXANDER', 'YOSHIDA ISAMU', 'BEDELL STEPHEN W', 'LEE KOOK-HEUI', 'KISHORE KUNA VENKAT SATYA RAMA', 'KANG HYUN-JEONG', 'YAMAMOTO MASAYUKI', 'TAKAHASHI WATARU', 'HORAK DAVID V', 'YANG HAI', 'KASAMOTO MASAMI', 'KASAHARA SHUNICHI', 'MATSUDA HIROSHI', 'SATO HIROSHI', 'TAKAHASHI KOJI', 'HASZ WAYNE CHARLES', 'NAM YOUNG-HAN', 'MYERS GEOFFREY DAVID', 'MASUDA KAZUAKI', 'JOO PAN-YUH', 'NIWA TAKASHI', 'SETLUR ANANT ACHYUT', 'KAWAMURA HIROYUKI', 'SHOJI MAMORU', 'KANEDA AIZO', 'KUBOTA MASAHIKO', 'IWAMURA MASAHIRO', 'MAKINO KENICHI', 'LARSEN EINAR VAUGHN', 'KOKAKU HIROYOSHI', 'SEGAWA MASANORI', 'YAMAGUCHI TAKAAKI', 'ISONO AOJI', 'NISHIJIMA HIDEO', 'NOMURA ICHIRO', 'TAKEUCHI TOSHIFUMI', 'GOTO FUMITAKA', 'KAMATANI JUN', 'UESUGI MITSURU', 'KOIKE SHOJI', 'HASHEMI POUYA', 'UJITA TOSHIHIKO', 'KIM IL-KOO', 'HUANG SHYH-CHIN', 'TSUBOI NOBUYOSHI', 'OHNISHI TOSHIKAZU', 'LEOBANDUNG EFFENDI', 'NAKAMURA SHINICHI', 'INOUE HIROSHI', 'MANDELMAN JACK A', 'PARK KYUNG-MO', 'JOO SEONG-SIN', 'YANO TETSUYA', 'JUNG JUNG-SOO', 'CHOI BYEONG-DOO', 'SATO YOSHIO', 'DAUM WOLFGANG', 'TERADA MASAHIRO', 'YAMAMOTO MASANOBU', 'SAKAI KUNIHIRO', 'NOSE HIROYASU', 'MCCONNELEE PAUL ALAN', 'MIN JUNG-HYE', 'KIM YOUNGBUM', 'MAEHARA NAOYOSHI', 'SUZUKI KOICHI', 'ORLANDO ROBERT JOSEPH', 'YAMASHITA TENKO', 'TSUBOSAKI KUNIHIRO', 'TAJIKA HIROSHI', 'OSADA TORACHIKA', 'PARK DONG-SEEK', 'JOHNSON THOMAS EDWARD', 'HIRAI YUTAKA', 'CHEN WEI', 'LIPKIN DON MARK', 'KIMURA HIROYUKI', 'SHIMADA SATOSHI', 'OKAMOTO HIROO', 'SHIMOTANI MITSUO', 'XIE RUILONG', 'TAKANO HIROAKI', 'YAMADA NOBORU', 'EVANS SCOTT CHARLES', 'CHO JAE-WEON', 'JACKSON MELVIN ROBERT', 'LEE SUNG-JIN', 'ISHIHARA HIDESHI', 'YAMAGUCHI HIDEKI', 'FURUKAWA SHUNSUKE', 'TSUCHIYA KENJI', 'OGINO MASAHIKO', 'CARTER WILLIAM THOMAS', 'VONDRELL RANDY M', 'XU LIXIANG', 'PI ZHOUYUE', 'TSUGA KAZUHIRO', 'SLEGEL TIMOTHY', 'LEE JU HO', 'YOON SOON-YOUNG', 'INOUE MASAYUKI', 'LEE TAMMY', 'JIANG MINGXIAO', 'KUNIMOTO KEIJIRO', 'KIM YOUN-SUN', 'HIGUMA MASAHIKO', 'DENG ZHIGANG', 'KONNO YUJI', 'IWAKI TSUTOMU', 'MURAI KEIICHI', 'FUJINAMI YASUSHI', 'MISUMI TERUO', 'SHI XIAOLEI', 'PENG WENQING', 'MATSUDA SHINPEI', 'AZUHATA SHIGERU', 'OSTROVERKHOV VICTOR PETROVICH', 'KIDA AKIRA', 'KIM YOUNSUN', 'HAYASHI KAZUNORI', 'ONO MITSUHIRO', 'MATSUNAMI NAOTO', 'YANG CHIH-CHAO', 'TAKIGUCHI TAKAO', 'WANG JUNLI', 'HASEBE TAKUMI', 'TOLLISON BRIAN LEE', 'MIYAWAKI MAMORU', 'SONG JAE-YEON', 'SUZUKI NORITAKE', 'KIM JEEHWAN', 'ONGGOSANUSI EKO', 'SAKAI YOSHIO', 'MOROOKA YASUO', 'SATO MAKOTO', 'CHOI HO-KYU', 'SUGITANI HIROSHI', 'WEI BIN', 'MORIYA YOSHIMI', 'SUGIMOTO HITOSHI', 'NAKANE SHINICHI', 'VAN LIESHOUT GERT-JAN', 'GOTO FUMIHIRO', 'RYU HYUNSEOK', 'GAINEY JR CHARLES W', 'PONOTH SHOM', 'FUKUSHIMA ISAO', 'JOSHI NARENDRA DIGAMBER', 'NG BOON LOONG', 'CUI YAN', 'PRENTICE IAN FRANCIS', 'MATSUDA HIROMU', 'LEE KYUNG-GEUN', 'YAMADA MAKOTO', 'SAKAMAKI HISASHI', 'TAKAHASHI KATSUHIRO', 'NAGASE HIROSHI', 'YANG HYUN-KOO', 'GAMBINO JEFFREY P', 'MIURA HIDEO', 'HAN JIN-KYU', 'ITO MOTOSHI', 'LI YING', 'GSCHWIND MICHAEL KARL', 'YAMAMOTO KATSUHIKO', 'KIM SANG-BUM', 'MURPHY JAMES EDWARD', 'LIU YUNFENG', 'TESHIGAWARA MINORU', 'HERSHEY JOHN ERIK', 'WATANABE HIROSHI', 'TERAUCHI TOSHIRO', 'YANAGISAWA YOSHIHIRO', 'SATO KOICHI', 'MURAI RYUICHI', 'TODOKORO YASUYUKI', 'CHOI SUNG-HO', 'KHAN FAROOQ', 'SCHEP CORNELIS MARINUS', 'GUO XIN', 'TANNO KOICHI', 'WAKABAYASHI HIDEJI', 'COLBURN MATTHEW E', 'MORITA AYUMU', 'TOYOGUCHI YOSHINORI', 'MAEOKA KUNIHIKO', 'NISHIKAWA AKIO', 'SHIBATA AKIRA', 'WAJIMA MOTOYO', 'RITTER ALLEN MICHAEL', 'BOSS GREGORY J', 'SAITO ICHIRO', 'BASKER VEERARAGHAVAN S', 'OKADA SHINJIRO', 'EDELSTEIN DANIEL C', 'UETSUKI MASAYA', 'KATO MOTOKI', 'MIYATA MASANORI', 'SATO SHINICHI', 'GREINER DAN', 'DELVAUX JOHN MCCONNELL', 'MISHINA SHINYA', 'SHUM CHUNG-LUNG K', 'LIM CHI-WOO', 'COOPER JARED KLINEMAN', 'NAGAI TAKESHI', 'TOSHIMA HIROAKI', 'ONO TAKEO', 'HWANG SUNG-HEE', 'CHAN DAVID SO KEUNG', 'TANAKA KENJI', 'SEKI SATOSHI', 'HIRABAYASHI HIROMITSU', 'NISHIKORI HITOSHI', 'DAROLIA RAMGOPAL', 'YEH CHUN-CHEN', 'HAMADA TOSHIYA', 'MATSUMOTO HARUYUKI', 'TANI ATSUSHI', 'SANO AKANE', 'SAPORITO ANTHONY', 'MIYAZAKI TOSHIHIKO', 'INOUE HIROYUKI', 'OZAKI TERUO', 'NOH HOONDONG', 'KIM SANGBUM', 'MONIZ THOMAS ORY', 'NAKAYA HIDEO', 'SAKO YOICHIRO', 'WATANABE TAKEJI', 'IMAMURA TAKESHI', 'OSHIMA MITSUAKI', 'KANEKO SATOSHI', 'YONEDA KENJI', 'ODAGIRI MASARU', 'MELTON PATRICK BENEDICT', 'LEE HYOJIN', 'KAMIYAMA YUJI', 'KANBE JUNICHIRO', 'VENKATARAMANI VENKAT SUBRAMANIAM', 'CHENG KANGGUO', 'STOIA LUCAS JOHN', 'SASANO AKIRA', 'SHIMA HISATO', 'SAITO KEISHI', 'TOMOSADA MASAHIRO', 'TAKENAKA KATSURO', 'PARK SUNG-WOOK', 'KIMURA MAKIKO', 'LU SU', 'MORRILL DANIEL LAWRENCE', 'KINJO NORIYUKI', 'RADENS CARL J', 'MATSUBARA MIYUKI', 'LEE JUHO', 'YOSHIDA TADAO', 'HONDA KAZUYOSHI', 'REN ZHIYUAN', 'TAKAHASHI KENJI', 'BRAY JAMES WILLIAM', 'SHIRAI TAIZO', 'YAMANAKA AKIHIRO', 'SAITO ASAO', 'NARAYANAN VIJAY', 'SUZUKI TERUHIKO', 'MORIWAKI YOSHIO', 'LEE CHING-PANG', 'BEKKI TOSHIHIKO', 'NAKAMURA ATSUSHI', 'TAKAHASHI KIICHIRO', 'SUGAMA SADAYUKI', 'COMANZO HOLLY ANN', 'SHAHIDI GHAVAM G', 'SAIKAWA HIDEO', 'GERSTLER WILLIAM DWIGHT', 'LIE FEE LI', 'NOGUCHI KOJI', 'YANO KENTARO', 'WOLFE CHRISTOPHER EDWARD', 'NAGOSHI SHIGEYASU', 'SHAN CHENG', 'NASHIDA TATSUSHI', 'SEALING CHARLES SCOTT', 'IMAIDE TAKUYA', 'KOOL LAWRENCE BERNARD', 'YAMAMOTO KAZUHISA', 'KOTAKI YASUO', 'IZUMIDA MASAAKI', 'YUN SUNG-RYUL', 'TANGE AKIRA', 'STEVENSON CHRISTIAN XAVIER', 'LEE HYUN-WOO', 'PARK IN-SIK', 'NOGUCHI TAKAHARU', 'YAMADA NAOKI', 'HAYASHI HIROKI', 'LAWRENCE BRIAN LEE', 'KAWAI SUEO', 'WELLES KENNETH BRAKELEY', 'SUZUKI HIDETOSHI', 'OGINO HIROYUKI', 'MATSUZAKI HARUMI', 'OSHIMA KAZUYOSHI', 'NISHIUCHI KENICHI', 'GLYNN CHRISTOPHER CHARLES', 'PICKETT JAMES EDWARD', 'KOBAYASHI MASAHARU', 'MILLER BRANDON WAYNE', 'SHIN CHEOLKYU', 'KASUYA TAKASHIGE', 'NOJIMA TAKASHI', 'MURASE KAORU', 'BODEN EUGENE PAULING', 'ARA YOJI', 'HINAMI JUN', 'HOFER DOUGLAS CARL', 'REZNICEK ALEXANDER', 'LACY BENJAMIN PAUL', 'MATSUDA YASUMASA', 'KURODA SHINICHI', 'IMANAKA YOSHIYUKI', 'KANEKO TETSUYA', 'SUGIMOTO KAZUO', 'ISHINAGA HIROYUKI', 'KASANUKI YUJI', 'DAVIS GARY CHARLES', 'YEAGER GARY WILLIAM', 'NAITO TAKASHI', 'NISHINO ATSUSHI', 'KRAY NICHOLAS JOSEPH', \"O'CONNELL BRIAN M\", 'LORRAINE PETER WILLIAM', 'YAMANO IKUO', 'KOBAYASHI SHOEI', 'CHANG YOUNG-BIN', 'SATO MASAHIKO', 'MCCLOSKEY PATRICK JOSEPH', 'FOX JEREMY R', 'CHIDAMBARRAO DURESETI', 'STANDAERT THEODORUS E', 'JEONG HONG-SIL', 'TURNQUIST NORMAN ARNOLD', 'MIYOSHI KENICHI', 'RUUD JAMES ANTHONY', 'NANJO TATSUO', 'KUWABARA NOBUYUKI', 'IGAWA SATOSHI', 'ITZEL GARY MICHAEL', 'YOSHIHIRA AYA', 'DAVIS JR LEWIS BERKLEY', 'ROSS JOHN ANDERSON FERGUS', 'MIYAMOTO HARUKAZU', 'KIM JAE-YOEL', 'NAKAGAMI OHJI', 'HATTORI YOSHIFUMI', 'WALKER KEITH R', 'SHINJO KENJI', 'SHIRAI SHIGERU', 'MIYAJIMA YASUSHI', 'ISHIKAWA TOMOKAZU', 'KARITA SEIICHIRO', 'MAEDA TAKESHI', 'LYONS ROBERT JOSEPH', 'PAPASAKELLARIOU ARIS', 'SAITOH AKIHITO', 'TSUDA SHINICHIRO', 'JEONG KYEONGIN', 'SHIMIZU EIICHIRO', 'TIBBETTS NICOLE JESSICA', 'SUZUKI AKIO', 'OKAZAKI TAKESHI', 'KRAELING MARK BRADSHAW', 'ISHIBASHI HIROMICHI', 'KANDA HIDEHIKO', 'TSUBOYAMA AKIRA', 'GOTOH FUMIHIRO', 'KUMAR AJITH KUTTANNAIR', 'NISHIMURA YUKIO', 'SHAFFER GLENN ROBERT', 'TAKAHASHI SANKICHI', 'VAN DAM JEREMY DANIEL', 'SUGIURA NOBORU', 'SUGIYAMA HIROYUKI', 'MURAKAMI GEN', 'YONEHARA TAKAO', 'KRAEMER GILBERT OTTO', 'KAWAKAMI HIDEAKI', 'OKADA TOMOYUKI', 'HSU LOUIS L', 'SRIVASTAVA ALOK MANI', 'NAKAGAWA KATSUMI', 'NAGARAJ BANGALORE ASWATHA', 'TOMIZAWA TAKESHI', 'SCHMIDT DONALD WILLIAM', 'EKAMBARAM VIJAY', 'KONDO TETSUJIRO', 'SLEIGHT JEFFREY W', 'FANG BIAO', 'GREINER DAN F', 'RUTKOWSKI STEPHEN FRANCIS', 'NAKAMURA KAZUHIKO', 'IKEDA MASAMI', 'NISHIMURA ASAO', 'MURROW KURT DAVID', 'GHASRIPOOR FARSHAD', 'DALTON TIMOTHY J', 'SADANA DEVENDRA K', 'ISHIDA TAKASHI', 'TAKEMURA YOSHINARI', 'JANG JAE HYUK', 'SCHMIDT DONALD W', 'YOON DU-SEOP', 'IWASAKI OSAMU', 'CHAN KWOK PONG', 'KOZLOSKI JAMES R', 'ZHANG JIANZHONG', 'SASAYAMA TAKAO', 'KOZUKA MASAYUKI', 'YAEGASHI HISAO', 'EBISAWA ISAO', 'TATEBAYASHI MAKOTO', 'SEKIGUCHI SHUNICHI', 'NAKAZAWA IKUO', 'CHILA RONALD JAMES', 'CLEVENGER LAWRENCE A', 'SUBRAMANIAN KANAKASABAPATHI', 'UEDA SHIGEKI', 'LEE HYEON-WOO', 'BAUGHMAN AARON K', 'MOCHIZUKI MUGA', 'STAMPER ANTHONY K', 'LI JUNTAO', 'NISHI KUNIHIKO', 'HAMILTON II RICK A', 'UHM JONG HO', 'LIU JIE', 'SLEGEL TIMOTHY J', 'FUKUSHIMA TAKASHI', 'NISHIDE YOSUKE', 'SHAH MANOJ RAMPRASAD', 'MCMAHAN KEVIN WESTON', 'YAZAWA TAKESHI', 'RUBINSZTAJN SLAWOMIR', 'KANOTA KEIJI', 'NAGANO TAKAHIRO', 'YAMASHITA MASATAKA', 'OKINO AYATOMO', 'KAWATOKO NORIHIRO', 'NAGASHIMA TOSHIAKI', 'KATAGIRI KAZUHARU', 'HATTORI SHINOBU', 'RAKSHIT SARBAJIT K', 'YAMADA AKITOSHI', 'MYUNG SEHO', 'HERR STEFAN', 'MURAKAMI HAJIME', 'KIM TAEHYOUNG', 'SATOH ISAO', 'TANAKA SHIGEAKI', 'KIM SANG BUM', 'GOTO AKIRA', 'MIYAGAWA MASASHI', 'KITANO MAKOTO', 'KOSHIKAWA HIROSHI', 'ROBERTS HERBERT CHIDSEY', 'ZHANG HUA', 'YAMADA KAZUJI', 'YAGASAKI YOICHI', 'KWON HWAN-JOON', 'SAWAI YUICHI', 'LIN DECHAO', 'KATAYAMA AKIHIRO', 'JEONG KYEONG-IN', 'JANG JAEHYUK', 'AOTA KINYA', 'YAMASHITA HISAO', 'HARUTA MASAHIRO', 'KESHAVAN HRISHIKESH', 'OGAWA TOSHIO', 'KON TAKAYASU', 'CHOI SEUNG-HOON', 'WORDEN BRET DWAYNE', 'INOUE RYOJI', 'SEXTON DANIEL WHITE', 'INOUE MAKOTO', 'LEE HAK-JU', 'MARU AKIKO', 'KIM SOENGHUN', 'ISOGAI TOKIO', 'HAN JIN KYU', 'KOBAYASHI MASAAKI', 'SASAKI HIROSHI', 'YOKOYAMA TAKASHI', 'KAWADA HARUKI', 'KWAK YONG-JUN', 'WATANABE TSUTOMU', 'OHASHI TETSUYA', 'LEWIS LARRY NEIL', 'JI HYOUNG-JU', 'GALLUCCI ROBERT RUSSELL', 'KLODOWSKI ANTHONY MICHAEL', 'KIM SOENG HUN', 'KOO CHANG-HOI', 'WATANABE KENJIRO', 'TANAKA MASATO', 'CHO JOON YOUNG', 'TAKEDA TOSHIHIKO', 'NAKAMURA HITOSHI', 'KANAKASABAPATHY SIVANANDA K', 'NAGAI AKIRA', 'KANEVSKY DIMITRI', 'SHIMIZU ISAMU', 'SASAKI TORU', 'CELLA JAMES ANTHONY', 'KAWAI JUN', 'LANG STEFFEN', 'SCHNETZKA HAROLD ROBERT', 'SAITO AKIO', 'OHBA TAKASHI', 'MORIYAMA JIRO', 'KUGIYA FUMIO', 'LEE SUN-IL', 'SCIPIO ALSTON ILFORD', 'MORIOKA YUICHI', 'NAKAMURA KIYOSHI', 'KOITABASHI NORIBUMI', 'WANG YU', 'SAITO TAKASHI', 'TRIM CRAIG M', 'ZIMINSKY WILLY STEVE', 'FARRELL MARK S', 'TAKAHASHI TADASHI', 'WANG XUEFENG', 'SAITO HIROYUKI', 'KULKARNI AMBARISH JAYANT', 'IWASAKI TAKESHI', 'SUZUKI TAKASHI', 'RITTER ANN MELINDA', 'TSUKUDA KEIICHIRO', 'KIM SUNG-JIN', 'HARPUR LIAM', 'YAGUCHI AKIHIRO', 'MATSUMOTO TOMOHIDE', 'SAKODA KAZUYUKI', 'HWANG SUNG-OH', 'NAGAOKA YUKIO', 'CHO JOON-YOUNG', 'NIHEI HIDEKI', 'KANEKO SHUZO', 'DUNNE JONATHAN', 'DUGGAL ANIL RAJ', 'PICKOVER CLIFFORD A', 'NIERGARTH DANIEL ALAN', 'YOKONO ATARU', 'MORI YOSHIHIRO', 'CLEMENTS JEFFREY DONALD', 'YAMAMOTO KAZUYUKI', 'BAE TAEHAN', 'MINOWA TOSHIMICHI', 'KO JUNG-WAN', 'KUROIWA HIROSHI', 'ATAGO TAKESHI', 'KASHINO TOSHIO', 'KAMADA YASUNORI', 'KWAK YOUNGWOO', 'NISHIMURA YUTAKA', 'PREMERLANI WILLIAM JAMES', 'TERAO MOTOYASU', 'INOKUCHI TATSUYA', 'SUZUKI AKIRA', 'TAMURA YASUYUKI', 'INUI TOSHIHARU', 'YAMADA HIROYUKI', 'MITRAN MARCEL', 'WANG SHIZHONG', 'BURDGICK STEVEN SEBASTIAN', 'MIYASHITA HIROKAZU', 'EKANAYAKE SANJI', 'NISHIDA TETSUYA', 'ARAI ATSUSHI', 'HEKMATSHOARTABARI BAHMAN', 'SPITSBERG IRENE', 'PERRY ROBERT JAMES', 'ANDO TAKASHI', 'LEE JULIA LAM', 'YAMAGAMI TAMOTSU', 'NAKAMURA SHOZO', 'YAMAZAKI TAKASHI', 'BOARDMAN GREGORY ALLEN', 'FOGEL KEITH E', 'KOTTILINGAM SRIKANTH CHANDRUDU', 'KUROSAWA TOSHIAKI', 'NOFFSINGER JOSEPH FORREST', 'LASKARIS EVANGELOS TRIFON', 'ASUKAI MASAMICHI', 'KEIMEL CHRISTOPHER FRED', 'XIONG RIHUA', 'HELLER LISA CRANTON', 'WEI CHANG', 'DELUCA LISA SEACAT', 'MIYASHITA KUNIO', 'EDAMURA TETSUYA', 'FARRELL MARK', 'IWAWAKI HIRONOBU', 'TAKAHASHI AKIO', 'GOWDA ARUN VIRUPAKSHA', 'ARASHIMA TERUO', 'NAKAMURA TAKATOSHI', 'TAKAI MOTOYUKI', 'KATO JUNICHI', 'KURODA OSAMU', 'LEE CHOONGHYUN', 'SAEKI JUNICHI', 'SALASOO LEMBIT', 'SALAPURA VALENTINA', 'USUI MAKOTO', 'YAMANOBE MASATO', 'MURAKAMI TOKUMICHI', 'WATANABE TAKASHI', 'KIM YOUNG-BUM', 'KOIZUMI YUTAKA', 'SUN CHEN', 'OSADA YOSHIYUKI', 'NISHIGORI HITOSHI', 'MYUNG SE-HO', 'MIYAZAKI TAKESHI', 'YOSHINO KOJI', 'FURUMIYA SHIGERU', 'BREEZE-STRINGFELLOW ANDREW', 'TAKENOUCHI MASANORI', 'YOSHINAGA KAZUO', 'UCHIDA MASASHI', 'LEE JU-HO', 'KOISHI KENJI', 'HANAYA HIROYUKI', 'SUZUKI TETSUO', 'KOYAMA SHUJI', 'OGATA MASATSUGU', 'KITABATAKE KENJI', 'WAGONER ROBERT GREGORY', 'ISHIHARA SHUNICHI', 'KHAKIFIROOZ ALI', 'GOTOH YOSHIHO', 'ZATORSKI DAREK TOMASZ', 'DIMASCIO PAUL STEPHEN', 'SASAKI YOSHIKI', 'EGUCHI SYUUJI', 'FUJITA MIYUKI', 'JI HYOUNGJU', 'NAKAGIRI TAKASHI', 'DINC OSMAN SAIM', 'JANG JAE-HYUK', 'KANG HEE-WON', 'ISAKA KAZUO', 'WEIMER MICHAEL JAMES', 'WADA SEIJI', 'YOSHIDA AKIHIKO', 'NAKANO TOSHIO', 'TSUKADA TOSHIHISA', 'MIYA KAZUYUKI', 'HARDING KEVIN GEORGE', 'BUNKER RONALD SCOTT', 'TANAKA SHINICHI', 'YAMAMOTO AKIRA', 'KIM SOENG-HUN', 'CHOI SEUNGHOON', 'KONDO SHIGEO', 'SATO NOBUHIKO', 'KING ROBERT DEAN', 'LI NING', 'OH JINYOUNG', 'FURUKAWA TOSHIHARU', 'KUDO KIYOMITSU', 'MATSUMOTO TAKAHIRO', 'KATO MASAO', 'MIYABE SHIGEO', 'HIRABAYASHI MITSUHIRO', 'PARK SUNGJIN', 'DIVAKARUNI RAMACHANDRA', 'VAN LIESHOUT GERT JAN', 'OHARA SHUNJI', 'MINEMURA HIROYUKI', 'TAKEHARA MITSURU', 'HOLMES STEVEN J', 'YONEKUBO HIROAKI', 'HAYASAKI KIMIYUKI', 'TSUKAMOTO TAKEO', 'NARAHARA TOSHIKAZU', 'HIRAMATSU SOICHI', 'FUKUDA TSUGUHIRO'}\n",
      "CN vs AA\n",
      "{'DORIS BRUCE B', 'KWATRA SHIKHAR', 'ORIKASA TSUYOSHI', 'YAMAMOTO HAJIME', 'LJUNG RICKARD', 'KAWADE HISAAKI', 'OKUYAMA TOSHIAKI', 'TERAI HARUHIKO', 'KURABAYASHI YUTAKA', 'TAJIMA FUMIO', 'YANG KYEONG-CHEOL', 'KANAI MASAHIRO', 'OGAWA YOSHIHIRO', 'OWASHI HITOAKI', 'NOBUE TOMOTAKA', 'YEO JEONGHO', 'ZHENG XIAOQING', 'YONEMITSU JUN', 'TANEYA YOICHI', 'OTSUKA NAOJI', 'SUZUKI HIROSHI', 'NOWAK EDWARD J', 'VAN DER VELDE HIMKE', 'KAWASAKI OSAMU', 'TOBIN JAMES ROBERT', 'KENMOKU TAKASHI', 'MARTIN BRIAN ALEXANDER', 'YOSHIDA ISAMU', 'BEDELL STEPHEN W', 'LEE KOOK-HEUI', 'KISHORE KUNA VENKAT SATYA RAMA', 'KANG HYUN-JEONG', 'YAMAMOTO MASAYUKI', 'TAKAHASHI WATARU', 'HORAK DAVID V', 'YANG HAI', 'KASAMOTO MASAMI', 'KASAHARA SHUNICHI', 'MATSUDA HIROSHI', 'SATO HIROSHI', 'TAKAHASHI KOJI', 'HASZ WAYNE CHARLES', 'NAM YOUNG-HAN', 'MYERS GEOFFREY DAVID', 'MASUDA KAZUAKI', 'JOO PAN-YUH', 'NIWA TAKASHI', 'SETLUR ANANT ACHYUT', 'KAWAMURA HIROYUKI', 'SHOJI MAMORU', 'KANEDA AIZO', 'KUBOTA MASAHIKO', 'IWAMURA MASAHIRO', 'MAKINO KENICHI', 'LARSEN EINAR VAUGHN', 'KOKAKU HIROYOSHI', 'SEGAWA MASANORI', 'YAMAGUCHI TAKAAKI', 'ISONO AOJI', 'NISHIJIMA HIDEO', 'NOMURA ICHIRO', 'TAKEUCHI TOSHIFUMI', 'GOTO FUMITAKA', 'KAMATANI JUN', 'UESUGI MITSURU', 'KOIKE SHOJI', 'HASHEMI POUYA', 'UJITA TOSHIHIKO', 'KIM IL-KOO', 'HUANG SHYH-CHIN', 'TSUBOI NOBUYOSHI', 'OHNISHI TOSHIKAZU', 'LEOBANDUNG EFFENDI', 'NAKAMURA SHINICHI', 'INOUE HIROSHI', 'MANDELMAN JACK A', 'PARK KYUNG-MO', 'JOO SEONG-SIN', 'YANO TETSUYA', 'JUNG JUNG-SOO', 'CHOI BYEONG-DOO', 'SATO YOSHIO', 'DAUM WOLFGANG', 'TERADA MASAHIRO', 'YAMAMOTO MASANOBU', 'SAKAI KUNIHIRO', 'NOSE HIROYASU', 'MCCONNELEE PAUL ALAN', 'MIN JUNG-HYE', 'KIM YOUNGBUM', 'MAEHARA NAOYOSHI', 'SUZUKI KOICHI', 'ORLANDO ROBERT JOSEPH', 'YAMASHITA TENKO', 'TSUBOSAKI KUNIHIRO', 'TAJIKA HIROSHI', 'OSADA TORACHIKA', 'PARK DONG-SEEK', 'JOHNSON THOMAS EDWARD', 'HIRAI YUTAKA', 'CHEN WEI', 'LIPKIN DON MARK', 'KIMURA HIROYUKI', 'SHIMADA SATOSHI', 'OKAMOTO HIROO', 'SHIMOTANI MITSUO', 'XIE RUILONG', 'TAKANO HIROAKI', 'YAMADA NOBORU', 'EVANS SCOTT CHARLES', 'CHO JAE-WEON', 'JACKSON MELVIN ROBERT', 'LEE SUNG-JIN', 'ISHIHARA HIDESHI', 'YAMAGUCHI HIDEKI', 'FURUKAWA SHUNSUKE', 'TSUCHIYA KENJI', 'OGINO MASAHIKO', 'CARTER WILLIAM THOMAS', 'VONDRELL RANDY M', 'XU LIXIANG', 'PI ZHOUYUE', 'TSUGA KAZUHIRO', 'SLEGEL TIMOTHY', 'LEE JU HO', 'YOON SOON-YOUNG', 'INOUE MASAYUKI', 'LEE TAMMY', 'JIANG MINGXIAO', 'KUNIMOTO KEIJIRO', 'KIM YOUN-SUN', 'HIGUMA MASAHIKO', 'DENG ZHIGANG', 'KONNO YUJI', 'IWAKI TSUTOMU', 'MURAI KEIICHI', 'FUJINAMI YASUSHI', 'MISUMI TERUO', 'SHI XIAOLEI', 'PENG WENQING', 'MATSUDA SHINPEI', 'AZUHATA SHIGERU', 'OSTROVERKHOV VICTOR PETROVICH', 'KIDA AKIRA', 'KIM YOUNSUN', 'HAYASHI KAZUNORI', 'ONO MITSUHIRO', 'MATSUNAMI NAOTO', 'YANG CHIH-CHAO', 'TAKIGUCHI TAKAO', 'WANG JUNLI', 'HASEBE TAKUMI', 'TOLLISON BRIAN LEE', 'MIYAWAKI MAMORU', 'SONG JAE-YEON', 'SUZUKI NORITAKE', 'KIM JEEHWAN', 'ONGGOSANUSI EKO', 'SAKAI YOSHIO', 'MOROOKA YASUO', 'SATO MAKOTO', 'CHOI HO-KYU', 'SUGITANI HIROSHI', 'WEI BIN', 'MORIYA YOSHIMI', 'SUGIMOTO HITOSHI', 'NAKANE SHINICHI', 'VAN LIESHOUT GERT-JAN', 'GOTO FUMIHIRO', 'RYU HYUNSEOK', 'GAINEY JR CHARLES W', 'PONOTH SHOM', 'FUKUSHIMA ISAO', 'JOSHI NARENDRA DIGAMBER', 'NG BOON LOONG', 'CUI YAN', 'PRENTICE IAN FRANCIS', 'MATSUDA HIROMU', 'LEE KYUNG-GEUN', 'YAMADA MAKOTO', 'SAKAMAKI HISASHI', 'TAKAHASHI KATSUHIRO', 'NAGASE HIROSHI', 'YANG HYUN-KOO', 'GAMBINO JEFFREY P', 'MIURA HIDEO', 'HAN JIN-KYU', 'ITO MOTOSHI', 'LI YING', 'GSCHWIND MICHAEL KARL', 'YAMAMOTO KATSUHIKO', 'KIM SANG-BUM', 'MURPHY JAMES EDWARD', 'LIU YUNFENG', 'TESHIGAWARA MINORU', 'HERSHEY JOHN ERIK', 'WATANABE HIROSHI', 'TERAUCHI TOSHIRO', 'YANAGISAWA YOSHIHIRO', 'SATO KOICHI', 'MURAI RYUICHI', 'TODOKORO YASUYUKI', 'CHOI SUNG-HO', 'KHAN FAROOQ', 'SCHEP CORNELIS MARINUS', 'GUO XIN', 'TANNO KOICHI', 'WAKABAYASHI HIDEJI', 'COLBURN MATTHEW E', 'MORITA AYUMU', 'TOYOGUCHI YOSHINORI', 'MAEOKA KUNIHIKO', 'NISHIKAWA AKIO', 'SHIBATA AKIRA', 'WAJIMA MOTOYO', 'RITTER ALLEN MICHAEL', 'BOSS GREGORY J', 'SAITO ICHIRO', 'BASKER VEERARAGHAVAN S', 'OKADA SHINJIRO', 'EDELSTEIN DANIEL C', 'UETSUKI MASAYA', 'KATO MOTOKI', 'MIYATA MASANORI', 'SATO SHINICHI', 'GREINER DAN', 'DELVAUX JOHN MCCONNELL', 'MISHINA SHINYA', 'SHUM CHUNG-LUNG K', 'LIM CHI-WOO', 'COOPER JARED KLINEMAN', 'NAGAI TAKESHI', 'TOSHIMA HIROAKI', 'ONO TAKEO', 'HWANG SUNG-HEE', 'CHAN DAVID SO KEUNG', 'TANAKA KENJI', 'SEKI SATOSHI', 'HIRABAYASHI HIROMITSU', 'NISHIKORI HITOSHI', 'DAROLIA RAMGOPAL', 'YEH CHUN-CHEN', 'HAMADA TOSHIYA', 'MATSUMOTO HARUYUKI', 'TANI ATSUSHI', 'SANO AKANE', 'SAPORITO ANTHONY', 'MIYAZAKI TOSHIHIKO', 'INOUE HIROYUKI', 'OZAKI TERUO', 'NOH HOONDONG', 'KIM SANGBUM', 'MONIZ THOMAS ORY', 'NAKAYA HIDEO', 'SAKO YOICHIRO', 'WATANABE TAKEJI', 'IMAMURA TAKESHI', 'OSHIMA MITSUAKI', 'KANEKO SATOSHI', 'YONEDA KENJI', 'ODAGIRI MASARU', 'MELTON PATRICK BENEDICT', 'LEE HYOJIN', 'KAMIYAMA YUJI', 'KANBE JUNICHIRO', 'VENKATARAMANI VENKAT SUBRAMANIAM', 'CHENG KANGGUO', 'STOIA LUCAS JOHN', 'SASANO AKIRA', 'SHIMA HISATO', 'SAITO KEISHI', 'TOMOSADA MASAHIRO', 'TAKENAKA KATSURO', 'PARK SUNG-WOOK', 'KIMURA MAKIKO', 'LU SU', 'MORRILL DANIEL LAWRENCE', 'KINJO NORIYUKI', 'RADENS CARL J', 'MATSUBARA MIYUKI', 'LEE JUHO', 'YOSHIDA TADAO', 'HONDA KAZUYOSHI', 'REN ZHIYUAN', 'TAKAHASHI KENJI', 'BRAY JAMES WILLIAM', 'SHIRAI TAIZO', 'YAMANAKA AKIHIRO', 'SAITO ASAO', 'NARAYANAN VIJAY', 'SUZUKI TERUHIKO', 'MORIWAKI YOSHIO', 'LEE CHING-PANG', 'BEKKI TOSHIHIKO', 'NAKAMURA ATSUSHI', 'TAKAHASHI KIICHIRO', 'SUGAMA SADAYUKI', 'COMANZO HOLLY ANN', 'SHAHIDI GHAVAM G', 'SAIKAWA HIDEO', 'GERSTLER WILLIAM DWIGHT', 'LIE FEE LI', 'NOGUCHI KOJI', 'YANO KENTARO', 'WOLFE CHRISTOPHER EDWARD', 'NAGOSHI SHIGEYASU', 'SHAN CHENG', 'NASHIDA TATSUSHI', 'SEALING CHARLES SCOTT', 'IMAIDE TAKUYA', 'KOOL LAWRENCE BERNARD', 'YAMAMOTO KAZUHISA', 'KOTAKI YASUO', 'IZUMIDA MASAAKI', 'YUN SUNG-RYUL', 'TANGE AKIRA', 'STEVENSON CHRISTIAN XAVIER', 'LEE HYUN-WOO', 'PARK IN-SIK', 'NOGUCHI TAKAHARU', 'YAMADA NAOKI', 'HAYASHI HIROKI', 'LAWRENCE BRIAN LEE', 'KAWAI SUEO', 'WELLES KENNETH BRAKELEY', 'SUZUKI HIDETOSHI', 'OGINO HIROYUKI', 'MATSUZAKI HARUMI', 'OSHIMA KAZUYOSHI', 'NISHIUCHI KENICHI', 'GLYNN CHRISTOPHER CHARLES', 'PICKETT JAMES EDWARD', 'KOBAYASHI MASAHARU', 'MILLER BRANDON WAYNE', 'SHIN CHEOLKYU', 'KASUYA TAKASHIGE', 'NOJIMA TAKASHI', 'MURASE KAORU', 'BODEN EUGENE PAULING', 'ARA YOJI', 'HINAMI JUN', 'HOFER DOUGLAS CARL', 'REZNICEK ALEXANDER', 'LACY BENJAMIN PAUL', 'MATSUDA YASUMASA', 'KURODA SHINICHI', 'IMANAKA YOSHIYUKI', 'KANEKO TETSUYA', 'SUGIMOTO KAZUO', 'ISHINAGA HIROYUKI', 'KASANUKI YUJI', 'DAVIS GARY CHARLES', 'YEAGER GARY WILLIAM', 'NAITO TAKASHI', 'NISHINO ATSUSHI', 'KRAY NICHOLAS JOSEPH', \"O'CONNELL BRIAN M\", 'LORRAINE PETER WILLIAM', 'YAMANO IKUO', 'KOBAYASHI SHOEI', 'CHANG YOUNG-BIN', 'SATO MASAHIKO', 'MCCLOSKEY PATRICK JOSEPH', 'FOX JEREMY R', 'CHIDAMBARRAO DURESETI', 'STANDAERT THEODORUS E', 'JEONG HONG-SIL', 'TURNQUIST NORMAN ARNOLD', 'MIYOSHI KENICHI', 'RUUD JAMES ANTHONY', 'NANJO TATSUO', 'KUWABARA NOBUYUKI', 'IGAWA SATOSHI', 'ITZEL GARY MICHAEL', 'YOSHIHIRA AYA', 'DAVIS JR LEWIS BERKLEY', 'ROSS JOHN ANDERSON FERGUS', 'MIYAMOTO HARUKAZU', 'KIM JAE-YOEL', 'NAKAGAMI OHJI', 'HATTORI YOSHIFUMI', 'WALKER KEITH R', 'SHINJO KENJI', 'SHIRAI SHIGERU', 'MIYAJIMA YASUSHI', 'ISHIKAWA TOMOKAZU', 'KARITA SEIICHIRO', 'MAEDA TAKESHI', 'LYONS ROBERT JOSEPH', 'PAPASAKELLARIOU ARIS', 'SAITOH AKIHITO', 'TSUDA SHINICHIRO', 'JEONG KYEONGIN', 'SHIMIZU EIICHIRO', 'TIBBETTS NICOLE JESSICA', 'SUZUKI AKIO', 'OKAZAKI TAKESHI', 'KRAELING MARK BRADSHAW', 'ISHIBASHI HIROMICHI', 'KANDA HIDEHIKO', 'TSUBOYAMA AKIRA', 'GOTOH FUMIHIRO', 'KUMAR AJITH KUTTANNAIR', 'NISHIMURA YUKIO', 'SHAFFER GLENN ROBERT', 'TAKAHASHI SANKICHI', 'VAN DAM JEREMY DANIEL', 'SUGIURA NOBORU', 'SUGIYAMA HIROYUKI', 'MURAKAMI GEN', 'YONEHARA TAKAO', 'KRAEMER GILBERT OTTO', 'KAWAKAMI HIDEAKI', 'OKADA TOMOYUKI', 'HSU LOUIS L', 'SRIVASTAVA ALOK MANI', 'NAKAGAWA KATSUMI', 'NAGARAJ BANGALORE ASWATHA', 'TOMIZAWA TAKESHI', 'SCHMIDT DONALD WILLIAM', 'EKAMBARAM VIJAY', 'KONDO TETSUJIRO', 'SLEIGHT JEFFREY W', 'FANG BIAO', 'GREINER DAN F', 'RUTKOWSKI STEPHEN FRANCIS', 'NAKAMURA KAZUHIKO', 'IKEDA MASAMI', 'NISHIMURA ASAO', 'MURROW KURT DAVID', 'GHASRIPOOR FARSHAD', 'DALTON TIMOTHY J', 'SADANA DEVENDRA K', 'ISHIDA TAKASHI', 'TAKEMURA YOSHINARI', 'JANG JAE HYUK', 'SCHMIDT DONALD W', 'YOON DU-SEOP', 'IWASAKI OSAMU', 'CHAN KWOK PONG', 'KOZLOSKI JAMES R', 'ZHANG JIANZHONG', 'SASAYAMA TAKAO', 'KOZUKA MASAYUKI', 'YAEGASHI HISAO', 'EBISAWA ISAO', 'TATEBAYASHI MAKOTO', 'SEKIGUCHI SHUNICHI', 'NAKAZAWA IKUO', 'CHILA RONALD JAMES', 'CLEVENGER LAWRENCE A', 'SUBRAMANIAN KANAKASABAPATHI', 'UEDA SHIGEKI', 'LEE HYEON-WOO', 'BAUGHMAN AARON K', 'MOCHIZUKI MUGA', 'STAMPER ANTHONY K', 'LI JUNTAO', 'NISHI KUNIHIKO', 'HAMILTON II RICK A', 'UHM JONG HO', 'LIU JIE', 'SLEGEL TIMOTHY J', 'FUKUSHIMA TAKASHI', 'NISHIDE YOSUKE', 'SHAH MANOJ RAMPRASAD', 'MCMAHAN KEVIN WESTON', 'YAZAWA TAKESHI', 'RUBINSZTAJN SLAWOMIR', 'KANOTA KEIJI', 'NAGANO TAKAHIRO', 'YAMASHITA MASATAKA', 'OKINO AYATOMO', 'KAWATOKO NORIHIRO', 'NAGASHIMA TOSHIAKI', 'KATAGIRI KAZUHARU', 'HATTORI SHINOBU', 'RAKSHIT SARBAJIT K', 'YAMADA AKITOSHI', 'MYUNG SEHO', 'HERR STEFAN', 'MURAKAMI HAJIME', 'KIM TAEHYOUNG', 'SATOH ISAO', 'TANAKA SHIGEAKI', 'KIM SANG BUM', 'GOTO AKIRA', 'MIYAGAWA MASASHI', 'KITANO MAKOTO', 'KOSHIKAWA HIROSHI', 'ROBERTS HERBERT CHIDSEY', 'ZHANG HUA', 'YAMADA KAZUJI', 'YAGASAKI YOICHI', 'KWON HWAN-JOON', 'SAWAI YUICHI', 'LIN DECHAO', 'KATAYAMA AKIHIRO', 'JEONG KYEONG-IN', 'JANG JAEHYUK', 'AOTA KINYA', 'YAMASHITA HISAO', 'HARUTA MASAHIRO', 'KESHAVAN HRISHIKESH', 'OGAWA TOSHIO', 'KON TAKAYASU', 'CHOI SEUNG-HOON', 'WORDEN BRET DWAYNE', 'INOUE RYOJI', 'SEXTON DANIEL WHITE', 'INOUE MAKOTO', 'LEE HAK-JU', 'MARU AKIKO', 'KIM SOENGHUN', 'ISOGAI TOKIO', 'HAN JIN KYU', 'KOBAYASHI MASAAKI', 'SASAKI HIROSHI', 'YOKOYAMA TAKASHI', 'KAWADA HARUKI', 'KWAK YONG-JUN', 'WATANABE TSUTOMU', 'OHASHI TETSUYA', 'LEWIS LARRY NEIL', 'JI HYOUNG-JU', 'GALLUCCI ROBERT RUSSELL', 'KLODOWSKI ANTHONY MICHAEL', 'KIM SOENG HUN', 'KOO CHANG-HOI', 'WATANABE KENJIRO', 'TANAKA MASATO', 'CHO JOON YOUNG', 'TAKEDA TOSHIHIKO', 'NAKAMURA HITOSHI', 'KANAKASABAPATHY SIVANANDA K', 'NAGAI AKIRA', 'KANEVSKY DIMITRI', 'SHIMIZU ISAMU', 'SASAKI TORU', 'CELLA JAMES ANTHONY', 'KAWAI JUN', 'LANG STEFFEN', 'SCHNETZKA HAROLD ROBERT', 'SAITO AKIO', 'OHBA TAKASHI', 'MORIYAMA JIRO', 'KUGIYA FUMIO', 'LEE SUN-IL', 'SCIPIO ALSTON ILFORD', 'MORIOKA YUICHI', 'NAKAMURA KIYOSHI', 'KOITABASHI NORIBUMI', 'WANG YU', 'SAITO TAKASHI', 'TRIM CRAIG M', 'ZIMINSKY WILLY STEVE', 'FARRELL MARK S', 'TAKAHASHI TADASHI', 'WANG XUEFENG', 'SAITO HIROYUKI', 'KULKARNI AMBARISH JAYANT', 'IWASAKI TAKESHI', 'SUZUKI TAKASHI', 'RITTER ANN MELINDA', 'TSUKUDA KEIICHIRO', 'KIM SUNG-JIN', 'HARPUR LIAM', 'YAGUCHI AKIHIRO', 'MATSUMOTO TOMOHIDE', 'SAKODA KAZUYUKI', 'HWANG SUNG-OH', 'NAGAOKA YUKIO', 'CHO JOON-YOUNG', 'NIHEI HIDEKI', 'KANEKO SHUZO', 'DUNNE JONATHAN', 'DUGGAL ANIL RAJ', 'PICKOVER CLIFFORD A', 'NIERGARTH DANIEL ALAN', 'YOKONO ATARU', 'MORI YOSHIHIRO', 'CLEMENTS JEFFREY DONALD', 'YAMAMOTO KAZUYUKI', 'BAE TAEHAN', 'MINOWA TOSHIMICHI', 'KO JUNG-WAN', 'KUROIWA HIROSHI', 'ATAGO TAKESHI', 'KASHINO TOSHIO', 'KAMADA YASUNORI', 'KWAK YOUNGWOO', 'NISHIMURA YUTAKA', 'PREMERLANI WILLIAM JAMES', 'TERAO MOTOYASU', 'INOKUCHI TATSUYA', 'SUZUKI AKIRA', 'TAMURA YASUYUKI', 'INUI TOSHIHARU', 'YAMADA HIROYUKI', 'MITRAN MARCEL', 'WANG SHIZHONG', 'BURDGICK STEVEN SEBASTIAN', 'MIYASHITA HIROKAZU', 'EKANAYAKE SANJI', 'NISHIDA TETSUYA', 'ARAI ATSUSHI', 'HEKMATSHOARTABARI BAHMAN', 'SPITSBERG IRENE', 'PERRY ROBERT JAMES', 'ANDO TAKASHI', 'LEE JULIA LAM', 'YAMAGAMI TAMOTSU', 'NAKAMURA SHOZO', 'YAMAZAKI TAKASHI', 'BOARDMAN GREGORY ALLEN', 'FOGEL KEITH E', 'KOTTILINGAM SRIKANTH CHANDRUDU', 'KUROSAWA TOSHIAKI', 'NOFFSINGER JOSEPH FORREST', 'LASKARIS EVANGELOS TRIFON', 'ASUKAI MASAMICHI', 'KEIMEL CHRISTOPHER FRED', 'XIONG RIHUA', 'HELLER LISA CRANTON', 'WEI CHANG', 'DELUCA LISA SEACAT', 'MIYASHITA KUNIO', 'EDAMURA TETSUYA', 'FARRELL MARK', 'IWAWAKI HIRONOBU', 'TAKAHASHI AKIO', 'GOWDA ARUN VIRUPAKSHA', 'ARASHIMA TERUO', 'NAKAMURA TAKATOSHI', 'TAKAI MOTOYUKI', 'KATO JUNICHI', 'KURODA OSAMU', 'LEE CHOONGHYUN', 'SAEKI JUNICHI', 'SALASOO LEMBIT', 'SALAPURA VALENTINA', 'USUI MAKOTO', 'YAMANOBE MASATO', 'MURAKAMI TOKUMICHI', 'WATANABE TAKASHI', 'KIM YOUNG-BUM', 'KOIZUMI YUTAKA', 'SUN CHEN', 'OSADA YOSHIYUKI', 'NISHIGORI HITOSHI', 'MYUNG SE-HO', 'MIYAZAKI TAKESHI', 'YOSHINO KOJI', 'FURUMIYA SHIGERU', 'BREEZE-STRINGFELLOW ANDREW', 'TAKENOUCHI MASANORI', 'YOSHINAGA KAZUO', 'UCHIDA MASASHI', 'LEE JU-HO', 'KOISHI KENJI', 'HANAYA HIROYUKI', 'SUZUKI TETSUO', 'KOYAMA SHUJI', 'OGATA MASATSUGU', 'KITABATAKE KENJI', 'WAGONER ROBERT GREGORY', 'ISHIHARA SHUNICHI', 'KHAKIFIROOZ ALI', 'GOTOH YOSHIHO', 'ZATORSKI DAREK TOMASZ', 'DIMASCIO PAUL STEPHEN', 'SASAKI YOSHIKI', 'EGUCHI SYUUJI', 'FUJITA MIYUKI', 'JI HYOUNGJU', 'NAKAGIRI TAKASHI', 'DINC OSMAN SAIM', 'JANG JAE-HYUK', 'KANG HEE-WON', 'ISAKA KAZUO', 'WEIMER MICHAEL JAMES', 'WADA SEIJI', 'YOSHIDA AKIHIKO', 'NAKANO TOSHIO', 'TSUKADA TOSHIHISA', 'MIYA KAZUYUKI', 'HARDING KEVIN GEORGE', 'BUNKER RONALD SCOTT', 'TANAKA SHINICHI', 'YAMAMOTO AKIRA', 'KIM SOENG-HUN', 'CHOI SEUNGHOON', 'KONDO SHIGEO', 'SATO NOBUHIKO', 'KING ROBERT DEAN', 'LI NING', 'OH JINYOUNG', 'FURUKAWA TOSHIHARU', 'KUDO KIYOMITSU', 'MATSUMOTO TAKAHIRO', 'KATO MASAO', 'MIYABE SHIGEO', 'HIRABAYASHI MITSUHIRO', 'PARK SUNGJIN', 'DIVAKARUNI RAMACHANDRA', 'VAN LIESHOUT GERT JAN', 'OHARA SHUNJI', 'MINEMURA HIROYUKI', 'TAKEHARA MITSURU', 'HOLMES STEVEN J', 'YONEKUBO HIROAKI', 'HAYASAKI KIMIYUKI', 'TSUKAMOTO TAKEO', 'NARAHARA TOSHIKAZU', 'HIRAMATSU SOICHI', 'FUKUDA TSUGUHIRO'}\n",
      "CN vs SM\n",
      "{'DORIS BRUCE B', 'KWATRA SHIKHAR', 'ORIKASA TSUYOSHI', 'YAMAMOTO HAJIME', 'LJUNG RICKARD', 'KAWADE HISAAKI', 'OKUYAMA TOSHIAKI', 'TERAI HARUHIKO', 'KURABAYASHI YUTAKA', 'TAJIMA FUMIO', 'YANG KYEONG-CHEOL', 'KANAI MASAHIRO', 'OGAWA YOSHIHIRO', 'OWASHI HITOAKI', 'NOBUE TOMOTAKA', 'YEO JEONGHO', 'ZHENG XIAOQING', 'YONEMITSU JUN', 'TANEYA YOICHI', 'OTSUKA NAOJI', 'SUZUKI HIROSHI', 'NOWAK EDWARD J', 'VAN DER VELDE HIMKE', 'KAWASAKI OSAMU', 'TOBIN JAMES ROBERT', 'KENMOKU TAKASHI', 'MARTIN BRIAN ALEXANDER', 'YOSHIDA ISAMU', 'BEDELL STEPHEN W', 'LEE KOOK-HEUI', 'KISHORE KUNA VENKAT SATYA RAMA', 'KANG HYUN-JEONG', 'YAMAMOTO MASAYUKI', 'TAKAHASHI WATARU', 'HORAK DAVID V', 'YANG HAI', 'KASAMOTO MASAMI', 'KASAHARA SHUNICHI', 'MATSUDA HIROSHI', 'SATO HIROSHI', 'TAKAHASHI KOJI', 'HASZ WAYNE CHARLES', 'NAM YOUNG-HAN', 'MYERS GEOFFREY DAVID', 'MASUDA KAZUAKI', 'JOO PAN-YUH', 'NIWA TAKASHI', 'SETLUR ANANT ACHYUT', 'KAWAMURA HIROYUKI', 'SHOJI MAMORU', 'KANEDA AIZO', 'KUBOTA MASAHIKO', 'IWAMURA MASAHIRO', 'MAKINO KENICHI', 'LARSEN EINAR VAUGHN', 'KOKAKU HIROYOSHI', 'SEGAWA MASANORI', 'YAMAGUCHI TAKAAKI', 'ISONO AOJI', 'NISHIJIMA HIDEO', 'NOMURA ICHIRO', 'TAKEUCHI TOSHIFUMI', 'GOTO FUMITAKA', 'KAMATANI JUN', 'UESUGI MITSURU', 'KOIKE SHOJI', 'HASHEMI POUYA', 'UJITA TOSHIHIKO', 'KIM IL-KOO', 'HUANG SHYH-CHIN', 'TSUBOI NOBUYOSHI', 'OHNISHI TOSHIKAZU', 'LEOBANDUNG EFFENDI', 'NAKAMURA SHINICHI', 'INOUE HIROSHI', 'MANDELMAN JACK A', 'PARK KYUNG-MO', 'JOO SEONG-SIN', 'YANO TETSUYA', 'JUNG JUNG-SOO', 'CHOI BYEONG-DOO', 'SATO YOSHIO', 'DAUM WOLFGANG', 'TERADA MASAHIRO', 'YAMAMOTO MASANOBU', 'SAKAI KUNIHIRO', 'NOSE HIROYASU', 'MCCONNELEE PAUL ALAN', 'MIN JUNG-HYE', 'KIM YOUNGBUM', 'MAEHARA NAOYOSHI', 'SUZUKI KOICHI', 'ORLANDO ROBERT JOSEPH', 'YAMASHITA TENKO', 'TSUBOSAKI KUNIHIRO', 'TAJIKA HIROSHI', 'OSADA TORACHIKA', 'PARK DONG-SEEK', 'JOHNSON THOMAS EDWARD', 'HIRAI YUTAKA', 'CHEN WEI', 'LIPKIN DON MARK', 'KIMURA HIROYUKI', 'SHIMADA SATOSHI', 'OKAMOTO HIROO', 'SHIMOTANI MITSUO', 'XIE RUILONG', 'TAKANO HIROAKI', 'YAMADA NOBORU', 'EVANS SCOTT CHARLES', 'CHO JAE-WEON', 'JACKSON MELVIN ROBERT', 'LEE SUNG-JIN', 'ISHIHARA HIDESHI', 'YAMAGUCHI HIDEKI', 'FURUKAWA SHUNSUKE', 'TSUCHIYA KENJI', 'OGINO MASAHIKO', 'CARTER WILLIAM THOMAS', 'VONDRELL RANDY M', 'XU LIXIANG', 'PI ZHOUYUE', 'TSUGA KAZUHIRO', 'SLEGEL TIMOTHY', 'LEE JU HO', 'YOON SOON-YOUNG', 'INOUE MASAYUKI', 'LEE TAMMY', 'JIANG MINGXIAO', 'KUNIMOTO KEIJIRO', 'KIM YOUN-SUN', 'HIGUMA MASAHIKO', 'DENG ZHIGANG', 'KONNO YUJI', 'IWAKI TSUTOMU', 'MURAI KEIICHI', 'FUJINAMI YASUSHI', 'MISUMI TERUO', 'SHI XIAOLEI', 'PENG WENQING', 'MATSUDA SHINPEI', 'AZUHATA SHIGERU', 'OSTROVERKHOV VICTOR PETROVICH', 'KIDA AKIRA', 'KIM YOUNSUN', 'HAYASHI KAZUNORI', 'ONO MITSUHIRO', 'MATSUNAMI NAOTO', 'YANG CHIH-CHAO', 'TAKIGUCHI TAKAO', 'WANG JUNLI', 'HASEBE TAKUMI', 'TOLLISON BRIAN LEE', 'MIYAWAKI MAMORU', 'SONG JAE-YEON', 'SUZUKI NORITAKE', 'KIM JEEHWAN', 'ONGGOSANUSI EKO', 'SAKAI YOSHIO', 'MOROOKA YASUO', 'SATO MAKOTO', 'CHOI HO-KYU', 'SUGITANI HIROSHI', 'WEI BIN', 'MORIYA YOSHIMI', 'SUGIMOTO HITOSHI', 'NAKANE SHINICHI', 'VAN LIESHOUT GERT-JAN', 'GOTO FUMIHIRO', 'RYU HYUNSEOK', 'GAINEY JR CHARLES W', 'PONOTH SHOM', 'FUKUSHIMA ISAO', 'JOSHI NARENDRA DIGAMBER', 'NG BOON LOONG', 'CUI YAN', 'PRENTICE IAN FRANCIS', 'MATSUDA HIROMU', 'LEE KYUNG-GEUN', 'YAMADA MAKOTO', 'SAKAMAKI HISASHI', 'TAKAHASHI KATSUHIRO', 'NAGASE HIROSHI', 'YANG HYUN-KOO', 'GAMBINO JEFFREY P', 'MIURA HIDEO', 'HAN JIN-KYU', 'ITO MOTOSHI', 'LI YING', 'GSCHWIND MICHAEL KARL', 'YAMAMOTO KATSUHIKO', 'KIM SANG-BUM', 'MURPHY JAMES EDWARD', 'LIU YUNFENG', 'TESHIGAWARA MINORU', 'HERSHEY JOHN ERIK', 'WATANABE HIROSHI', 'TERAUCHI TOSHIRO', 'YANAGISAWA YOSHIHIRO', 'SATO KOICHI', 'MURAI RYUICHI', 'TODOKORO YASUYUKI', 'CHOI SUNG-HO', 'KHAN FAROOQ', 'SCHEP CORNELIS MARINUS', 'GUO XIN', 'TANNO KOICHI', 'WAKABAYASHI HIDEJI', 'COLBURN MATTHEW E', 'MORITA AYUMU', 'TOYOGUCHI YOSHINORI', 'MAEOKA KUNIHIKO', 'NISHIKAWA AKIO', 'SHIBATA AKIRA', 'WAJIMA MOTOYO', 'RITTER ALLEN MICHAEL', 'BOSS GREGORY J', 'SAITO ICHIRO', 'BASKER VEERARAGHAVAN S', 'OKADA SHINJIRO', 'EDELSTEIN DANIEL C', 'UETSUKI MASAYA', 'KATO MOTOKI', 'MIYATA MASANORI', 'SATO SHINICHI', 'GREINER DAN', 'DELVAUX JOHN MCCONNELL', 'MISHINA SHINYA', 'SHUM CHUNG-LUNG K', 'LIM CHI-WOO', 'COOPER JARED KLINEMAN', 'NAGAI TAKESHI', 'TOSHIMA HIROAKI', 'ONO TAKEO', 'HWANG SUNG-HEE', 'CHAN DAVID SO KEUNG', 'TANAKA KENJI', 'SEKI SATOSHI', 'HIRABAYASHI HIROMITSU', 'NISHIKORI HITOSHI', 'DAROLIA RAMGOPAL', 'YEH CHUN-CHEN', 'HAMADA TOSHIYA', 'MATSUMOTO HARUYUKI', 'TANI ATSUSHI', 'SANO AKANE', 'SAPORITO ANTHONY', 'MIYAZAKI TOSHIHIKO', 'INOUE HIROYUKI', 'OZAKI TERUO', 'NOH HOONDONG', 'KIM SANGBUM', 'MONIZ THOMAS ORY', 'NAKAYA HIDEO', 'SAKO YOICHIRO', 'WATANABE TAKEJI', 'IMAMURA TAKESHI', 'OSHIMA MITSUAKI', 'KANEKO SATOSHI', 'YONEDA KENJI', 'ODAGIRI MASARU', 'MELTON PATRICK BENEDICT', 'LEE HYOJIN', 'KAMIYAMA YUJI', 'KANBE JUNICHIRO', 'VENKATARAMANI VENKAT SUBRAMANIAM', 'CHENG KANGGUO', 'STOIA LUCAS JOHN', 'SASANO AKIRA', 'SHIMA HISATO', 'SAITO KEISHI', 'TOMOSADA MASAHIRO', 'TAKENAKA KATSURO', 'PARK SUNG-WOOK', 'KIMURA MAKIKO', 'LU SU', 'MORRILL DANIEL LAWRENCE', 'KINJO NORIYUKI', 'RADENS CARL J', 'MATSUBARA MIYUKI', 'LEE JUHO', 'YOSHIDA TADAO', 'HONDA KAZUYOSHI', 'REN ZHIYUAN', 'TAKAHASHI KENJI', 'BRAY JAMES WILLIAM', 'SHIRAI TAIZO', 'YAMANAKA AKIHIRO', 'SAITO ASAO', 'NARAYANAN VIJAY', 'SUZUKI TERUHIKO', 'MORIWAKI YOSHIO', 'LEE CHING-PANG', 'BEKKI TOSHIHIKO', 'NAKAMURA ATSUSHI', 'TAKAHASHI KIICHIRO', 'SUGAMA SADAYUKI', 'COMANZO HOLLY ANN', 'SHAHIDI GHAVAM G', 'SAIKAWA HIDEO', 'GERSTLER WILLIAM DWIGHT', 'LIE FEE LI', 'NOGUCHI KOJI', 'YANO KENTARO', 'WOLFE CHRISTOPHER EDWARD', 'NAGOSHI SHIGEYASU', 'SHAN CHENG', 'NASHIDA TATSUSHI', 'SEALING CHARLES SCOTT', 'IMAIDE TAKUYA', 'KOOL LAWRENCE BERNARD', 'YAMAMOTO KAZUHISA', 'KOTAKI YASUO', 'IZUMIDA MASAAKI', 'YUN SUNG-RYUL', 'TANGE AKIRA', 'STEVENSON CHRISTIAN XAVIER', 'LEE HYUN-WOO', 'PARK IN-SIK', 'NOGUCHI TAKAHARU', 'YAMADA NAOKI', 'HAYASHI HIROKI', 'LAWRENCE BRIAN LEE', 'KAWAI SUEO', 'WELLES KENNETH BRAKELEY', 'SUZUKI HIDETOSHI', 'OGINO HIROYUKI', 'MATSUZAKI HARUMI', 'OSHIMA KAZUYOSHI', 'NISHIUCHI KENICHI', 'GLYNN CHRISTOPHER CHARLES', 'PICKETT JAMES EDWARD', 'KOBAYASHI MASAHARU', 'MILLER BRANDON WAYNE', 'SHIN CHEOLKYU', 'KASUYA TAKASHIGE', 'NOJIMA TAKASHI', 'MURASE KAORU', 'BODEN EUGENE PAULING', 'ARA YOJI', 'HINAMI JUN', 'HOFER DOUGLAS CARL', 'REZNICEK ALEXANDER', 'LACY BENJAMIN PAUL', 'MATSUDA YASUMASA', 'KURODA SHINICHI', 'IMANAKA YOSHIYUKI', 'KANEKO TETSUYA', 'SUGIMOTO KAZUO', 'ISHINAGA HIROYUKI', 'KASANUKI YUJI', 'DAVIS GARY CHARLES', 'YEAGER GARY WILLIAM', 'NAITO TAKASHI', 'NISHINO ATSUSHI', 'KRAY NICHOLAS JOSEPH', \"O'CONNELL BRIAN M\", 'LORRAINE PETER WILLIAM', 'YAMANO IKUO', 'KOBAYASHI SHOEI', 'CHANG YOUNG-BIN', 'SATO MASAHIKO', 'MCCLOSKEY PATRICK JOSEPH', 'FOX JEREMY R', 'CHIDAMBARRAO DURESETI', 'STANDAERT THEODORUS E', 'JEONG HONG-SIL', 'TURNQUIST NORMAN ARNOLD', 'MIYOSHI KENICHI', 'RUUD JAMES ANTHONY', 'NANJO TATSUO', 'KUWABARA NOBUYUKI', 'IGAWA SATOSHI', 'ITZEL GARY MICHAEL', 'YOSHIHIRA AYA', 'DAVIS JR LEWIS BERKLEY', 'ROSS JOHN ANDERSON FERGUS', 'MIYAMOTO HARUKAZU', 'KIM JAE-YOEL', 'NAKAGAMI OHJI', 'HATTORI YOSHIFUMI', 'WALKER KEITH R', 'SHINJO KENJI', 'SHIRAI SHIGERU', 'MIYAJIMA YASUSHI', 'ISHIKAWA TOMOKAZU', 'KARITA SEIICHIRO', 'MAEDA TAKESHI', 'LYONS ROBERT JOSEPH', 'PAPASAKELLARIOU ARIS', 'SAITOH AKIHITO', 'TSUDA SHINICHIRO', 'JEONG KYEONGIN', 'SHIMIZU EIICHIRO', 'TIBBETTS NICOLE JESSICA', 'SUZUKI AKIO', 'OKAZAKI TAKESHI', 'KRAELING MARK BRADSHAW', 'ISHIBASHI HIROMICHI', 'KANDA HIDEHIKO', 'TSUBOYAMA AKIRA', 'GOTOH FUMIHIRO', 'KUMAR AJITH KUTTANNAIR', 'NISHIMURA YUKIO', 'SHAFFER GLENN ROBERT', 'TAKAHASHI SANKICHI', 'VAN DAM JEREMY DANIEL', 'SUGIURA NOBORU', 'SUGIYAMA HIROYUKI', 'MURAKAMI GEN', 'YONEHARA TAKAO', 'KRAEMER GILBERT OTTO', 'KAWAKAMI HIDEAKI', 'OKADA TOMOYUKI', 'HSU LOUIS L', 'SRIVASTAVA ALOK MANI', 'NAKAGAWA KATSUMI', 'NAGARAJ BANGALORE ASWATHA', 'TOMIZAWA TAKESHI', 'SCHMIDT DONALD WILLIAM', 'EKAMBARAM VIJAY', 'KONDO TETSUJIRO', 'SLEIGHT JEFFREY W', 'FANG BIAO', 'GREINER DAN F', 'RUTKOWSKI STEPHEN FRANCIS', 'NAKAMURA KAZUHIKO', 'IKEDA MASAMI', 'NISHIMURA ASAO', 'MURROW KURT DAVID', 'GHASRIPOOR FARSHAD', 'DALTON TIMOTHY J', 'SADANA DEVENDRA K', 'ISHIDA TAKASHI', 'TAKEMURA YOSHINARI', 'JANG JAE HYUK', 'SCHMIDT DONALD W', 'YOON DU-SEOP', 'IWASAKI OSAMU', 'CHAN KWOK PONG', 'KOZLOSKI JAMES R', 'ZHANG JIANZHONG', 'SASAYAMA TAKAO', 'KOZUKA MASAYUKI', 'YAEGASHI HISAO', 'EBISAWA ISAO', 'TATEBAYASHI MAKOTO', 'SEKIGUCHI SHUNICHI', 'NAKAZAWA IKUO', 'CHILA RONALD JAMES', 'CLEVENGER LAWRENCE A', 'SUBRAMANIAN KANAKASABAPATHI', 'UEDA SHIGEKI', 'LEE HYEON-WOO', 'BAUGHMAN AARON K', 'MOCHIZUKI MUGA', 'STAMPER ANTHONY K', 'LI JUNTAO', 'NISHI KUNIHIKO', 'HAMILTON II RICK A', 'UHM JONG HO', 'LIU JIE', 'SLEGEL TIMOTHY J', 'FUKUSHIMA TAKASHI', 'NISHIDE YOSUKE', 'SHAH MANOJ RAMPRASAD', 'MCMAHAN KEVIN WESTON', 'YAZAWA TAKESHI', 'RUBINSZTAJN SLAWOMIR', 'KANOTA KEIJI', 'NAGANO TAKAHIRO', 'YAMASHITA MASATAKA', 'OKINO AYATOMO', 'KAWATOKO NORIHIRO', 'NAGASHIMA TOSHIAKI', 'KATAGIRI KAZUHARU', 'HATTORI SHINOBU', 'RAKSHIT SARBAJIT K', 'YAMADA AKITOSHI', 'MYUNG SEHO', 'HERR STEFAN', 'MURAKAMI HAJIME', 'KIM TAEHYOUNG', 'SATOH ISAO', 'TANAKA SHIGEAKI', 'KIM SANG BUM', 'GOTO AKIRA', 'MIYAGAWA MASASHI', 'KITANO MAKOTO', 'KOSHIKAWA HIROSHI', 'ROBERTS HERBERT CHIDSEY', 'ZHANG HUA', 'YAMADA KAZUJI', 'YAGASAKI YOICHI', 'KWON HWAN-JOON', 'SAWAI YUICHI', 'LIN DECHAO', 'KATAYAMA AKIHIRO', 'JEONG KYEONG-IN', 'JANG JAEHYUK', 'AOTA KINYA', 'YAMASHITA HISAO', 'HARUTA MASAHIRO', 'KESHAVAN HRISHIKESH', 'OGAWA TOSHIO', 'KON TAKAYASU', 'CHOI SEUNG-HOON', 'WORDEN BRET DWAYNE', 'INOUE RYOJI', 'SEXTON DANIEL WHITE', 'INOUE MAKOTO', 'LEE HAK-JU', 'MARU AKIKO', 'KIM SOENGHUN', 'ISOGAI TOKIO', 'HAN JIN KYU', 'KOBAYASHI MASAAKI', 'SASAKI HIROSHI', 'YOKOYAMA TAKASHI', 'KAWADA HARUKI', 'KWAK YONG-JUN', 'WATANABE TSUTOMU', 'OHASHI TETSUYA', 'LEWIS LARRY NEIL', 'JI HYOUNG-JU', 'GALLUCCI ROBERT RUSSELL', 'KLODOWSKI ANTHONY MICHAEL', 'KIM SOENG HUN', 'KOO CHANG-HOI', 'WATANABE KENJIRO', 'TANAKA MASATO', 'CHO JOON YOUNG', 'TAKEDA TOSHIHIKO', 'NAKAMURA HITOSHI', 'KANAKASABAPATHY SIVANANDA K', 'NAGAI AKIRA', 'KANEVSKY DIMITRI', 'SHIMIZU ISAMU', 'SASAKI TORU', 'CELLA JAMES ANTHONY', 'KAWAI JUN', 'LANG STEFFEN', 'SCHNETZKA HAROLD ROBERT', 'SAITO AKIO', 'OHBA TAKASHI', 'MORIYAMA JIRO', 'KUGIYA FUMIO', 'LEE SUN-IL', 'SCIPIO ALSTON ILFORD', 'MORIOKA YUICHI', 'NAKAMURA KIYOSHI', 'KOITABASHI NORIBUMI', 'WANG YU', 'SAITO TAKASHI', 'TRIM CRAIG M', 'ZIMINSKY WILLY STEVE', 'FARRELL MARK S', 'TAKAHASHI TADASHI', 'WANG XUEFENG', 'SAITO HIROYUKI', 'KULKARNI AMBARISH JAYANT', 'IWASAKI TAKESHI', 'SUZUKI TAKASHI', 'RITTER ANN MELINDA', 'TSUKUDA KEIICHIRO', 'KIM SUNG-JIN', 'HARPUR LIAM', 'YAGUCHI AKIHIRO', 'MATSUMOTO TOMOHIDE', 'SAKODA KAZUYUKI', 'HWANG SUNG-OH', 'NAGAOKA YUKIO', 'CHO JOON-YOUNG', 'NIHEI HIDEKI', 'KANEKO SHUZO', 'DUNNE JONATHAN', 'DUGGAL ANIL RAJ', 'PICKOVER CLIFFORD A', 'NIERGARTH DANIEL ALAN', 'YOKONO ATARU', 'MORI YOSHIHIRO', 'CLEMENTS JEFFREY DONALD', 'YAMAMOTO KAZUYUKI', 'BAE TAEHAN', 'MINOWA TOSHIMICHI', 'KO JUNG-WAN', 'KUROIWA HIROSHI', 'ATAGO TAKESHI', 'KASHINO TOSHIO', 'KAMADA YASUNORI', 'KWAK YOUNGWOO', 'NISHIMURA YUTAKA', 'PREMERLANI WILLIAM JAMES', 'TERAO MOTOYASU', 'INOKUCHI TATSUYA', 'SUZUKI AKIRA', 'TAMURA YASUYUKI', 'INUI TOSHIHARU', 'YAMADA HIROYUKI', 'MITRAN MARCEL', 'WANG SHIZHONG', 'BURDGICK STEVEN SEBASTIAN', 'MIYASHITA HIROKAZU', 'EKANAYAKE SANJI', 'NISHIDA TETSUYA', 'ARAI ATSUSHI', 'HEKMATSHOARTABARI BAHMAN', 'SPITSBERG IRENE', 'PERRY ROBERT JAMES', 'ANDO TAKASHI', 'LEE JULIA LAM', 'YAMAGAMI TAMOTSU', 'NAKAMURA SHOZO', 'YAMAZAKI TAKASHI', 'BOARDMAN GREGORY ALLEN', 'FOGEL KEITH E', 'KOTTILINGAM SRIKANTH CHANDRUDU', 'KUROSAWA TOSHIAKI', 'NOFFSINGER JOSEPH FORREST', 'LASKARIS EVANGELOS TRIFON', 'ASUKAI MASAMICHI', 'KEIMEL CHRISTOPHER FRED', 'XIONG RIHUA', 'HELLER LISA CRANTON', 'WEI CHANG', 'DELUCA LISA SEACAT', 'MIYASHITA KUNIO', 'EDAMURA TETSUYA', 'FARRELL MARK', 'IWAWAKI HIRONOBU', 'TAKAHASHI AKIO', 'GOWDA ARUN VIRUPAKSHA', 'ARASHIMA TERUO', 'NAKAMURA TAKATOSHI', 'TAKAI MOTOYUKI', 'KATO JUNICHI', 'KURODA OSAMU', 'LEE CHOONGHYUN', 'SAEKI JUNICHI', 'SALASOO LEMBIT', 'SALAPURA VALENTINA', 'USUI MAKOTO', 'YAMANOBE MASATO', 'MURAKAMI TOKUMICHI', 'WATANABE TAKASHI', 'KIM YOUNG-BUM', 'KOIZUMI YUTAKA', 'SUN CHEN', 'OSADA YOSHIYUKI', 'NISHIGORI HITOSHI', 'MYUNG SE-HO', 'MIYAZAKI TAKESHI', 'YOSHINO KOJI', 'FURUMIYA SHIGERU', 'BREEZE-STRINGFELLOW ANDREW', 'TAKENOUCHI MASANORI', 'YOSHINAGA KAZUO', 'UCHIDA MASASHI', 'LEE JU-HO', 'KOISHI KENJI', 'HANAYA HIROYUKI', 'SUZUKI TETSUO', 'KOYAMA SHUJI', 'OGATA MASATSUGU', 'KITABATAKE KENJI', 'WAGONER ROBERT GREGORY', 'ISHIHARA SHUNICHI', 'KHAKIFIROOZ ALI', 'GOTOH YOSHIHO', 'ZATORSKI DAREK TOMASZ', 'DIMASCIO PAUL STEPHEN', 'SASAKI YOSHIKI', 'EGUCHI SYUUJI', 'FUJITA MIYUKI', 'JI HYOUNGJU', 'NAKAGIRI TAKASHI', 'DINC OSMAN SAIM', 'JANG JAE-HYUK', 'KANG HEE-WON', 'ISAKA KAZUO', 'WEIMER MICHAEL JAMES', 'WADA SEIJI', 'YOSHIDA AKIHIKO', 'NAKANO TOSHIO', 'TSUKADA TOSHIHISA', 'MIYA KAZUYUKI', 'HARDING KEVIN GEORGE', 'BUNKER RONALD SCOTT', 'TANAKA SHINICHI', 'YAMAMOTO AKIRA', 'KIM SOENG-HUN', 'CHOI SEUNGHOON', 'KONDO SHIGEO', 'SATO NOBUHIKO', 'KING ROBERT DEAN', 'LI NING', 'OH JINYOUNG', 'FURUKAWA TOSHIHARU', 'KUDO KIYOMITSU', 'MATSUMOTO TAKAHIRO', 'KATO MASAO', 'MIYABE SHIGEO', 'HIRABAYASHI MITSUHIRO', 'PARK SUNGJIN', 'DIVAKARUNI RAMACHANDRA', 'VAN LIESHOUT GERT JAN', 'OHARA SHUNJI', 'MINEMURA HIROYUKI', 'TAKEHARA MITSURU', 'HOLMES STEVEN J', 'YONEKUBO HIROAKI', 'HAYASAKI KIMIYUKI', 'TSUKAMOTO TAKEO', 'NARAHARA TOSHIKAZU', 'HIRAMATSU SOICHI', 'FUKUDA TSUGUHIRO'}\n"
     ]
    }
   ],
   "source": [
    "cn_jc = intersect(cn_results, jc_results, 300, \"CN vs JC\")\n",
    "cn_aa = intersect(cn_results, aa_results, 300, \"CN vs AA\")\n",
    "cn_sm = intersect(cn_results, simrank_results, 300, \"CN vs SM\")"
   ],
   "metadata": {
    "collapsed": false,
    "ExecuteTime": {
     "end_time": "2024-01-15T19:16:44.014893300Z",
     "start_time": "2024-01-15T19:02:07.785207100Z"
    }
   }
  },
  {
   "cell_type": "code",
   "execution_count": 71,
   "outputs": [
    {
     "name": "stdout",
     "output_type": "stream",
     "text": [
      "JC vs AA\n",
      "{'DORIS BRUCE B', 'KWATRA SHIKHAR', 'ORIKASA TSUYOSHI', 'YAMAMOTO HAJIME', 'LJUNG RICKARD', 'KAWADE HISAAKI', 'OKUYAMA TOSHIAKI', 'TERAI HARUHIKO', 'KURABAYASHI YUTAKA', 'TAJIMA FUMIO', 'YANG KYEONG-CHEOL', 'KANAI MASAHIRO', 'OGAWA YOSHIHIRO', 'OWASHI HITOAKI', 'NOBUE TOMOTAKA', 'YEO JEONGHO', 'ZHENG XIAOQING', 'YONEMITSU JUN', 'TANEYA YOICHI', 'OTSUKA NAOJI', 'SUZUKI HIROSHI', 'NOWAK EDWARD J', 'VAN DER VELDE HIMKE', 'KAWASAKI OSAMU', 'TOBIN JAMES ROBERT', 'KENMOKU TAKASHI', 'MARTIN BRIAN ALEXANDER', 'YOSHIDA ISAMU', 'BEDELL STEPHEN W', 'LEE KOOK-HEUI', 'KISHORE KUNA VENKAT SATYA RAMA', 'KANG HYUN-JEONG', 'YAMAMOTO MASAYUKI', 'TAKAHASHI WATARU', 'HORAK DAVID V', 'YANG HAI', 'KASAMOTO MASAMI', 'KASAHARA SHUNICHI', 'MATSUDA HIROSHI', 'SATO HIROSHI', 'TAKAHASHI KOJI', 'HASZ WAYNE CHARLES', 'NAM YOUNG-HAN', 'MYERS GEOFFREY DAVID', 'MASUDA KAZUAKI', 'JOO PAN-YUH', 'NIWA TAKASHI', 'SETLUR ANANT ACHYUT', 'KAWAMURA HIROYUKI', 'SHOJI MAMORU', 'KANEDA AIZO', 'KUBOTA MASAHIKO', 'IWAMURA MASAHIRO', 'MAKINO KENICHI', 'LARSEN EINAR VAUGHN', 'KOKAKU HIROYOSHI', 'SEGAWA MASANORI', 'YAMAGUCHI TAKAAKI', 'ISONO AOJI', 'NISHIJIMA HIDEO', 'NOMURA ICHIRO', 'TAKEUCHI TOSHIFUMI', 'GOTO FUMITAKA', 'KAMATANI JUN', 'UESUGI MITSURU', 'KOIKE SHOJI', 'HASHEMI POUYA', 'UJITA TOSHIHIKO', 'KIM IL-KOO', 'HUANG SHYH-CHIN', 'TSUBOI NOBUYOSHI', 'OHNISHI TOSHIKAZU', 'LEOBANDUNG EFFENDI', 'NAKAMURA SHINICHI', 'INOUE HIROSHI', 'MANDELMAN JACK A', 'PARK KYUNG-MO', 'JOO SEONG-SIN', 'YANO TETSUYA', 'JUNG JUNG-SOO', 'CHOI BYEONG-DOO', 'SATO YOSHIO', 'DAUM WOLFGANG', 'TERADA MASAHIRO', 'YAMAMOTO MASANOBU', 'SAKAI KUNIHIRO', 'NOSE HIROYASU', 'MCCONNELEE PAUL ALAN', 'MIN JUNG-HYE', 'KIM YOUNGBUM', 'MAEHARA NAOYOSHI', 'SUZUKI KOICHI', 'ORLANDO ROBERT JOSEPH', 'YAMASHITA TENKO', 'TSUBOSAKI KUNIHIRO', 'TAJIKA HIROSHI', 'OSADA TORACHIKA', 'PARK DONG-SEEK', 'JOHNSON THOMAS EDWARD', 'HIRAI YUTAKA', 'CHEN WEI', 'LIPKIN DON MARK', 'KIMURA HIROYUKI', 'SHIMADA SATOSHI', 'OKAMOTO HIROO', 'SHIMOTANI MITSUO', 'XIE RUILONG', 'TAKANO HIROAKI', 'YAMADA NOBORU', 'EVANS SCOTT CHARLES', 'CHO JAE-WEON', 'JACKSON MELVIN ROBERT', 'LEE SUNG-JIN', 'ISHIHARA HIDESHI', 'YAMAGUCHI HIDEKI', 'FURUKAWA SHUNSUKE', 'TSUCHIYA KENJI', 'OGINO MASAHIKO', 'CARTER WILLIAM THOMAS', 'VONDRELL RANDY M', 'XU LIXIANG', 'PI ZHOUYUE', 'TSUGA KAZUHIRO', 'SLEGEL TIMOTHY', 'LEE JU HO', 'YOON SOON-YOUNG', 'INOUE MASAYUKI', 'LEE TAMMY', 'JIANG MINGXIAO', 'KUNIMOTO KEIJIRO', 'KIM YOUN-SUN', 'HIGUMA MASAHIKO', 'DENG ZHIGANG', 'KONNO YUJI', 'IWAKI TSUTOMU', 'MURAI KEIICHI', 'FUJINAMI YASUSHI', 'MISUMI TERUO', 'SHI XIAOLEI', 'PENG WENQING', 'MATSUDA SHINPEI', 'AZUHATA SHIGERU', 'OSTROVERKHOV VICTOR PETROVICH', 'KIDA AKIRA', 'KIM YOUNSUN', 'HAYASHI KAZUNORI', 'ONO MITSUHIRO', 'MATSUNAMI NAOTO', 'YANG CHIH-CHAO', 'TAKIGUCHI TAKAO', 'WANG JUNLI', 'HASEBE TAKUMI', 'TOLLISON BRIAN LEE', 'MIYAWAKI MAMORU', 'SONG JAE-YEON', 'SUZUKI NORITAKE', 'KIM JEEHWAN', 'ONGGOSANUSI EKO', 'SAKAI YOSHIO', 'MOROOKA YASUO', 'SATO MAKOTO', 'CHOI HO-KYU', 'SUGITANI HIROSHI', 'WEI BIN', 'MORIYA YOSHIMI', 'SUGIMOTO HITOSHI', 'NAKANE SHINICHI', 'VAN LIESHOUT GERT-JAN', 'GOTO FUMIHIRO', 'RYU HYUNSEOK', 'GAINEY JR CHARLES W', 'PONOTH SHOM', 'FUKUSHIMA ISAO', 'JOSHI NARENDRA DIGAMBER', 'NG BOON LOONG', 'CUI YAN', 'PRENTICE IAN FRANCIS', 'MATSUDA HIROMU', 'LEE KYUNG-GEUN', 'YAMADA MAKOTO', 'SAKAMAKI HISASHI', 'TAKAHASHI KATSUHIRO', 'NAGASE HIROSHI', 'YANG HYUN-KOO', 'GAMBINO JEFFREY P', 'MIURA HIDEO', 'HAN JIN-KYU', 'ITO MOTOSHI', 'LI YING', 'GSCHWIND MICHAEL KARL', 'YAMAMOTO KATSUHIKO', 'KIM SANG-BUM', 'MURPHY JAMES EDWARD', 'LIU YUNFENG', 'TESHIGAWARA MINORU', 'HERSHEY JOHN ERIK', 'WATANABE HIROSHI', 'TERAUCHI TOSHIRO', 'YANAGISAWA YOSHIHIRO', 'SATO KOICHI', 'MURAI RYUICHI', 'TODOKORO YASUYUKI', 'CHOI SUNG-HO', 'KHAN FAROOQ', 'SCHEP CORNELIS MARINUS', 'GUO XIN', 'TANNO KOICHI', 'WAKABAYASHI HIDEJI', 'COLBURN MATTHEW E', 'MORITA AYUMU', 'TOYOGUCHI YOSHINORI', 'MAEOKA KUNIHIKO', 'NISHIKAWA AKIO', 'SHIBATA AKIRA', 'WAJIMA MOTOYO', 'RITTER ALLEN MICHAEL', 'BOSS GREGORY J', 'SAITO ICHIRO', 'BASKER VEERARAGHAVAN S', 'OKADA SHINJIRO', 'EDELSTEIN DANIEL C', 'UETSUKI MASAYA', 'KATO MOTOKI', 'MIYATA MASANORI', 'SATO SHINICHI', 'GREINER DAN', 'DELVAUX JOHN MCCONNELL', 'MISHINA SHINYA', 'SHUM CHUNG-LUNG K', 'LIM CHI-WOO', 'COOPER JARED KLINEMAN', 'NAGAI TAKESHI', 'TOSHIMA HIROAKI', 'ONO TAKEO', 'HWANG SUNG-HEE', 'CHAN DAVID SO KEUNG', 'TANAKA KENJI', 'SEKI SATOSHI', 'HIRABAYASHI HIROMITSU', 'NISHIKORI HITOSHI', 'DAROLIA RAMGOPAL', 'YEH CHUN-CHEN', 'HAMADA TOSHIYA', 'MATSUMOTO HARUYUKI', 'TANI ATSUSHI', 'SANO AKANE', 'SAPORITO ANTHONY', 'MIYAZAKI TOSHIHIKO', 'INOUE HIROYUKI', 'OZAKI TERUO', 'NOH HOONDONG', 'KIM SANGBUM', 'MONIZ THOMAS ORY', 'NAKAYA HIDEO', 'SAKO YOICHIRO', 'WATANABE TAKEJI', 'IMAMURA TAKESHI', 'OSHIMA MITSUAKI', 'KANEKO SATOSHI', 'YONEDA KENJI', 'ODAGIRI MASARU', 'MELTON PATRICK BENEDICT', 'LEE HYOJIN', 'KAMIYAMA YUJI', 'KANBE JUNICHIRO', 'VENKATARAMANI VENKAT SUBRAMANIAM', 'CHENG KANGGUO', 'STOIA LUCAS JOHN', 'SASANO AKIRA', 'SHIMA HISATO', 'SAITO KEISHI', 'TOMOSADA MASAHIRO', 'TAKENAKA KATSURO', 'PARK SUNG-WOOK', 'KIMURA MAKIKO', 'LU SU', 'MORRILL DANIEL LAWRENCE', 'KINJO NORIYUKI', 'RADENS CARL J', 'MATSUBARA MIYUKI', 'LEE JUHO', 'YOSHIDA TADAO', 'HONDA KAZUYOSHI', 'REN ZHIYUAN', 'TAKAHASHI KENJI', 'BRAY JAMES WILLIAM', 'SHIRAI TAIZO', 'YAMANAKA AKIHIRO', 'SAITO ASAO', 'NARAYANAN VIJAY', 'SUZUKI TERUHIKO', 'MORIWAKI YOSHIO', 'LEE CHING-PANG', 'BEKKI TOSHIHIKO', 'NAKAMURA ATSUSHI', 'TAKAHASHI KIICHIRO', 'SUGAMA SADAYUKI', 'COMANZO HOLLY ANN', 'SHAHIDI GHAVAM G', 'SAIKAWA HIDEO', 'GERSTLER WILLIAM DWIGHT', 'LIE FEE LI', 'NOGUCHI KOJI', 'YANO KENTARO', 'WOLFE CHRISTOPHER EDWARD', 'NAGOSHI SHIGEYASU', 'SHAN CHENG', 'NASHIDA TATSUSHI', 'SEALING CHARLES SCOTT', 'IMAIDE TAKUYA', 'KOOL LAWRENCE BERNARD', 'YAMAMOTO KAZUHISA', 'KOTAKI YASUO', 'IZUMIDA MASAAKI', 'YUN SUNG-RYUL', 'TANGE AKIRA', 'STEVENSON CHRISTIAN XAVIER', 'LEE HYUN-WOO', 'PARK IN-SIK', 'NOGUCHI TAKAHARU', 'YAMADA NAOKI', 'HAYASHI HIROKI', 'LAWRENCE BRIAN LEE', 'KAWAI SUEO', 'WELLES KENNETH BRAKELEY', 'SUZUKI HIDETOSHI', 'OGINO HIROYUKI', 'MATSUZAKI HARUMI', 'OSHIMA KAZUYOSHI', 'NISHIUCHI KENICHI', 'GLYNN CHRISTOPHER CHARLES', 'PICKETT JAMES EDWARD', 'KOBAYASHI MASAHARU', 'MILLER BRANDON WAYNE', 'SHIN CHEOLKYU', 'KASUYA TAKASHIGE', 'NOJIMA TAKASHI', 'MURASE KAORU', 'BODEN EUGENE PAULING', 'ARA YOJI', 'HINAMI JUN', 'HOFER DOUGLAS CARL', 'REZNICEK ALEXANDER', 'LACY BENJAMIN PAUL', 'MATSUDA YASUMASA', 'KURODA SHINICHI', 'IMANAKA YOSHIYUKI', 'KANEKO TETSUYA', 'SUGIMOTO KAZUO', 'ISHINAGA HIROYUKI', 'KASANUKI YUJI', 'DAVIS GARY CHARLES', 'YEAGER GARY WILLIAM', 'NAITO TAKASHI', 'NISHINO ATSUSHI', 'KRAY NICHOLAS JOSEPH', \"O'CONNELL BRIAN M\", 'LORRAINE PETER WILLIAM', 'YAMANO IKUO', 'KOBAYASHI SHOEI', 'CHANG YOUNG-BIN', 'SATO MASAHIKO', 'MCCLOSKEY PATRICK JOSEPH', 'FOX JEREMY R', 'CHIDAMBARRAO DURESETI', 'STANDAERT THEODORUS E', 'JEONG HONG-SIL', 'TURNQUIST NORMAN ARNOLD', 'MIYOSHI KENICHI', 'RUUD JAMES ANTHONY', 'NANJO TATSUO', 'KUWABARA NOBUYUKI', 'IGAWA SATOSHI', 'ITZEL GARY MICHAEL', 'YOSHIHIRA AYA', 'DAVIS JR LEWIS BERKLEY', 'ROSS JOHN ANDERSON FERGUS', 'MIYAMOTO HARUKAZU', 'KIM JAE-YOEL', 'NAKAGAMI OHJI', 'HATTORI YOSHIFUMI', 'WALKER KEITH R', 'SHINJO KENJI', 'SHIRAI SHIGERU', 'MIYAJIMA YASUSHI', 'ISHIKAWA TOMOKAZU', 'KARITA SEIICHIRO', 'MAEDA TAKESHI', 'LYONS ROBERT JOSEPH', 'PAPASAKELLARIOU ARIS', 'SAITOH AKIHITO', 'TSUDA SHINICHIRO', 'JEONG KYEONGIN', 'SHIMIZU EIICHIRO', 'TIBBETTS NICOLE JESSICA', 'SUZUKI AKIO', 'OKAZAKI TAKESHI', 'KRAELING MARK BRADSHAW', 'ISHIBASHI HIROMICHI', 'KANDA HIDEHIKO', 'TSUBOYAMA AKIRA', 'GOTOH FUMIHIRO', 'KUMAR AJITH KUTTANNAIR', 'NISHIMURA YUKIO', 'SHAFFER GLENN ROBERT', 'TAKAHASHI SANKICHI', 'VAN DAM JEREMY DANIEL', 'SUGIURA NOBORU', 'SUGIYAMA HIROYUKI', 'MURAKAMI GEN', 'YONEHARA TAKAO', 'KRAEMER GILBERT OTTO', 'KAWAKAMI HIDEAKI', 'OKADA TOMOYUKI', 'HSU LOUIS L', 'SRIVASTAVA ALOK MANI', 'NAKAGAWA KATSUMI', 'NAGARAJ BANGALORE ASWATHA', 'TOMIZAWA TAKESHI', 'SCHMIDT DONALD WILLIAM', 'EKAMBARAM VIJAY', 'KONDO TETSUJIRO', 'SLEIGHT JEFFREY W', 'FANG BIAO', 'GREINER DAN F', 'RUTKOWSKI STEPHEN FRANCIS', 'NAKAMURA KAZUHIKO', 'IKEDA MASAMI', 'NISHIMURA ASAO', 'MURROW KURT DAVID', 'GHASRIPOOR FARSHAD', 'DALTON TIMOTHY J', 'SADANA DEVENDRA K', 'ISHIDA TAKASHI', 'TAKEMURA YOSHINARI', 'JANG JAE HYUK', 'SCHMIDT DONALD W', 'YOON DU-SEOP', 'IWASAKI OSAMU', 'CHAN KWOK PONG', 'KOZLOSKI JAMES R', 'ZHANG JIANZHONG', 'SASAYAMA TAKAO', 'KOZUKA MASAYUKI', 'YAEGASHI HISAO', 'EBISAWA ISAO', 'TATEBAYASHI MAKOTO', 'SEKIGUCHI SHUNICHI', 'NAKAZAWA IKUO', 'CHILA RONALD JAMES', 'CLEVENGER LAWRENCE A', 'SUBRAMANIAN KANAKASABAPATHI', 'UEDA SHIGEKI', 'LEE HYEON-WOO', 'BAUGHMAN AARON K', 'MOCHIZUKI MUGA', 'STAMPER ANTHONY K', 'LI JUNTAO', 'NISHI KUNIHIKO', 'HAMILTON II RICK A', 'UHM JONG HO', 'LIU JIE', 'SLEGEL TIMOTHY J', 'FUKUSHIMA TAKASHI', 'NISHIDE YOSUKE', 'SHAH MANOJ RAMPRASAD', 'MCMAHAN KEVIN WESTON', 'YAZAWA TAKESHI', 'RUBINSZTAJN SLAWOMIR', 'KANOTA KEIJI', 'NAGANO TAKAHIRO', 'YAMASHITA MASATAKA', 'OKINO AYATOMO', 'KAWATOKO NORIHIRO', 'NAGASHIMA TOSHIAKI', 'KATAGIRI KAZUHARU', 'HATTORI SHINOBU', 'RAKSHIT SARBAJIT K', 'YAMADA AKITOSHI', 'MYUNG SEHO', 'HERR STEFAN', 'MURAKAMI HAJIME', 'KIM TAEHYOUNG', 'SATOH ISAO', 'TANAKA SHIGEAKI', 'KIM SANG BUM', 'GOTO AKIRA', 'MIYAGAWA MASASHI', 'KITANO MAKOTO', 'KOSHIKAWA HIROSHI', 'ROBERTS HERBERT CHIDSEY', 'ZHANG HUA', 'YAMADA KAZUJI', 'YAGASAKI YOICHI', 'KWON HWAN-JOON', 'SAWAI YUICHI', 'LIN DECHAO', 'KATAYAMA AKIHIRO', 'JEONG KYEONG-IN', 'JANG JAEHYUK', 'AOTA KINYA', 'YAMASHITA HISAO', 'HARUTA MASAHIRO', 'KESHAVAN HRISHIKESH', 'OGAWA TOSHIO', 'KON TAKAYASU', 'CHOI SEUNG-HOON', 'WORDEN BRET DWAYNE', 'INOUE RYOJI', 'SEXTON DANIEL WHITE', 'INOUE MAKOTO', 'LEE HAK-JU', 'MARU AKIKO', 'KIM SOENGHUN', 'ISOGAI TOKIO', 'HAN JIN KYU', 'KOBAYASHI MASAAKI', 'SASAKI HIROSHI', 'YOKOYAMA TAKASHI', 'KAWADA HARUKI', 'KWAK YONG-JUN', 'WATANABE TSUTOMU', 'OHASHI TETSUYA', 'LEWIS LARRY NEIL', 'JI HYOUNG-JU', 'GALLUCCI ROBERT RUSSELL', 'KLODOWSKI ANTHONY MICHAEL', 'KIM SOENG HUN', 'KOO CHANG-HOI', 'WATANABE KENJIRO', 'TANAKA MASATO', 'CHO JOON YOUNG', 'TAKEDA TOSHIHIKO', 'NAKAMURA HITOSHI', 'KANAKASABAPATHY SIVANANDA K', 'NAGAI AKIRA', 'KANEVSKY DIMITRI', 'SHIMIZU ISAMU', 'SASAKI TORU', 'CELLA JAMES ANTHONY', 'KAWAI JUN', 'LANG STEFFEN', 'SCHNETZKA HAROLD ROBERT', 'SAITO AKIO', 'OHBA TAKASHI', 'MORIYAMA JIRO', 'KUGIYA FUMIO', 'LEE SUN-IL', 'SCIPIO ALSTON ILFORD', 'MORIOKA YUICHI', 'NAKAMURA KIYOSHI', 'KOITABASHI NORIBUMI', 'WANG YU', 'SAITO TAKASHI', 'TRIM CRAIG M', 'ZIMINSKY WILLY STEVE', 'FARRELL MARK S', 'TAKAHASHI TADASHI', 'WANG XUEFENG', 'SAITO HIROYUKI', 'KULKARNI AMBARISH JAYANT', 'IWASAKI TAKESHI', 'SUZUKI TAKASHI', 'RITTER ANN MELINDA', 'TSUKUDA KEIICHIRO', 'KIM SUNG-JIN', 'HARPUR LIAM', 'YAGUCHI AKIHIRO', 'MATSUMOTO TOMOHIDE', 'SAKODA KAZUYUKI', 'HWANG SUNG-OH', 'NAGAOKA YUKIO', 'CHO JOON-YOUNG', 'NIHEI HIDEKI', 'KANEKO SHUZO', 'DUNNE JONATHAN', 'DUGGAL ANIL RAJ', 'PICKOVER CLIFFORD A', 'NIERGARTH DANIEL ALAN', 'YOKONO ATARU', 'MORI YOSHIHIRO', 'CLEMENTS JEFFREY DONALD', 'YAMAMOTO KAZUYUKI', 'BAE TAEHAN', 'MINOWA TOSHIMICHI', 'KO JUNG-WAN', 'KUROIWA HIROSHI', 'ATAGO TAKESHI', 'KASHINO TOSHIO', 'KAMADA YASUNORI', 'KWAK YOUNGWOO', 'NISHIMURA YUTAKA', 'PREMERLANI WILLIAM JAMES', 'TERAO MOTOYASU', 'INOKUCHI TATSUYA', 'SUZUKI AKIRA', 'TAMURA YASUYUKI', 'INUI TOSHIHARU', 'YAMADA HIROYUKI', 'MITRAN MARCEL', 'WANG SHIZHONG', 'BURDGICK STEVEN SEBASTIAN', 'MIYASHITA HIROKAZU', 'EKANAYAKE SANJI', 'NISHIDA TETSUYA', 'ARAI ATSUSHI', 'HEKMATSHOARTABARI BAHMAN', 'SPITSBERG IRENE', 'PERRY ROBERT JAMES', 'ANDO TAKASHI', 'LEE JULIA LAM', 'YAMAGAMI TAMOTSU', 'NAKAMURA SHOZO', 'YAMAZAKI TAKASHI', 'BOARDMAN GREGORY ALLEN', 'FOGEL KEITH E', 'KOTTILINGAM SRIKANTH CHANDRUDU', 'KUROSAWA TOSHIAKI', 'NOFFSINGER JOSEPH FORREST', 'LASKARIS EVANGELOS TRIFON', 'ASUKAI MASAMICHI', 'KEIMEL CHRISTOPHER FRED', 'XIONG RIHUA', 'HELLER LISA CRANTON', 'WEI CHANG', 'DELUCA LISA SEACAT', 'MIYASHITA KUNIO', 'EDAMURA TETSUYA', 'FARRELL MARK', 'IWAWAKI HIRONOBU', 'TAKAHASHI AKIO', 'GOWDA ARUN VIRUPAKSHA', 'ARASHIMA TERUO', 'NAKAMURA TAKATOSHI', 'TAKAI MOTOYUKI', 'KATO JUNICHI', 'KURODA OSAMU', 'LEE CHOONGHYUN', 'SAEKI JUNICHI', 'SALASOO LEMBIT', 'SALAPURA VALENTINA', 'USUI MAKOTO', 'YAMANOBE MASATO', 'MURAKAMI TOKUMICHI', 'WATANABE TAKASHI', 'KIM YOUNG-BUM', 'KOIZUMI YUTAKA', 'SUN CHEN', 'OSADA YOSHIYUKI', 'NISHIGORI HITOSHI', 'MYUNG SE-HO', 'MIYAZAKI TAKESHI', 'YOSHINO KOJI', 'FURUMIYA SHIGERU', 'BREEZE-STRINGFELLOW ANDREW', 'TAKENOUCHI MASANORI', 'YOSHINAGA KAZUO', 'UCHIDA MASASHI', 'LEE JU-HO', 'KOISHI KENJI', 'HANAYA HIROYUKI', 'SUZUKI TETSUO', 'KOYAMA SHUJI', 'OGATA MASATSUGU', 'KITABATAKE KENJI', 'WAGONER ROBERT GREGORY', 'ISHIHARA SHUNICHI', 'KHAKIFIROOZ ALI', 'GOTOH YOSHIHO', 'ZATORSKI DAREK TOMASZ', 'DIMASCIO PAUL STEPHEN', 'SASAKI YOSHIKI', 'EGUCHI SYUUJI', 'FUJITA MIYUKI', 'JI HYOUNGJU', 'NAKAGIRI TAKASHI', 'DINC OSMAN SAIM', 'JANG JAE-HYUK', 'KANG HEE-WON', 'ISAKA KAZUO', 'WEIMER MICHAEL JAMES', 'WADA SEIJI', 'YOSHIDA AKIHIKO', 'NAKANO TOSHIO', 'TSUKADA TOSHIHISA', 'MIYA KAZUYUKI', 'HARDING KEVIN GEORGE', 'BUNKER RONALD SCOTT', 'TANAKA SHINICHI', 'YAMAMOTO AKIRA', 'KIM SOENG-HUN', 'CHOI SEUNGHOON', 'KONDO SHIGEO', 'SATO NOBUHIKO', 'KING ROBERT DEAN', 'LI NING', 'OH JINYOUNG', 'FURUKAWA TOSHIHARU', 'KUDO KIYOMITSU', 'MATSUMOTO TAKAHIRO', 'KATO MASAO', 'MIYABE SHIGEO', 'HIRABAYASHI MITSUHIRO', 'PARK SUNGJIN', 'DIVAKARUNI RAMACHANDRA', 'VAN LIESHOUT GERT JAN', 'OHARA SHUNJI', 'MINEMURA HIROYUKI', 'TAKEHARA MITSURU', 'HOLMES STEVEN J', 'YONEKUBO HIROAKI', 'HAYASAKI KIMIYUKI', 'TSUKAMOTO TAKEO', 'NARAHARA TOSHIKAZU', 'HIRAMATSU SOICHI', 'FUKUDA TSUGUHIRO'}\n",
      "JC vs SM\n",
      "{'DORIS BRUCE B', 'KWATRA SHIKHAR', 'ORIKASA TSUYOSHI', 'YAMAMOTO HAJIME', 'LJUNG RICKARD', 'KAWADE HISAAKI', 'OKUYAMA TOSHIAKI', 'TERAI HARUHIKO', 'KURABAYASHI YUTAKA', 'TAJIMA FUMIO', 'YANG KYEONG-CHEOL', 'KANAI MASAHIRO', 'OGAWA YOSHIHIRO', 'OWASHI HITOAKI', 'NOBUE TOMOTAKA', 'YEO JEONGHO', 'ZHENG XIAOQING', 'YONEMITSU JUN', 'TANEYA YOICHI', 'OTSUKA NAOJI', 'SUZUKI HIROSHI', 'NOWAK EDWARD J', 'VAN DER VELDE HIMKE', 'KAWASAKI OSAMU', 'TOBIN JAMES ROBERT', 'KENMOKU TAKASHI', 'MARTIN BRIAN ALEXANDER', 'YOSHIDA ISAMU', 'BEDELL STEPHEN W', 'LEE KOOK-HEUI', 'KISHORE KUNA VENKAT SATYA RAMA', 'KANG HYUN-JEONG', 'YAMAMOTO MASAYUKI', 'TAKAHASHI WATARU', 'HORAK DAVID V', 'YANG HAI', 'KASAMOTO MASAMI', 'KASAHARA SHUNICHI', 'MATSUDA HIROSHI', 'SATO HIROSHI', 'TAKAHASHI KOJI', 'HASZ WAYNE CHARLES', 'NAM YOUNG-HAN', 'MYERS GEOFFREY DAVID', 'MASUDA KAZUAKI', 'JOO PAN-YUH', 'NIWA TAKASHI', 'SETLUR ANANT ACHYUT', 'KAWAMURA HIROYUKI', 'SHOJI MAMORU', 'KANEDA AIZO', 'KUBOTA MASAHIKO', 'IWAMURA MASAHIRO', 'MAKINO KENICHI', 'LARSEN EINAR VAUGHN', 'KOKAKU HIROYOSHI', 'SEGAWA MASANORI', 'YAMAGUCHI TAKAAKI', 'ISONO AOJI', 'NISHIJIMA HIDEO', 'NOMURA ICHIRO', 'TAKEUCHI TOSHIFUMI', 'GOTO FUMITAKA', 'KAMATANI JUN', 'UESUGI MITSURU', 'KOIKE SHOJI', 'HASHEMI POUYA', 'UJITA TOSHIHIKO', 'KIM IL-KOO', 'HUANG SHYH-CHIN', 'TSUBOI NOBUYOSHI', 'OHNISHI TOSHIKAZU', 'LEOBANDUNG EFFENDI', 'NAKAMURA SHINICHI', 'INOUE HIROSHI', 'MANDELMAN JACK A', 'PARK KYUNG-MO', 'JOO SEONG-SIN', 'YANO TETSUYA', 'JUNG JUNG-SOO', 'CHOI BYEONG-DOO', 'SATO YOSHIO', 'DAUM WOLFGANG', 'TERADA MASAHIRO', 'YAMAMOTO MASANOBU', 'SAKAI KUNIHIRO', 'NOSE HIROYASU', 'MCCONNELEE PAUL ALAN', 'MIN JUNG-HYE', 'KIM YOUNGBUM', 'MAEHARA NAOYOSHI', 'SUZUKI KOICHI', 'ORLANDO ROBERT JOSEPH', 'YAMASHITA TENKO', 'TSUBOSAKI KUNIHIRO', 'TAJIKA HIROSHI', 'OSADA TORACHIKA', 'PARK DONG-SEEK', 'JOHNSON THOMAS EDWARD', 'HIRAI YUTAKA', 'CHEN WEI', 'LIPKIN DON MARK', 'KIMURA HIROYUKI', 'SHIMADA SATOSHI', 'OKAMOTO HIROO', 'SHIMOTANI MITSUO', 'XIE RUILONG', 'TAKANO HIROAKI', 'YAMADA NOBORU', 'EVANS SCOTT CHARLES', 'CHO JAE-WEON', 'JACKSON MELVIN ROBERT', 'LEE SUNG-JIN', 'ISHIHARA HIDESHI', 'YAMAGUCHI HIDEKI', 'FURUKAWA SHUNSUKE', 'TSUCHIYA KENJI', 'OGINO MASAHIKO', 'CARTER WILLIAM THOMAS', 'VONDRELL RANDY M', 'XU LIXIANG', 'PI ZHOUYUE', 'TSUGA KAZUHIRO', 'SLEGEL TIMOTHY', 'LEE JU HO', 'YOON SOON-YOUNG', 'INOUE MASAYUKI', 'LEE TAMMY', 'JIANG MINGXIAO', 'KUNIMOTO KEIJIRO', 'KIM YOUN-SUN', 'HIGUMA MASAHIKO', 'DENG ZHIGANG', 'KONNO YUJI', 'IWAKI TSUTOMU', 'MURAI KEIICHI', 'FUJINAMI YASUSHI', 'MISUMI TERUO', 'SHI XIAOLEI', 'PENG WENQING', 'MATSUDA SHINPEI', 'AZUHATA SHIGERU', 'OSTROVERKHOV VICTOR PETROVICH', 'KIDA AKIRA', 'KIM YOUNSUN', 'HAYASHI KAZUNORI', 'ONO MITSUHIRO', 'MATSUNAMI NAOTO', 'YANG CHIH-CHAO', 'TAKIGUCHI TAKAO', 'WANG JUNLI', 'HASEBE TAKUMI', 'TOLLISON BRIAN LEE', 'MIYAWAKI MAMORU', 'SONG JAE-YEON', 'SUZUKI NORITAKE', 'KIM JEEHWAN', 'ONGGOSANUSI EKO', 'SAKAI YOSHIO', 'MOROOKA YASUO', 'SATO MAKOTO', 'CHOI HO-KYU', 'SUGITANI HIROSHI', 'WEI BIN', 'MORIYA YOSHIMI', 'SUGIMOTO HITOSHI', 'NAKANE SHINICHI', 'VAN LIESHOUT GERT-JAN', 'GOTO FUMIHIRO', 'RYU HYUNSEOK', 'GAINEY JR CHARLES W', 'PONOTH SHOM', 'FUKUSHIMA ISAO', 'JOSHI NARENDRA DIGAMBER', 'NG BOON LOONG', 'CUI YAN', 'PRENTICE IAN FRANCIS', 'MATSUDA HIROMU', 'LEE KYUNG-GEUN', 'YAMADA MAKOTO', 'SAKAMAKI HISASHI', 'TAKAHASHI KATSUHIRO', 'NAGASE HIROSHI', 'YANG HYUN-KOO', 'GAMBINO JEFFREY P', 'MIURA HIDEO', 'HAN JIN-KYU', 'ITO MOTOSHI', 'LI YING', 'GSCHWIND MICHAEL KARL', 'YAMAMOTO KATSUHIKO', 'KIM SANG-BUM', 'MURPHY JAMES EDWARD', 'LIU YUNFENG', 'TESHIGAWARA MINORU', 'HERSHEY JOHN ERIK', 'WATANABE HIROSHI', 'TERAUCHI TOSHIRO', 'YANAGISAWA YOSHIHIRO', 'SATO KOICHI', 'MURAI RYUICHI', 'TODOKORO YASUYUKI', 'CHOI SUNG-HO', 'KHAN FAROOQ', 'SCHEP CORNELIS MARINUS', 'GUO XIN', 'TANNO KOICHI', 'WAKABAYASHI HIDEJI', 'COLBURN MATTHEW E', 'MORITA AYUMU', 'TOYOGUCHI YOSHINORI', 'MAEOKA KUNIHIKO', 'NISHIKAWA AKIO', 'SHIBATA AKIRA', 'WAJIMA MOTOYO', 'RITTER ALLEN MICHAEL', 'BOSS GREGORY J', 'SAITO ICHIRO', 'BASKER VEERARAGHAVAN S', 'OKADA SHINJIRO', 'EDELSTEIN DANIEL C', 'UETSUKI MASAYA', 'KATO MOTOKI', 'MIYATA MASANORI', 'SATO SHINICHI', 'GREINER DAN', 'DELVAUX JOHN MCCONNELL', 'MISHINA SHINYA', 'SHUM CHUNG-LUNG K', 'LIM CHI-WOO', 'COOPER JARED KLINEMAN', 'NAGAI TAKESHI', 'TOSHIMA HIROAKI', 'ONO TAKEO', 'HWANG SUNG-HEE', 'CHAN DAVID SO KEUNG', 'TANAKA KENJI', 'SEKI SATOSHI', 'HIRABAYASHI HIROMITSU', 'NISHIKORI HITOSHI', 'DAROLIA RAMGOPAL', 'YEH CHUN-CHEN', 'HAMADA TOSHIYA', 'MATSUMOTO HARUYUKI', 'TANI ATSUSHI', 'SANO AKANE', 'SAPORITO ANTHONY', 'MIYAZAKI TOSHIHIKO', 'INOUE HIROYUKI', 'OZAKI TERUO', 'NOH HOONDONG', 'KIM SANGBUM', 'MONIZ THOMAS ORY', 'NAKAYA HIDEO', 'SAKO YOICHIRO', 'WATANABE TAKEJI', 'IMAMURA TAKESHI', 'OSHIMA MITSUAKI', 'KANEKO SATOSHI', 'YONEDA KENJI', 'ODAGIRI MASARU', 'MELTON PATRICK BENEDICT', 'LEE HYOJIN', 'KAMIYAMA YUJI', 'KANBE JUNICHIRO', 'VENKATARAMANI VENKAT SUBRAMANIAM', 'CHENG KANGGUO', 'STOIA LUCAS JOHN', 'SASANO AKIRA', 'SHIMA HISATO', 'SAITO KEISHI', 'TOMOSADA MASAHIRO', 'TAKENAKA KATSURO', 'PARK SUNG-WOOK', 'KIMURA MAKIKO', 'LU SU', 'MORRILL DANIEL LAWRENCE', 'KINJO NORIYUKI', 'RADENS CARL J', 'MATSUBARA MIYUKI', 'LEE JUHO', 'YOSHIDA TADAO', 'HONDA KAZUYOSHI', 'REN ZHIYUAN', 'TAKAHASHI KENJI', 'BRAY JAMES WILLIAM', 'SHIRAI TAIZO', 'YAMANAKA AKIHIRO', 'SAITO ASAO', 'NARAYANAN VIJAY', 'SUZUKI TERUHIKO', 'MORIWAKI YOSHIO', 'LEE CHING-PANG', 'BEKKI TOSHIHIKO', 'NAKAMURA ATSUSHI', 'TAKAHASHI KIICHIRO', 'SUGAMA SADAYUKI', 'COMANZO HOLLY ANN', 'SHAHIDI GHAVAM G', 'SAIKAWA HIDEO', 'GERSTLER WILLIAM DWIGHT', 'LIE FEE LI', 'NOGUCHI KOJI', 'YANO KENTARO', 'WOLFE CHRISTOPHER EDWARD', 'NAGOSHI SHIGEYASU', 'SHAN CHENG', 'NASHIDA TATSUSHI', 'SEALING CHARLES SCOTT', 'IMAIDE TAKUYA', 'KOOL LAWRENCE BERNARD', 'YAMAMOTO KAZUHISA', 'KOTAKI YASUO', 'IZUMIDA MASAAKI', 'YUN SUNG-RYUL', 'TANGE AKIRA', 'STEVENSON CHRISTIAN XAVIER', 'LEE HYUN-WOO', 'PARK IN-SIK', 'NOGUCHI TAKAHARU', 'YAMADA NAOKI', 'HAYASHI HIROKI', 'LAWRENCE BRIAN LEE', 'KAWAI SUEO', 'WELLES KENNETH BRAKELEY', 'SUZUKI HIDETOSHI', 'OGINO HIROYUKI', 'MATSUZAKI HARUMI', 'OSHIMA KAZUYOSHI', 'NISHIUCHI KENICHI', 'GLYNN CHRISTOPHER CHARLES', 'PICKETT JAMES EDWARD', 'KOBAYASHI MASAHARU', 'MILLER BRANDON WAYNE', 'SHIN CHEOLKYU', 'KASUYA TAKASHIGE', 'NOJIMA TAKASHI', 'MURASE KAORU', 'BODEN EUGENE PAULING', 'ARA YOJI', 'HINAMI JUN', 'HOFER DOUGLAS CARL', 'REZNICEK ALEXANDER', 'LACY BENJAMIN PAUL', 'MATSUDA YASUMASA', 'KURODA SHINICHI', 'IMANAKA YOSHIYUKI', 'KANEKO TETSUYA', 'SUGIMOTO KAZUO', 'ISHINAGA HIROYUKI', 'KASANUKI YUJI', 'DAVIS GARY CHARLES', 'YEAGER GARY WILLIAM', 'NAITO TAKASHI', 'NISHINO ATSUSHI', 'KRAY NICHOLAS JOSEPH', \"O'CONNELL BRIAN M\", 'LORRAINE PETER WILLIAM', 'YAMANO IKUO', 'KOBAYASHI SHOEI', 'CHANG YOUNG-BIN', 'SATO MASAHIKO', 'MCCLOSKEY PATRICK JOSEPH', 'FOX JEREMY R', 'CHIDAMBARRAO DURESETI', 'STANDAERT THEODORUS E', 'JEONG HONG-SIL', 'TURNQUIST NORMAN ARNOLD', 'MIYOSHI KENICHI', 'RUUD JAMES ANTHONY', 'NANJO TATSUO', 'KUWABARA NOBUYUKI', 'IGAWA SATOSHI', 'ITZEL GARY MICHAEL', 'YOSHIHIRA AYA', 'DAVIS JR LEWIS BERKLEY', 'ROSS JOHN ANDERSON FERGUS', 'MIYAMOTO HARUKAZU', 'KIM JAE-YOEL', 'NAKAGAMI OHJI', 'HATTORI YOSHIFUMI', 'WALKER KEITH R', 'SHINJO KENJI', 'SHIRAI SHIGERU', 'MIYAJIMA YASUSHI', 'ISHIKAWA TOMOKAZU', 'KARITA SEIICHIRO', 'MAEDA TAKESHI', 'LYONS ROBERT JOSEPH', 'PAPASAKELLARIOU ARIS', 'SAITOH AKIHITO', 'TSUDA SHINICHIRO', 'JEONG KYEONGIN', 'SHIMIZU EIICHIRO', 'TIBBETTS NICOLE JESSICA', 'SUZUKI AKIO', 'OKAZAKI TAKESHI', 'KRAELING MARK BRADSHAW', 'ISHIBASHI HIROMICHI', 'KANDA HIDEHIKO', 'TSUBOYAMA AKIRA', 'GOTOH FUMIHIRO', 'KUMAR AJITH KUTTANNAIR', 'NISHIMURA YUKIO', 'SHAFFER GLENN ROBERT', 'TAKAHASHI SANKICHI', 'VAN DAM JEREMY DANIEL', 'SUGIURA NOBORU', 'SUGIYAMA HIROYUKI', 'MURAKAMI GEN', 'YONEHARA TAKAO', 'KRAEMER GILBERT OTTO', 'KAWAKAMI HIDEAKI', 'OKADA TOMOYUKI', 'HSU LOUIS L', 'SRIVASTAVA ALOK MANI', 'NAKAGAWA KATSUMI', 'NAGARAJ BANGALORE ASWATHA', 'TOMIZAWA TAKESHI', 'SCHMIDT DONALD WILLIAM', 'EKAMBARAM VIJAY', 'KONDO TETSUJIRO', 'SLEIGHT JEFFREY W', 'FANG BIAO', 'GREINER DAN F', 'RUTKOWSKI STEPHEN FRANCIS', 'NAKAMURA KAZUHIKO', 'IKEDA MASAMI', 'NISHIMURA ASAO', 'MURROW KURT DAVID', 'GHASRIPOOR FARSHAD', 'DALTON TIMOTHY J', 'SADANA DEVENDRA K', 'ISHIDA TAKASHI', 'TAKEMURA YOSHINARI', 'JANG JAE HYUK', 'SCHMIDT DONALD W', 'YOON DU-SEOP', 'IWASAKI OSAMU', 'CHAN KWOK PONG', 'KOZLOSKI JAMES R', 'ZHANG JIANZHONG', 'SASAYAMA TAKAO', 'KOZUKA MASAYUKI', 'YAEGASHI HISAO', 'EBISAWA ISAO', 'TATEBAYASHI MAKOTO', 'SEKIGUCHI SHUNICHI', 'NAKAZAWA IKUO', 'CHILA RONALD JAMES', 'CLEVENGER LAWRENCE A', 'SUBRAMANIAN KANAKASABAPATHI', 'UEDA SHIGEKI', 'LEE HYEON-WOO', 'BAUGHMAN AARON K', 'MOCHIZUKI MUGA', 'STAMPER ANTHONY K', 'LI JUNTAO', 'NISHI KUNIHIKO', 'HAMILTON II RICK A', 'UHM JONG HO', 'LIU JIE', 'SLEGEL TIMOTHY J', 'FUKUSHIMA TAKASHI', 'NISHIDE YOSUKE', 'SHAH MANOJ RAMPRASAD', 'MCMAHAN KEVIN WESTON', 'YAZAWA TAKESHI', 'RUBINSZTAJN SLAWOMIR', 'KANOTA KEIJI', 'NAGANO TAKAHIRO', 'YAMASHITA MASATAKA', 'OKINO AYATOMO', 'KAWATOKO NORIHIRO', 'NAGASHIMA TOSHIAKI', 'KATAGIRI KAZUHARU', 'HATTORI SHINOBU', 'RAKSHIT SARBAJIT K', 'YAMADA AKITOSHI', 'MYUNG SEHO', 'HERR STEFAN', 'MURAKAMI HAJIME', 'KIM TAEHYOUNG', 'SATOH ISAO', 'TANAKA SHIGEAKI', 'KIM SANG BUM', 'GOTO AKIRA', 'MIYAGAWA MASASHI', 'KITANO MAKOTO', 'KOSHIKAWA HIROSHI', 'ROBERTS HERBERT CHIDSEY', 'ZHANG HUA', 'YAMADA KAZUJI', 'YAGASAKI YOICHI', 'KWON HWAN-JOON', 'SAWAI YUICHI', 'LIN DECHAO', 'KATAYAMA AKIHIRO', 'JEONG KYEONG-IN', 'JANG JAEHYUK', 'AOTA KINYA', 'YAMASHITA HISAO', 'HARUTA MASAHIRO', 'KESHAVAN HRISHIKESH', 'OGAWA TOSHIO', 'KON TAKAYASU', 'CHOI SEUNG-HOON', 'WORDEN BRET DWAYNE', 'INOUE RYOJI', 'SEXTON DANIEL WHITE', 'INOUE MAKOTO', 'LEE HAK-JU', 'MARU AKIKO', 'KIM SOENGHUN', 'ISOGAI TOKIO', 'HAN JIN KYU', 'KOBAYASHI MASAAKI', 'SASAKI HIROSHI', 'YOKOYAMA TAKASHI', 'KAWADA HARUKI', 'KWAK YONG-JUN', 'WATANABE TSUTOMU', 'OHASHI TETSUYA', 'LEWIS LARRY NEIL', 'JI HYOUNG-JU', 'GALLUCCI ROBERT RUSSELL', 'KLODOWSKI ANTHONY MICHAEL', 'KIM SOENG HUN', 'KOO CHANG-HOI', 'WATANABE KENJIRO', 'TANAKA MASATO', 'CHO JOON YOUNG', 'TAKEDA TOSHIHIKO', 'NAKAMURA HITOSHI', 'KANAKASABAPATHY SIVANANDA K', 'NAGAI AKIRA', 'KANEVSKY DIMITRI', 'SHIMIZU ISAMU', 'SASAKI TORU', 'CELLA JAMES ANTHONY', 'KAWAI JUN', 'LANG STEFFEN', 'SCHNETZKA HAROLD ROBERT', 'SAITO AKIO', 'OHBA TAKASHI', 'MORIYAMA JIRO', 'KUGIYA FUMIO', 'LEE SUN-IL', 'SCIPIO ALSTON ILFORD', 'MORIOKA YUICHI', 'NAKAMURA KIYOSHI', 'KOITABASHI NORIBUMI', 'WANG YU', 'SAITO TAKASHI', 'TRIM CRAIG M', 'ZIMINSKY WILLY STEVE', 'FARRELL MARK S', 'TAKAHASHI TADASHI', 'WANG XUEFENG', 'SAITO HIROYUKI', 'KULKARNI AMBARISH JAYANT', 'IWASAKI TAKESHI', 'SUZUKI TAKASHI', 'RITTER ANN MELINDA', 'TSUKUDA KEIICHIRO', 'KIM SUNG-JIN', 'HARPUR LIAM', 'YAGUCHI AKIHIRO', 'MATSUMOTO TOMOHIDE', 'SAKODA KAZUYUKI', 'HWANG SUNG-OH', 'NAGAOKA YUKIO', 'CHO JOON-YOUNG', 'NIHEI HIDEKI', 'KANEKO SHUZO', 'DUNNE JONATHAN', 'DUGGAL ANIL RAJ', 'PICKOVER CLIFFORD A', 'NIERGARTH DANIEL ALAN', 'YOKONO ATARU', 'MORI YOSHIHIRO', 'CLEMENTS JEFFREY DONALD', 'YAMAMOTO KAZUYUKI', 'BAE TAEHAN', 'MINOWA TOSHIMICHI', 'KO JUNG-WAN', 'KUROIWA HIROSHI', 'ATAGO TAKESHI', 'KASHINO TOSHIO', 'KAMADA YASUNORI', 'KWAK YOUNGWOO', 'NISHIMURA YUTAKA', 'PREMERLANI WILLIAM JAMES', 'TERAO MOTOYASU', 'INOKUCHI TATSUYA', 'SUZUKI AKIRA', 'TAMURA YASUYUKI', 'INUI TOSHIHARU', 'YAMADA HIROYUKI', 'MITRAN MARCEL', 'WANG SHIZHONG', 'BURDGICK STEVEN SEBASTIAN', 'MIYASHITA HIROKAZU', 'EKANAYAKE SANJI', 'NISHIDA TETSUYA', 'ARAI ATSUSHI', 'HEKMATSHOARTABARI BAHMAN', 'SPITSBERG IRENE', 'PERRY ROBERT JAMES', 'ANDO TAKASHI', 'LEE JULIA LAM', 'YAMAGAMI TAMOTSU', 'NAKAMURA SHOZO', 'YAMAZAKI TAKASHI', 'BOARDMAN GREGORY ALLEN', 'FOGEL KEITH E', 'KOTTILINGAM SRIKANTH CHANDRUDU', 'KUROSAWA TOSHIAKI', 'NOFFSINGER JOSEPH FORREST', 'LASKARIS EVANGELOS TRIFON', 'ASUKAI MASAMICHI', 'KEIMEL CHRISTOPHER FRED', 'XIONG RIHUA', 'HELLER LISA CRANTON', 'WEI CHANG', 'DELUCA LISA SEACAT', 'MIYASHITA KUNIO', 'EDAMURA TETSUYA', 'FARRELL MARK', 'IWAWAKI HIRONOBU', 'TAKAHASHI AKIO', 'GOWDA ARUN VIRUPAKSHA', 'ARASHIMA TERUO', 'NAKAMURA TAKATOSHI', 'TAKAI MOTOYUKI', 'KATO JUNICHI', 'KURODA OSAMU', 'LEE CHOONGHYUN', 'SAEKI JUNICHI', 'SALASOO LEMBIT', 'SALAPURA VALENTINA', 'USUI MAKOTO', 'YAMANOBE MASATO', 'MURAKAMI TOKUMICHI', 'WATANABE TAKASHI', 'KIM YOUNG-BUM', 'KOIZUMI YUTAKA', 'SUN CHEN', 'OSADA YOSHIYUKI', 'NISHIGORI HITOSHI', 'MYUNG SE-HO', 'MIYAZAKI TAKESHI', 'YOSHINO KOJI', 'FURUMIYA SHIGERU', 'BREEZE-STRINGFELLOW ANDREW', 'TAKENOUCHI MASANORI', 'YOSHINAGA KAZUO', 'UCHIDA MASASHI', 'LEE JU-HO', 'KOISHI KENJI', 'HANAYA HIROYUKI', 'SUZUKI TETSUO', 'KOYAMA SHUJI', 'OGATA MASATSUGU', 'KITABATAKE KENJI', 'WAGONER ROBERT GREGORY', 'ISHIHARA SHUNICHI', 'KHAKIFIROOZ ALI', 'GOTOH YOSHIHO', 'ZATORSKI DAREK TOMASZ', 'DIMASCIO PAUL STEPHEN', 'SASAKI YOSHIKI', 'EGUCHI SYUUJI', 'FUJITA MIYUKI', 'JI HYOUNGJU', 'NAKAGIRI TAKASHI', 'DINC OSMAN SAIM', 'JANG JAE-HYUK', 'KANG HEE-WON', 'ISAKA KAZUO', 'WEIMER MICHAEL JAMES', 'WADA SEIJI', 'YOSHIDA AKIHIKO', 'NAKANO TOSHIO', 'TSUKADA TOSHIHISA', 'MIYA KAZUYUKI', 'HARDING KEVIN GEORGE', 'BUNKER RONALD SCOTT', 'TANAKA SHINICHI', 'YAMAMOTO AKIRA', 'KIM SOENG-HUN', 'CHOI SEUNGHOON', 'KONDO SHIGEO', 'SATO NOBUHIKO', 'KING ROBERT DEAN', 'LI NING', 'OH JINYOUNG', 'FURUKAWA TOSHIHARU', 'KUDO KIYOMITSU', 'MATSUMOTO TAKAHIRO', 'KATO MASAO', 'MIYABE SHIGEO', 'HIRABAYASHI MITSUHIRO', 'PARK SUNGJIN', 'DIVAKARUNI RAMACHANDRA', 'VAN LIESHOUT GERT JAN', 'OHARA SHUNJI', 'MINEMURA HIROYUKI', 'TAKEHARA MITSURU', 'HOLMES STEVEN J', 'YONEKUBO HIROAKI', 'HAYASAKI KIMIYUKI', 'TSUKAMOTO TAKEO', 'NARAHARA TOSHIKAZU', 'HIRAMATSU SOICHI', 'FUKUDA TSUGUHIRO'}\n"
     ]
    }
   ],
   "source": [
    "jc_aa = intersect(jc_results, aa_results, 300, \"JC vs AA\")\n",
    "jc_sm = intersect(jc_results, simrank_results, 300, \"JC vs SM\")"
   ],
   "metadata": {
    "collapsed": false,
    "ExecuteTime": {
     "end_time": "2024-01-15T19:30:55.618931600Z",
     "start_time": "2024-01-15T19:16:44.015968500Z"
    }
   }
  },
  {
   "cell_type": "code",
   "execution_count": 72,
   "outputs": [
    {
     "name": "stdout",
     "output_type": "stream",
     "text": [
      "AA vs SM\n",
      "{'DORIS BRUCE B', 'KWATRA SHIKHAR', 'ORIKASA TSUYOSHI', 'YAMAMOTO HAJIME', 'LJUNG RICKARD', 'KAWADE HISAAKI', 'OKUYAMA TOSHIAKI', 'TERAI HARUHIKO', 'KURABAYASHI YUTAKA', 'TAJIMA FUMIO', 'YANG KYEONG-CHEOL', 'KANAI MASAHIRO', 'OGAWA YOSHIHIRO', 'OWASHI HITOAKI', 'NOBUE TOMOTAKA', 'YEO JEONGHO', 'ZHENG XIAOQING', 'YONEMITSU JUN', 'TANEYA YOICHI', 'OTSUKA NAOJI', 'SUZUKI HIROSHI', 'NOWAK EDWARD J', 'VAN DER VELDE HIMKE', 'KAWASAKI OSAMU', 'TOBIN JAMES ROBERT', 'KENMOKU TAKASHI', 'MARTIN BRIAN ALEXANDER', 'YOSHIDA ISAMU', 'BEDELL STEPHEN W', 'LEE KOOK-HEUI', 'KISHORE KUNA VENKAT SATYA RAMA', 'KANG HYUN-JEONG', 'YAMAMOTO MASAYUKI', 'TAKAHASHI WATARU', 'HORAK DAVID V', 'YANG HAI', 'KASAMOTO MASAMI', 'KASAHARA SHUNICHI', 'MATSUDA HIROSHI', 'SATO HIROSHI', 'TAKAHASHI KOJI', 'HASZ WAYNE CHARLES', 'NAM YOUNG-HAN', 'MYERS GEOFFREY DAVID', 'MASUDA KAZUAKI', 'JOO PAN-YUH', 'NIWA TAKASHI', 'SETLUR ANANT ACHYUT', 'KAWAMURA HIROYUKI', 'SHOJI MAMORU', 'KANEDA AIZO', 'KUBOTA MASAHIKO', 'IWAMURA MASAHIRO', 'MAKINO KENICHI', 'LARSEN EINAR VAUGHN', 'KOKAKU HIROYOSHI', 'SEGAWA MASANORI', 'YAMAGUCHI TAKAAKI', 'ISONO AOJI', 'NISHIJIMA HIDEO', 'NOMURA ICHIRO', 'TAKEUCHI TOSHIFUMI', 'GOTO FUMITAKA', 'KAMATANI JUN', 'UESUGI MITSURU', 'KOIKE SHOJI', 'HASHEMI POUYA', 'UJITA TOSHIHIKO', 'KIM IL-KOO', 'HUANG SHYH-CHIN', 'TSUBOI NOBUYOSHI', 'OHNISHI TOSHIKAZU', 'LEOBANDUNG EFFENDI', 'NAKAMURA SHINICHI', 'INOUE HIROSHI', 'MANDELMAN JACK A', 'PARK KYUNG-MO', 'JOO SEONG-SIN', 'YANO TETSUYA', 'JUNG JUNG-SOO', 'CHOI BYEONG-DOO', 'SATO YOSHIO', 'DAUM WOLFGANG', 'TERADA MASAHIRO', 'YAMAMOTO MASANOBU', 'SAKAI KUNIHIRO', 'NOSE HIROYASU', 'MCCONNELEE PAUL ALAN', 'MIN JUNG-HYE', 'KIM YOUNGBUM', 'MAEHARA NAOYOSHI', 'SUZUKI KOICHI', 'ORLANDO ROBERT JOSEPH', 'YAMASHITA TENKO', 'TSUBOSAKI KUNIHIRO', 'TAJIKA HIROSHI', 'OSADA TORACHIKA', 'PARK DONG-SEEK', 'JOHNSON THOMAS EDWARD', 'HIRAI YUTAKA', 'CHEN WEI', 'LIPKIN DON MARK', 'KIMURA HIROYUKI', 'SHIMADA SATOSHI', 'OKAMOTO HIROO', 'SHIMOTANI MITSUO', 'XIE RUILONG', 'TAKANO HIROAKI', 'YAMADA NOBORU', 'EVANS SCOTT CHARLES', 'CHO JAE-WEON', 'JACKSON MELVIN ROBERT', 'LEE SUNG-JIN', 'ISHIHARA HIDESHI', 'YAMAGUCHI HIDEKI', 'FURUKAWA SHUNSUKE', 'TSUCHIYA KENJI', 'OGINO MASAHIKO', 'CARTER WILLIAM THOMAS', 'VONDRELL RANDY M', 'XU LIXIANG', 'PI ZHOUYUE', 'TSUGA KAZUHIRO', 'SLEGEL TIMOTHY', 'LEE JU HO', 'YOON SOON-YOUNG', 'INOUE MASAYUKI', 'LEE TAMMY', 'JIANG MINGXIAO', 'KUNIMOTO KEIJIRO', 'KIM YOUN-SUN', 'HIGUMA MASAHIKO', 'DENG ZHIGANG', 'KONNO YUJI', 'IWAKI TSUTOMU', 'MURAI KEIICHI', 'FUJINAMI YASUSHI', 'MISUMI TERUO', 'SHI XIAOLEI', 'PENG WENQING', 'MATSUDA SHINPEI', 'AZUHATA SHIGERU', 'OSTROVERKHOV VICTOR PETROVICH', 'KIDA AKIRA', 'KIM YOUNSUN', 'HAYASHI KAZUNORI', 'ONO MITSUHIRO', 'MATSUNAMI NAOTO', 'YANG CHIH-CHAO', 'TAKIGUCHI TAKAO', 'WANG JUNLI', 'HASEBE TAKUMI', 'TOLLISON BRIAN LEE', 'MIYAWAKI MAMORU', 'SONG JAE-YEON', 'SUZUKI NORITAKE', 'KIM JEEHWAN', 'ONGGOSANUSI EKO', 'SAKAI YOSHIO', 'MOROOKA YASUO', 'SATO MAKOTO', 'CHOI HO-KYU', 'SUGITANI HIROSHI', 'WEI BIN', 'MORIYA YOSHIMI', 'SUGIMOTO HITOSHI', 'NAKANE SHINICHI', 'VAN LIESHOUT GERT-JAN', 'GOTO FUMIHIRO', 'RYU HYUNSEOK', 'GAINEY JR CHARLES W', 'PONOTH SHOM', 'FUKUSHIMA ISAO', 'JOSHI NARENDRA DIGAMBER', 'NG BOON LOONG', 'CUI YAN', 'PRENTICE IAN FRANCIS', 'MATSUDA HIROMU', 'LEE KYUNG-GEUN', 'YAMADA MAKOTO', 'SAKAMAKI HISASHI', 'TAKAHASHI KATSUHIRO', 'NAGASE HIROSHI', 'YANG HYUN-KOO', 'GAMBINO JEFFREY P', 'MIURA HIDEO', 'HAN JIN-KYU', 'ITO MOTOSHI', 'LI YING', 'GSCHWIND MICHAEL KARL', 'YAMAMOTO KATSUHIKO', 'KIM SANG-BUM', 'MURPHY JAMES EDWARD', 'LIU YUNFENG', 'TESHIGAWARA MINORU', 'HERSHEY JOHN ERIK', 'WATANABE HIROSHI', 'TERAUCHI TOSHIRO', 'YANAGISAWA YOSHIHIRO', 'SATO KOICHI', 'MURAI RYUICHI', 'TODOKORO YASUYUKI', 'CHOI SUNG-HO', 'KHAN FAROOQ', 'SCHEP CORNELIS MARINUS', 'GUO XIN', 'TANNO KOICHI', 'WAKABAYASHI HIDEJI', 'COLBURN MATTHEW E', 'MORITA AYUMU', 'TOYOGUCHI YOSHINORI', 'MAEOKA KUNIHIKO', 'NISHIKAWA AKIO', 'SHIBATA AKIRA', 'WAJIMA MOTOYO', 'RITTER ALLEN MICHAEL', 'BOSS GREGORY J', 'SAITO ICHIRO', 'BASKER VEERARAGHAVAN S', 'OKADA SHINJIRO', 'EDELSTEIN DANIEL C', 'UETSUKI MASAYA', 'KATO MOTOKI', 'MIYATA MASANORI', 'SATO SHINICHI', 'GREINER DAN', 'DELVAUX JOHN MCCONNELL', 'MISHINA SHINYA', 'SHUM CHUNG-LUNG K', 'LIM CHI-WOO', 'COOPER JARED KLINEMAN', 'NAGAI TAKESHI', 'TOSHIMA HIROAKI', 'ONO TAKEO', 'HWANG SUNG-HEE', 'CHAN DAVID SO KEUNG', 'TANAKA KENJI', 'SEKI SATOSHI', 'HIRABAYASHI HIROMITSU', 'NISHIKORI HITOSHI', 'DAROLIA RAMGOPAL', 'YEH CHUN-CHEN', 'HAMADA TOSHIYA', 'MATSUMOTO HARUYUKI', 'TANI ATSUSHI', 'SANO AKANE', 'SAPORITO ANTHONY', 'MIYAZAKI TOSHIHIKO', 'INOUE HIROYUKI', 'OZAKI TERUO', 'NOH HOONDONG', 'KIM SANGBUM', 'MONIZ THOMAS ORY', 'NAKAYA HIDEO', 'SAKO YOICHIRO', 'WATANABE TAKEJI', 'IMAMURA TAKESHI', 'OSHIMA MITSUAKI', 'KANEKO SATOSHI', 'YONEDA KENJI', 'ODAGIRI MASARU', 'MELTON PATRICK BENEDICT', 'LEE HYOJIN', 'KAMIYAMA YUJI', 'KANBE JUNICHIRO', 'VENKATARAMANI VENKAT SUBRAMANIAM', 'CHENG KANGGUO', 'STOIA LUCAS JOHN', 'SASANO AKIRA', 'SHIMA HISATO', 'SAITO KEISHI', 'TOMOSADA MASAHIRO', 'TAKENAKA KATSURO', 'PARK SUNG-WOOK', 'KIMURA MAKIKO', 'LU SU', 'MORRILL DANIEL LAWRENCE', 'KINJO NORIYUKI', 'RADENS CARL J', 'MATSUBARA MIYUKI', 'LEE JUHO', 'YOSHIDA TADAO', 'HONDA KAZUYOSHI', 'REN ZHIYUAN', 'TAKAHASHI KENJI', 'BRAY JAMES WILLIAM', 'SHIRAI TAIZO', 'YAMANAKA AKIHIRO', 'SAITO ASAO', 'NARAYANAN VIJAY', 'SUZUKI TERUHIKO', 'MORIWAKI YOSHIO', 'LEE CHING-PANG', 'BEKKI TOSHIHIKO', 'NAKAMURA ATSUSHI', 'TAKAHASHI KIICHIRO', 'SUGAMA SADAYUKI', 'COMANZO HOLLY ANN', 'SHAHIDI GHAVAM G', 'SAIKAWA HIDEO', 'GERSTLER WILLIAM DWIGHT', 'LIE FEE LI', 'NOGUCHI KOJI', 'YANO KENTARO', 'WOLFE CHRISTOPHER EDWARD', 'NAGOSHI SHIGEYASU', 'SHAN CHENG', 'NASHIDA TATSUSHI', 'SEALING CHARLES SCOTT', 'IMAIDE TAKUYA', 'KOOL LAWRENCE BERNARD', 'YAMAMOTO KAZUHISA', 'KOTAKI YASUO', 'IZUMIDA MASAAKI', 'YUN SUNG-RYUL', 'TANGE AKIRA', 'STEVENSON CHRISTIAN XAVIER', 'LEE HYUN-WOO', 'PARK IN-SIK', 'NOGUCHI TAKAHARU', 'YAMADA NAOKI', 'HAYASHI HIROKI', 'LAWRENCE BRIAN LEE', 'KAWAI SUEO', 'WELLES KENNETH BRAKELEY', 'SUZUKI HIDETOSHI', 'OGINO HIROYUKI', 'MATSUZAKI HARUMI', 'OSHIMA KAZUYOSHI', 'NISHIUCHI KENICHI', 'GLYNN CHRISTOPHER CHARLES', 'PICKETT JAMES EDWARD', 'KOBAYASHI MASAHARU', 'MILLER BRANDON WAYNE', 'SHIN CHEOLKYU', 'KASUYA TAKASHIGE', 'NOJIMA TAKASHI', 'MURASE KAORU', 'BODEN EUGENE PAULING', 'ARA YOJI', 'HINAMI JUN', 'HOFER DOUGLAS CARL', 'REZNICEK ALEXANDER', 'LACY BENJAMIN PAUL', 'MATSUDA YASUMASA', 'KURODA SHINICHI', 'IMANAKA YOSHIYUKI', 'KANEKO TETSUYA', 'SUGIMOTO KAZUO', 'ISHINAGA HIROYUKI', 'KASANUKI YUJI', 'DAVIS GARY CHARLES', 'YEAGER GARY WILLIAM', 'NAITO TAKASHI', 'NISHINO ATSUSHI', 'KRAY NICHOLAS JOSEPH', \"O'CONNELL BRIAN M\", 'LORRAINE PETER WILLIAM', 'YAMANO IKUO', 'KOBAYASHI SHOEI', 'CHANG YOUNG-BIN', 'SATO MASAHIKO', 'MCCLOSKEY PATRICK JOSEPH', 'FOX JEREMY R', 'CHIDAMBARRAO DURESETI', 'STANDAERT THEODORUS E', 'JEONG HONG-SIL', 'TURNQUIST NORMAN ARNOLD', 'MIYOSHI KENICHI', 'RUUD JAMES ANTHONY', 'NANJO TATSUO', 'KUWABARA NOBUYUKI', 'IGAWA SATOSHI', 'ITZEL GARY MICHAEL', 'YOSHIHIRA AYA', 'DAVIS JR LEWIS BERKLEY', 'ROSS JOHN ANDERSON FERGUS', 'MIYAMOTO HARUKAZU', 'KIM JAE-YOEL', 'NAKAGAMI OHJI', 'HATTORI YOSHIFUMI', 'WALKER KEITH R', 'SHINJO KENJI', 'SHIRAI SHIGERU', 'MIYAJIMA YASUSHI', 'ISHIKAWA TOMOKAZU', 'KARITA SEIICHIRO', 'MAEDA TAKESHI', 'LYONS ROBERT JOSEPH', 'PAPASAKELLARIOU ARIS', 'SAITOH AKIHITO', 'TSUDA SHINICHIRO', 'JEONG KYEONGIN', 'SHIMIZU EIICHIRO', 'TIBBETTS NICOLE JESSICA', 'SUZUKI AKIO', 'OKAZAKI TAKESHI', 'KRAELING MARK BRADSHAW', 'ISHIBASHI HIROMICHI', 'KANDA HIDEHIKO', 'TSUBOYAMA AKIRA', 'GOTOH FUMIHIRO', 'KUMAR AJITH KUTTANNAIR', 'NISHIMURA YUKIO', 'SHAFFER GLENN ROBERT', 'TAKAHASHI SANKICHI', 'VAN DAM JEREMY DANIEL', 'SUGIURA NOBORU', 'SUGIYAMA HIROYUKI', 'MURAKAMI GEN', 'YONEHARA TAKAO', 'KRAEMER GILBERT OTTO', 'KAWAKAMI HIDEAKI', 'OKADA TOMOYUKI', 'HSU LOUIS L', 'SRIVASTAVA ALOK MANI', 'NAKAGAWA KATSUMI', 'NAGARAJ BANGALORE ASWATHA', 'TOMIZAWA TAKESHI', 'SCHMIDT DONALD WILLIAM', 'EKAMBARAM VIJAY', 'KONDO TETSUJIRO', 'SLEIGHT JEFFREY W', 'FANG BIAO', 'GREINER DAN F', 'RUTKOWSKI STEPHEN FRANCIS', 'NAKAMURA KAZUHIKO', 'IKEDA MASAMI', 'NISHIMURA ASAO', 'MURROW KURT DAVID', 'GHASRIPOOR FARSHAD', 'DALTON TIMOTHY J', 'SADANA DEVENDRA K', 'ISHIDA TAKASHI', 'TAKEMURA YOSHINARI', 'JANG JAE HYUK', 'SCHMIDT DONALD W', 'YOON DU-SEOP', 'IWASAKI OSAMU', 'CHAN KWOK PONG', 'KOZLOSKI JAMES R', 'ZHANG JIANZHONG', 'SASAYAMA TAKAO', 'KOZUKA MASAYUKI', 'YAEGASHI HISAO', 'EBISAWA ISAO', 'TATEBAYASHI MAKOTO', 'SEKIGUCHI SHUNICHI', 'NAKAZAWA IKUO', 'CHILA RONALD JAMES', 'CLEVENGER LAWRENCE A', 'SUBRAMANIAN KANAKASABAPATHI', 'UEDA SHIGEKI', 'LEE HYEON-WOO', 'BAUGHMAN AARON K', 'MOCHIZUKI MUGA', 'STAMPER ANTHONY K', 'LI JUNTAO', 'NISHI KUNIHIKO', 'HAMILTON II RICK A', 'UHM JONG HO', 'LIU JIE', 'SLEGEL TIMOTHY J', 'FUKUSHIMA TAKASHI', 'NISHIDE YOSUKE', 'SHAH MANOJ RAMPRASAD', 'MCMAHAN KEVIN WESTON', 'YAZAWA TAKESHI', 'RUBINSZTAJN SLAWOMIR', 'KANOTA KEIJI', 'NAGANO TAKAHIRO', 'YAMASHITA MASATAKA', 'OKINO AYATOMO', 'KAWATOKO NORIHIRO', 'NAGASHIMA TOSHIAKI', 'KATAGIRI KAZUHARU', 'HATTORI SHINOBU', 'RAKSHIT SARBAJIT K', 'YAMADA AKITOSHI', 'MYUNG SEHO', 'HERR STEFAN', 'MURAKAMI HAJIME', 'KIM TAEHYOUNG', 'SATOH ISAO', 'TANAKA SHIGEAKI', 'KIM SANG BUM', 'GOTO AKIRA', 'MIYAGAWA MASASHI', 'KITANO MAKOTO', 'KOSHIKAWA HIROSHI', 'ROBERTS HERBERT CHIDSEY', 'ZHANG HUA', 'YAMADA KAZUJI', 'YAGASAKI YOICHI', 'KWON HWAN-JOON', 'SAWAI YUICHI', 'LIN DECHAO', 'KATAYAMA AKIHIRO', 'JEONG KYEONG-IN', 'JANG JAEHYUK', 'AOTA KINYA', 'YAMASHITA HISAO', 'HARUTA MASAHIRO', 'KESHAVAN HRISHIKESH', 'OGAWA TOSHIO', 'KON TAKAYASU', 'CHOI SEUNG-HOON', 'WORDEN BRET DWAYNE', 'INOUE RYOJI', 'SEXTON DANIEL WHITE', 'INOUE MAKOTO', 'LEE HAK-JU', 'MARU AKIKO', 'KIM SOENGHUN', 'ISOGAI TOKIO', 'HAN JIN KYU', 'KOBAYASHI MASAAKI', 'SASAKI HIROSHI', 'YOKOYAMA TAKASHI', 'KAWADA HARUKI', 'KWAK YONG-JUN', 'WATANABE TSUTOMU', 'OHASHI TETSUYA', 'LEWIS LARRY NEIL', 'JI HYOUNG-JU', 'GALLUCCI ROBERT RUSSELL', 'KLODOWSKI ANTHONY MICHAEL', 'KIM SOENG HUN', 'KOO CHANG-HOI', 'WATANABE KENJIRO', 'TANAKA MASATO', 'CHO JOON YOUNG', 'TAKEDA TOSHIHIKO', 'NAKAMURA HITOSHI', 'KANAKASABAPATHY SIVANANDA K', 'NAGAI AKIRA', 'KANEVSKY DIMITRI', 'SHIMIZU ISAMU', 'SASAKI TORU', 'CELLA JAMES ANTHONY', 'KAWAI JUN', 'LANG STEFFEN', 'SCHNETZKA HAROLD ROBERT', 'SAITO AKIO', 'OHBA TAKASHI', 'MORIYAMA JIRO', 'KUGIYA FUMIO', 'LEE SUN-IL', 'SCIPIO ALSTON ILFORD', 'MORIOKA YUICHI', 'NAKAMURA KIYOSHI', 'KOITABASHI NORIBUMI', 'WANG YU', 'SAITO TAKASHI', 'TRIM CRAIG M', 'ZIMINSKY WILLY STEVE', 'FARRELL MARK S', 'TAKAHASHI TADASHI', 'WANG XUEFENG', 'SAITO HIROYUKI', 'KULKARNI AMBARISH JAYANT', 'IWASAKI TAKESHI', 'SUZUKI TAKASHI', 'RITTER ANN MELINDA', 'TSUKUDA KEIICHIRO', 'KIM SUNG-JIN', 'HARPUR LIAM', 'YAGUCHI AKIHIRO', 'MATSUMOTO TOMOHIDE', 'SAKODA KAZUYUKI', 'HWANG SUNG-OH', 'NAGAOKA YUKIO', 'CHO JOON-YOUNG', 'NIHEI HIDEKI', 'KANEKO SHUZO', 'DUNNE JONATHAN', 'DUGGAL ANIL RAJ', 'PICKOVER CLIFFORD A', 'NIERGARTH DANIEL ALAN', 'YOKONO ATARU', 'MORI YOSHIHIRO', 'CLEMENTS JEFFREY DONALD', 'YAMAMOTO KAZUYUKI', 'BAE TAEHAN', 'MINOWA TOSHIMICHI', 'KO JUNG-WAN', 'KUROIWA HIROSHI', 'ATAGO TAKESHI', 'KASHINO TOSHIO', 'KAMADA YASUNORI', 'KWAK YOUNGWOO', 'NISHIMURA YUTAKA', 'PREMERLANI WILLIAM JAMES', 'TERAO MOTOYASU', 'INOKUCHI TATSUYA', 'SUZUKI AKIRA', 'TAMURA YASUYUKI', 'INUI TOSHIHARU', 'YAMADA HIROYUKI', 'MITRAN MARCEL', 'WANG SHIZHONG', 'BURDGICK STEVEN SEBASTIAN', 'MIYASHITA HIROKAZU', 'EKANAYAKE SANJI', 'NISHIDA TETSUYA', 'ARAI ATSUSHI', 'HEKMATSHOARTABARI BAHMAN', 'SPITSBERG IRENE', 'PERRY ROBERT JAMES', 'ANDO TAKASHI', 'LEE JULIA LAM', 'YAMAGAMI TAMOTSU', 'NAKAMURA SHOZO', 'YAMAZAKI TAKASHI', 'BOARDMAN GREGORY ALLEN', 'FOGEL KEITH E', 'KOTTILINGAM SRIKANTH CHANDRUDU', 'KUROSAWA TOSHIAKI', 'NOFFSINGER JOSEPH FORREST', 'LASKARIS EVANGELOS TRIFON', 'ASUKAI MASAMICHI', 'KEIMEL CHRISTOPHER FRED', 'XIONG RIHUA', 'HELLER LISA CRANTON', 'WEI CHANG', 'DELUCA LISA SEACAT', 'MIYASHITA KUNIO', 'EDAMURA TETSUYA', 'FARRELL MARK', 'IWAWAKI HIRONOBU', 'TAKAHASHI AKIO', 'GOWDA ARUN VIRUPAKSHA', 'ARASHIMA TERUO', 'NAKAMURA TAKATOSHI', 'TAKAI MOTOYUKI', 'KATO JUNICHI', 'KURODA OSAMU', 'LEE CHOONGHYUN', 'SAEKI JUNICHI', 'SALASOO LEMBIT', 'SALAPURA VALENTINA', 'USUI MAKOTO', 'YAMANOBE MASATO', 'MURAKAMI TOKUMICHI', 'WATANABE TAKASHI', 'KIM YOUNG-BUM', 'KOIZUMI YUTAKA', 'SUN CHEN', 'OSADA YOSHIYUKI', 'NISHIGORI HITOSHI', 'MYUNG SE-HO', 'MIYAZAKI TAKESHI', 'YOSHINO KOJI', 'FURUMIYA SHIGERU', 'BREEZE-STRINGFELLOW ANDREW', 'TAKENOUCHI MASANORI', 'YOSHINAGA KAZUO', 'UCHIDA MASASHI', 'LEE JU-HO', 'KOISHI KENJI', 'HANAYA HIROYUKI', 'SUZUKI TETSUO', 'KOYAMA SHUJI', 'OGATA MASATSUGU', 'KITABATAKE KENJI', 'WAGONER ROBERT GREGORY', 'ISHIHARA SHUNICHI', 'KHAKIFIROOZ ALI', 'GOTOH YOSHIHO', 'ZATORSKI DAREK TOMASZ', 'DIMASCIO PAUL STEPHEN', 'SASAKI YOSHIKI', 'EGUCHI SYUUJI', 'FUJITA MIYUKI', 'JI HYOUNGJU', 'NAKAGIRI TAKASHI', 'DINC OSMAN SAIM', 'JANG JAE-HYUK', 'KANG HEE-WON', 'ISAKA KAZUO', 'WEIMER MICHAEL JAMES', 'WADA SEIJI', 'YOSHIDA AKIHIKO', 'NAKANO TOSHIO', 'TSUKADA TOSHIHISA', 'MIYA KAZUYUKI', 'HARDING KEVIN GEORGE', 'BUNKER RONALD SCOTT', 'TANAKA SHINICHI', 'YAMAMOTO AKIRA', 'KIM SOENG-HUN', 'CHOI SEUNGHOON', 'KONDO SHIGEO', 'SATO NOBUHIKO', 'KING ROBERT DEAN', 'LI NING', 'OH JINYOUNG', 'FURUKAWA TOSHIHARU', 'KUDO KIYOMITSU', 'MATSUMOTO TAKAHIRO', 'KATO MASAO', 'MIYABE SHIGEO', 'HIRABAYASHI MITSUHIRO', 'PARK SUNGJIN', 'DIVAKARUNI RAMACHANDRA', 'VAN LIESHOUT GERT JAN', 'OHARA SHUNJI', 'MINEMURA HIROYUKI', 'TAKEHARA MITSURU', 'HOLMES STEVEN J', 'YONEKUBO HIROAKI', 'HAYASAKI KIMIYUKI', 'TSUKAMOTO TAKEO', 'NARAHARA TOSHIKAZU', 'HIRAMATSU SOICHI', 'FUKUDA TSUGUHIRO'}\n"
     ]
    }
   ],
   "source": [
    "\n",
    "aa_sm = intersect(aa_results, simrank_results, 300, \"AA vs SM\")"
   ],
   "metadata": {
    "collapsed": false,
    "ExecuteTime": {
     "end_time": "2024-01-15T19:44:43.103339400Z",
     "start_time": "2024-01-15T19:30:55.653923Z"
    }
   }
  },
  {
   "cell_type": "code",
   "execution_count": 73,
   "outputs": [],
   "source": [
    "# All intersection\n",
    "int_m=intersection(cn_jc,aa_sm)\n",
    "int_final=intersection(int_m,aa_sm)"
   ],
   "metadata": {
    "collapsed": false,
    "ExecuteTime": {
     "end_time": "2024-01-15T20:16:39.712633800Z",
     "start_time": "2024-01-15T19:44:43.100151800Z"
    }
   }
  },
  {
   "cell_type": "code",
   "execution_count": 74,
   "outputs": [
    {
     "data": {
      "text/plain": "389006"
     },
     "execution_count": 74,
     "metadata": {},
     "output_type": "execute_result"
    }
   ],
   "source": [
    "len(int_final)"
   ],
   "metadata": {
    "collapsed": false,
    "ExecuteTime": {
     "end_time": "2024-01-15T20:16:39.730545Z",
     "start_time": "2024-01-15T20:16:39.715742300Z"
    }
   }
  },
  {
   "cell_type": "code",
   "execution_count": 75,
   "outputs": [
    {
     "data": {
      "text/plain": "{'ANDO TAKASHI',\n 'AOTA KINYA',\n 'ARA YOJI',\n 'ARAI ATSUSHI',\n 'ARASHIMA TERUO',\n 'ASUKAI MASAMICHI',\n 'ATAGO TAKESHI',\n 'AZUHATA SHIGERU',\n 'BAE TAEHAN',\n 'BASKER VEERARAGHAVAN S',\n 'BAUGHMAN AARON K',\n 'BEDELL STEPHEN W',\n 'BEKKI TOSHIHIKO',\n 'BOARDMAN GREGORY ALLEN',\n 'BODEN EUGENE PAULING',\n 'BOSS GREGORY J',\n 'BRAY JAMES WILLIAM',\n 'BREEZE-STRINGFELLOW ANDREW',\n 'BUNKER RONALD SCOTT',\n 'BURDGICK STEVEN SEBASTIAN',\n 'CARTER WILLIAM THOMAS',\n 'CELLA JAMES ANTHONY',\n 'CHAN DAVID SO KEUNG',\n 'CHAN KWOK PONG',\n 'CHANG YOUNG-BIN',\n 'CHEN WEI',\n 'CHENG KANGGUO',\n 'CHIDAMBARRAO DURESETI',\n 'CHILA RONALD JAMES',\n 'CHO JAE-WEON',\n 'CHO JOON YOUNG',\n 'CHO JOON-YOUNG',\n 'CHOI BYEONG-DOO',\n 'CHOI HO-KYU',\n 'CHOI SEUNG-HOON',\n 'CHOI SEUNGHOON',\n 'CHOI SUNG-HO',\n 'CLEMENTS JEFFREY DONALD',\n 'CLEVENGER LAWRENCE A',\n 'COLBURN MATTHEW E',\n 'COMANZO HOLLY ANN',\n 'COOPER JARED KLINEMAN',\n 'CUI YAN',\n 'DALTON TIMOTHY J',\n 'DAROLIA RAMGOPAL',\n 'DAUM WOLFGANG',\n 'DAVIS GARY CHARLES',\n 'DAVIS JR LEWIS BERKLEY',\n 'DELUCA LISA SEACAT',\n 'DELVAUX JOHN MCCONNELL',\n 'DENG ZHIGANG',\n 'DIMASCIO PAUL STEPHEN',\n 'DINC OSMAN SAIM',\n 'DIVAKARUNI RAMACHANDRA',\n 'DORIS BRUCE B',\n 'DUGGAL ANIL RAJ',\n 'DUNNE JONATHAN',\n 'EBISAWA ISAO',\n 'EDAMURA TETSUYA',\n 'EDELSTEIN DANIEL C',\n 'EGUCHI SYUUJI',\n 'EKAMBARAM VIJAY',\n 'EKANAYAKE SANJI',\n 'EVANS SCOTT CHARLES',\n 'FANG BIAO',\n 'FARRELL MARK',\n 'FARRELL MARK S',\n 'FOGEL KEITH E',\n 'FOX JEREMY R',\n 'FUJINAMI YASUSHI',\n 'FUJITA MIYUKI',\n 'FUKUDA TSUGUHIRO',\n 'FUKUSHIMA ISAO',\n 'FUKUSHIMA TAKASHI',\n 'FURUKAWA SHUNSUKE',\n 'FURUKAWA TOSHIHARU',\n 'FURUMIYA SHIGERU',\n 'GAINEY JR CHARLES W',\n 'GALLUCCI ROBERT RUSSELL',\n 'GAMBINO JEFFREY P',\n 'GERSTLER WILLIAM DWIGHT',\n 'GHASRIPOOR FARSHAD',\n 'GLYNN CHRISTOPHER CHARLES',\n 'GOTO AKIRA',\n 'GOTO FUMIHIRO',\n 'GOTO FUMITAKA',\n 'GOTOH FUMIHIRO',\n 'GOTOH YOSHIHO',\n 'GOWDA ARUN VIRUPAKSHA',\n 'GREINER DAN',\n 'GREINER DAN F',\n 'GSCHWIND MICHAEL KARL',\n 'GUO XIN',\n 'HAMADA TOSHIYA',\n 'HAMILTON II RICK A',\n 'HAN JIN KYU',\n 'HAN JIN-KYU',\n 'HANAYA HIROYUKI',\n 'HARDING KEVIN GEORGE',\n 'HARPUR LIAM',\n 'HARUTA MASAHIRO',\n 'HASEBE TAKUMI',\n 'HASHEMI POUYA',\n 'HASZ WAYNE CHARLES',\n 'HATTORI SHINOBU',\n 'HATTORI YOSHIFUMI',\n 'HAYASAKI KIMIYUKI',\n 'HAYASHI HIROKI',\n 'HAYASHI KAZUNORI',\n 'HEKMATSHOARTABARI BAHMAN',\n 'HELLER LISA CRANTON',\n 'HERR STEFAN',\n 'HERSHEY JOHN ERIK',\n 'HIGUMA MASAHIKO',\n 'HINAMI JUN',\n 'HIRABAYASHI HIROMITSU',\n 'HIRABAYASHI MITSUHIRO',\n 'HIRAI YUTAKA',\n 'HIRAMATSU SOICHI',\n 'HOFER DOUGLAS CARL',\n 'HOLMES STEVEN J',\n 'HONDA KAZUYOSHI',\n 'HORAK DAVID V',\n 'HSU LOUIS L',\n 'HUANG SHYH-CHIN',\n 'HWANG SUNG-HEE',\n 'HWANG SUNG-OH',\n 'IGAWA SATOSHI',\n 'IKEDA MASAMI',\n 'IMAIDE TAKUYA',\n 'IMAMURA TAKESHI',\n 'IMANAKA YOSHIYUKI',\n 'INOKUCHI TATSUYA',\n 'INOUE HIROSHI',\n 'INOUE HIROYUKI',\n 'INOUE MAKOTO',\n 'INOUE MASAYUKI',\n 'INOUE RYOJI',\n 'INUI TOSHIHARU',\n 'ISAKA KAZUO',\n 'ISHIBASHI HIROMICHI',\n 'ISHIDA TAKASHI',\n 'ISHIHARA HIDESHI',\n 'ISHIHARA SHUNICHI',\n 'ISHIKAWA TOMOKAZU',\n 'ISHINAGA HIROYUKI',\n 'ISOGAI TOKIO',\n 'ISONO AOJI',\n 'ITO MOTOSHI',\n 'ITZEL GARY MICHAEL',\n 'IWAKI TSUTOMU',\n 'IWAMURA MASAHIRO',\n 'IWASAKI OSAMU',\n 'IWASAKI TAKESHI',\n 'IWAWAKI HIRONOBU',\n 'IZUMIDA MASAAKI',\n 'JACKSON MELVIN ROBERT',\n 'JANG JAE HYUK',\n 'JANG JAE-HYUK',\n 'JANG JAEHYUK',\n 'JEONG HONG-SIL',\n 'JEONG KYEONG-IN',\n 'JEONG KYEONGIN',\n 'JI HYOUNG-JU',\n 'JI HYOUNGJU',\n 'JIANG MINGXIAO',\n 'JOHNSON THOMAS EDWARD',\n 'JOO PAN-YUH',\n 'JOO SEONG-SIN',\n 'JOSHI NARENDRA DIGAMBER',\n 'JUNG JUNG-SOO',\n 'KAMADA YASUNORI',\n 'KAMATANI JUN',\n 'KAMIYAMA YUJI',\n 'KANAI MASAHIRO',\n 'KANAKASABAPATHY SIVANANDA K',\n 'KANBE JUNICHIRO',\n 'KANDA HIDEHIKO',\n 'KANEDA AIZO',\n 'KANEKO SATOSHI',\n 'KANEKO SHUZO',\n 'KANEKO TETSUYA',\n 'KANEVSKY DIMITRI',\n 'KANG HEE-WON',\n 'KANG HYUN-JEONG',\n 'KANOTA KEIJI',\n 'KARITA SEIICHIRO',\n 'KASAHARA SHUNICHI',\n 'KASAMOTO MASAMI',\n 'KASANUKI YUJI',\n 'KASHINO TOSHIO',\n 'KASUYA TAKASHIGE',\n 'KATAGIRI KAZUHARU',\n 'KATAYAMA AKIHIRO',\n 'KATO JUNICHI',\n 'KATO MASAO',\n 'KATO MOTOKI',\n 'KAWADA HARUKI',\n 'KAWADE HISAAKI',\n 'KAWAI JUN',\n 'KAWAI SUEO',\n 'KAWAKAMI HIDEAKI',\n 'KAWAMURA HIROYUKI',\n 'KAWASAKI OSAMU',\n 'KAWATOKO NORIHIRO',\n 'KEIMEL CHRISTOPHER FRED',\n 'KENMOKU TAKASHI',\n 'KESHAVAN HRISHIKESH',\n 'KHAKIFIROOZ ALI',\n 'KHAN FAROOQ',\n 'KIDA AKIRA',\n 'KIM IL-KOO',\n 'KIM JAE-YOEL',\n 'KIM JEEHWAN',\n 'KIM SANG BUM',\n 'KIM SANG-BUM',\n 'KIM SANGBUM',\n 'KIM SOENG HUN',\n 'KIM SOENG-HUN',\n 'KIM SOENGHUN',\n 'KIM SUNG-JIN',\n 'KIM TAEHYOUNG',\n 'KIM YOUN-SUN',\n 'KIM YOUNG-BUM',\n 'KIM YOUNGBUM',\n 'KIM YOUNSUN',\n 'KIMURA HIROYUKI',\n 'KIMURA MAKIKO',\n 'KING ROBERT DEAN',\n 'KINJO NORIYUKI',\n 'KISHORE KUNA VENKAT SATYA RAMA',\n 'KITABATAKE KENJI',\n 'KITANO MAKOTO',\n 'KLODOWSKI ANTHONY MICHAEL',\n 'KO JUNG-WAN',\n 'KOBAYASHI MASAAKI',\n 'KOBAYASHI MASAHARU',\n 'KOBAYASHI SHOEI',\n 'KOIKE SHOJI',\n 'KOISHI KENJI',\n 'KOITABASHI NORIBUMI',\n 'KOIZUMI YUTAKA',\n 'KOKAKU HIROYOSHI',\n 'KON TAKAYASU',\n 'KONDO SHIGEO',\n 'KONDO TETSUJIRO',\n 'KONNO YUJI',\n 'KOO CHANG-HOI',\n 'KOOL LAWRENCE BERNARD',\n 'KOSHIKAWA HIROSHI',\n 'KOTAKI YASUO',\n 'KOTTILINGAM SRIKANTH CHANDRUDU',\n 'KOYAMA SHUJI',\n 'KOZLOSKI JAMES R',\n 'KOZUKA MASAYUKI',\n 'KRAELING MARK BRADSHAW',\n 'KRAEMER GILBERT OTTO',\n 'KRAY NICHOLAS JOSEPH',\n 'KUBOTA MASAHIKO',\n 'KUDO KIYOMITSU',\n 'KUGIYA FUMIO',\n 'KULKARNI AMBARISH JAYANT',\n 'KUMAR AJITH KUTTANNAIR',\n 'KUNIMOTO KEIJIRO',\n 'KURABAYASHI YUTAKA',\n 'KURODA OSAMU',\n 'KURODA SHINICHI',\n 'KUROIWA HIROSHI',\n 'KUROSAWA TOSHIAKI',\n 'KUWABARA NOBUYUKI',\n 'KWAK YONG-JUN',\n 'KWAK YOUNGWOO',\n 'KWATRA SHIKHAR',\n 'KWON HWAN-JOON',\n 'LACY BENJAMIN PAUL',\n 'LANG STEFFEN',\n 'LARSEN EINAR VAUGHN',\n 'LASKARIS EVANGELOS TRIFON',\n 'LAWRENCE BRIAN LEE',\n 'LEE CHING-PANG',\n 'LEE CHOONGHYUN',\n 'LEE HAK-JU',\n 'LEE HYEON-WOO',\n 'LEE HYOJIN',\n 'LEE HYUN-WOO',\n 'LEE JU HO',\n 'LEE JU-HO',\n 'LEE JUHO',\n 'LEE JULIA LAM',\n 'LEE KOOK-HEUI',\n 'LEE KYUNG-GEUN',\n 'LEE SUN-IL',\n 'LEE SUNG-JIN',\n 'LEE TAMMY',\n 'LEOBANDUNG EFFENDI',\n 'LEWIS LARRY NEIL',\n 'LI JUNTAO',\n 'LI NING',\n 'LI YING',\n 'LIE FEE LI',\n 'LIM CHI-WOO',\n 'LIN DECHAO',\n 'LIPKIN DON MARK',\n 'LIU JIE',\n 'LIU YUNFENG',\n 'LJUNG RICKARD',\n 'LORRAINE PETER WILLIAM',\n 'LU SU',\n 'LYONS ROBERT JOSEPH',\n 'MAEDA TAKESHI',\n 'MAEHARA NAOYOSHI',\n 'MAEOKA KUNIHIKO',\n 'MAKINO KENICHI',\n 'MANDELMAN JACK A',\n 'MARTIN BRIAN ALEXANDER',\n 'MARU AKIKO',\n 'MASUDA KAZUAKI',\n 'MATSUBARA MIYUKI',\n 'MATSUDA HIROMU',\n 'MATSUDA HIROSHI',\n 'MATSUDA SHINPEI',\n 'MATSUDA YASUMASA',\n 'MATSUMOTO HARUYUKI',\n 'MATSUMOTO TAKAHIRO',\n 'MATSUMOTO TOMOHIDE',\n 'MATSUNAMI NAOTO',\n 'MATSUZAKI HARUMI',\n 'MCCLOSKEY PATRICK JOSEPH',\n 'MCCONNELEE PAUL ALAN',\n 'MCMAHAN KEVIN WESTON',\n 'MELTON PATRICK BENEDICT',\n 'MILLER BRANDON WAYNE',\n 'MIN JUNG-HYE',\n 'MINEMURA HIROYUKI',\n 'MINOWA TOSHIMICHI',\n 'MISHINA SHINYA',\n 'MISUMI TERUO',\n 'MITRAN MARCEL',\n 'MIURA HIDEO',\n 'MIYA KAZUYUKI',\n 'MIYABE SHIGEO',\n 'MIYAGAWA MASASHI',\n 'MIYAJIMA YASUSHI',\n 'MIYAMOTO HARUKAZU',\n 'MIYASHITA HIROKAZU',\n 'MIYASHITA KUNIO',\n 'MIYATA MASANORI',\n 'MIYAWAKI MAMORU',\n 'MIYAZAKI TAKESHI',\n 'MIYAZAKI TOSHIHIKO',\n 'MIYOSHI KENICHI',\n 'MOCHIZUKI MUGA',\n 'MONIZ THOMAS ORY',\n 'MORI YOSHIHIRO',\n 'MORIOKA YUICHI',\n 'MORITA AYUMU',\n 'MORIWAKI YOSHIO',\n 'MORIYA YOSHIMI',\n 'MORIYAMA JIRO',\n 'MOROOKA YASUO',\n 'MORRILL DANIEL LAWRENCE',\n 'MURAI KEIICHI',\n 'MURAI RYUICHI',\n 'MURAKAMI GEN',\n 'MURAKAMI HAJIME',\n 'MURAKAMI TOKUMICHI',\n 'MURASE KAORU',\n 'MURPHY JAMES EDWARD',\n 'MURROW KURT DAVID',\n 'MYERS GEOFFREY DAVID',\n 'MYUNG SE-HO',\n 'MYUNG SEHO',\n 'NAGAI AKIRA',\n 'NAGAI TAKESHI',\n 'NAGANO TAKAHIRO',\n 'NAGAOKA YUKIO',\n 'NAGARAJ BANGALORE ASWATHA',\n 'NAGASE HIROSHI',\n 'NAGASHIMA TOSHIAKI',\n 'NAGOSHI SHIGEYASU',\n 'NAITO TAKASHI',\n 'NAKAGAMI OHJI',\n 'NAKAGAWA KATSUMI',\n 'NAKAGIRI TAKASHI',\n 'NAKAMURA ATSUSHI',\n 'NAKAMURA HITOSHI',\n 'NAKAMURA KAZUHIKO',\n 'NAKAMURA KIYOSHI',\n 'NAKAMURA SHINICHI',\n 'NAKAMURA SHOZO',\n 'NAKAMURA TAKATOSHI',\n 'NAKANE SHINICHI',\n 'NAKANO TOSHIO',\n 'NAKAYA HIDEO',\n 'NAKAZAWA IKUO',\n 'NAM YOUNG-HAN',\n 'NANJO TATSUO',\n 'NARAHARA TOSHIKAZU',\n 'NARAYANAN VIJAY',\n 'NASHIDA TATSUSHI',\n 'NG BOON LOONG',\n 'NIERGARTH DANIEL ALAN',\n 'NIHEI HIDEKI',\n 'NISHI KUNIHIKO',\n 'NISHIDA TETSUYA',\n 'NISHIDE YOSUKE',\n 'NISHIGORI HITOSHI',\n 'NISHIJIMA HIDEO',\n 'NISHIKAWA AKIO',\n 'NISHIKORI HITOSHI',\n 'NISHIMURA ASAO',\n 'NISHIMURA YUKIO',\n 'NISHIMURA YUTAKA',\n 'NISHINO ATSUSHI',\n 'NISHIUCHI KENICHI',\n 'NIWA TAKASHI',\n 'NOBUE TOMOTAKA',\n 'NOFFSINGER JOSEPH FORREST',\n 'NOGUCHI KOJI',\n 'NOGUCHI TAKAHARU',\n 'NOH HOONDONG',\n 'NOJIMA TAKASHI',\n 'NOMURA ICHIRO',\n 'NOSE HIROYASU',\n 'NOWAK EDWARD J',\n \"O'CONNELL BRIAN M\",\n 'ODAGIRI MASARU',\n 'OGATA MASATSUGU',\n 'OGAWA TOSHIO',\n 'OGAWA YOSHIHIRO',\n 'OGINO HIROYUKI',\n 'OGINO MASAHIKO',\n 'OH JINYOUNG',\n 'OHARA SHUNJI',\n 'OHASHI TETSUYA',\n 'OHBA TAKASHI',\n 'OHNISHI TOSHIKAZU',\n 'OKADA SHINJIRO',\n 'OKADA TOMOYUKI',\n 'OKAMOTO HIROO',\n 'OKAZAKI TAKESHI',\n 'OKINO AYATOMO',\n 'OKUYAMA TOSHIAKI',\n 'ONGGOSANUSI EKO',\n 'ONO MITSUHIRO',\n 'ONO TAKEO',\n 'ORIKASA TSUYOSHI',\n 'ORLANDO ROBERT JOSEPH',\n 'OSADA TORACHIKA',\n 'OSADA YOSHIYUKI',\n 'OSHIMA KAZUYOSHI',\n 'OSHIMA MITSUAKI',\n 'OSTROVERKHOV VICTOR PETROVICH',\n 'OTSUKA NAOJI',\n 'OWASHI HITOAKI',\n 'OZAKI TERUO',\n 'PAPASAKELLARIOU ARIS',\n 'PARK DONG-SEEK',\n 'PARK IN-SIK',\n 'PARK KYUNG-MO',\n 'PARK SUNG-WOOK',\n 'PARK SUNGJIN',\n 'PENG WENQING',\n 'PERRY ROBERT JAMES',\n 'PI ZHOUYUE',\n 'PICKETT JAMES EDWARD',\n 'PICKOVER CLIFFORD A',\n 'PONOTH SHOM',\n 'PREMERLANI WILLIAM JAMES',\n 'PRENTICE IAN FRANCIS',\n 'RADENS CARL J',\n 'RAKSHIT SARBAJIT K',\n 'REN ZHIYUAN',\n 'REZNICEK ALEXANDER',\n 'RITTER ALLEN MICHAEL',\n 'RITTER ANN MELINDA',\n 'ROBERTS HERBERT CHIDSEY',\n 'ROSS JOHN ANDERSON FERGUS',\n 'RUBINSZTAJN SLAWOMIR',\n 'RUTKOWSKI STEPHEN FRANCIS',\n 'RUUD JAMES ANTHONY',\n 'RYU HYUNSEOK',\n 'SADANA DEVENDRA K',\n 'SAEKI JUNICHI',\n 'SAIKAWA HIDEO',\n 'SAITO AKIO',\n 'SAITO ASAO',\n 'SAITO HIROYUKI',\n 'SAITO ICHIRO',\n 'SAITO KEISHI',\n 'SAITO TAKASHI',\n 'SAITOH AKIHITO',\n 'SAKAI KUNIHIRO',\n 'SAKAI YOSHIO',\n 'SAKAMAKI HISASHI',\n 'SAKO YOICHIRO',\n 'SAKODA KAZUYUKI',\n 'SALAPURA VALENTINA',\n 'SALASOO LEMBIT',\n 'SANO AKANE',\n 'SAPORITO ANTHONY',\n 'SASAKI HIROSHI',\n 'SASAKI TORU',\n 'SASAKI YOSHIKI',\n 'SASANO AKIRA',\n 'SASAYAMA TAKAO',\n 'SATO HIROSHI',\n 'SATO KOICHI',\n 'SATO MAKOTO',\n 'SATO MASAHIKO',\n 'SATO NOBUHIKO',\n 'SATO SHINICHI',\n 'SATO YOSHIO',\n 'SATOH ISAO',\n 'SAWAI YUICHI',\n 'SCHEP CORNELIS MARINUS',\n 'SCHMIDT DONALD W',\n 'SCHMIDT DONALD WILLIAM',\n 'SCHNETZKA HAROLD ROBERT',\n 'SCIPIO ALSTON ILFORD',\n 'SEALING CHARLES SCOTT',\n 'SEGAWA MASANORI',\n 'SEKI SATOSHI',\n 'SEKIGUCHI SHUNICHI',\n 'SETLUR ANANT ACHYUT',\n 'SEXTON DANIEL WHITE',\n 'SHAFFER GLENN ROBERT',\n 'SHAH MANOJ RAMPRASAD',\n 'SHAHIDI GHAVAM G',\n 'SHAN CHENG',\n 'SHI XIAOLEI',\n 'SHIBATA AKIRA',\n 'SHIMA HISATO',\n 'SHIMADA SATOSHI',\n 'SHIMIZU EIICHIRO',\n 'SHIMIZU ISAMU',\n 'SHIMOTANI MITSUO',\n 'SHIN CHEOLKYU',\n 'SHINJO KENJI',\n 'SHIRAI SHIGERU',\n 'SHIRAI TAIZO',\n 'SHOJI MAMORU',\n 'SHUM CHUNG-LUNG K',\n 'SLEGEL TIMOTHY',\n 'SLEGEL TIMOTHY J',\n 'SLEIGHT JEFFREY W',\n 'SONG JAE-YEON',\n 'SPITSBERG IRENE',\n 'SRIVASTAVA ALOK MANI',\n 'STAMPER ANTHONY K',\n 'STANDAERT THEODORUS E',\n 'STEVENSON CHRISTIAN XAVIER',\n 'STOIA LUCAS JOHN',\n 'SUBRAMANIAN KANAKASABAPATHI',\n 'SUGAMA SADAYUKI',\n 'SUGIMOTO HITOSHI',\n 'SUGIMOTO KAZUO',\n 'SUGITANI HIROSHI',\n 'SUGIURA NOBORU',\n 'SUGIYAMA HIROYUKI',\n 'SUN CHEN',\n 'SUZUKI AKIO',\n 'SUZUKI AKIRA',\n 'SUZUKI HIDETOSHI',\n 'SUZUKI HIROSHI',\n 'SUZUKI KOICHI',\n 'SUZUKI NORITAKE',\n 'SUZUKI TAKASHI',\n 'SUZUKI TERUHIKO',\n 'SUZUKI TETSUO',\n 'TAJIKA HIROSHI',\n 'TAJIMA FUMIO',\n 'TAKAHASHI AKIO',\n 'TAKAHASHI KATSUHIRO',\n 'TAKAHASHI KENJI',\n 'TAKAHASHI KIICHIRO',\n 'TAKAHASHI KOJI',\n 'TAKAHASHI SANKICHI',\n 'TAKAHASHI TADASHI',\n 'TAKAHASHI WATARU',\n 'TAKAI MOTOYUKI',\n 'TAKANO HIROAKI',\n 'TAKEDA TOSHIHIKO',\n 'TAKEHARA MITSURU',\n 'TAKEMURA YOSHINARI',\n 'TAKENAKA KATSURO',\n 'TAKENOUCHI MASANORI',\n 'TAKEUCHI TOSHIFUMI',\n 'TAKIGUCHI TAKAO',\n 'TAMURA YASUYUKI',\n 'TANAKA KENJI',\n 'TANAKA MASATO',\n 'TANAKA SHIGEAKI',\n 'TANAKA SHINICHI',\n 'TANEYA YOICHI',\n 'TANGE AKIRA',\n 'TANI ATSUSHI',\n 'TANNO KOICHI',\n 'TATEBAYASHI MAKOTO',\n 'TERADA MASAHIRO',\n 'TERAI HARUHIKO',\n 'TERAO MOTOYASU',\n 'TERAUCHI TOSHIRO',\n 'TESHIGAWARA MINORU',\n 'TIBBETTS NICOLE JESSICA',\n 'TOBIN JAMES ROBERT',\n 'TODOKORO YASUYUKI',\n 'TOLLISON BRIAN LEE',\n 'TOMIZAWA TAKESHI',\n 'TOMOSADA MASAHIRO',\n 'TOSHIMA HIROAKI',\n 'TOYOGUCHI YOSHINORI',\n 'TRIM CRAIG M',\n 'TSUBOI NOBUYOSHI',\n 'TSUBOSAKI KUNIHIRO',\n 'TSUBOYAMA AKIRA',\n 'TSUCHIYA KENJI',\n 'TSUDA SHINICHIRO',\n 'TSUGA KAZUHIRO',\n 'TSUKADA TOSHIHISA',\n 'TSUKAMOTO TAKEO',\n 'TSUKUDA KEIICHIRO',\n 'TURNQUIST NORMAN ARNOLD',\n 'UCHIDA MASASHI',\n 'UEDA SHIGEKI',\n 'UESUGI MITSURU',\n 'UETSUKI MASAYA',\n 'UHM JONG HO',\n 'UJITA TOSHIHIKO',\n 'USUI MAKOTO',\n 'VAN DAM JEREMY DANIEL',\n 'VAN DER VELDE HIMKE',\n 'VAN LIESHOUT GERT JAN',\n 'VAN LIESHOUT GERT-JAN',\n 'VENKATARAMANI VENKAT SUBRAMANIAM',\n 'VONDRELL RANDY M',\n 'WADA SEIJI',\n 'WAGONER ROBERT GREGORY',\n 'WAJIMA MOTOYO',\n 'WAKABAYASHI HIDEJI',\n 'WALKER KEITH R',\n 'WANG JUNLI',\n 'WANG SHIZHONG',\n 'WANG XUEFENG',\n 'WANG YU',\n 'WATANABE HIROSHI',\n 'WATANABE KENJIRO',\n 'WATANABE TAKASHI',\n 'WATANABE TAKEJI',\n 'WATANABE TSUTOMU',\n 'WEI BIN',\n 'WEI CHANG',\n 'WEIMER MICHAEL JAMES',\n 'WELLES KENNETH BRAKELEY',\n 'WOLFE CHRISTOPHER EDWARD',\n 'WORDEN BRET DWAYNE',\n 'XIE RUILONG',\n 'XIONG RIHUA',\n 'XU LIXIANG',\n 'YAEGASHI HISAO',\n 'YAGASAKI YOICHI',\n 'YAGUCHI AKIHIRO',\n 'YAMADA AKITOSHI',\n 'YAMADA HIROYUKI',\n 'YAMADA KAZUJI',\n 'YAMADA MAKOTO',\n 'YAMADA NAOKI',\n 'YAMADA NOBORU',\n 'YAMAGAMI TAMOTSU',\n 'YAMAGUCHI HIDEKI',\n 'YAMAGUCHI TAKAAKI',\n 'YAMAMOTO AKIRA',\n 'YAMAMOTO HAJIME',\n 'YAMAMOTO KATSUHIKO',\n 'YAMAMOTO KAZUHISA',\n 'YAMAMOTO KAZUYUKI',\n 'YAMAMOTO MASANOBU',\n 'YAMAMOTO MASAYUKI',\n 'YAMANAKA AKIHIRO',\n 'YAMANO IKUO',\n 'YAMANOBE MASATO',\n 'YAMASHITA HISAO',\n 'YAMASHITA MASATAKA',\n 'YAMASHITA TENKO',\n 'YAMAZAKI TAKASHI',\n 'YANAGISAWA YOSHIHIRO',\n 'YANG CHIH-CHAO',\n 'YANG HAI',\n 'YANG HYUN-KOO',\n 'YANG KYEONG-CHEOL',\n 'YANO KENTARO',\n 'YANO TETSUYA',\n 'YAZAWA TAKESHI',\n 'YEAGER GARY WILLIAM',\n 'YEH CHUN-CHEN',\n 'YEO JEONGHO',\n 'YOKONO ATARU',\n 'YOKOYAMA TAKASHI',\n 'YONEDA KENJI',\n 'YONEHARA TAKAO',\n 'YONEKUBO HIROAKI',\n 'YONEMITSU JUN',\n 'YOON DU-SEOP',\n 'YOON SOON-YOUNG',\n 'YOSHIDA AKIHIKO',\n 'YOSHIDA ISAMU',\n 'YOSHIDA TADAO',\n 'YOSHIHIRA AYA',\n 'YOSHINAGA KAZUO',\n 'YOSHINO KOJI',\n 'YUN SUNG-RYUL',\n 'ZATORSKI DAREK TOMASZ',\n 'ZHANG HUA',\n 'ZHANG JIANZHONG',\n 'ZHENG XIAOQING',\n 'ZIMINSKY WILLY STEVE'}"
     },
     "execution_count": 75,
     "metadata": {},
     "output_type": "execute_result"
    }
   ],
   "source": [
    "set(int_final)"
   ],
   "metadata": {
    "collapsed": false,
    "ExecuteTime": {
     "end_time": "2024-01-15T20:16:39.795293900Z",
     "start_time": "2024-01-15T20:16:39.729449800Z"
    }
   }
  },
  {
   "cell_type": "markdown",
   "source": [
    "### Supervised approach*"
   ],
   "metadata": {
    "collapsed": false
   }
  },
  {
   "cell_type": "code",
   "execution_count": 93,
   "outputs": [
    {
     "name": "stdout",
     "output_type": "stream",
     "text": [
      "** Sampled 4572 positive and 4572 negative edges. **\n",
      "** Sampled 4115 positive and 4115 negative edges. **\n",
      "9144\n",
      "6172\n"
     ]
    }
   ],
   "source": [
    "from stellargraph.data import EdgeSplitter\n",
    "\n",
    "# Creazione di uno splitter per il set di test\n",
    "edge_splitter_test = EdgeSplitter(g)\n",
    "\n",
    "# Suddivisione del grafo in set di test\n",
    "graph_test, examples_test, labels_test = edge_splitter_test.train_test_split(p=0.1, method=\"global\")\n",
    "\n",
    "# Creazione di uno splitter per il set di addestramento\n",
    "edge_splitter_train = EdgeSplitter(graph_test)\n",
    "\n",
    "# Suddivisione del set di addestramento in esempi di addestramento e selezione del modello\n",
    "graph_train, examples_train, labels_train = edge_splitter_train.train_test_split(p=0.1, method=\"global\")\n",
    "\n",
    "# Suddivisione ulteriore del set di addestramento in esempi di addestramento e selezione del modello\n",
    "examples_train, examples_model_selection, labels_train, labels_model_selection = train_test_split(\n",
    "    examples_train, labels_train, train_size=0.75, test_size=0.25\n",
    ")\n",
    "\n",
    "# Stampa delle lunghezze degli insiemi\n",
    "print(len(examples_test))\n",
    "print(len(examples_train))\n"
   ],
   "metadata": {
    "collapsed": false,
    "ExecuteTime": {
     "end_time": "2024-01-15T20:38:41.251985900Z",
     "start_time": "2024-01-15T20:38:40.306252300Z"
    }
   }
  },
  {
   "cell_type": "code",
   "execution_count": 94,
   "outputs": [
    {
     "data": {
      "text/plain": "                 Number of Examples  Hidden from Picked from  \\\nSplit                                                          \nTraining Set                   6172  Train Graph  Test Graph   \nModel Selection                2058  Train Graph  Test Graph   \nTest set                       9144   Test Graph  Full Graph   \n\n                                                   Use  \nSplit                                                   \nTraining Set                 Train the Link Classifier  \nModel Selection  Select the best Link Classifier model  \nTest set             Evaluate the best Link Classifier  ",
      "text/html": "<div>\n<style scoped>\n    .dataframe tbody tr th:only-of-type {\n        vertical-align: middle;\n    }\n\n    .dataframe tbody tr th {\n        vertical-align: top;\n    }\n\n    .dataframe thead th {\n        text-align: right;\n    }\n</style>\n<table border=\"1\" class=\"dataframe\">\n  <thead>\n    <tr style=\"text-align: right;\">\n      <th></th>\n      <th>Number of Examples</th>\n      <th>Hidden from</th>\n      <th>Picked from</th>\n      <th>Use</th>\n    </tr>\n    <tr>\n      <th>Split</th>\n      <th></th>\n      <th></th>\n      <th></th>\n      <th></th>\n    </tr>\n  </thead>\n  <tbody>\n    <tr>\n      <th>Training Set</th>\n      <td>6172</td>\n      <td>Train Graph</td>\n      <td>Test Graph</td>\n      <td>Train the Link Classifier</td>\n    </tr>\n    <tr>\n      <th>Model Selection</th>\n      <td>2058</td>\n      <td>Train Graph</td>\n      <td>Test Graph</td>\n      <td>Select the best Link Classifier model</td>\n    </tr>\n    <tr>\n      <th>Test set</th>\n      <td>9144</td>\n      <td>Test Graph</td>\n      <td>Full Graph</td>\n      <td>Evaluate the best Link Classifier</td>\n    </tr>\n  </tbody>\n</table>\n</div>"
     },
     "execution_count": 94,
     "metadata": {},
     "output_type": "execute_result"
    }
   ],
   "source": [
    "pd.DataFrame(\n",
    "    [\n",
    "        (\n",
    "            \"Training Set\",\n",
    "            len(examples_train),\n",
    "            \"Train Graph\",\n",
    "            \"Test Graph\",\n",
    "            \"Train the Link Classifier\",\n",
    "        ),\n",
    "        (\n",
    "            \"Model Selection\",\n",
    "            len(examples_model_selection),\n",
    "            \"Train Graph\",\n",
    "            \"Test Graph\",\n",
    "            \"Select the best Link Classifier model\",\n",
    "        ),\n",
    "        (\n",
    "            \"Test set\",\n",
    "            len(examples_test),\n",
    "            \"Test Graph\",\n",
    "            \"Full Graph\",\n",
    "            \"Evaluate the best Link Classifier\",\n",
    "        ),\n",
    "    ],\n",
    "    columns=(\"Split\", \"Number of Examples\", \"Hidden from\", \"Picked from\", \"Use\"),\n",
    ").set_index(\"Split\")"
   ],
   "metadata": {
    "collapsed": false,
    "ExecuteTime": {
     "end_time": "2024-01-15T20:38:49.381322900Z",
     "start_time": "2024-01-15T20:38:49.320147200Z"
    }
   }
  },
  {
   "cell_type": "code",
   "execution_count": 95,
   "outputs": [
    {
     "name": "stdout",
     "output_type": "stream",
     "text": [
      "Requirement already satisfied: node2vec==0.4.6 in c:\\users\\alma\\anaconda3\\lib\\site-packages (0.4.6)\n",
      "Requirement already satisfied: networkx<3.0,>=2.5 in c:\\users\\alma\\anaconda3\\lib\\site-packages (from node2vec==0.4.6) (2.8.8)\n",
      "Requirement already satisfied: numpy<2.0.0,>=1.19.5 in c:\\users\\alma\\anaconda3\\lib\\site-packages (from node2vec==0.4.6) (1.22.4)\n",
      "Requirement already satisfied: gensim<5.0.0,>=4.1.2 in c:\\users\\alma\\anaconda3\\lib\\site-packages (from node2vec==0.4.6) (4.3.2)\n",
      "Requirement already satisfied: tqdm<5.0.0,>=4.55.1 in c:\\users\\alma\\anaconda3\\lib\\site-packages (from node2vec==0.4.6) (4.64.1)\n",
      "Requirement already satisfied: joblib<2.0.0,>=1.1.0 in c:\\users\\alma\\anaconda3\\lib\\site-packages (from node2vec==0.4.6) (1.2.0)\n",
      "Requirement already satisfied: scipy>=1.7.0 in c:\\users\\alma\\anaconda3\\lib\\site-packages (from gensim<5.0.0,>=4.1.2->node2vec==0.4.6) (1.11.4)\n",
      "Requirement already satisfied: smart-open>=1.8.1 in c:\\users\\alma\\anaconda3\\lib\\site-packages (from gensim<5.0.0,>=4.1.2->node2vec==0.4.6) (5.2.1)\n",
      "Requirement already satisfied: colorama in c:\\users\\alma\\anaconda3\\lib\\site-packages (from tqdm<5.0.0,>=4.55.1->node2vec==0.4.6) (0.4.5)\n"
     ]
    }
   ],
   "source": [
    "!pip install node2vec==0.4.6"
   ],
   "metadata": {
    "collapsed": false,
    "ExecuteTime": {
     "end_time": "2024-01-15T20:38:58.225491700Z",
     "start_time": "2024-01-15T20:38:55.064540600Z"
    }
   }
  },
  {
   "cell_type": "code",
   "execution_count": 103,
   "outputs": [
    {
     "name": "stdout",
     "output_type": "stream",
     "text": [
      "** Sampled 4572 positive and 4572 negative edges. **\n",
      "** Sampled 4115 positive and 4115 negative edges. **\n"
     ]
    },
    {
     "data": {
      "text/plain": "Computing transition probabilities:   0%|          | 0/13237 [00:00<?, ?it/s]",
      "application/vnd.jupyter.widget-view+json": {
       "version_major": 2,
       "version_minor": 0,
       "model_id": "943fc2892efa471a8939db67fef97c17"
      }
     },
     "metadata": {},
     "output_type": "display_data"
    },
    {
     "name": "stderr",
     "output_type": "stream",
     "text": [
      "Generating walks (CPU: 1): 100%|██████████| 10/10 [00:41<00:00,  4.19s/it]\n"
     ]
    }
   ],
   "source": [
    "edge_splitter_test = EdgeSplitter(g)\n",
    "graph_test, examples_test, labels_test = edge_splitter_test.train_test_split(p=0.1, method=\"global\")\n",
    "edge_splitter_train = EdgeSplitter(graph_test)\n",
    "graph_train, examples_train, labels_train = edge_splitter_train.train_test_split(p=0.1, method=\"global\")\n",
    "node2vec = Node2Vec(graph_train)\n",
    "model = node2vec.fit()\n",
    "edges_embs_train = HadamardEmbedder(keyed_vectors=model.wv)\n",
    "train_embeddings = [edges_embs_train[str(x[0]), str(x[1])] for x in examples_train]\n",
    "edges_embs_test = HadamardEmbedder(keyed_vectors=model.wv)\n",
    "test_embeddings = [edges_embs_test[str(x[0]), str(x[1])] for x in examples_test]\n"
   ],
   "metadata": {
    "collapsed": false,
    "ExecuteTime": {
     "end_time": "2024-01-15T21:01:15.337279200Z",
     "start_time": "2024-01-15T20:58:07.472631200Z"
    }
   }
  },
  {
   "cell_type": "code",
   "execution_count": 104,
   "outputs": [
    {
     "data": {
      "text/plain": "9144"
     },
     "execution_count": 104,
     "metadata": {},
     "output_type": "execute_result"
    }
   ],
   "source": [
    "len(labels_test)"
   ],
   "metadata": {
    "collapsed": false,
    "ExecuteTime": {
     "end_time": "2024-01-15T21:01:15.356514600Z",
     "start_time": "2024-01-15T21:01:15.338276500Z"
    }
   }
  },
  {
   "cell_type": "markdown",
   "source": [
    "### Random Forest"
   ],
   "metadata": {
    "collapsed": false
   }
  },
  {
   "cell_type": "code",
   "execution_count": 105,
   "outputs": [],
   "source": [
    "from sklearn.model_selection import RandomizedSearchCV, GridSearchCV\n",
    "from sklearn.ensemble import RandomForestClassifier\n",
    "from sklearn.svm import SVC\n",
    "from sklearn.datasets import load_digits\n",
    "from sklearn.model_selection import train_test_split\n"
   ],
   "metadata": {
    "collapsed": false,
    "ExecuteTime": {
     "end_time": "2024-01-15T21:01:15.419058800Z",
     "start_time": "2024-01-15T21:01:15.354369300Z"
    }
   }
  },
  {
   "cell_type": "code",
   "execution_count": 106,
   "outputs": [],
   "source": [
    "from sklearn.model_selection import RandomizedSearchCV, GridSearchCV"
   ],
   "metadata": {
    "collapsed": false,
    "ExecuteTime": {
     "end_time": "2024-01-15T21:01:15.422341100Z",
     "start_time": "2024-01-15T21:01:15.370948300Z"
    }
   }
  },
  {
   "cell_type": "code",
   "execution_count": 107,
   "outputs": [],
   "source": [
    "clf = RandomForestClassifier(random_state = 42)"
   ],
   "metadata": {
    "collapsed": false,
    "ExecuteTime": {
     "end_time": "2024-01-15T21:01:15.438621600Z",
     "start_time": "2024-01-15T21:01:15.385284900Z"
    }
   }
  },
  {
   "cell_type": "code",
   "execution_count": 108,
   "outputs": [],
   "source": [
    "def report(results, n_top=3):\n",
    "    for i in range(1, n_top + 1):\n",
    "        candidates = np.flatnonzero(results['rank_test_score'] == i)\n",
    "        for candidate in candidates:\n",
    "            print(\"Model with rank: {0}\".format(i))\n",
    "            print(\"Mean validation score: {0:.3f} (std: {1:.3f})\".format(\n",
    "                  results['mean_test_score'][candidate],\n",
    "                  results['std_test_score'][candidate]))\n",
    "            print(\"Parameters: {0}\".format(results['params'][candidate]))\n",
    "            print(\"\")"
   ],
   "metadata": {
    "collapsed": false,
    "ExecuteTime": {
     "end_time": "2024-01-15T21:01:15.464799600Z",
     "start_time": "2024-01-15T21:01:15.401762900Z"
    }
   }
  },
  {
   "cell_type": "code",
   "execution_count": 109,
   "outputs": [
    {
     "name": "stderr",
     "output_type": "stream",
     "text": [
      "C:\\Users\\Alma\\AppData\\Roaming\\Python\\Python39\\site-packages\\sklearn\\model_selection\\_validation.py:425: FitFailedWarning: \n",
      "60 fits failed out of a total of 180.\n",
      "The score on these train-test partitions for these parameters will be set to nan.\n",
      "If these failures are not expected, you can try to debug them by setting error_score='raise'.\n",
      "\n",
      "Below are more details about the failures:\n",
      "--------------------------------------------------------------------------------\n",
      "60 fits failed with the following error:\n",
      "Traceback (most recent call last):\n",
      "  File \"C:\\Users\\Alma\\AppData\\Roaming\\Python\\Python39\\site-packages\\sklearn\\model_selection\\_validation.py\", line 732, in _fit_and_score\n",
      "    estimator.fit(X_train, y_train, **fit_params)\n",
      "  File \"C:\\Users\\Alma\\AppData\\Roaming\\Python\\Python39\\site-packages\\sklearn\\base.py\", line 1144, in wrapper\n",
      "    estimator._validate_params()\n",
      "  File \"C:\\Users\\Alma\\AppData\\Roaming\\Python\\Python39\\site-packages\\sklearn\\base.py\", line 637, in _validate_params\n",
      "    validate_parameter_constraints(\n",
      "  File \"C:\\Users\\Alma\\AppData\\Roaming\\Python\\Python39\\site-packages\\sklearn\\utils\\_param_validation.py\", line 95, in validate_parameter_constraints\n",
      "    raise InvalidParameterError(\n",
      "sklearn.utils._param_validation.InvalidParameterError: The 'max_features' parameter of RandomForestClassifier must be an int in the range [1, inf), a float in the range (0.0, 1.0], a str among {'log2', 'sqrt'} or None. Got 'auto' instead.\n",
      "\n",
      "  warnings.warn(some_fits_failed_message, FitFailedWarning)\n",
      "C:\\Users\\Alma\\AppData\\Roaming\\Python\\Python39\\site-packages\\sklearn\\model_selection\\_search.py:976: UserWarning: One or more of the test scores are non-finite: [       nan        nan 0.94507898 0.94459295 0.94568651 0.94568651\n",
      "        nan        nan 0.94568651 0.94532199 0.94374241 0.94471446\n",
      "        nan        nan 0.94605103 0.94714459 0.94495747 0.9454435\n",
      "        nan        nan 0.94434994 0.94337789 0.94277035 0.94422843\n",
      "        nan        nan 0.94264885 0.94532199 0.94653706 0.94690158\n",
      "        nan        nan 0.94447145 0.94374241 0.94447145 0.94592953]\n",
      "  warnings.warn(\n"
     ]
    },
    {
     "data": {
      "text/plain": "GridSearchCV(estimator=RandomForestClassifier(random_state=42),\n             param_grid={'criterion': ['gini', 'entropy'],\n                         'max_depth': [10, 15, 20],\n                         'max_features': ['auto', 'sqrt', 'log2'],\n                         'n_estimators': [100, 200]},\n             scoring='accuracy')",
      "text/html": "<style>#sk-container-id-1 {color: black;}#sk-container-id-1 pre{padding: 0;}#sk-container-id-1 div.sk-toggleable {background-color: white;}#sk-container-id-1 label.sk-toggleable__label {cursor: pointer;display: block;width: 100%;margin-bottom: 0;padding: 0.3em;box-sizing: border-box;text-align: center;}#sk-container-id-1 label.sk-toggleable__label-arrow:before {content: \"▸\";float: left;margin-right: 0.25em;color: #696969;}#sk-container-id-1 label.sk-toggleable__label-arrow:hover:before {color: black;}#sk-container-id-1 div.sk-estimator:hover label.sk-toggleable__label-arrow:before {color: black;}#sk-container-id-1 div.sk-toggleable__content {max-height: 0;max-width: 0;overflow: hidden;text-align: left;background-color: #f0f8ff;}#sk-container-id-1 div.sk-toggleable__content pre {margin: 0.2em;color: black;border-radius: 0.25em;background-color: #f0f8ff;}#sk-container-id-1 input.sk-toggleable__control:checked~div.sk-toggleable__content {max-height: 200px;max-width: 100%;overflow: auto;}#sk-container-id-1 input.sk-toggleable__control:checked~label.sk-toggleable__label-arrow:before {content: \"▾\";}#sk-container-id-1 div.sk-estimator input.sk-toggleable__control:checked~label.sk-toggleable__label {background-color: #d4ebff;}#sk-container-id-1 div.sk-label input.sk-toggleable__control:checked~label.sk-toggleable__label {background-color: #d4ebff;}#sk-container-id-1 input.sk-hidden--visually {border: 0;clip: rect(1px 1px 1px 1px);clip: rect(1px, 1px, 1px, 1px);height: 1px;margin: -1px;overflow: hidden;padding: 0;position: absolute;width: 1px;}#sk-container-id-1 div.sk-estimator {font-family: monospace;background-color: #f0f8ff;border: 1px dotted black;border-radius: 0.25em;box-sizing: border-box;margin-bottom: 0.5em;}#sk-container-id-1 div.sk-estimator:hover {background-color: #d4ebff;}#sk-container-id-1 div.sk-parallel-item::after {content: \"\";width: 100%;border-bottom: 1px solid gray;flex-grow: 1;}#sk-container-id-1 div.sk-label:hover label.sk-toggleable__label {background-color: #d4ebff;}#sk-container-id-1 div.sk-serial::before {content: \"\";position: absolute;border-left: 1px solid gray;box-sizing: border-box;top: 0;bottom: 0;left: 50%;z-index: 0;}#sk-container-id-1 div.sk-serial {display: flex;flex-direction: column;align-items: center;background-color: white;padding-right: 0.2em;padding-left: 0.2em;position: relative;}#sk-container-id-1 div.sk-item {position: relative;z-index: 1;}#sk-container-id-1 div.sk-parallel {display: flex;align-items: stretch;justify-content: center;background-color: white;position: relative;}#sk-container-id-1 div.sk-item::before, #sk-container-id-1 div.sk-parallel-item::before {content: \"\";position: absolute;border-left: 1px solid gray;box-sizing: border-box;top: 0;bottom: 0;left: 50%;z-index: -1;}#sk-container-id-1 div.sk-parallel-item {display: flex;flex-direction: column;z-index: 1;position: relative;background-color: white;}#sk-container-id-1 div.sk-parallel-item:first-child::after {align-self: flex-end;width: 50%;}#sk-container-id-1 div.sk-parallel-item:last-child::after {align-self: flex-start;width: 50%;}#sk-container-id-1 div.sk-parallel-item:only-child::after {width: 0;}#sk-container-id-1 div.sk-dashed-wrapped {border: 1px dashed gray;margin: 0 0.4em 0.5em 0.4em;box-sizing: border-box;padding-bottom: 0.4em;background-color: white;}#sk-container-id-1 div.sk-label label {font-family: monospace;font-weight: bold;display: inline-block;line-height: 1.2em;}#sk-container-id-1 div.sk-label-container {text-align: center;}#sk-container-id-1 div.sk-container {/* jupyter's `normalize.less` sets `[hidden] { display: none; }` but bootstrap.min.css set `[hidden] { display: none !important; }` so we also need the `!important` here to be able to override the default hidden behavior on the sphinx rendered scikit-learn.org. See: https://github.com/scikit-learn/scikit-learn/issues/21755 */display: inline-block !important;position: relative;}#sk-container-id-1 div.sk-text-repr-fallback {display: none;}</style><div id=\"sk-container-id-1\" class=\"sk-top-container\"><div class=\"sk-text-repr-fallback\"><pre>GridSearchCV(estimator=RandomForestClassifier(random_state=42),\n             param_grid={&#x27;criterion&#x27;: [&#x27;gini&#x27;, &#x27;entropy&#x27;],\n                         &#x27;max_depth&#x27;: [10, 15, 20],\n                         &#x27;max_features&#x27;: [&#x27;auto&#x27;, &#x27;sqrt&#x27;, &#x27;log2&#x27;],\n                         &#x27;n_estimators&#x27;: [100, 200]},\n             scoring=&#x27;accuracy&#x27;)</pre><b>In a Jupyter environment, please rerun this cell to show the HTML representation or trust the notebook. <br />On GitHub, the HTML representation is unable to render, please try loading this page with nbviewer.org.</b></div><div class=\"sk-container\" hidden><div class=\"sk-item sk-dashed-wrapped\"><div class=\"sk-label-container\"><div class=\"sk-label sk-toggleable\"><input class=\"sk-toggleable__control sk-hidden--visually\" id=\"sk-estimator-id-1\" type=\"checkbox\" ><label for=\"sk-estimator-id-1\" class=\"sk-toggleable__label sk-toggleable__label-arrow\">GridSearchCV</label><div class=\"sk-toggleable__content\"><pre>GridSearchCV(estimator=RandomForestClassifier(random_state=42),\n             param_grid={&#x27;criterion&#x27;: [&#x27;gini&#x27;, &#x27;entropy&#x27;],\n                         &#x27;max_depth&#x27;: [10, 15, 20],\n                         &#x27;max_features&#x27;: [&#x27;auto&#x27;, &#x27;sqrt&#x27;, &#x27;log2&#x27;],\n                         &#x27;n_estimators&#x27;: [100, 200]},\n             scoring=&#x27;accuracy&#x27;)</pre></div></div></div><div class=\"sk-parallel\"><div class=\"sk-parallel-item\"><div class=\"sk-item\"><div class=\"sk-label-container\"><div class=\"sk-label sk-toggleable\"><input class=\"sk-toggleable__control sk-hidden--visually\" id=\"sk-estimator-id-2\" type=\"checkbox\" ><label for=\"sk-estimator-id-2\" class=\"sk-toggleable__label sk-toggleable__label-arrow\">estimator: RandomForestClassifier</label><div class=\"sk-toggleable__content\"><pre>RandomForestClassifier(random_state=42)</pre></div></div></div><div class=\"sk-serial\"><div class=\"sk-item\"><div class=\"sk-estimator sk-toggleable\"><input class=\"sk-toggleable__control sk-hidden--visually\" id=\"sk-estimator-id-3\" type=\"checkbox\" ><label for=\"sk-estimator-id-3\" class=\"sk-toggleable__label sk-toggleable__label-arrow\">RandomForestClassifier</label><div class=\"sk-toggleable__content\"><pre>RandomForestClassifier(random_state=42)</pre></div></div></div></div></div></div></div></div></div></div>"
     },
     "execution_count": 109,
     "metadata": {},
     "output_type": "execute_result"
    }
   ],
   "source": [
    "param_grid = { \n",
    "    'n_estimators': [100, 200],\n",
    "    'max_features': ['auto', 'sqrt', 'log2'],\n",
    "    'max_depth': [10, 15, 20],\n",
    "    'criterion': ['gini', 'entropy']\n",
    "}\n",
    "grid_search = GridSearchCV(clf, param_grid=param_grid, scoring='accuracy')\n",
    "grid_search.fit(train_embeddings, labels_train)"
   ],
   "metadata": {
    "collapsed": false,
    "ExecuteTime": {
     "end_time": "2024-01-15T21:36:25.400356700Z",
     "start_time": "2024-01-15T21:01:15.423610500Z"
    }
   }
  },
  {
   "cell_type": "code",
   "execution_count": 110,
   "outputs": [
    {
     "name": "stdout",
     "output_type": "stream",
     "text": [
      "Model with rank: 1\n",
      "Mean validation score: 0.947 (std: 0.002)\n",
      "Parameters: {'criterion': 'gini', 'max_depth': 20, 'max_features': 'sqrt', 'n_estimators': 200}\n",
      "\n",
      "Model with rank: 2\n",
      "Mean validation score: 0.947 (std: 0.002)\n",
      "Parameters: {'criterion': 'entropy', 'max_depth': 15, 'max_features': 'log2', 'n_estimators': 200}\n",
      "\n",
      "Model with rank: 3\n",
      "Mean validation score: 0.947 (std: 0.004)\n",
      "Parameters: {'criterion': 'entropy', 'max_depth': 15, 'max_features': 'log2', 'n_estimators': 100}\n"
     ]
    }
   ],
   "source": [
    "res = grid_search.cv_results_\n",
    "report(res, n_top=3)"
   ],
   "metadata": {
    "collapsed": false,
    "ExecuteTime": {
     "end_time": "2024-01-15T21:36:25.419595800Z",
     "start_time": "2024-01-15T21:36:25.402423100Z"
    }
   }
  },
  {
   "cell_type": "code",
   "execution_count": 111,
   "outputs": [
    {
     "name": "stdout",
     "output_type": "stream",
     "text": [
      "Accuracy 0.9478346456692913\n",
      "Precision: 0.9738486461467253\n",
      "Recall: 0.9203849518810149\n",
      "F1-Score: 0.9463623074328125\n"
     ]
    }
   ],
   "source": [
    "rf = RandomForestClassifier(n_estimators=200, criterion = \"entropy\", max_depth = 20) \n",
    "rf.fit(train_embeddings, labels_train); \n",
    " \n",
    "y_pred = rf.predict(test_embeddings) \n",
    "print('Accuracy', metrics.accuracy_score(labels_test, y_pred)) \n",
    "print('Precision:', metrics.precision_score(labels_test, y_pred)) \n",
    "print('Recall:', metrics.recall_score(labels_test, y_pred)) \n",
    "print('F1-Score:', metrics.f1_score(labels_test, y_pred))"
   ],
   "metadata": {
    "collapsed": false,
    "ExecuteTime": {
     "end_time": "2024-01-15T21:37:03.473948100Z",
     "start_time": "2024-01-15T21:36:25.418599800Z"
    }
   }
  },
  {
   "cell_type": "code",
   "execution_count": 112,
   "outputs": [
    {
     "name": "stdout",
     "output_type": "stream",
     "text": [
      "              precision    recall  f1-score   support\n",
      "\n",
      "           0       0.92      0.98      0.95      4572\n",
      "           1       0.97      0.92      0.95      4572\n",
      "\n",
      "    accuracy                           0.95      9144\n",
      "   macro avg       0.95      0.95      0.95      9144\n",
      "weighted avg       0.95      0.95      0.95      9144\n"
     ]
    }
   ],
   "source": [
    "print( classification_report(labels_test, y_pred) )"
   ],
   "metadata": {
    "collapsed": false,
    "ExecuteTime": {
     "end_time": "2024-01-15T21:37:03.512120600Z",
     "start_time": "2024-01-15T21:37:03.467429800Z"
    }
   }
  },
  {
   "cell_type": "code",
   "execution_count": 113,
   "outputs": [],
   "source": [
    "y_score = rf.predict_proba(test_embeddings)"
   ],
   "metadata": {
    "collapsed": false,
    "ExecuteTime": {
     "end_time": "2024-01-15T21:37:03.725147800Z",
     "start_time": "2024-01-15T21:37:03.498904400Z"
    }
   }
  },
  {
   "cell_type": "code",
   "execution_count": 114,
   "outputs": [
    {
     "name": "stdout",
     "output_type": "stream",
     "text": [
      "0.9901969719062894\n"
     ]
    }
   ],
   "source": [
    "fpr, tpr, th = roc_curve(labels_test, y_score[:,1])\n",
    "\n",
    "roc_auc = auc(fpr, tpr)\n",
    "print(roc_auc)"
   ],
   "metadata": {
    "collapsed": false,
    "ExecuteTime": {
     "end_time": "2024-01-15T21:37:03.746446200Z",
     "start_time": "2024-01-15T21:37:03.726240200Z"
    }
   }
  },
  {
   "cell_type": "markdown",
   "source": [
    "### Logistic Regression"
   ],
   "metadata": {
    "collapsed": false
   }
  },
  {
   "cell_type": "code",
   "execution_count": 116,
   "outputs": [],
   "source": [
    "from sklearn.linear_model import LogisticRegressionCV"
   ],
   "metadata": {
    "collapsed": false,
    "ExecuteTime": {
     "end_time": "2024-01-15T21:37:53.067967Z",
     "start_time": "2024-01-15T21:37:53.031240200Z"
    }
   }
  },
  {
   "cell_type": "code",
   "execution_count": 117,
   "outputs": [],
   "source": [
    "lr_clf = LogisticRegressionCV(Cs=10, cv=10, scoring=\"accuracy\")\n",
    "lr_clf.fit(train_embeddings, labels_train); "
   ],
   "metadata": {
    "collapsed": false,
    "ExecuteTime": {
     "end_time": "2024-01-15T21:37:58.923469800Z",
     "start_time": "2024-01-15T21:37:56.110986Z"
    }
   }
  },
  {
   "cell_type": "code",
   "execution_count": 118,
   "outputs": [
    {
     "name": "stdout",
     "output_type": "stream",
     "text": [
      "Accuracy 0.9492563429571304\n",
      "Precision: 0.9830667920978363\n",
      "Recall: 0.9142607174103237\n",
      "F1-Score: 0.9474161378059837\n"
     ]
    }
   ],
   "source": [
    "y_pred_lr = lr_clf.predict(test_embeddings) \n",
    "print('Accuracy', metrics.accuracy_score(labels_test, y_pred_lr)) \n",
    "print('Precision:', metrics.precision_score(labels_test, y_pred_lr)) \n",
    "print('Recall:', metrics.recall_score(labels_test, y_pred_lr)) \n",
    "print('F1-Score:', metrics.f1_score(labels_test, y_pred_lr)) "
   ],
   "metadata": {
    "collapsed": false,
    "ExecuteTime": {
     "end_time": "2024-01-15T21:38:01.985394500Z",
     "start_time": "2024-01-15T21:38:01.946002300Z"
    }
   }
  },
  {
   "cell_type": "code",
   "execution_count": 119,
   "outputs": [
    {
     "name": "stdout",
     "output_type": "stream",
     "text": [
      "              precision    recall  f1-score   support\n",
      "\n",
      "           0       0.92      0.98      0.95      4572\n",
      "           1       0.98      0.91      0.95      4572\n",
      "\n",
      "    accuracy                           0.95      9144\n",
      "   macro avg       0.95      0.95      0.95      9144\n",
      "weighted avg       0.95      0.95      0.95      9144\n"
     ]
    }
   ],
   "source": [
    "print(classification_report(labels_test, y_pred_lr) )"
   ],
   "metadata": {
    "collapsed": false,
    "ExecuteTime": {
     "end_time": "2024-01-15T21:38:04.915194900Z",
     "start_time": "2024-01-15T21:38:04.869780Z"
    }
   }
  },
  {
   "cell_type": "code",
   "execution_count": 120,
   "outputs": [
    {
     "name": "stdout",
     "output_type": "stream",
     "text": [
      "0.9336754151903366\n"
     ]
    }
   ],
   "source": [
    "y_score_lr = lr_clf.predict_proba(test_embeddings)\n",
    "fpr_lg, tpr_lg, th_lg = roc_curve(labels_test, y_score_lr[:,1])\n",
    "\n",
    "roc_auc = auc(fpr_lg, tpr_lg)\n",
    "print(roc_auc)"
   ],
   "metadata": {
    "collapsed": false,
    "ExecuteTime": {
     "end_time": "2024-01-15T21:38:07.978605500Z",
     "start_time": "2024-01-15T21:38:07.912575200Z"
    }
   }
  },
  {
   "cell_type": "code",
   "execution_count": null,
   "outputs": [],
   "source": [],
   "metadata": {
    "collapsed": false,
    "ExecuteTime": {
     "start_time": "2024-01-15T16:57:55.360513700Z"
    }
   }
  },
  {
   "cell_type": "code",
   "execution_count": null,
   "outputs": [],
   "source": [],
   "metadata": {
    "collapsed": false,
    "ExecuteTime": {
     "start_time": "2024-01-15T16:57:55.360513700Z"
    }
   }
  },
  {
   "cell_type": "code",
   "execution_count": null,
   "outputs": [],
   "source": [],
   "metadata": {
    "collapsed": false
   }
  }
 ],
 "nbformat": 4,
 "nbformat_minor": 0,
 "metadata": {
  "deepnote_notebook_id": "86866ed955e242daa100ea799c99c22e",
  "deepnote_execution_queue": [],
  "kernelspec": {
   "name": "python3",
   "language": "python",
   "display_name": "Python 3 (ipykernel)"
  }
 }
}
